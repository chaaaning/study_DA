{
 "cells": [
  {
   "cell_type": "markdown",
   "metadata": {},
   "source": [
    "# Part2. 예제 1번\n",
    "---\n",
    "사람 손글씨 데이터 (MNIST)를 이용해 MLP 설계하기  \n",
    "MLP 모델 설계 순서는 다음과 같음\n",
    "1. 모듈 임포트\n",
    "2. 딥러닝 모델 설계 시 활용하는 장비 확인\n",
    "3. MNIST 데이터 다운로드 (train, test split)\n",
    "4. 데이터 확인하기 (1)\n",
    "5. 데이터 확인하기 (2)\n",
    "6. MLP (Multi Layer Perceptron) 설계\n",
    "7. Optimizer, Objective Function 설정\n",
    "8. MLP 모델 학습 시 학습 데이터에 대한 모델 성능을 확인하는 함수 정의\n",
    "9. 학습 과정에서 검증 데이터에 대한 모델의 성능을 확인하는 함수 정의\n",
    "10. MLP 학습을 실행하면서 Train, Test set의 Loss 및 Test set Accuracy 확인\n"
   ]
  },
  {
   "cell_type": "markdown",
   "metadata": {},
   "source": [
    "## 1.모듈 import\n",
    "---"
   ]
  },
  {
   "cell_type": "code",
   "execution_count": 4,
   "metadata": {},
   "outputs": [],
   "source": [
    "'''1. Module Import'''\n",
    "import numpy as np                              # numpy\n",
    "import matplotlib.pyplot as plt                 # 시각화\n",
    "import torch                                    # torch 기본 모듈\n",
    "import torch.nn as nn                           # 인공 신경망 모델 설계시 필요한 함수를 모아 놓음 (neural network)\n",
    "import torch.nn.functional as F                 # 자주 이용되는 functional 함수 \n",
    "from torchvision import transforms, datasets    # torchvision의 transforms, datasets"
   ]
  },
  {
   "cell_type": "markdown",
   "metadata": {},
   "source": [
    "## 2.딥러닝 모델 설계 시 장비 확인\n",
    "---"
   ]
  },
  {
   "cell_type": "code",
   "execution_count": 5,
   "metadata": {},
   "outputs": [
    {
     "name": "stdout",
     "output_type": "stream",
     "text": [
      "Using PyTorch version: 1.10.1  Device: cuda\n"
     ]
    }
   ],
   "source": [
    "'''2. 딥러닝 모델을 설계할 때 활용하는 장비 확인'''\n",
    "if torch.cuda.is_available():\n",
    "    DEVICE = torch.device('cuda')\n",
    "else:\n",
    "    DEVICE = torch.device('cpu')\n",
    "print(f\"Using PyTorch version: {torch.__version__}  Device: {DEVICE}\")"
   ]
  },
  {
   "cell_type": "code",
   "execution_count": 6,
   "metadata": {},
   "outputs": [],
   "source": [
    "# 하이퍼 파라미터 세팅은 보통 영어 대문자로 표기\n",
    "BATCH_SIZE = 32\n",
    "EPOCHS = 10"
   ]
  },
  {
   "cell_type": "markdown",
   "metadata": {},
   "source": [
    "### **BATCH와 EPOCHS**\n",
    "\n",
    "---\n",
    "\n",
    "- **<span style=\"color:green\">BATCH_SIZE</span>**\n",
    "    - MLP 모델 학습 시 필요한 데이터 개수의 단위\n",
    "    - Mini-Batch 1개 단위에 대해 데이터가 32개로 구성되어 있음을 의미함\n",
    "        > MLP 모델 학습 시에 32개 데잍로 첫 번째 학습을 수행하고, <br>\n",
    "        > 그 다음 32개의 데이터를 이용해 두 번째로 학습\n",
    "    - $1\\,Mini\\,Batch = 32\\,datas$\n",
    "    - 1개의 Mini-Batch를 이용해 학습하는 횟수를 <span style=\"color:magenta\">iteration</span>\n",
    "    - 전체 데이터를 이용해 학습을 진행한 횟수 <span style=\"color:magenta\">Epoch</span>\n",
    "        ```text\n",
    "        예를 들어, 전체 데이터 10,000개, 1,000개의 데이터를 이용해 Mini-Batch를 구성한다면\n",
    "        1Epoch당 10회의 Interation이 발생\n",
    "        ```\n",
    "    - Mini-Batch의 데이터 개수(BATCH_SIZE)와 Epoch를 지정하면 Iteration은 전체 데이터 개수에서 BATCH_SIZE로 나눠준 몫 만큼 Interation 진행  \n",
    "<br>\n",
    "- **<sapn style=\"color:green\">Epoch</span>**\n",
    "    - Mini-Batch 1개 단위로 Back Propagation을 이용해 MLP의 가중값을 업데이트\n",
    "    - Epoch는 존재하고 있는 Mini-Batch를 전부 이용하는 횟수를 의미\n",
    "\n",
    "> 예시) Datas = 10000, BATCH_SIZE = 100, Epoch = 20 일 때 <br>\n",
    "> 한 Mini-Batch 당 100개의 데이터가 활용 되므로 iteration = 100 <br>\n",
    "> 1 Epoch 당 100개의 iteration이 존재하므로 (총 학습 횟수) = 20*100 = 2000"
   ]
  },
  {
   "cell_type": "markdown",
   "metadata": {},
   "source": [
    "## 3.MNIST 데이터 다운로드 (Train, Test split)\n",
    "---"
   ]
  },
  {
   "cell_type": "code",
   "execution_count": 7,
   "metadata": {},
   "outputs": [],
   "source": [
    "'''3. MNIST 데이터 다운로드 (Train, Test split)'''\n",
    "train_dataset = datasets.MNIST(root = \"./data/MNIST\",\n",
    "                               train = True,\n",
    "                               download = True,\n",
    "                               transform = transforms.ToTensor())\n",
    "test_dataset = datasets.MNIST(root = \"./data/MNIST\",\n",
    "                              train = False,\n",
    "                              transform = transforms.ToTensor())\n",
    "train_loader = torch.utils.data.DataLoader(dataset = train_dataset,\n",
    "                                           batch_size = BATCH_SIZE,\n",
    "                                           shuffle = True)\n",
    "test_loader = torch.utils.data.DataLoader(dataset = test_dataset,\n",
    "                                          batch_size = BATCH_SIZE,\n",
    "                                          shuffle = True)"
   ]
  },
  {
   "cell_type": "markdown",
   "metadata": {},
   "source": [
    "---\n",
    "\n",
    "```python\n",
    "train_dataset = datasets.MNIST(root = \"./data/MNIST\",\n",
    "                               train = True,\n",
    "                               download = True,\n",
    "                               transform = transforms.ToTensor())\n",
    "```\n",
    "- MNIST Datasets Downloads\n",
    "    - `root` : 데이터 저장될 장소\n",
    "    - `train` : 학습 데이터 여부 (bool type)\n",
    "    - `download` : 인터넷 다운로드 여부 (bool type)\n",
    "    - `transform` : 이미지 데이터의 기본 전처리를 다운로드 시 진행\n",
    "        > `transform.ToTensor()`메서드로 tensor 형태로 변경  \n",
    "        > 픽셀 0~255 범위의 스칼라 값을 0~1 범위로 정규화 진행  \n",
    "        > ANN은 Input이 클수록 불안정 or 과적합의 경향이 있으므로 정규화 해줄 것\n",
    "<br><br>\n",
    "---\n",
    "\n",
    "```python\n",
    "train_loader = torch.utils.data.DataLoader(dataset = train_dataset,\n",
    "                                           batch_size = BATCH_SIZE,\n",
    "                                           shuffle = True)\n",
    "```\n",
    "- Dataset을 Mini-Batch 단위로 분리 지정 (BATCH_SIZE를 이용해 지정)\n",
    "- `BATCH_SIZE` 만큼 묶어 1개의 Mini-Batch를 구성하는 단계\n",
    "    - `dataset` : Mini-Batch 단위로 할당하고자 하는 데이터 셋을 지정\n",
    "    - `batch_size` : Mini-Batch 1개의 단위\n",
    "    - shuffle : Label에 규칙이 있음을 방지하기 위해 섞어 줌\n"
   ]
  },
  {
   "cell_type": "markdown",
   "metadata": {},
   "source": [
    "## 4.데이터 확인하기(1)\n",
    "---"
   ]
  },
  {
   "cell_type": "code",
   "execution_count": 8,
   "metadata": {},
   "outputs": [
    {
     "name": "stdout",
     "output_type": "stream",
     "text": [
      "X_train: torch.Size([32, 1, 28, 28])   type: <built-in method type of Tensor object at 0x000002DC5D6A60E0>\n",
      "y_train: torch.Size([32])   type: <built-in method type of Tensor object at 0x000002DC5D6A9450>\n"
     ]
    }
   ],
   "source": [
    "'''4. 데이터 확인하기 (1)'''\n",
    "for (X_train, y_train) in train_loader:\n",
    "    print(f\"X_train: {X_train.size()}   type: {X_train.type}\")\n",
    "    print(f\"y_train: {y_train.size()}   type: {y_train.type}\")\n",
    "    break"
   ]
  },
  {
   "cell_type": "markdown",
   "metadata": {},
   "source": [
    "### **다운로드 후 Mini-Batch로 할당한 데이터의 개수와 형태를 확인**\n",
    "\n",
    "---\n",
    "\n",
    "- `X_train`: 32개의 데이터가 1개의 Mini-Batch 구성, 28x28의 픽셀 구성과, 채널이 1(Gray Scale:흑백)인 데이터\n",
    "- `y_train` : 32개의 이미지 데이터 각각 label"
   ]
  },
  {
   "cell_type": "markdown",
   "metadata": {},
   "source": [
    "## 5.데이터 확인하기(2)\n",
    "---"
   ]
  },
  {
   "cell_type": "code",
   "execution_count": 8,
   "metadata": {},
   "outputs": [
    {
     "data": {
      "image/png": "[encoded data removed]",
      "text/plain": [
       "<Figure size 720x72 with 10 Axes>"
      ]
     },
     "metadata": {
      "needs_background": "light"
     },
     "output_type": "display_data"
    }
   ],
   "source": [
    "'''5. 데이터 확인하기(2)'''\n",
    "pltSize=1\n",
    "plt.figure(figsize=(10*pltSize,pltSize))\n",
    "for i in range(10):\n",
    "    plt.subplot(1, 10, i+1)\n",
    "    plt.axis('off')\n",
    "    plt.imshow(X_train[i, :, :, :].numpy().reshape(28, 28), cmap=\"gray_r\")\n",
    "    plt.title(f\"Class: {str(y_train[i].item())}\")"
   ]
  },
  {
   "cell_type": "markdown",
   "metadata": {},
   "source": [
    "## 6.MLP (Multi Layer Perceptron) 설계\n",
    "---"
   ]
  },
  {
   "cell_type": "code",
   "execution_count": 16,
   "metadata": {},
   "outputs": [],
   "source": [
    "'''6. MLP (Multi Layer Perceptron) 설계'''\n",
    "class Net(nn.Module):                       # PyTorch Module 내에 딥러닝 모델 관련 기본  함수를 포함하고 있는 nn.Module 클래스를 상속받는 Net 클래스 정의\n",
    "    def __init__(self):\n",
    "        super(Net, self).__init__()         # nn.Module 메서드 상속\n",
    "        self.fc1 = nn.Linear(28*28, 512)    # Fisrt Fully Connected Layer : Input 크기 28*28*1 에 맞게 28*28 설정, Scond FCL이 512 input이므로 512 설정\n",
    "        self.fc2 = nn.Linear(512, 256)      # Second Fully Connected Layer : 노드 수 512개로 설정, Third FCL를 256의 노드 수로 설정할 것이므로 256 설정\n",
    "        self.fc3 = nn.Linear(256,10)        # Third Fully Connected Layer : 노드 수 256개 설정, Label 수에 맞게 끔 Output 10 설정\n",
    "        \n",
    "    def forward(self, x):                   # Net Class MLP Model의 Forward Propagation을 정의 (Output 계산까지의 과정 나열)\n",
    "        x = x.view(-1, 28*28)               # MLP 모델의 입력은 1차원 인데 MNIST Set은 28*28로 2차원이므로 1차원으로 변환 해주는 View 메서드 (2차원을 1차원으로 펼친다 : Flatten)\n",
    "        x = self.fc1(x)                     # __init__ 메서드를 이용해 First FCL에 1차원으로 펼친 이미지 데이터 통과\n",
    "        x = F.sigmoid(x)                    # torch.nn.functional에 정의된 비선형 활성화 함수 sigmoid() 적용하여 Second FLC의 Input 계산\n",
    "        x = self.fc2(x)                     # __init__ 메서드를 이용해 Second FCL에 sigmoid()로 활성화 된 Input data 통과\n",
    "        x - F.sigmoid(x)                    # torch.nn.functional에 정의된 비선형 활성화 함수 sigmoid() 적용하여 Third FLC의 Input 계산\n",
    "        x = self.fc3(x)                     # __init__ 메서드를 이용해 Third FCL에 sigmoid()로 활성화 된 Input data 통과\n",
    "        x = F.log_softmax(x, dim=1)         # torch.nn.functional 내의 log.softmax()를 이용해 최종 output 계산\n",
    "        return x"
   ]
  },
  {
   "cell_type": "markdown",
   "metadata": {},
   "source": [
    "## **코드 과정 상세**\n",
    "\n",
    "---\n",
    "```python\n",
    "class Net(nn.Module):\n",
    "```\n",
    "- PyTorch Module 내에 딥러닝 모델 관련 기본  함수를 포함하고 있는 nn.Module 클래스를 상속받는 Net 클래스 정의\n",
    "<br><br>\n",
    "---\n",
    "\n",
    "```python\n",
    "    def __init__(self):\n",
    "        super(Net, self).__init__()\n",
    "        self.fc1 = nn.Linear(28*28, 512)\n",
    "        self.fc2 = nn.Linear(512, 256)\n",
    "        self.fc3 = nn.Linear(256,10)\n",
    "```\n",
    "- nn.Module 메서드 상속\n",
    "- Fisrt Fully Connected Layer : Input 크기 28*28*1 에 맞게 28*28 설정, Scond FCL이 512 input이므로 512 설정\n",
    "- Second Fully Connected Layer : 노드 수 512개로 설정, Third FCL를 256의 노드 수로 설정할 것이므로 256 설정\n",
    "- Third Fully Connected Layer : 노드 수 256개 설정, Label 수에 맞게 끔 Output 10 설정\n",
    "<br><br>  \n",
    "---\n",
    "\n",
    "```python\n",
    "    def forward(self, x):\n",
    "        x = x.view(-1, 28*28)\n",
    "        x = self.fc1(x)\n",
    "        x = F.sigmoid(x)\n",
    "        x = self.fc2(x)\n",
    "        x - F.sigmoid(x)\n",
    "        x = self.fc3(x)\n",
    "        x = F.log_softmax(x, dim=1)\n",
    "        return x\n",
    "```\n",
    "- Net Class MLP Model의 Forward Propagation을 정의 (Output 계산까지의 과정 나열)\n",
    "- MLP 모델의 입력은 1차원 인데 MNIST Set은 28*28로 2차원이므로 1차원으로 변환 해주는 View 메서드 (2차원을 1차원으로 펼친다 : Flatten)\n",
    "- `__init__` 메서드를 이용해 First FCL에 1차원으로 펼친 이미지 데이터 통과\n",
    "- `torch.nn.functional`에 정의된 비선형 활성화 함수 `sigmoid()` 적용하여 Second FLC의 Input 계산\n",
    "- `__init__` 메서드를 이용해 Second FCL에 `sigmoid()`로 활성화 된 Input data 통과\n",
    "- `torch.nn.functional`에 정의된 비선형 활성화 함수 `sigmoid()` 적용하여 Third FLC의 Input 계산\n",
    "- `__init__` 메서드를 이용해 Third FCL에 `sigmoid()`로 활성화 된 Input data 통과\n",
    "- `torch.nn.functional` 내의 `log.softmax()`를 이용해 최종 output 계산\n",
    "    > `softmax()`가 아닌 `log.softmax()`를 사용하는 이유는 MLP 모델이 Back Propagation으로 학습을 진행할 때  \n",
    "    > Loss 값에 대한 Gradient 값을 좀 더 원활하게 계산할 수 있기 때문  \n",
    "    > log 함수 그래프의 기울기가 부드럽게 변화하는 것을 보면 직관적 이해 가능"
   ]
  },
  {
   "cell_type": "markdown",
   "metadata": {},
   "source": [
    "## 7.Optimizer, Objective Function 설정\n",
    "---"
   ]
  },
  {
   "cell_type": "code",
   "execution_count": 17,
   "metadata": {},
   "outputs": [
    {
     "name": "stdout",
     "output_type": "stream",
     "text": [
      "Net(\n",
      "  (fc1): Linear(in_features=784, out_features=512, bias=True)\n",
      "  (fc2): Linear(in_features=512, out_features=256, bias=True)\n",
      "  (fc3): Linear(in_features=256, out_features=10, bias=True)\n",
      ")\n"
     ]
    }
   ],
   "source": [
    "'''7. Optimizer, Objective Function 설정'''\n",
    "model = Net().to(DEVICE)\n",
    "optimizer = torch.optim.SGD(model.parameters(), lr=.01, momentum=.5)\n",
    "criterion = nn.CrossEntropyLoss()\n",
    "print(model)"
   ]
  },
  {
   "cell_type": "markdown",
   "metadata": {},
   "source": [
    "### **코드 과정 상세**\n",
    "---\n",
    "```python\n",
    "model = Net().to(DEVICE)\n",
    "```\n",
    "- MLP 모델에 장비 할당\n",
    "<br><br>\n",
    "---\n",
    "\n",
    "```python\n",
    "optimizer = torch.optim.SGD(model.parameters(), lr=.01, momentum=.5)\n",
    "```\n",
    "- Back Propagation을 이용해 파라미터 업데이트 시에 사용하는 Optimizer 정의\n",
    "- SGD 알고리즘을 사용하고 `learning rate=0.01`, optimizer의 관성을 나타내는 `momentum=0.5` 부여\n",
    "<br><br>\n",
    "---\n",
    "\n",
    "```python\n",
    "criterion = nn.CrossEntropyLoss()\n",
    "```\n",
    "- output 값과 One-Hot Encoding의 값의 Loss는 `CrossEntropy`를 이용해 계산"
   ]
  },
  {
   "cell_type": "markdown",
   "metadata": {},
   "source": [
    "## 8.MLP 모델 학습 시 학습 데이터에 대한 모델 성능을 확인하는 함수 정의\n",
    "---"
   ]
  },
  {
   "cell_type": "code",
   "execution_count": 15,
   "metadata": {},
   "outputs": [],
   "source": [
    "'''8. MLP 모델 학습 시 학습 데이터에 대한 모델 성능을 확인하는 함수 정의'''\n",
    "def train(model, train_loader, optimizer, log_interval):\n",
    "    model.train()\n",
    "    for batch_idx, (image, label) in enumerate(train_loader):\n",
    "        image = image.to(DEVICE)\n",
    "        label = label.to(DEVICE)\n",
    "        optimizer.zero_grad()\n",
    "        output = model(image)\n",
    "        loss = criterion(output, label)\n",
    "        loss.backward()\n",
    "        optimizer.step()\n",
    "        \n",
    "        if batch_idx % log_interval == 0:\n",
    "            print(\"Train Epoch: {} [{}/{}({:.0f}%)]\\tTrain Loss: {:.6f}\".format(Epoch, batch_idx*len(image),\n",
    "                                                                                 len(train_loader.dataset), 100.*batch_idx/len(train_loader),\n",
    "                                                                                 loss.item()))"
   ]
  },
  {
   "cell_type": "markdown",
   "metadata": {},
   "source": [
    "## 9.학습 과정에서 검증 데이터에 대한 모델의 성능을 확인하는 함수 정의\n",
    "---"
   ]
  },
  {
   "cell_type": "code",
   "execution_count": 13,
   "metadata": {},
   "outputs": [],
   "source": [
    "def evaluate(model, test_loader):\n",
    "    model.eval()\n",
    "    test_loss=0\n",
    "    correct = 0\n",
    "    with torch.no_grad():\n",
    "        for image, label in test_loader:\n",
    "            image = image.to(DEVICE)\n",
    "            label = label.to(DEVICE)\n",
    "            output = model(image)\n",
    "            test_loss += criterion(output, label).item()\n",
    "            prediction = output.max(1, keepdim=True)[1]\n",
    "            correct += prediction.eq(label.view_as(prediction)).sum().item()\n",
    "    test_loss /= len(test_loader.dataset)\n",
    "    test_accuracy = 100. * correct / len(test_loader.dataset)\n",
    "    return test_loss, test_accuracy"
   ]
  },
  {
   "cell_type": "markdown",
   "metadata": {},
   "source": [
    "## 10.MLP 학습을 실행하면서 Train, Test set의 Loss 및 Test set Accuracy 확인\n",
    "---"
   ]
  },
  {
   "cell_type": "code",
   "execution_count": 16,
   "metadata": {},
   "outputs": [
    {
     "name": "stderr",
     "output_type": "stream",
     "text": [
      "C:\\Users\\yunjc\\anaconda3\\envs\\dl_env\\lib\\site-packages\\torch\\nn\\functional.py:1806: UserWarning: nn.functional.sigmoid is deprecated. Use torch.sigmoid instead.\n",
      "  warnings.warn(\"nn.functional.sigmoid is deprecated. Use torch.sigmoid instead.\")\n"
     ]
    },
    {
     "name": "stdout",
     "output_type": "stream",
     "text": [
      "Train Epoch: 1 [0/60000(0%)]\tTrain Loss: 2.298774\n",
      "Train Epoch: 1 [6400/60000(11%)]\tTrain Loss: 2.196892\n",
      "Train Epoch: 1 [12800/60000(21%)]\tTrain Loss: 2.150587\n",
      "Train Epoch: 1 [19200/60000(32%)]\tTrain Loss: 1.734314\n",
      "Train Epoch: 1 [25600/60000(43%)]\tTrain Loss: 1.296788\n",
      "Train Epoch: 1 [32000/60000(53%)]\tTrain Loss: 1.087169\n",
      "Train Epoch: 1 [38400/60000(64%)]\tTrain Loss: 0.582945\n",
      "Train Epoch: 1 [44800/60000(75%)]\tTrain Loss: 0.681578\n",
      "Train Epoch: 1 [51200/60000(85%)]\tTrain Loss: 0.384922\n",
      "Train Epoch: 1 [57600/60000(96%)]\tTrain Loss: 0.380759\n",
      "\n",
      "[EPOCH: 1], \tTest Loss: 0.0170, \tTest Accuracy: 84.06 % \n",
      "\n",
      "Train Epoch: 2 [0/60000(0%)]\tTrain Loss: 0.649623\n",
      "Train Epoch: 2 [6400/60000(11%)]\tTrain Loss: 0.696271\n",
      "Train Epoch: 2 [12800/60000(21%)]\tTrain Loss: 0.468957\n",
      "Train Epoch: 2 [19200/60000(32%)]\tTrain Loss: 0.282265\n",
      "Train Epoch: 2 [25600/60000(43%)]\tTrain Loss: 0.267103\n",
      "Train Epoch: 2 [32000/60000(53%)]\tTrain Loss: 0.305264\n",
      "Train Epoch: 2 [38400/60000(64%)]\tTrain Loss: 0.328886\n",
      "Train Epoch: 2 [44800/60000(75%)]\tTrain Loss: 0.238402\n",
      "Train Epoch: 2 [51200/60000(85%)]\tTrain Loss: 0.449399\n",
      "Train Epoch: 2 [57600/60000(96%)]\tTrain Loss: 0.459443\n",
      "\n",
      "[EPOCH: 2], \tTest Loss: 0.0119, \tTest Accuracy: 89.08 % \n",
      "\n",
      "Train Epoch: 3 [0/60000(0%)]\tTrain Loss: 0.255273\n",
      "Train Epoch: 3 [6400/60000(11%)]\tTrain Loss: 0.188675\n",
      "Train Epoch: 3 [12800/60000(21%)]\tTrain Loss: 0.218540\n",
      "Train Epoch: 3 [19200/60000(32%)]\tTrain Loss: 0.656251\n",
      "Train Epoch: 3 [25600/60000(43%)]\tTrain Loss: 0.171224\n",
      "Train Epoch: 3 [32000/60000(53%)]\tTrain Loss: 0.328788\n",
      "Train Epoch: 3 [38400/60000(64%)]\tTrain Loss: 0.505909\n",
      "Train Epoch: 3 [44800/60000(75%)]\tTrain Loss: 0.318621\n",
      "Train Epoch: 3 [51200/60000(85%)]\tTrain Loss: 0.259183\n",
      "Train Epoch: 3 [57600/60000(96%)]\tTrain Loss: 0.443423\n",
      "\n",
      "[EPOCH: 3], \tTest Loss: 0.0106, \tTest Accuracy: 90.37 % \n",
      "\n",
      "Train Epoch: 4 [0/60000(0%)]\tTrain Loss: 0.488254\n",
      "Train Epoch: 4 [6400/60000(11%)]\tTrain Loss: 0.610733\n",
      "Train Epoch: 4 [12800/60000(21%)]\tTrain Loss: 0.126490\n",
      "Train Epoch: 4 [19200/60000(32%)]\tTrain Loss: 0.194067\n",
      "Train Epoch: 4 [25600/60000(43%)]\tTrain Loss: 0.132881\n",
      "Train Epoch: 4 [32000/60000(53%)]\tTrain Loss: 0.221347\n",
      "Train Epoch: 4 [38400/60000(64%)]\tTrain Loss: 0.323085\n",
      "Train Epoch: 4 [44800/60000(75%)]\tTrain Loss: 0.096254\n",
      "Train Epoch: 4 [51200/60000(85%)]\tTrain Loss: 0.129299\n",
      "Train Epoch: 4 [57600/60000(96%)]\tTrain Loss: 0.195045\n",
      "\n",
      "[EPOCH: 4], \tTest Loss: 0.0099, \tTest Accuracy: 91.11 % \n",
      "\n",
      "Train Epoch: 5 [0/60000(0%)]\tTrain Loss: 0.237656\n",
      "Train Epoch: 5 [6400/60000(11%)]\tTrain Loss: 0.232376\n",
      "Train Epoch: 5 [12800/60000(21%)]\tTrain Loss: 0.495509\n",
      "Train Epoch: 5 [19200/60000(32%)]\tTrain Loss: 0.318922\n",
      "Train Epoch: 5 [25600/60000(43%)]\tTrain Loss: 0.766412\n",
      "Train Epoch: 5 [32000/60000(53%)]\tTrain Loss: 0.125737\n",
      "Train Epoch: 5 [38400/60000(64%)]\tTrain Loss: 0.233892\n",
      "Train Epoch: 5 [44800/60000(75%)]\tTrain Loss: 0.205133\n",
      "Train Epoch: 5 [51200/60000(85%)]\tTrain Loss: 0.264825\n",
      "Train Epoch: 5 [57600/60000(96%)]\tTrain Loss: 0.184529\n",
      "\n",
      "[EPOCH: 5], \tTest Loss: 0.0093, \tTest Accuracy: 91.36 % \n",
      "\n",
      "Train Epoch: 6 [0/60000(0%)]\tTrain Loss: 0.189095\n",
      "Train Epoch: 6 [6400/60000(11%)]\tTrain Loss: 0.144505\n",
      "Train Epoch: 6 [12800/60000(21%)]\tTrain Loss: 0.293383\n",
      "Train Epoch: 6 [19200/60000(32%)]\tTrain Loss: 0.190502\n",
      "Train Epoch: 6 [25600/60000(43%)]\tTrain Loss: 0.154618\n",
      "Train Epoch: 6 [32000/60000(53%)]\tTrain Loss: 0.311370\n",
      "Train Epoch: 6 [38400/60000(64%)]\tTrain Loss: 0.127694\n",
      "Train Epoch: 6 [44800/60000(75%)]\tTrain Loss: 0.356421\n",
      "Train Epoch: 6 [51200/60000(85%)]\tTrain Loss: 0.278351\n",
      "Train Epoch: 6 [57600/60000(96%)]\tTrain Loss: 0.174209\n",
      "\n",
      "[EPOCH: 6], \tTest Loss: 0.0091, \tTest Accuracy: 91.68 % \n",
      "\n",
      "Train Epoch: 7 [0/60000(0%)]\tTrain Loss: 0.086141\n",
      "Train Epoch: 7 [6400/60000(11%)]\tTrain Loss: 0.313710\n",
      "Train Epoch: 7 [12800/60000(21%)]\tTrain Loss: 0.477272\n",
      "Train Epoch: 7 [19200/60000(32%)]\tTrain Loss: 0.275203\n",
      "Train Epoch: 7 [25600/60000(43%)]\tTrain Loss: 0.290561\n",
      "Train Epoch: 7 [32000/60000(53%)]\tTrain Loss: 0.281972\n",
      "Train Epoch: 7 [38400/60000(64%)]\tTrain Loss: 0.148133\n",
      "Train Epoch: 7 [44800/60000(75%)]\tTrain Loss: 0.084190\n",
      "Train Epoch: 7 [51200/60000(85%)]\tTrain Loss: 0.312777\n",
      "Train Epoch: 7 [57600/60000(96%)]\tTrain Loss: 0.343361\n",
      "\n",
      "[EPOCH: 7], \tTest Loss: 0.0092, \tTest Accuracy: 91.56 % \n",
      "\n",
      "Train Epoch: 8 [0/60000(0%)]\tTrain Loss: 0.559501\n",
      "Train Epoch: 8 [6400/60000(11%)]\tTrain Loss: 0.171665\n",
      "Train Epoch: 8 [12800/60000(21%)]\tTrain Loss: 0.168861\n",
      "Train Epoch: 8 [19200/60000(32%)]\tTrain Loss: 0.419465\n",
      "Train Epoch: 8 [25600/60000(43%)]\tTrain Loss: 0.332973\n",
      "Train Epoch: 8 [32000/60000(53%)]\tTrain Loss: 0.209662\n",
      "Train Epoch: 8 [38400/60000(64%)]\tTrain Loss: 0.246532\n",
      "Train Epoch: 8 [44800/60000(75%)]\tTrain Loss: 0.089010\n",
      "Train Epoch: 8 [51200/60000(85%)]\tTrain Loss: 0.247484\n",
      "Train Epoch: 8 [57600/60000(96%)]\tTrain Loss: 0.904261\n",
      "\n",
      "[EPOCH: 8], \tTest Loss: 0.0089, \tTest Accuracy: 92.07 % \n",
      "\n",
      "Train Epoch: 9 [0/60000(0%)]\tTrain Loss: 0.112684\n",
      "Train Epoch: 9 [6400/60000(11%)]\tTrain Loss: 0.253701\n",
      "Train Epoch: 9 [12800/60000(21%)]\tTrain Loss: 0.156400\n",
      "Train Epoch: 9 [19200/60000(32%)]\tTrain Loss: 0.470463\n",
      "Train Epoch: 9 [25600/60000(43%)]\tTrain Loss: 0.362659\n",
      "Train Epoch: 9 [32000/60000(53%)]\tTrain Loss: 0.410067\n",
      "Train Epoch: 9 [38400/60000(64%)]\tTrain Loss: 0.393715\n",
      "Train Epoch: 9 [44800/60000(75%)]\tTrain Loss: 0.122378\n",
      "Train Epoch: 9 [51200/60000(85%)]\tTrain Loss: 0.617324\n",
      "Train Epoch: 9 [57600/60000(96%)]\tTrain Loss: 0.154554\n",
      "\n",
      "[EPOCH: 9], \tTest Loss: 0.0090, \tTest Accuracy: 91.74 % \n",
      "\n",
      "Train Epoch: 10 [0/60000(0%)]\tTrain Loss: 0.056836\n",
      "Train Epoch: 10 [6400/60000(11%)]\tTrain Loss: 0.214397\n",
      "Train Epoch: 10 [12800/60000(21%)]\tTrain Loss: 0.096056\n",
      "Train Epoch: 10 [19200/60000(32%)]\tTrain Loss: 0.448895\n",
      "Train Epoch: 10 [25600/60000(43%)]\tTrain Loss: 0.106789\n",
      "Train Epoch: 10 [32000/60000(53%)]\tTrain Loss: 0.151988\n",
      "Train Epoch: 10 [38400/60000(64%)]\tTrain Loss: 0.148428\n",
      "Train Epoch: 10 [44800/60000(75%)]\tTrain Loss: 0.050763\n",
      "Train Epoch: 10 [51200/60000(85%)]\tTrain Loss: 0.191736\n",
      "Train Epoch: 10 [57600/60000(96%)]\tTrain Loss: 0.159649\n",
      "\n",
      "[EPOCH: 10], \tTest Loss: 0.0087, \tTest Accuracy: 91.93 % \n",
      "\n"
     ]
    }
   ],
   "source": [
    "for Epoch in range(1, EPOCHS+1):\n",
    "    train(model, train_loader, optimizer, log_interval=200)\n",
    "    test_loss, test_accuracy = evaluate(model, test_loader)\n",
    "    print(\"\\n[EPOCH: {}], \\tTest Loss: {:.4f}, \\tTest Accuracy: {:.2f} % \\n\".\n",
    "    format(Epoch, test_loss, test_accuracy))"
   ]
  }
 ],
 "metadata": {
  "interpreter": {
   "hash": "8aee22797df4b788837c069f0ef8574f3e7e1be82db3fea6d988500a32afa623"
  },
  "kernelspec": {
   "display_name": "Python 3.8.8 64-bit ('dl_env': conda)",
   "language": "python",
   "name": "python3"
  },
  "language_info": {
   "codemirror_mode": {
    "name": "ipython",
    "version": 3
   },
   "file_extension": ".py",
   "mimetype": "text/x-python",
   "name": "python",
   "nbconvert_exporter": "python",
   "pygments_lexer": "ipython3",
   "version": "3.8.8"
  },
  "orig_nbformat": 4
 },
 "nbformat": 4,
 "nbformat_minor": 2
}
