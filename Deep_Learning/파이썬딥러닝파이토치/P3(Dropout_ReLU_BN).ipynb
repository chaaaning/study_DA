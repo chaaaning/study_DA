{
 "cells": [
  {
   "cell_type": "markdown",
   "metadata": {},
   "source": [
    "# MLP 모델 설계\n",
    "---\n",
    "> 1. Import Moudles\n",
    "> 2. CUDA OR CPU Check\n",
    "> 3. MNIST Data Download (Train/Test)\n",
    "> 4. Data Check(1) - train, test\n",
    "> 5. Data Check(2) - visualization\n",
    "> 6. MLP 설계\n",
    "> 7. Optimizer, Objective Function 설정\n",
    "> 8. 모델 성능 확인 함수\n",
    "> 9. 검증 성능 확인 함수\n",
    "> 10. Train, Test Loss 및 Accuracy 확인"
   ]
  },
  {
   "cell_type": "markdown",
   "metadata": {},
   "source": [
    "# 1.Impot Modules"
   ]
  },
  {
   "cell_type": "code",
   "execution_count": 2,
   "metadata": {},
   "outputs": [],
   "source": [
    "import numpy as np\n",
    "import matplotlib.pyplot as plt\n",
    "import torch\n",
    "import torch.nn as nn\n",
    "import torch.nn.functional as F\n",
    "from torchvision import transforms, datasets"
   ]
  },
  {
   "cell_type": "markdown",
   "metadata": {},
   "source": [
    "# 2.CUDA OR CPU Check"
   ]
  },
  {
   "cell_type": "code",
   "execution_count": 3,
   "metadata": {},
   "outputs": [
    {
     "name": "stdout",
     "output_type": "stream",
     "text": [
      "Pytorch Version : ('1.10.1',)\n",
      "Device : cuda\n",
      "BATCH SIZE : 32\n",
      "EPOCHS:30\n"
     ]
    }
   ],
   "source": [
    "DEVICE = \"cuda\" if torch.cuda.is_available() else \"cpu\"\n",
    "BATCH_SIZE = 32\n",
    "EPOCHS =30\n",
    "\n",
    "print(f\"Pytorch Version : {torch.__version__,}\\nDevice : {DEVICE}\")\n",
    "print(f\"BATCH SIZE : {BATCH_SIZE}\\nEPOCHS:{EPOCHS}\")"
   ]
  },
  {
   "cell_type": "markdown",
   "metadata": {},
   "source": [
    "# 3.MNIST Data Download"
   ]
  },
  {
   "cell_type": "code",
   "execution_count": 4,
   "metadata": {},
   "outputs": [],
   "source": [
    "train_dataset = datasets.MNIST(root = \"./data/MNIST\",\n",
    "                               train = True,\n",
    "                               download = True,\n",
    "                               transform = transforms.ToTensor())\n",
    "test_dataset = datasets.MNIST(root = \"./data/MNIST\",\n",
    "                              train = False,\n",
    "                              transform = transforms.ToTensor())\n",
    "\n",
    "train_loader = torch.utils.data.DataLoader(dataset = train_dataset,\n",
    "                                           batch_size = BATCH_SIZE,\n",
    "                                           shuffle = True)\n",
    "test_loader = torch.utils.data.DataLoader(dataset = test_dataset,\n",
    "                                          batch_size = BATCH_SIZE,\n",
    "                                          shuffle = True)"
   ]
  },
  {
   "cell_type": "markdown",
   "metadata": {},
   "source": [
    "# 4.Data Check(1) - Train/Test"
   ]
  },
  {
   "cell_type": "code",
   "execution_count": 5,
   "metadata": {},
   "outputs": [
    {
     "name": "stdout",
     "output_type": "stream",
     "text": [
      "X_train: torch.Size([32, 1, 28, 28]) \n",
      "type: <built-in method type of Tensor object at 0x00000223894D0F40>\n",
      "\n",
      "y_train: torch.Size([32]) \n",
      "type: <built-in method type of Tensor object at 0x00000223995B7D60>\n"
     ]
    }
   ],
   "source": [
    "for (X_train, y_train) in train_loader:\n",
    "    print(f\"X_train: {X_train.size()} \\ntype: {X_train.type}\\n\")\n",
    "    print(f\"y_train: {y_train.size()} \\ntype: {y_train.type}\")\n",
    "    break"
   ]
  },
  {
   "cell_type": "markdown",
   "metadata": {},
   "source": []
  },
  {
   "cell_type": "markdown",
   "metadata": {},
   "source": [
    "# 5.Data Check(2) - Visualization"
   ]
  },
  {
   "cell_type": "code",
   "execution_count": 6,
   "metadata": {},
   "outputs": [
    {
     "data": {
      "image/png": "[encoded data removed]",
      "text/plain": [
       "<Figure size 720x72 with 10 Axes>"
      ]
     },
     "metadata": {
      "needs_background": "light"
     },
     "output_type": "display_data"
    }
   ],
   "source": [
    "pltSize=1\n",
    "plt.figure(figsize=(10*pltSize, pltSize))\n",
    "for i in range(10):\n",
    "    plt.subplot(1,10,i+1)\n",
    "    plt.axis(\"off\")\n",
    "    plt.imshow(X_train[i,:,:,:].numpy().reshape(28,28), cmap=\"gray_r\")\n",
    "    plt.title(f\"Class: {str(y_train[i].item())}\")"
   ]
  },
  {
   "cell_type": "markdown",
   "metadata": {},
   "source": [
    "# 6.MLP 설계 - <span style=\"color:magenta\">Dropout 추가</span> (1)\n",
    "---\n",
    "```python\n",
    "F.dropout(x, training, p)\n",
    "```\n",
    "- `x` : forward 전달 상태\n",
    "- `training` : 학습 상태와 검증 상태에 따라 다르게 적용\n",
    "    - 학습 상태 - 랜덤으로 노드를 선택하여 가중값이 업데이트 되지 않도록 조정 \n",
    "    - 검증 상태(평가) - 모든 노들를 이용하여 Output을 계산\n",
    "    > 따라서 두 상태는 다르게 적용되어야 함\n",
    "    \n",
    "    `model.train()`->`self.training=True`  \n",
    "    `model.eval()` -> `self.training=False`"
   ]
  },
  {
   "cell_type": "code",
   "execution_count": 11,
   "metadata": {},
   "outputs": [],
   "source": [
    "class Net(nn.Module):\n",
    "    def __init__(self):\n",
    "        super(Net, self).__init__()\n",
    "        self.fc1 = nn.Linear(28*28, 512)\n",
    "        self.fc2 = nn.Linear(512, 256)\n",
    "        self.fc3 = nn.Linear(256, 10)\n",
    "        self.dropout_prob = .5\n",
    "        \n",
    "    def forward(self, x):\n",
    "        x = x.view(-1, 28*28)\n",
    "        x = self.fc1(x)\n",
    "        x = F.sigmoid(x)\n",
    "        x = F.dropout(x, training=self.training, p = self.dropout_prob)\n",
    "        x = self.fc2(x)\n",
    "        x = F.sigmoid(x)\n",
    "        x = F.dropout(x, training=self.training, p = self.dropout_prob)\n",
    "        x = self.fc3(x)\n",
    "        x = F.log_softmax(x, dim=1)\n",
    "        return x"
   ]
  },
  {
   "cell_type": "markdown",
   "metadata": {},
   "source": [
    "# 6.MLP 설계(2) - <span style=\"color:magenta\">Dropout, ReLu</span>\n",
    "---\n",
    "```python\n",
    "F.dropout(x, training, p)\n",
    "F.relu(x)\n",
    "```"
   ]
  },
  {
   "cell_type": "code",
   "execution_count": 7,
   "metadata": {},
   "outputs": [],
   "source": [
    "class Net(nn.Module):\n",
    "    def __init__(self):\n",
    "        super(Net, self).__init__()\n",
    "        self.fc1 = nn.Linear(28*28, 512)\n",
    "        self.fc2 = nn.Linear(512, 256)\n",
    "        self.fc3 = nn.Linear(256, 10)\n",
    "        self.dropout_prob = .5\n",
    "        \n",
    "    def forward(self, x):\n",
    "        x = x.view(-1, 28*28)\n",
    "        x = self.fc1(x)\n",
    "        x = F.relu(x)\n",
    "        x = F.dropout(x, training=self.training, p = self.dropout_prob)\n",
    "        x = self.fc2(x)\n",
    "        x = F.relu(x)\n",
    "        x = F.dropout(x, training=self.training, p = self.dropout_prob)\n",
    "        x = self.fc3(x)\n",
    "        x = F.log_softmax(x, dim=1)\n",
    "        return x"
   ]
  },
  {
   "cell_type": "markdown",
   "metadata": {},
   "source": [
    "# 6.MLP 설계(3) - <span style=\"color:magenta\">Dropout, ReLU, Batch Normalization</span>\n",
    "---\n",
    "- Batch Normalization은 1D, 2D, 3D 등 다양한 차원에 따라 적용되는 함수명이 다름\n",
    "- MLP 내 각 Layer에서 데이터는 1D 크기의 벡터값을 계산 --> `nn.BatchNorm1d()`\n",
    "- Batch Normalization은 활성 함수 전에 사용하기도, 후에 사용하기도 하는데 이는 연구자마다 상이함\n",
    "- 밑의 코드는 활성함수 전에 추가"
   ]
  },
  {
   "cell_type": "code",
   "execution_count": 7,
   "metadata": {},
   "outputs": [],
   "source": [
    "class Net(nn.Module):\n",
    "    def __init__(self):\n",
    "        super(Net, self).__init__()\n",
    "        self.fc1 = nn.Linear(28*28, 512)\n",
    "        self.fc2 = nn.Linear(512, 256)\n",
    "        self.fc3 = nn.Linear(256, 10)\n",
    "        self.dropout_prob = .5\n",
    "        self.batch_norm1 = nn.BatchNorm1d(512)\n",
    "        self.batch_norm2 = nn.BatchNorm1d(256)\n",
    "        \n",
    "    def forward(self, x):\n",
    "        x = x.view(-1, 28*28)\n",
    "        x = self.fc1(x)\n",
    "        x = self.batch_norm1(x)\n",
    "        x = F.relu(x)\n",
    "        x = F.dropout(x, training=self.training, p = self.dropout_prob)\n",
    "        x = self.fc2(x)\n",
    "        x = self.batch_norm2(x)\n",
    "        x = F.relu(x)\n",
    "        x = F.dropout(x, training=self.training, p = self.dropout_prob)\n",
    "        x = self.fc3(x)\n",
    "        x = F.log_softmax(x, dim=1)\n",
    "        return x"
   ]
  },
  {
   "cell_type": "markdown",
   "metadata": {},
   "source": [
    "# 7.Optimizer, Objective Function 설정"
   ]
  },
  {
   "cell_type": "code",
   "execution_count": 8,
   "metadata": {},
   "outputs": [
    {
     "name": "stdout",
     "output_type": "stream",
     "text": [
      "Net(\n",
      "  (fc1): Linear(in_features=784, out_features=512, bias=True)\n",
      "  (fc2): Linear(in_features=512, out_features=256, bias=True)\n",
      "  (fc3): Linear(in_features=256, out_features=10, bias=True)\n",
      "  (batch_norm1): BatchNorm1d(512, eps=1e-05, momentum=0.1, affine=True, track_running_stats=True)\n",
      "  (batch_norm2): BatchNorm1d(256, eps=1e-05, momentum=0.1, affine=True, track_running_stats=True)\n",
      ")\n"
     ]
    }
   ],
   "source": [
    "model = Net().to(DEVICE)\n",
    "optimizer = torch.optim.SGD(model.parameters(), lr=.01, momentum=.5)\n",
    "criterion = nn.CrossEntropyLoss()\n",
    "print(model)"
   ]
  },
  {
   "cell_type": "markdown",
   "metadata": {},
   "source": [
    "# 8.모델 성능 확인 함수"
   ]
  },
  {
   "cell_type": "code",
   "execution_count": 9,
   "metadata": {},
   "outputs": [],
   "source": [
    "def train(model, train_loader, optimizer, log_interval):\n",
    "    # 모델 학습 상태 저장\n",
    "    model.train()\n",
    "    \n",
    "    # 한 배치에 포함된 이미지와 라벨 단위로 학습 진행\n",
    "    for batch_idx, (image, label) in enumerate(train_loader):\n",
    "        image = image.to(DEVICE)\n",
    "        label = label.to(DEVICE)\n",
    "        \n",
    "        # Gradient 초기화\n",
    "        optimizer.zero_grad()\n",
    "        \n",
    "        # 모델을 통해 input에 대한 output\n",
    "        output = model(image)\n",
    "        \n",
    "        # output과 label의 손실 함수\n",
    "        loss = criterion(output, label)\n",
    "        \n",
    "        # Loss 값 계산의 결과를 바탕으로 Back Propagation을 통해 계산된\n",
    "        # Gradient 값을 각 파라미터에 할당\n",
    "        loss.backward()\n",
    "        \n",
    "        # 각 파라미터에 할당된 Gradient 값으로 파라미터 업데이트\n",
    "        optimizer.step()\n",
    "        \n",
    "        # if batch_idx % log_interval == 0:\n",
    "        #     print(\"Train Epoch: {} [{}/{}({:.0f}%)]\\tTrain Loss: {:.6f}\".format(Epoch, batch_idx*len(image),\n",
    "        #                                                                          len(train_loader.dataset), 100.*batch_idx/len(train_loader),\n",
    "        #                                                                          loss.item()))"
   ]
  },
  {
   "cell_type": "markdown",
   "metadata": {},
   "source": [
    "# 9.검증 성능 확인 함수"
   ]
  },
  {
   "cell_type": "code",
   "execution_count": 10,
   "metadata": {},
   "outputs": [],
   "source": [
    "def evaluate(model, test_loader):\n",
    "    # 현재 모델을 평가 상태로 지정\n",
    "    model.eval()\n",
    "    \n",
    "    # test_loss 초기화\n",
    "    test_loss=0\n",
    "    \n",
    "    # MLP 모델의 올바른 분류의 경우를 세는 correct 초기화\n",
    "    correct = 0\n",
    "    \n",
    "    # Gradient를 통한 파라미터 업데이트를 방지하기 위해 Gradient 흐름 억제\n",
    "    with torch.no_grad():\n",
    "        for image, label in test_loader:\n",
    "            image = image.to(DEVICE)\n",
    "            label = label.to(DEVICE)\n",
    "            output = model(image)\n",
    "            \n",
    "            # loss 값 업데이트\n",
    "            test_loss += criterion(output, label).item()\n",
    "            \n",
    "            # output의 가장 큰 값인 위치에 대해 이에 대응하는 클래스로 예측\n",
    "            prediction = output.max(1, keepdim=True)[1]\n",
    "            \n",
    "            # 일치하면 맞았다고 셈 \n",
    "            correct += prediction.eq(label.view_as(prediction)).sum().item()\n",
    "    # test_loader에 존재하는 미니배치의 갯수만큼 나누어 평균 loss 계산        \n",
    "    test_loss /= len(test_loader.dataset)\n",
    "    \n",
    "    test_accuracy = 100. * correct / len(test_loader.dataset)\n",
    "    return test_loss, test_accuracy"
   ]
  },
  {
   "cell_type": "markdown",
   "metadata": {},
   "source": [
    "# 10.Train, Test Loss 및 Accuracy 확인"
   ]
  },
  {
   "cell_type": "code",
   "execution_count": 11,
   "metadata": {},
   "outputs": [
    {
     "name": "stdout",
     "output_type": "stream",
     "text": [
      "\n",
      "[EPOCH: 1], \tTest Loss: 0.0048, \tTest Accuracy: 95.12 % \n",
      "\n",
      "\n",
      "[EPOCH: 2], \tTest Loss: 0.0035, \tTest Accuracy: 96.55 % \n",
      "\n",
      "\n",
      "[EPOCH: 3], \tTest Loss: 0.0031, \tTest Accuracy: 97.02 % \n",
      "\n",
      "\n",
      "[EPOCH: 4], \tTest Loss: 0.0027, \tTest Accuracy: 97.35 % \n",
      "\n",
      "\n",
      "[EPOCH: 5], \tTest Loss: 0.0025, \tTest Accuracy: 97.63 % \n",
      "\n",
      "\n",
      "[EPOCH: 6], \tTest Loss: 0.0022, \tTest Accuracy: 97.80 % \n",
      "\n",
      "\n",
      "[EPOCH: 7], \tTest Loss: 0.0023, \tTest Accuracy: 97.82 % \n",
      "\n",
      "\n",
      "[EPOCH: 8], \tTest Loss: 0.0021, \tTest Accuracy: 97.90 % \n",
      "\n",
      "\n",
      "[EPOCH: 9], \tTest Loss: 0.0020, \tTest Accuracy: 98.08 % \n",
      "\n",
      "\n",
      "[EPOCH: 10], \tTest Loss: 0.0020, \tTest Accuracy: 98.03 % \n",
      "\n",
      "\n",
      "[EPOCH: 11], \tTest Loss: 0.0018, \tTest Accuracy: 98.12 % \n",
      "\n",
      "\n",
      "[EPOCH: 12], \tTest Loss: 0.0019, \tTest Accuracy: 98.08 % \n",
      "\n",
      "\n",
      "[EPOCH: 13], \tTest Loss: 0.0019, \tTest Accuracy: 98.17 % \n",
      "\n",
      "\n",
      "[EPOCH: 14], \tTest Loss: 0.0018, \tTest Accuracy: 98.14 % \n",
      "\n",
      "\n",
      "[EPOCH: 15], \tTest Loss: 0.0018, \tTest Accuracy: 98.31 % \n",
      "\n",
      "\n",
      "[EPOCH: 16], \tTest Loss: 0.0017, \tTest Accuracy: 98.17 % \n",
      "\n",
      "\n",
      "[EPOCH: 17], \tTest Loss: 0.0017, \tTest Accuracy: 98.17 % \n",
      "\n",
      "\n",
      "[EPOCH: 18], \tTest Loss: 0.0016, \tTest Accuracy: 98.40 % \n",
      "\n",
      "\n",
      "[EPOCH: 19], \tTest Loss: 0.0017, \tTest Accuracy: 98.27 % \n",
      "\n",
      "\n",
      "[EPOCH: 20], \tTest Loss: 0.0017, \tTest Accuracy: 98.26 % \n",
      "\n",
      "\n",
      "[EPOCH: 21], \tTest Loss: 0.0017, \tTest Accuracy: 98.23 % \n",
      "\n",
      "\n",
      "[EPOCH: 22], \tTest Loss: 0.0017, \tTest Accuracy: 98.26 % \n",
      "\n",
      "\n",
      "[EPOCH: 23], \tTest Loss: 0.0016, \tTest Accuracy: 98.32 % \n",
      "\n",
      "\n",
      "[EPOCH: 24], \tTest Loss: 0.0016, \tTest Accuracy: 98.34 % \n",
      "\n",
      "\n",
      "[EPOCH: 25], \tTest Loss: 0.0016, \tTest Accuracy: 98.26 % \n",
      "\n",
      "\n",
      "[EPOCH: 26], \tTest Loss: 0.0016, \tTest Accuracy: 98.38 % \n",
      "\n",
      "\n",
      "[EPOCH: 27], \tTest Loss: 0.0015, \tTest Accuracy: 98.37 % \n",
      "\n",
      "\n",
      "[EPOCH: 28], \tTest Loss: 0.0016, \tTest Accuracy: 98.36 % \n",
      "\n",
      "\n",
      "[EPOCH: 29], \tTest Loss: 0.0015, \tTest Accuracy: 98.40 % \n",
      "\n",
      "\n",
      "[EPOCH: 30], \tTest Loss: 0.0016, \tTest Accuracy: 98.43 % \n",
      "\n"
     ]
    }
   ],
   "source": [
    "for Epoch in range(1, EPOCHS+1):\n",
    "    train(model, train_loader, optimizer, log_interval=200)\n",
    "    test_loss, test_accuracy = evaluate(model, test_loader)\n",
    "    print(\"\\n[EPOCH: {}], \\tTest Loss: {:.4f}, \\tTest Accuracy: {:.2f} % \\n\".\n",
    "    format(Epoch, test_loss, test_accuracy))"
   ]
  },
  {
   "cell_type": "code",
   "execution_count": null,
   "metadata": {},
   "outputs": [],
   "source": []
  }
 ],
 "metadata": {
  "interpreter": {
   "hash": "0446615344e4aa1473341d598d724cf1b585df313970ff46e1fcfce00a5ccfcf"
  },
  "kernelspec": {
   "display_name": "Python 3.8.8 64-bit ('dl_env': conda)",
   "language": "python",
   "name": "python3"
  },
  "language_info": {
   "codemirror_mode": {
    "name": "ipython",
    "version": 3
   },
   "file_extension": ".py",
   "mimetype": "text/x-python",
   "name": "python",
   "nbconvert_exporter": "python",
   "pygments_lexer": "ipython3",
   "version": "3.8.8"
  },
  "orig_nbformat": 4
 },
 "nbformat": 4,
 "nbformat_minor": 2
}
