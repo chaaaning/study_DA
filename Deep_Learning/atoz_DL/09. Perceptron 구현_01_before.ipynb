{
 "cells": [
  {
   "cell_type": "markdown",
   "metadata": {},
   "source": [
    "# Perceptron 구현 (OR 함수 구현)"
   ]
  },
  {
   "cell_type": "markdown",
   "metadata": {},
   "source": [
    "## Import modules"
   ]
  },
  {
   "cell_type": "code",
   "execution_count": 1,
   "metadata": {},
   "outputs": [],
   "source": [
    "import tensorflow as tf\n",
    "import numpy as np"
   ]
  },
  {
   "cell_type": "markdown",
   "metadata": {},
   "source": [
    "## Perceptron 구현"
   ]
  },
  {
   "cell_type": "code",
   "execution_count": 2,
   "metadata": {},
   "outputs": [],
   "source": [
    "class Perceptron:\n",
    "    def __init__(self, w, b):\n",
    "        self.w = tf.Variable(w, dtype=tf.float32)\n",
    "        self.b = tf.Variable(b, dtype=tf.float32)\n",
    "    \n",
    "    # perceptron 통과 시 출력\n",
    "    def __call__(self, x):\n",
    "        # sign으로 activation\n",
    "        return tf.sign(tf.reduce_sum(self.w*x)+self.b)"
   ]
  },
  {
   "cell_type": "markdown",
   "metadata": {},
   "source": [
    "## Utility 함수 구현"
   ]
  },
  {
   "cell_type": "code",
   "execution_count": 3,
   "metadata": {},
   "outputs": [],
   "source": [
    "def v(*args):\n",
    "    return np.array(args)"
   ]
  },
  {
   "cell_type": "markdown",
   "metadata": {},
   "source": [
    "## Perceptron 정의"
   ]
  },
  {
   "cell_type": "code",
   "execution_count": 4,
   "metadata": {},
   "outputs": [],
   "source": [
    "# weight와 bias 값의 정의\n",
    "\n",
    "w = v(1,1)\n",
    "b = .5\n",
    "\n",
    "perceptron = Perceptron(w,b)"
   ]
  },
  {
   "cell_type": "markdown",
   "metadata": {},
   "source": [
    "## Perceptron 동작 확인"
   ]
  },
  {
   "cell_type": "code",
   "execution_count": 5,
   "metadata": {},
   "outputs": [
    {
     "name": "stdout",
     "output_type": "stream",
     "text": [
      "1.0 1.0\n",
      "-1.0 1.0\n"
     ]
    }
   ],
   "source": [
    "p1 = perceptron(v(1,1)) # T, T\n",
    "p2 = perceptron(v(-1,1)) # F, T\n",
    "p3 = perceptron(v(-1,-1)) # F, F\n",
    "p4 = perceptron(v(1,-1)) # T, F\n",
    "\n",
    "print(p2.numpy(), p1.numpy())\n",
    "print(p3.numpy(), p4.numpy())"
   ]
  },
  {
   "cell_type": "markdown",
   "metadata": {},
   "source": [
    "# XOR Gate\n",
    "\n",
    "---\n",
    "- XOR Gate 진리표\n",
    "    |X|Y|Z|\n",
    "    |-|-|-|\n",
    "    |T|T|F|\n",
    "    |T|F|T|\n",
    "    |F|T|T|\n",
    "    |F|F|F|\n",
    "\n",
    "- NAND + OR Gate의 합성"
   ]
  },
  {
   "cell_type": "markdown",
   "metadata": {},
   "source": [
    "# Perceptron 구현 (XOR 함수 구현)"
   ]
  },
  {
   "cell_type": "markdown",
   "metadata": {},
   "source": [
    "## Import modules"
   ]
  },
  {
   "cell_type": "code",
   "execution_count": 6,
   "metadata": {},
   "outputs": [],
   "source": [
    "import tensorflow as tf\n",
    "import numpy as np"
   ]
  },
  {
   "cell_type": "markdown",
   "metadata": {},
   "source": [
    "## Perceptron 구현"
   ]
  },
  {
   "cell_type": "code",
   "execution_count": 7,
   "metadata": {},
   "outputs": [],
   "source": [
    "class Perceptron:  # Implementation of a perceptron with a bias\n",
    "    def __init__(self, w, b):\n",
    "        self.w = tf.Variable(w, dtype=tf.float32)\n",
    "        self.b = tf.Variable(b, dtype=tf.float32)\n",
    "\n",
    "    def __call__(self, x):\n",
    "        return tf.sign(tf.reduce_sum(self.w * x) + self.b)"
   ]
  },
  {
   "cell_type": "markdown",
   "metadata": {},
   "source": [
    "## Utility 함수 구현"
   ]
  },
  {
   "cell_type": "code",
   "execution_count": 8,
   "metadata": {},
   "outputs": [],
   "source": [
    "def v(*args):  # Enhance code readability\n",
    "    return np.array(args)"
   ]
  },
  {
   "cell_type": "markdown",
   "metadata": {},
   "source": [
    "## Perceptron 정의"
   ]
  },
  {
   "cell_type": "code",
   "execution_count": 9,
   "metadata": {},
   "outputs": [],
   "source": [
    "p_nand = Perceptron(w=v(-1,-1), b = .5)\n",
    "\n",
    "p_or = Perceptron(w=v(1,1), b=.5)\n",
    "\n",
    "p_and = Perceptron(w=v(1,1), b=-.5)\n",
    "\n",
    "def xor(x):\n",
    "    h1 = p_nand(x)\n",
    "    h2 = p_or(x)\n",
    "    return p_and(v(h1, h2))"
   ]
  },
  {
   "cell_type": "markdown",
   "metadata": {},
   "source": [
    "## Perceptron 동작 확인"
   ]
  },
  {
   "cell_type": "code",
   "execution_count": 10,
   "metadata": {},
   "outputs": [
    {
     "name": "stdout",
     "output_type": "stream",
     "text": [
      "1.0 -1.0\n",
      "-1.0 1.0\n"
     ]
    }
   ],
   "source": [
    "p1 = xor(v(1,1)) # T, T\n",
    "p2 = xor(v(-1,1)) # F, T\n",
    "p3 = xor(v(-1,-1)) # F, F\n",
    "p4 = xor(v(1,-1)) # T, F\n",
    "\n",
    "print(p2.numpy(), p1.numpy())\n",
    "print(p3.numpy(), p4.numpy())"
   ]
  }
 ],
 "metadata": {
  "kernelspec": {
   "display_name": "Python 3.8.13 ('tf2.0')",
   "language": "python",
   "name": "python3"
  },
  "language_info": {
   "codemirror_mode": {
    "name": "ipython",
    "version": 3
   },
   "file_extension": ".py",
   "mimetype": "text/x-python",
   "name": "python",
   "nbconvert_exporter": "python",
   "pygments_lexer": "ipython3",
   "version": "3.8.13"
  },
  "vscode": {
   "interpreter": {
    "hash": "53f140024254be28d5c1d1662bc9aed8da74d9c4483e5acd283c5779ad7ad5e4"
   }
  }
 },
 "nbformat": 4,
 "nbformat_minor": 2
}
