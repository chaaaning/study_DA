{
 "cells": [
  {
   "cell_type": "markdown",
   "metadata": {},
   "source": [
    "## 수치 미분을 이용한 심층 신경망 학습"
   ]
  },
  {
   "cell_type": "markdown",
   "metadata": {},
   "source": [
    "## Import modules"
   ]
  },
  {
   "cell_type": "code",
   "execution_count": 1,
   "metadata": {},
   "outputs": [],
   "source": [
    "import time\n",
    "import numpy as np"
   ]
  },
  {
   "cell_type": "markdown",
   "metadata": {},
   "source": [
    "## 유틸리티 함수"
   ]
  },
  {
   "cell_type": "code",
   "execution_count": 2,
   "metadata": {},
   "outputs": [],
   "source": [
    "epsilon = 0.0001\n",
    "\n",
    "def _t(x):\n",
    "    return np.transpose(x)\n",
    "\n",
    "def _m(A, B):\n",
    "    return np.matmul(A, B)\n",
    "\n",
    "def sigmoid(x):\n",
    "    return 1 / (1 + np.exp(-x))\n",
    "\n",
    "def mean_squared_error(h, y):\n",
    "    return 1 / 2 * np.mean(np.square(h - y))"
   ]
  },
  {
   "cell_type": "markdown",
   "metadata": {},
   "source": [
    "## Dense Layer 구현"
   ]
  },
  {
   "cell_type": "code",
   "execution_count": 7,
   "metadata": {},
   "outputs": [],
   "source": [
    "class Dense:\n",
    "    def __init__(self, W, b, a):\n",
    "        self.W = W\n",
    "        self.b = b\n",
    "        self.a = a\n",
    "\n",
    "        self.dW = np.zeros_like(self.W) # W와 같은 모양의 0 numpy\n",
    "        self.db = np.zeros_like(self.b)\n",
    "    \n",
    "    def __call__(self, x):\n",
    "        return self.a(_m(_t(self.W), x)+self.b) # matmul(ixo, ix1) + ox1"
   ]
  },
  {
   "cell_type": "markdown",
   "metadata": {},
   "source": [
    "## 심층신경망 구현"
   ]
  },
  {
   "cell_type": "code",
   "execution_count": 8,
   "metadata": {},
   "outputs": [],
   "source": [
    "class DNN:\n",
    "    def __init__(self, hidden_depth, num_neuron, num_input, num_output, activation=sigmoid):\n",
    "        def init_var(i, o):\n",
    "            return np.random.normal(0.0, 0.01, (i, o)), np.zeros((o,))\n",
    "\n",
    "        self.sequence = list()\n",
    "        # First hidden layer\n",
    "        W, b = init_var(num_input, num_neuron)\n",
    "        self.sequence.append(Dense(W, b, activation))\n",
    "        \n",
    "        # Hidden layers\n",
    "        for _ in range(hidden_depth-1):\n",
    "            W, b = init_var(num_neuron, num_neuron)\n",
    "            self.sequence.append(Dense(W, b, activation))\n",
    "\n",
    "        # Output layer\n",
    "        W, b = init_var(num_neuron, num_output)\n",
    "        self.sequence.append(Dense(W, b, activation))\n",
    "\n",
    "    def __call__(self, x):\n",
    "        for layer in self.sequence:\n",
    "            x = layer(x)\n",
    "        return x\n",
    "\n",
    "    def calc_gradient(self, x, y, loss_func):\n",
    "        \n",
    "        def get_new_sequence(layer_index, new_layer):\n",
    "            new_sequence = list()\n",
    "            for i, layer in enumerate(self.sequence):\n",
    "                if i == layer_index:\n",
    "                    new_sequence.append(new_layer)\n",
    "                else:\n",
    "                    new_sequence.append(layer)\n",
    "            return new_sequence\n",
    "\n",
    "        def eval_sequence(x, sequence):\n",
    "            for layer in sequence:\n",
    "                x = layer(x)\n",
    "            return x\n",
    "        \n",
    "        loss = loss_func(self(x), y)\n",
    "        # scalar의 값을 조금 씩 바꿔서 Numerical Gradient 구현\n",
    "        for layer_id, layer in enumerate(self.sequence):\n",
    "            for w_i, w in enumerate(layer.W):   # 아직은 벡터\n",
    "                for w_j, ww in enumerate(w):\n",
    "                    W = np.copy(layer.W)\n",
    "                    W[w_i][w_j] = ww + epsilon\n",
    "                    \n",
    "                    new_layer = Dense(W, layer.b, layer.a)\n",
    "                    new_seq = get_new_sequence(layer_id, new_layer)\n",
    "                    h = eval_sequence(x, new_seq)\n",
    "                    \n",
    "                    # (f(x+eps) - f(x)) / eps\n",
    "                    num_grad = (loss_func(h,y)-loss)/epsilon\n",
    "                    layer.dW[w_i][w_j] = num_grad\n",
    "            for b_i, bb in enumerate(layer.b):\n",
    "                b = np.copy(layer.b)\n",
    "                b[b_i] = bb+epsilon\n",
    "\n",
    "                new_layer = Dense(layer.W, b, layer.a)\n",
    "                new_seq = get_new_sequence(layer_id, new_layer)\n",
    "                h = eval_sequence(x, new_seq)\n",
    "                \n",
    "                num_grad = (loss_func(h,y)-loss)/epsilon\n",
    "                layer.db[b_i] = num_grad\n",
    "        return loss\n"
   ]
  },
  {
   "cell_type": "markdown",
   "metadata": {},
   "source": [
    "## 경사하강 학습법"
   ]
  },
  {
   "cell_type": "code",
   "execution_count": 9,
   "metadata": {},
   "outputs": [],
   "source": [
    "def gradient_descent(network, x, y, loss_obj, alpha=0.01):\n",
    "    loss = network.calc_gradient(x, y, loss_obj)\n",
    "    for layer in network.sequence:\n",
    "        layer.W += -alpha * layer.dW\n",
    "        layer.b += -alpha * layer.db\n",
    "    return loss"
   ]
  },
  {
   "cell_type": "markdown",
   "metadata": {},
   "source": [
    "## 동작 테스트"
   ]
  },
  {
   "cell_type": "code",
   "execution_count": 12,
   "metadata": {},
   "outputs": [
    {
     "name": "stdout",
     "output_type": "stream",
     "text": [
      "Epoch 0: Test loss 0.4259118609353312\n",
      "Epoch 1: Test loss 0.4235372729294312\n",
      "Epoch 2: Test loss 0.4211757413827673\n",
      "Epoch 3: Test loss 0.4188274312191471\n",
      "Epoch 4: Test loss 0.416492500507075\n",
      "Epoch 5: Test loss 0.4141711004752838\n",
      "Epoch 6: Test loss 0.4118633755357364\n",
      "Epoch 7: Test loss 0.4095694633132235\n",
      "Epoch 8: Test loss 0.4072894946816411\n",
      "Epoch 9: Test loss 0.4050235938068666\n",
      "Epoch 10: Test loss 0.40277187819553006\n",
      "Epoch 11: Test loss 0.4005344587498181\n",
      "Epoch 12: Test loss 0.39831143982797557\n",
      "Epoch 13: Test loss 0.3961029193101566\n",
      "Epoch 14: Test loss 0.39390898866935703\n",
      "Epoch 15: Test loss 0.391729733047352\n",
      "Epoch 16: Test loss 0.3895652313352048\n",
      "Epoch 17: Test loss 0.3874155562580749\n",
      "Epoch 18: Test loss 0.3852807744641048\n",
      "Epoch 19: Test loss 0.3831609466172481\n",
      "Epoch 20: Test loss 0.3810561274936154\n",
      "Epoch 21: Test loss 0.37896636608103024\n",
      "Epoch 22: Test loss 0.3768917056817879\n",
      "Epoch 23: Test loss 0.37483218401804064\n",
      "Epoch 24: Test loss 0.37278783333989707\n",
      "Epoch 25: Test loss 0.37075868053572925\n",
      "Epoch 26: Test loss 0.36874474724458073\n",
      "Epoch 27: Test loss 0.3667460499704227\n",
      "Epoch 28: Test loss 0.364762600197892\n",
      "Epoch 29: Test loss 0.3627944045096445\n",
      "Epoch 30: Test loss 0.36084146470461215\n",
      "Epoch 31: Test loss 0.3589037779174655\n",
      "Epoch 32: Test loss 0.35698133673857535\n",
      "Epoch 33: Test loss 0.35507412933478943\n",
      "Epoch 34: Test loss 0.353182139570381\n",
      "Epoch 35: Test loss 0.3513053471282956\n",
      "Epoch 36: Test loss 0.3494437276313386\n",
      "Epoch 37: Test loss 0.34759725276334436\n",
      "Epoch 38: Test loss 0.34576589038987116\n",
      "Epoch 39: Test loss 0.3439496046785723\n",
      "Epoch 40: Test loss 0.3421483562188478\n",
      "Epoch 41: Test loss 0.34036210214090834\n",
      "Epoch 42: Test loss 0.3385907962338205\n",
      "Epoch 43: Test loss 0.3368343890626303\n",
      "Epoch 44: Test loss 0.33509282808446195\n",
      "Epoch 45: Test loss 0.3333660577632275\n",
      "Epoch 46: Test loss 0.33165401968323016\n",
      "Epoch 47: Test loss 0.3299566526612161\n",
      "Epoch 48: Test loss 0.3282738928570541\n",
      "Epoch 49: Test loss 0.3266056738827338\n",
      "Epoch 50: Test loss 0.3249519269098232\n",
      "Epoch 51: Test loss 0.3233125807752104\n",
      "Epoch 52: Test loss 0.3216875620850468\n",
      "Epoch 53: Test loss 0.3200767953168689\n",
      "Epoch 54: Test loss 0.31848020291988377\n",
      "Epoch 55: Test loss 0.31689770541334233\n",
      "Epoch 56: Test loss 0.315329221482947\n",
      "Epoch 57: Test loss 0.3137746680752955\n",
      "Epoch 58: Test loss 0.31223396049028873\n",
      "Epoch 59: Test loss 0.31070701247153265\n",
      "Epoch 60: Test loss 0.3091937362946817\n",
      "Epoch 61: Test loss 0.307694042853698\n",
      "Epoch 62: Test loss 0.30620784174508753\n",
      "Epoch 63: Test loss 0.30473504134998003\n",
      "Epoch 64: Test loss 0.3032755489141813\n",
      "Epoch 65: Test loss 0.301829270626072\n",
      "Epoch 66: Test loss 0.3003961116925459\n",
      "Epoch 67: Test loss 0.29897597641269996\n",
      "Epoch 68: Test loss 0.29756876824959283\n",
      "Epoch 69: Test loss 0.2961743898999321\n",
      "Epoch 70: Test loss 0.2947927433616455\n",
      "Epoch 71: Test loss 0.29342372999950717\n",
      "Epoch 72: Test loss 0.2920672506087153\n",
      "Epoch 73: Test loss 0.29072320547651237\n",
      "Epoch 74: Test loss 0.2893914944418102\n",
      "Epoch 75: Test loss 0.28807201695291584\n",
      "Epoch 76: Test loss 0.2867646721233267\n",
      "Epoch 77: Test loss 0.2854693587856738\n",
      "Epoch 78: Test loss 0.2841859755437238\n",
      "Epoch 79: Test loss 0.28291442082270657\n",
      "Epoch 80: Test loss 0.2816545929176658\n",
      "Epoch 81: Test loss 0.2804063900402498\n",
      "Epoch 82: Test loss 0.27916971036357086\n",
      "Epoch 83: Test loss 0.27794445206554147\n",
      "Epoch 84: Test loss 0.2767305133704374\n",
      "Epoch 85: Test loss 0.2755277925888782\n",
      "Epoch 86: Test loss 0.27433618815624006\n",
      "Epoch 87: Test loss 0.27315559866943767\n",
      "Epoch 88: Test loss 0.271985922922265\n",
      "Epoch 89: Test loss 0.270827059939187\n",
      "Epoch 90: Test loss 0.2696789090077303\n",
      "Epoch 91: Test loss 0.2685413697094281\n",
      "Epoch 92: Test loss 0.2674143419493921\n",
      "Epoch 93: Test loss 0.26629772598454415\n",
      "Epoch 94: Test loss 0.2651914224505483\n",
      "Epoch 95: Test loss 0.2640953323874502\n",
      "Epoch 96: Test loss 0.2630093572640835\n",
      "Epoch 97: Test loss 0.261933399001284\n",
      "Epoch 98: Test loss 0.2608673599939406\n",
      "Epoch 99: Test loss 0.2598111431318595\n",
      "63.43391180038452 seconds elapsed.\n"
     ]
    }
   ],
   "source": [
    "x = np.random.normal(0.0, 1.0, (10,))\n",
    "y = np.random.normal(0.0, 1.0, (2,))\n",
    "\n",
    "dnn = DNN(hidden_depth=10, num_neuron=32, num_input=10, num_output=2, activation=sigmoid)\n",
    "\n",
    "t = time.time()\n",
    "for epoch in range(100):\n",
    "    loss = gradient_descent(dnn, x, y, mean_squared_error, 0.01)\n",
    "    print('Epoch {}: Test loss {}'.format(epoch, loss))\n",
    "print('{} seconds elapsed.'.format(time.time() - t))"
   ]
  }
 ],
 "metadata": {
  "kernelspec": {
   "display_name": "Python 3.8.13 ('tf2.0')",
   "language": "python",
   "name": "python3"
  },
  "language_info": {
   "codemirror_mode": {
    "name": "ipython",
    "version": 3
   },
   "file_extension": ".py",
   "mimetype": "text/x-python",
   "name": "python",
   "nbconvert_exporter": "python",
   "pygments_lexer": "ipython3",
   "version": "3.8.13"
  },
  "vscode": {
   "interpreter": {
    "hash": "53f140024254be28d5c1d1662bc9aed8da74d9c4483e5acd283c5779ad7ad5e4"
   }
  }
 },
 "nbformat": 4,
 "nbformat_minor": 2
}
