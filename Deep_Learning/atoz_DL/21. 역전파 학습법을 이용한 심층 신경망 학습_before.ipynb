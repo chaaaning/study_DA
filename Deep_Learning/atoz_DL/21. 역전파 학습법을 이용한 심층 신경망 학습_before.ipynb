{
 "cells": [
  {
   "cell_type": "markdown",
   "metadata": {},
   "source": [
    "## 역전파 학습법을 이용한 심층 신경망 학습"
   ]
  },
  {
   "cell_type": "markdown",
   "metadata": {},
   "source": [
    "## Import modules"
   ]
  },
  {
   "cell_type": "code",
   "execution_count": 1,
   "metadata": {},
   "outputs": [],
   "source": [
    "import time\n",
    "import numpy as np"
   ]
  },
  {
   "cell_type": "markdown",
   "metadata": {},
   "source": [
    "## 유틸리티 함수"
   ]
  },
  {
   "cell_type": "code",
   "execution_count": 2,
   "metadata": {},
   "outputs": [],
   "source": [
    "def _t(x):\n",
    "    return np.transpose(x)\n",
    "\n",
    "def _m(A, B):\n",
    "    return np.matmul(A, B)"
   ]
  },
  {
   "cell_type": "markdown",
   "metadata": {},
   "source": [
    "## Sigmoid 구현"
   ]
  },
  {
   "cell_type": "code",
   "execution_count": 3,
   "metadata": {},
   "outputs": [],
   "source": [
    "class Sigmoid:\n",
    "    def __init__(self):\n",
    "        self.last_o = 1\n",
    "\n",
    "    def __call__(self, x):\n",
    "        self.last_o = 1.0 / (1.0+np.exp(-x))\n",
    "        return self.last_o\n",
    "\n",
    "    def grad(self):\n",
    "        # sigmoid(x)(1-sigmoid(x))\n",
    "        return self.last_o * (1-self.last_o)"
   ]
  },
  {
   "cell_type": "markdown",
   "metadata": {},
   "source": [
    "## Mean Squared Error 구현"
   ]
  },
  {
   "cell_type": "code",
   "execution_count": 4,
   "metadata": {},
   "outputs": [],
   "source": [
    "class MeanSquaredError: # 1/2 * mean((h-y)^2) --> (h-y)\n",
    "    def __init__(self):\n",
    "        self.dh = 1\n",
    "        self.last_diff = 1\n",
    "\n",
    "    def __call__(self, h, y):\n",
    "        self.last_diff = h-y\n",
    "        return 1/2 * np.mean(np.square(self.last_diff))\n",
    "\n",
    "    def grad(self):\n",
    "        return self.last_diff"
   ]
  },
  {
   "cell_type": "markdown",
   "metadata": {},
   "source": [
    "## Dense Layer 구현"
   ]
  },
  {
   "cell_type": "code",
   "execution_count": 16,
   "metadata": {},
   "outputs": [],
   "source": [
    "class Dense:\n",
    "    def __init__(self, W, b, a_obj):\n",
    "        self.W = W\n",
    "        self.b = b\n",
    "        self.a = a_obj()\n",
    "        \n",
    "        self.dW = np.zeros_like(self.W)\n",
    "        self.db = np.zeros_like(self.b)\n",
    "        self.dh = np.zeros_like(_t(self.W))\n",
    "        \n",
    "        self.last_x = np.zeros((self.W.shape[0],))\n",
    "        self.last_x = np.zeros((self.W.shape[1],))\n",
    "\n",
    "    def __call__(self, x):\n",
    "        self.last_x = x\n",
    "        self.last_h = _m(_t(self.W), x) + self.b\n",
    "        return self.a(self.last_h)\n",
    "\n",
    "    def grad(self): # dy/dh = W\n",
    "        return self.W * self.a.grad()\n",
    "\n",
    "    def grad_W(self, dh):\n",
    "        grad = np.ones_like(self.W)\n",
    "        grad_a = self.a.grad()\n",
    "        for j in range(grad.shape[1]): # dy/dw = x\n",
    "            grad[:, j] = dh[j] * grad_a[j] * self.last_x\n",
    "        return grad\n",
    "\n",
    "    def grad_b(self, dh): # dy/db = 1\n",
    "        return dh * self.a.grad()"
   ]
  },
  {
   "cell_type": "markdown",
   "metadata": {},
   "source": [
    "## 심층신경망 구현"
   ]
  },
  {
   "cell_type": "code",
   "execution_count": 17,
   "metadata": {},
   "outputs": [],
   "source": [
    "class DNN:\n",
    "    def __init__(self, hidden_depth, num_neuron, input, output, activation=Sigmoid):\n",
    "        def init_var(i, o):\n",
    "            return np.random.normal(0.0, 0.01, (i, o)), np.zeros((o,))\n",
    "\n",
    "        self.sequence = list()\n",
    "        # First hidden layer\n",
    "        W, b = init_var(input, num_neuron)\n",
    "        self.sequence.append(Dense(W, b, activation))\n",
    "\n",
    "        # Hidden Layers\n",
    "        for index in range(hidden_depth):\n",
    "            W, b = init_var(num_neuron, num_neuron)\n",
    "            self.sequence.append(Dense(W, b, activation))\n",
    "\n",
    "        # Output Layer\n",
    "        W, b = init_var(num_neuron, output)\n",
    "        self.sequence.append(Dense(W, b, activation))\n",
    "\n",
    "    def __call__(self, x):\n",
    "        for layer in self.sequence:\n",
    "            x = layer(x)\n",
    "        return x\n",
    "\n",
    "    def calc_gradient(self, loss_obj):\n",
    "        loss_obj.dh = loss_obj.grad()\n",
    "        self.sequence.append(loss_obj)\n",
    "        \n",
    "        # back-prop loop\n",
    "        for i in range(len(self.sequence)-1 , 0, -1):\n",
    "            l1 = self.sequence[i]\n",
    "            l0 = self.sequence[i - 1]\n",
    "            \n",
    "            l0.dh = _m(l0.grad(), l1.dh)\n",
    "            l0.dw = l0.grad_W(l1.dh)\n",
    "            l0.db = l0.grad_b(l1.dh)\n",
    "        \n",
    "        self.sequence.remove(loss_obj)"
   ]
  },
  {
   "cell_type": "markdown",
   "metadata": {},
   "source": [
    "## 경사하강 학습법"
   ]
  },
  {
   "cell_type": "code",
   "execution_count": 18,
   "metadata": {},
   "outputs": [],
   "source": [
    "def gradient_descent(network, x, y, loss_obj, alpha=0.01):\n",
    "    loss = loss_obj(network(x), y)  # Forward inference\n",
    "    network.calc_gradient(loss_obj)  # Back-propagation\n",
    "    for layer in network.sequence:\n",
    "        layer.W += -alpha * layer.dW\n",
    "        layer.b += -alpha * layer.db\n",
    "    return loss"
   ]
  },
  {
   "cell_type": "markdown",
   "metadata": {},
   "source": [
    "## 동작 테스트"
   ]
  },
  {
   "cell_type": "code",
   "execution_count": 22,
   "metadata": {},
   "outputs": [
    {
     "name": "stdout",
     "output_type": "stream",
     "text": [
      "Epoch 0: Test loss 0.3763912905166872\n",
      "Epoch 1: Test loss 0.3759209081716561\n",
      "Epoch 2: Test loss 0.3754511317419556\n",
      "Epoch 3: Test loss 0.3749819647076637\n",
      "Epoch 4: Test loss 0.37451341051940473\n",
      "Epoch 5: Test loss 0.3740454725982739\n",
      "Epoch 6: Test loss 0.37357815433576386\n",
      "Epoch 7: Test loss 0.3731114590936964\n",
      "Epoch 8: Test loss 0.3726453902041551\n",
      "Epoch 9: Test loss 0.3721799509694229\n",
      "Epoch 10: Test loss 0.3717151446619222\n",
      "Epoch 11: Test loss 0.37125097452415823\n",
      "Epoch 12: Test loss 0.3707874437686645\n",
      "Epoch 13: Test loss 0.3703245555779538\n",
      "Epoch 14: Test loss 0.3698623131044693\n",
      "Epoch 15: Test loss 0.3694007194705414\n",
      "Epoch 16: Test loss 0.36893977776834586\n",
      "Epoch 17: Test loss 0.3684794910598656\n",
      "Epoch 18: Test loss 0.36801986237685624\n",
      "Epoch 19: Test loss 0.3675608947208131\n",
      "Epoch 20: Test loss 0.3671025910629431\n",
      "Epoch 21: Test loss 0.36664495434413746\n",
      "Epoch 22: Test loss 0.36618798747495007\n",
      "Epoch 23: Test loss 0.3657316933355761\n",
      "Epoch 24: Test loss 0.3652760747758357\n",
      "Epoch 25: Test loss 0.364821134615159\n",
      "Epoch 26: Test loss 0.36436687564257564\n",
      "Epoch 27: Test loss 0.36391330061670546\n",
      "Epoch 28: Test loss 0.36346041226575376\n",
      "Epoch 29: Test loss 0.3630082132875075\n",
      "Epoch 30: Test loss 0.36255670634933646\n",
      "Epoch 31: Test loss 0.3621058940881957\n",
      "Epoch 32: Test loss 0.3616557791106314\n",
      "Epoch 33: Test loss 0.361206363992789\n",
      "Epoch 34: Test loss 0.3607576512804249\n",
      "Epoch 35: Test loss 0.36030964348891986\n",
      "Epoch 36: Test loss 0.35986234310329623\n",
      "Epoch 37: Test loss 0.3594157525782369\n",
      "Epoch 38: Test loss 0.35896987433810723\n",
      "Epoch 39: Test loss 0.35852471077698006\n",
      "Epoch 40: Test loss 0.3580802642586626\n",
      "Epoch 41: Test loss 0.35763653711672605\n",
      "Epoch 42: Test loss 0.3571935316545389\n",
      "Epoch 43: Test loss 0.3567512501453006\n",
      "Epoch 44: Test loss 0.3563096948320797\n",
      "Epoch 45: Test loss 0.3558688679278539\n",
      "Epoch 46: Test loss 0.35542877161555175\n",
      "Epoch 47: Test loss 0.35498940804809825\n",
      "Epoch 48: Test loss 0.35455077934846146\n",
      "Epoch 49: Test loss 0.35411288760970244\n",
      "Epoch 50: Test loss 0.3536757348950269\n",
      "Epoch 51: Test loss 0.3532393232378401\n",
      "Epoch 52: Test loss 0.3528036546418027\n",
      "Epoch 53: Test loss 0.3523687310808902\n",
      "Epoch 54: Test loss 0.35193455449945404\n",
      "Epoch 55: Test loss 0.35150112681228435\n",
      "Epoch 56: Test loss 0.35106844990467656\n",
      "Epoch 57: Test loss 0.3506365256324985\n",
      "Epoch 58: Test loss 0.3502053558222599\n",
      "Epoch 59: Test loss 0.3497749422711856\n",
      "Epoch 60: Test loss 0.3493452867472883\n",
      "Epoch 61: Test loss 0.34891639098944593\n",
      "Epoch 62: Test loss 0.34848825670747885\n",
      "Epoch 63: Test loss 0.3480608855822307\n",
      "Epoch 64: Test loss 0.3476342792656504\n",
      "Epoch 65: Test loss 0.34720843938087625\n",
      "Epoch 66: Test loss 0.34678336752232175\n",
      "Epoch 67: Test loss 0.34635906525576426\n",
      "Epoch 68: Test loss 0.34593553411843436\n",
      "Epoch 69: Test loss 0.345512775619107\n",
      "Epoch 70: Test loss 0.34509079123819636\n",
      "Epoch 71: Test loss 0.3446695824278496\n",
      "Epoch 72: Test loss 0.3442491506120451\n",
      "Epoch 73: Test loss 0.3438294971866903\n",
      "Epoch 74: Test loss 0.34341062351972274\n",
      "Epoch 75: Test loss 0.3429925309512116\n",
      "Epoch 76: Test loss 0.34257522079346236\n",
      "Epoch 77: Test loss 0.34215869433112117\n",
      "Epoch 78: Test loss 0.3417429528212823\n",
      "Epoch 79: Test loss 0.3413279974935968\n",
      "Epoch 80: Test loss 0.3409138295503818\n",
      "Epoch 81: Test loss 0.34050045016673336\n",
      "Epoch 82: Test loss 0.34008786049063794\n",
      "Epoch 83: Test loss 0.33967606164308783\n",
      "Epoch 84: Test loss 0.3392650547181967\n",
      "Epoch 85: Test loss 0.3388548407833169\n",
      "Epoch 86: Test loss 0.3384454208791586\n",
      "Epoch 87: Test loss 0.33803679601990816\n",
      "Epoch 88: Test loss 0.3376289671933511\n",
      "Epoch 89: Test loss 0.33722193536099393\n",
      "Epoch 90: Test loss 0.3368157014581877\n",
      "Epoch 91: Test loss 0.33641026639425325\n",
      "Epoch 92: Test loss 0.3360056310526072\n",
      "Epoch 93: Test loss 0.33560179629088954\n",
      "Epoch 94: Test loss 0.3351987629410919\n",
      "Epoch 95: Test loss 0.33479653180968744\n",
      "Epoch 96: Test loss 0.334395103677761\n",
      "Epoch 97: Test loss 0.33399447930114123\n",
      "Epoch 98: Test loss 0.33359465941053307\n",
      "Epoch 99: Test loss 0.33319564471165214\n",
      "53.77992486953735 seconds elapsed.\n"
     ]
    }
   ],
   "source": [
    "x = np.random.normal(0.0, 1.0, (10,))\n",
    "y = np.random.normal(0.0, 1.0, (2,))\n",
    "\n",
    "t = time.time()\n",
    "dnn = DNN(hidden_depth=10000, num_neuron=32, input=10, output=2, activation=Sigmoid)\n",
    "loss_obj = MeanSquaredError()\n",
    "for epoch in range(100):\n",
    "    loss = gradient_descent(dnn, x, y, loss_obj, alpha=0.01)\n",
    "    print('Epoch {}: Test loss {}'.format(epoch, loss))\n",
    "print('{} seconds elapsed.'.format(time.time() - t))"
   ]
  }
 ],
 "metadata": {
  "kernelspec": {
   "display_name": "Python 3.8.13 ('tf2.0')",
   "language": "python",
   "name": "python3"
  },
  "language_info": {
   "codemirror_mode": {
    "name": "ipython",
    "version": 3
   },
   "file_extension": ".py",
   "mimetype": "text/x-python",
   "name": "python",
   "nbconvert_exporter": "python",
   "pygments_lexer": "ipython3",
   "version": "3.8.13"
  },
  "vscode": {
   "interpreter": {
    "hash": "53f140024254be28d5c1d1662bc9aed8da74d9c4483e5acd283c5779ad7ad5e4"
   }
  }
 },
 "nbformat": 4,
 "nbformat_minor": 2
}
