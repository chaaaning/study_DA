{
 "cells": [
  {
   "cell_type": "markdown",
   "metadata": {},
   "source": [
    "# 1.Tokenization"
   ]
  },
  {
   "cell_type": "markdown",
   "metadata": {},
   "source": [
    "## 1.단어 토큰화\n",
    "---\n",
    "\n",
    "- 토큰의 기준을 단어(word)로 하는 경우 단어 토큰화라고 함\n",
    "- 단어(word)는 단어 단위 외에도 단어구, 의미를 갖는 문자열로 간주되기도 함\n",
    "\n",
    "> Time is an illusion. Lunchtime double so! <br>\n",
    "> \"Time\", \"is\", \"an\", \"illusion\", \"Lunchtime\", \"dobule\", \"so\""
   ]
  },
  {
   "cell_type": "markdown",
   "metadata": {},
   "source": [
    "## 2.토큰화 선택\n",
    "---\n",
    "\n",
    "- 토큰화의 기준 : 해당 데이터를 가지고 어떤 용도로 사용할 것인지에 따라서 그 용도에 영향이 없는 기준으로 정함\n",
    "- 예시로 영어권의 아포스트로피(') 가 있음\n",
    "\n",
    "> Don't / Jone's 의 경우 아포스트로피의 처리"
   ]
  },
  {
   "cell_type": "code",
   "execution_count": 1,
   "metadata": {},
   "outputs": [],
   "source": [
    "from nltk.tokenize import word_tokenize\n",
    "from nltk.tokenize import WordPunctTokenizer\n",
    "from tensorflow.keras.preprocessing.text import text_to_word_sequence"
   ]
  },
  {
   "cell_type": "code",
   "execution_count": 2,
   "metadata": {},
   "outputs": [
    {
     "name": "stdout",
     "output_type": "stream",
     "text": [
      "word_tokenize: ['Do', \"n't\", 'be', 'fooled', 'by', 'the', 'dark', 'sounding', 'name', ',', 'Mr.', 'Jone', \"'s\", 'Orphanage', 'is', 'as', 'cheery', 'as', 'cheery', 'goes', 'for', 'a', 'patry', 'shop', '.']\n",
      "\n",
      "WrodPunctTokenzier: ['Don', \"'\", 't', 'be', 'fooled', 'by', 'the', 'dark', 'sounding', 'name', ',', 'Mr', '.', 'Jone', \"'\", 's', 'Orphanage', 'is', 'as', 'cheery', 'as', 'cheery', 'goes', 'for', 'a', 'patry', 'shop', '.']\n",
      "\n",
      "tensorflow_tokenizer: [\"don't\", 'be', 'fooled', 'by', 'the', 'dark', 'sounding', 'name', 'mr', \"jone's\", 'orphanage', 'is', 'as', 'cheery', 'as', 'cheery', 'goes', 'for', 'a', 'patry', 'shop']\n"
     ]
    }
   ],
   "source": [
    "sentence = \"Don't be fooled by the dark sounding name, Mr. Jone's Orphanage is as cheery as cheery goes for a patry shop.\"\n",
    "\n",
    "print(f\"word_tokenize: {word_tokenize(sentence)}\")\n",
    "print()\n",
    "print(f\"WrodPunctTokenzier: {WordPunctTokenizer().tokenize(sentence)}\")\n",
    "print()\n",
    "print(f\"tensorflow_tokenizer: {text_to_word_sequence(sentence)}\")"
   ]
  },
  {
   "cell_type": "markdown",
   "metadata": {},
   "source": [
    "## 3.토큰화에서 고려 사항\n",
    "---\n",
    "\n",
    "1. 구두점이나 특수 문자를 단순 제외해서는 안 됨\n",
    "2. 줄임말과 단어 내에 띄어쓰기가 있는 경우"
   ]
  },
  {
   "cell_type": "code",
   "execution_count": 3,
   "metadata": {},
   "outputs": [
    {
     "name": "stdout",
     "output_type": "stream",
     "text": [
      "Tree Bank Tokenizer:  ['Starting', 'a', 'home-based', 'restaurant', 'may', 'be', 'an', 'ideal.', 'it', 'does', \"n't\", 'have', 'a', 'food', 'chain', 'or', 'restaurant', 'of', 'their', 'own', '.']\n"
     ]
    }
   ],
   "source": [
    "# TreebankWordTokenizing\n",
    "\n",
    "from nltk.tokenize import TreebankWordTokenizer\n",
    "\n",
    "tokenizer = TreebankWordTokenizer()\n",
    "text = \"Starting a home-based restaurant may be an ideal. it doesn't have a food chain or restaurant of their own.\"\n",
    "print('Tree Bank Tokenizer: ', tokenizer.tokenize(text))"
   ]
  },
  {
   "cell_type": "markdown",
   "metadata": {},
   "source": [
    "## 4.문장 토큰화(Sentence Tokenization)\n",
    "---\n",
    "\n",
    "- 토큰의 단위가 문장(sentence)일 경우\n",
    "- 코퍼스 내에서 문장 단위로 구분하는 작업 (문장 분류로도 불림)\n",
    "- 갖고 있는 코퍼스가 정제되지 않은 상태라면, 코퍼스를 문장 단위로 토큰화 할 필요가 있음\n",
    "- 단순히 마침표(.) 단위가 문장의 단위를 구성하지는 않음\n",
    "- 사용하는 코퍼스가 어떤 국적의 언어인지, 해당 코퍼스 내에서 특수문자들이 어떻게 사용되고 있는지에 따라서 직접 규칙들을 정의할 수 있음"
   ]
  },
  {
   "cell_type": "code",
   "execution_count": 4,
   "metadata": {},
   "outputs": [
    {
     "name": "stdout",
     "output_type": "stream",
     "text": [
      "문장 토큰화1 : ['His barber kept his word.', 'But keeping such a huge secret to himself was driving him crazy.', 'Finally, the barber went up a mountain and almost to the edge of a cliff.', 'He dug a hole in the midst of some reeds.', 'He looked about, to make sure no one was near.']\n"
     ]
    }
   ],
   "source": [
    "from nltk.tokenize import sent_tokenize\n",
    "\n",
    "text = \"His barber kept his word. But keeping such a huge secret to himself was driving him crazy. Finally, the barber went up a mountain and almost to the edge of a cliff. He dug a hole in the midst of some reeds. He looked about, to make sure no one was near.\"\n",
    "print('문장 토큰화1 :',sent_tokenize(text))"
   ]
  },
  {
   "cell_type": "code",
   "execution_count": 5,
   "metadata": {},
   "outputs": [
    {
     "name": "stdout",
     "output_type": "stream",
     "text": [
      "문장 토큰화2 : ['I am actively looking for Ph.D. students.', 'and you are a Ph.D student.']\n"
     ]
    }
   ],
   "source": [
    "text = \"I am actively looking for Ph.D. students. and you are a Ph.D student.\"\n",
    "print('문장 토큰화2 :',sent_tokenize(text))"
   ]
  },
  {
   "cell_type": "code",
   "execution_count": 7,
   "metadata": {},
   "outputs": [
    {
     "name": "stderr",
     "output_type": "stream",
     "text": [
      "[Kss]: Because there's no supported C++ morpheme analyzer, Kss will take pecab as a backend. :D\n",
      "For your information, Kss also supports mecab backend.\n",
      "We recommend you to install mecab or konlpy.tag.Mecab for faster execution of Kss.\n",
      "Please refer to following web sites for details:\n",
      "- mecab: https://cleancode-ws.tistory.com/97\n",
      "- konlpy.tag.Mecab: https://uwgdqo.tistory.com/363\n",
      "\n"
     ]
    },
    {
     "name": "stdout",
     "output_type": "stream",
     "text": [
      "한국어 문장 토큰화 : ['딥 러닝 자연어 처리가 재미있기는 합니다.', '그런데 문제는 영어보다 한국어로 할 때 너무 어렵습니다.', '이제 해보면 알걸요?']\n"
     ]
    }
   ],
   "source": [
    "import kss\n",
    "\n",
    "text = '딥 러닝 자연어 처리가 재미있기는 합니다. 그런데 문제는 영어보다 한국어로 할 때 너무 어렵습니다. 이제 해보면 알걸요?'\n",
    "print('한국어 문장 토큰화 :',kss.split_sentences(text))"
   ]
  },
  {
   "cell_type": "markdown",
   "metadata": {},
   "source": [
    "## 5.한국어에서의 토큰화의 어려움\n",
    "---\n",
    "- 한국어는 영어와는 달리 띄어쓰기만으로는 토큰화를 하기에 부족\n",
    "- 한국어는 '어절' NLP에서 어절 토큰화가 지양되고 있음 (어절 토큰화와 단어 토큰화가 같지 않기에)\n",
    "- 한국어는 교착어(조사, 어미등을 붙여서 말을 만드는 언어)이기 때문\n",
    "\n",
    "### 5-1.교착어의 특성\n",
    "- 서로 다른 조사가 붙어서 다른 단어로 인식이 되면 처리가 힘들고 번거로움\n",
    "- 한국어에서의 조사는 분리해 줄 필요가 있음\n",
    "- 한국어 토큰화에서는 **형태소(morpheme)**란 개념을 이해해야 함\n",
    "- 형태소란 `뜻을 가진 가장 작은 말의 단위`를 말함\n",
    "- 형태소는 2가지의 종류가 있음\n",
    "    - `자립 형태소`: 접사, 어미, 조사와 상관없이 자립하여 사용할 수 있는 형태소로 그 자체로 단어가 됨\n",
    "        - 체언 : 명사, 대명사, 수사\n",
    "        - 수식언 : 관형사, 부사\n",
    "        - 감탄사\n",
    "    - `의존 형태소`: 다른 형태소와 결합하여 사용되는 형태소\n",
    "        - 접사, 어미, 조사, 어간\n",
    "    - 예시) '에디가 책을 읽었다'\n",
    "        - 자립 형태소 : 에디, 책\n",
    "        - 의존 : -가, -을, 읽-, -었, -다\n",
    "- 한국어에서 영어에서의 단어 토큰화와 유사한 형태를 얻으려면 어절 토큰화가 아닌 형태소 토큰화가 수행되어야 함\n",
    "\n",
    "### 5-2.잘 지켜지지 않는 띄어쓰기\n",
    "- 한국어는 많은 경우에 있어서 띄어쓰기가 <span style=\"color:red\">틀렸거나 지켜지지 않는</span> 코퍼스가 많음\n",
    "- 이는 한국어는 띄어쓰기가 정확히 지켜지지 않더라도 글을 쉽게 이해할 수 있는 언어이기 때문\n",
    "\n",
    "\n",
    "## 6.품사 태깅(Part-of-speech tagging)\n",
    "---\n",
    "- 단어 표기는 같지만 품사에 따라서 단어 의미가 달라지기도 함\n",
    "- 단어 의미를 제대로 파악하기 위해서는 해당 단어가 어떤 품사로 쓰였는지 보는 것이 주요 지표가 될 수 있음\n",
    "- 단어 토큰화 과정에서 각 단어가 어떤 품사로 쓰였는지를 구분해놓기도 하는데, 이작업을 품사 태깅이라고 함"
   ]
  },
  {
   "cell_type": "markdown",
   "metadata": {},
   "source": [
    "## 7.NLTK와 KoNLPy를 이용한 영어, 한국어 토큰화"
   ]
  },
  {
   "cell_type": "code",
   "execution_count": 8,
   "metadata": {},
   "outputs": [
    {
     "name": "stdout",
     "output_type": "stream",
     "text": [
      "단어 토큰화: ['I', 'am', 'actively', 'looking', 'for', 'Ph.D.', 'students', '.', 'and', 'you', 'are', 'a', 'Ph.D.', 'student', '.']\n",
      "품사 태깅: [('I', 'PRP'), ('am', 'VBP'), ('actively', 'RB'), ('looking', 'VBG'), ('for', 'IN'), ('Ph.D.', 'NNP'), ('students', 'NNS'), ('.', '.'), ('and', 'CC'), ('you', 'PRP'), ('are', 'VBP'), ('a', 'DT'), ('Ph.D.', 'NNP'), ('student', 'NN'), ('.', '.')]\n"
     ]
    }
   ],
   "source": [
    "from nltk.tokenize import word_tokenize\n",
    "from nltk.tag import pos_tag\n",
    "\n",
    "text = \"I am actively looking for Ph.D. students. and you are a Ph.D. student.\"\n",
    "tokenized_sentence = word_tokenize(text)\n",
    "\n",
    "print(f'단어 토큰화: {tokenized_sentence}')\n",
    "print(f\"품사 태깅: {pos_tag(tokenized_sentence)}\")"
   ]
  },
  {
   "cell_type": "markdown",
   "metadata": {},
   "source": [
    "<details>\n",
    "<summary>`Penn Treebank Pog Tags`에서 각 태그의 의미는 다음을 참조</summary>\n",
    "<div markdown=\"1\">\n",
    "\n",
    "|순서|품사 태그|설명|예시|NLTK|\n",
    "|---|-------|---|---|---|\n",
    "|1|CC|coordinating conjunction|and|O|\n",
    "|2|CD|cardinal number|1, third|O|\n",
    "|3|DT|determiner|the|O|\n",
    "|4|EX|existential there|there is|O|\n",
    "|5|FW|foreign word|les|O|\n",
    "|6|IN|preposition, subordinating conjunction|in, of, like|O|\n",
    "|7|IN/that|that as subordinator|that||\n",
    "|8|JJ|adjective|green|O|\n",
    "|9|JJR|adjective, comparative|greener|O|\n",
    "|10|JJS|adjective, superlative|greenest|O|\n",
    "|11|LS|list marker|1)|O|\n",
    "|12|MD|modal|could, will|O|\n",
    "|13|NN|noun, singular or mass|table|O|\n",
    "|14|NNS|noun plural|tables|O|\n",
    "|15|NP|proper noun, singular|John|O|\n",
    "|16|NPS|proper noun, plural|Vikings|O|\n",
    "|17|PDT|predeterminer|both the boys|O|\n",
    "|18|POS|possessive ending|friend’s|O|\n",
    "|19|PP|personal pronoun|I, he, it|O|\n",
    "|20|PP$|possessive pronoun|my, his|O|\n",
    "|21|RB|adverb|however, usually, naturally, here, good|O|\n",
    "|22|RBR|adverb, comparative|better|O|\n",
    "|23|RBS|adverb, superlative|best|O|\n",
    "|24|RP|particle|give up|O|\n",
    "|25|SENT|Sentence-break punctuation|. ! ?||\n",
    "|26|SYM|Symbol|/ [ = *||\n",
    "|27|TO|infinitive ‘to’|togo|O|\n",
    "|28|UH|interjection|uhhuhhuhh|O|\n",
    "|29|VB|verb be, base form|be|O|\n",
    "|30|VBD|verb be, past tense|was, were|O|\n",
    "|31|VBG|verb be, gerund/present participle|being|O|\n",
    "|32|VBN|verb be, past participle|been|O|\n",
    "|33|VBP|verb be, sing. present, non-3d|am, are|O|\n",
    "|34|VBZ|verb be, 3rd person sing. present|is|O|\n",
    "|35|VH|verb have, base form|have||\n",
    "|36|VHD|verb have, past tense|had||\n",
    "|37|VHG|verb have, gerund/present participle|having||\n",
    "|38|VHN|verb have, past participle|had||\n",
    "|39|VHP|verb have, sing. present, non-3d|have||\n",
    "|40|VHZ|verb have, 3rd person sing. present|has||\n",
    "|41|VV|verb, base form|take||\n",
    "|42|VVD|verb, past tense|took||\n",
    "|43|VVG|verb, gerund/present participle|taking||\n",
    "|44|VVN|verb, past participle|taken||\n",
    "|45|VVP|verb, sing. present, non-3d|take||\n",
    "|46|VVZ|verb, 3rd person sing. present|takes||\n",
    "|47|WDT|wh-determiner|which|O|\n",
    "|48|WP|wh-pronoun|who, what|O|\n",
    "|49|WP$|possessive wh-pronoun|whose|O|\n",
    "|50|WRB|wh-abverb|where, when|O|\n",
    "|51|#|#|#||\n",
    "|52|$|$|$||\n",
    "|53|“|Quotation marks|‘ “||\n",
    "|54|```` | Opening quotation marks | ‘ “ | |||||\n",
    "|55|(|Opening brackets|( {||\n",
    "|56|)|Closing brackets|) }||\n",
    "|57|,|Comma|,||\n",
    "|58|:|Punctuation|– ; : — …|\n",
    "</div>\n",
    "</details>\n",
    "\n",
    "- 한국어 처리를 위해서는 몇 가지 형태소 분석기가 존재\n",
    "    - Okt(Open Korea Text)\n",
    "    - Mecab\n",
    "    - Komoran\n",
    "    - Hannanum\n",
    "- 한국어 NLP에서 형태소 분석기를 사용하여 단어 토큰화(형태소 토큰화)를 수행"
   ]
  },
  {
   "cell_type": "code",
   "execution_count": 9,
   "metadata": {},
   "outputs": [
    {
     "name": "stdout",
     "output_type": "stream",
     "text": [
      "OKT 형태소 분석 : ['열심히', '코딩', '한', '당신', ',', '연휴', '에는', '여행', '을', '가봐요']\n",
      "OKT 품사 태깅 : [('열심히', 'Adverb'), ('코딩', 'Noun'), ('한', 'Josa'), ('당신', 'Noun'), (',', 'Punctuation'), ('연휴', 'Noun'), ('에는', 'Josa'), ('여행', 'Noun'), ('을', 'Josa'), ('가봐요', 'Verb')]\n",
      "OKT 명사 추출 : ['코딩', '당신', '연휴', '여행']\n"
     ]
    }
   ],
   "source": [
    "from konlpy.tag import Okt\n",
    "from konlpy.tag import Kkma\n",
    "\n",
    "okt = Okt()\n",
    "kkma = Kkma()\n",
    "\n",
    "print('OKT 형태소 분석 :',okt.morphs(\"열심히 코딩한 당신, 연휴에는 여행을 가봐요\"))\n",
    "print('OKT 품사 태깅 :',okt.pos(\"열심히 코딩한 당신, 연휴에는 여행을 가봐요\"))\n",
    "print('OKT 명사 추출 :',okt.nouns(\"열심히 코딩한 당신, 연휴에는 여행을 가봐요\")) "
   ]
  },
  {
   "cell_type": "markdown",
   "metadata": {},
   "source": [
    "# 2.정제(Cleaning)와 정규화(Normalization)\n",
    "---\n",
    "- 토큰화: 코퍼스에서 용도에 맞게 토큰을 분류하는 작업\n",
    "- 토큰화 작업 전, 후에는 텍스트 데이터를 용도에 맞게 정제및 정규화하는 일을 수행\n",
    "    - 정제(Cleaning): 갖고 있는 코퍼스로부터 노이즈 데이터를 제거\n",
    "    - 정규화(Normalization): 표현 방법이 다른 단어들을 통합시켜서 같은 단어로 만듦\n",
    "- 토큰화 작업 이후에 남은 노이즈 제거를 위해 이루어짐\n",
    "- 완벽한 정제는 어렵기에 합의점을 찾아서 마무리\n",
    "\n",
    "## 1.규칙 기반 표기가 다른 단어 통합\n",
    "---\n",
    "- 필요에 따라 직접 `코딩을 통해 정의할 수 있는 정규화 규칙의 예`로서 `같은 의미를 갖고 있음에도 표기가 다른 단어들`을 하나의 단어로 정규화하는 방법\n",
    "- 표기가 다른 단어들을 통합하는 방법인 어간 추출(stemming)과 표제어 추출(lemmatization)이 있음\n",
    "\n",
    "## 2.대/소문자 통합(SKIP)\n",
    "\n",
    "## 3.불필요한 단어 제거\n",
    "---\n",
    "- 제거해야 하는 노이즈 데이터는 자연어가 아니면서 아무 의미도 갖지 않는 글자들(특수 문자 등)을 의미\n",
    "- 또한, 분석하고자 하는 목적에 맞지 않는 불필요 단어들을 노이즈 데이터라고 함\n",
    "- `불용어 제거`, `등장 빈도가 적은 단어`, `길이가 짧은 단어`를 제거\n",
    "\n",
    "### 3-1.등장 빈도가 적은 단어\n",
    "- 너무 적게 등장해서 자연어 처리에 도움이 되지 않는 단어 존재\n",
    "\n",
    "### 3-2. 길이가 짧은 단어\n",
    "- 영어권 언어에서 길이가 짧은 단어를 삭제하는 것만으로도 자연어 처리에서 크게 의미 없는 단어들을 제거하는 효과가 있음\n",
    "- 한국어는 유의하지 않을 가능성이 높은데, 한국어 단어의 평균 길이는 2~3 정도로 추정"
   ]
  },
  {
   "cell_type": "code",
   "execution_count": 10,
   "metadata": {},
   "outputs": [
    {
     "name": "stdout",
     "output_type": "stream",
     "text": [
      " was wondering anyone out there could enlighten this car\n"
     ]
    }
   ],
   "source": [
    "import re\n",
    "\n",
    "text = \"I was wondering if anyone out there could enlighten me on this car\"\n",
    "\n",
    "# 길이가 1~2인 단어들을 정규 표현식을 이용하여 삭제\n",
    "shortword = re.compile(r'\\W*\\b\\w{1,2}\\b')\n",
    "print(shortword.sub('',text))"
   ]
  },
  {
   "cell_type": "markdown",
   "metadata": {},
   "source": [
    "# 3.어간 추출(Stemming) 과 표제어 추출(Lemmatization)\n",
    "---\n",
    "- 정규화 기법 중 단어의 개수를 줄일 수 있는 기법 `표제어 추출(Lemmatization)`과 `어간 추출(stemming)`\n",
    "- 눈으로 봤을 때는 서로 다른 단어들이지만, 하나의 단어로 일반화하여 단어 수를 줄임\n",
    "- 이러한 방법들은 단어의 빈도수를 기반으로 문제를 풀고자 하는 `BoW(Bag of Words)`표현을 사용하는 자연어 처리 문제에서 사용됨\n",
    "- 자연어 처리에서 정규화의 지향점은 언제나 갖고 잇는 코퍼스로부터 복잡성을 줄이는 것\n",
    "\n",
    "## 1.표제어 추출(Lemmatization)\n",
    "---\n",
    "- 표제어 : 기본 사전형 단어\n",
    "- 뿌리 단어를 찾아서 단어의 개수를 줄일 수 있는지 판단\n",
    "- 예) am, are, is 의 뿌리 단어는 be 이때 표제어는 be\n",
    "- 표제어 추출을 하는 가장 섬세한 방법은 단어의 형태학적 파싱을 진행\n",
    "- 형태소 : 의미를 가진 가장 작은 단위\n",
    "- 형태학 : 형태소로부터 단어들을 만들어가는 학문\n",
    "- 형태소의 종류로 어간(stem)과 접사(affix)가 존재\n",
    "    > **어간(stem)** : 단어의 의미를 담고 있는 단어의 핵심부분 <br>\n",
    "    > **접사(affix)** : 단어의 추가적인 의미를 주는 부분\n",
    "- 형태학적 파싱은 `이 두가지 구성 요소를 분리하는 작업`"
   ]
  },
  {
   "cell_type": "code",
   "execution_count": 11,
   "metadata": {},
   "outputs": [
    {
     "name": "stdout",
     "output_type": "stream",
     "text": [
      "표제어 추출 전:  ['policy', 'doing', 'organization', 'have', 'going', 'love', 'lives', 'fly', 'dies', 'watched', 'has', 'starting']\n",
      "표제어 추출 후:  ['policy', 'doing', 'organization', 'have', 'going', 'love', 'life', 'fly', 'dy', 'watched', 'ha', 'starting']\n"
     ]
    }
   ],
   "source": [
    "from nltk.stem import WordNetLemmatizer\n",
    "\n",
    "lemmatizer = WordNetLemmatizer()\n",
    "words = [\n",
    "            'policy', 'doing', 'organization', 'have', 'going', 'love',\n",
    "            'lives', 'fly', 'dies', 'watched', 'has', 'starting'\n",
    "        ]\n",
    "print('표제어 추출 전: ', words)\n",
    "print('표제어 추출 후: ', [lemmatizer.lemmatize(word) for word in words])"
   ]
  },
  {
   "cell_type": "code",
   "execution_count": 12,
   "metadata": {},
   "outputs": [
    {
     "name": "stdout",
     "output_type": "stream",
     "text": [
      "die\n",
      "watch\n",
      "have\n"
     ]
    }
   ],
   "source": [
    "# 의미가 불분명한 단어들\n",
    "\n",
    "print(lemmatizer.lemmatize('dies', 'v'))\n",
    "print(lemmatizer.lemmatize('watched', 'v'))\n",
    "print(lemmatizer.lemmatize('has', 'v'))"
   ]
  },
  {
   "cell_type": "markdown",
   "metadata": {},
   "source": [
    "## 2.어간추출(Stemming)\n",
    "---\n",
    "- 형태학적 분석을 단순화한 버전\n",
    "- 정해진 규칙만 보고 단어의 어미를 자르는 어림짐작의 작업\n",
    "- 섬세한 작업은 아니므로 어간추출 후 나오는 결과 단어는 사전에 존재하지 않는 단어일 수도 있음"
   ]
  },
  {
   "cell_type": "code",
   "execution_count": 13,
   "metadata": {},
   "outputs": [
    {
     "name": "stdout",
     "output_type": "stream",
     "text": [
      "어간 추출 전: ['This', 'was', 'not', 'the', 'map', 'we', 'found', 'in', 'Billy', 'Bones', \"'s\", 'chest', ',', 'but', 'an', 'accurate', 'copy', ',', 'complete', 'in', 'all', 'things', '--', 'names', 'and', 'heights', 'and', 'soundings', '--', 'with', 'the', 'single', 'exception', 'of', 'the', 'red', 'crosses', 'and', 'the', 'written', 'notes', '.']\n",
      "\n",
      "porter 어간 추출 후: ['thi', 'wa', 'not', 'the', 'map', 'we', 'found', 'in', 'billi', 'bone', \"'s\", 'chest', ',', 'but', 'an', 'accur', 'copi', ',', 'complet', 'in', 'all', 'thing', '--', 'name', 'and', 'height', 'and', 'sound', '--', 'with', 'the', 'singl', 'except', 'of', 'the', 'red', 'cross', 'and', 'the', 'written', 'note', '.']\n",
      "\n",
      "lancaster 어간 추출 후: ['thi', 'was', 'not', 'the', 'map', 'we', 'found', 'in', 'bil', 'bon', \"'s\", 'chest', ',', 'but', 'an', 'acc', 'cop', ',', 'complet', 'in', 'al', 'thing', '--', 'nam', 'and', 'height', 'and', 'sound', '--', 'with', 'the', 'singl', 'exceiv', 'of', 'the', 'red', 'cross', 'and', 'the', 'writ', 'not', '.']\n"
     ]
    }
   ],
   "source": [
    "from nltk.stem import PorterStemmer\n",
    "from nltk.stem import LancasterStemmer\n",
    "from nltk.tokenize import word_tokenize\n",
    "\n",
    "porter_stemmer = PorterStemmer()\n",
    "lancaster_stemmer = LancasterStemmer()\n",
    "\n",
    "sentence=\"This was not the map we found in Billy Bones's chest, but an accurate copy, complete in all things--names and heights and soundings--with the single exception of the red crosses and the written notes.\"\n",
    "tokenized_sentence = word_tokenize(sentence)\n",
    "\n",
    "print('어간 추출 전:', tokenized_sentence)\n",
    "print()\n",
    "print('porter 어간 추출 후:', [porter_stemmer.stem(word) for word in tokenized_sentence])\n",
    "print()\n",
    "print('lancaster 어간 추출 후:', [lancaster_stemmer.stem(word) for word in tokenized_sentence])"
   ]
  },
  {
   "cell_type": "markdown",
   "metadata": {},
   "source": [
    "## 3.한국어에서의 어간 추출\n",
    "---\n",
    "- 한국어는 5언 9품사의 구조를 가지고 있음\n",
    "    |언|품사|\n",
    "    |--|--|\n",
    "    |체언|명사, 대명사, 수사|\n",
    "    |수식언|관형사, 부사|\n",
    "    |관계언|조사|\n",
    "    |독립언|감탄사|\n",
    "    |용언|동사, 형용사|\n",
    "\n",
    "- 용언에 해당되는 '동사'와 '형용사'는 어간(stem)과 어미(ending)의 결합으로 구성\n",
    "\n",
    "### 3-1.활용(Conjugation)\n",
    "- 용언의 어간이 어미를 갖는 것을 활용이라고 함\n",
    "- 어간 : 용언을 활용할 때, 원칙적으로 모양이 변하지 않는 부분. 활용에서 어미에 선행하는 부분. 때론 어간의 모양이 바뀔 수 있음 (긋다, 긋고, 그어서, 그어라)\n",
    "- 어미 : 용언의 어간 뒤에 붙어서 활용하면서 변하는 부분, 여러 문법적 기능을 수행\n",
    "- 활용은 어간이 어미를 취할 때, 어간의 모습이 일정하다면 규칙 활용, 어간이나 어미의 모습이 변하는 불규칙 활용으로 나뉨\n",
    "\n",
    "### 3-2.규칙 활용\n",
    "- 어간이 어미를 취할 때, 어간의 모습이 일정함\n",
    "    > 잡(어간) + 다(어미) = 잡다\n",
    "- 단순히 분리만 해주면 쉽게 어간 추출 가능\n",
    "\n",
    "### 3-3.불규칙 활용\n",
    "- 어간이 어미를 취할 때 어간의 모습이 바뀌거나 취하는 어미가 특수한 어미일 경우\n",
    "    >  ‘듣-, 돕-, 곱-, 잇-, 오르-, 노랗-’ <br>\n",
    "    > ‘듣/들-, 돕/도우-, 곱/고우-, 잇/이-, 올/올-, 노랗/노라-’\n",
    "- 이러한 경우에는 어간+어미의 과정에서 모습이 바뀌었으므로 단순히 분리만으로 어간추출이 되지 않고 좀 더 복잡한 규칙을 필요로 함"
   ]
  },
  {
   "cell_type": "markdown",
   "metadata": {},
   "source": [
    "## 4.불용어(Stopword)\n",
    "---\n",
    "- 자주 등장하지만 분석을 하는 것에 있어서는 큰 도움이 되지 않는 단어들\n",
    "- 개발자가 불용어를 직접 정의할 수 있음"
   ]
  },
  {
   "cell_type": "code",
   "execution_count": 14,
   "metadata": {},
   "outputs": [
    {
     "name": "stdout",
     "output_type": "stream",
     "text": [
      "불용어 개수:  179\n",
      "10개만 출력:  ['i', 'me', 'my', 'myself', 'we', 'our', 'ours', 'ourselves', 'you', \"you're\"]\n"
     ]
    }
   ],
   "source": [
    "from nltk.corpus import stopwords\n",
    "from nltk.tokenize import word_tokenize\n",
    "from konlpy.tag import Okt\n",
    "\n",
    "stop_words_list = stopwords.words('english')\n",
    "print('불용어 개수: ', len(stop_words_list))\n",
    "print('10개만 출력: ', stop_words_list[:10])"
   ]
  },
  {
   "cell_type": "code",
   "execution_count": 15,
   "metadata": {},
   "outputs": [
    {
     "name": "stdout",
     "output_type": "stream",
     "text": [
      "Before Stopwords:  ['Family', 'is', 'not', 'an', 'important', 'thing', '.', 'It', \"'s\", 'everything', '.']\n",
      "After Stopwords:  ['Family', 'important', 'thing', '.', 'It', \"'s\", 'everything', '.']\n"
     ]
    }
   ],
   "source": [
    "example = \"Family is not an important thing. It's everything.\"\n",
    "stop_words = set(stopwords.words('english'))\n",
    "\n",
    "word_tokens = word_tokenize(example)\n",
    "\n",
    "result=[]\n",
    "for word in word_tokens: \n",
    "    if word not in stop_words: \n",
    "        result.append(word)\n",
    "        \n",
    "print('Before Stopwords: ', word_tokens)\n",
    "print('After Stopwords: ', result)"
   ]
  },
  {
   "cell_type": "code",
   "execution_count": 16,
   "metadata": {},
   "outputs": [
    {
     "name": "stdout",
     "output_type": "stream",
     "text": [
      "불용어 제거 전 : ['고기', '를', '아무렇게나', '구', '우려', '고', '하면', '안', '돼', '.', '고기', '라고', '다', '같은', '게', '아니거든', '.', '예컨대', '삼겹살', '을', '구울', '때', '는', '중요한', '게', '있지', '.']\n",
      "불용어 제거 후 : ['고기', '하면', '.', '고기', '라고', '다', '아니거든', '.', '예컨대', '삼겹살', '을', '중요한', '있지', '.']\n"
     ]
    }
   ],
   "source": [
    "okt = Okt()\n",
    "example = \"고기를 아무렇게나 구우려고 하면 안 돼. 고기라고 다 같은 게 아니거든. 예컨대 삼겹살을 구울 때는 중요한 게 있지.\"\n",
    "stop_words = set(\"를 아무렇게나 구 우려 고 안 돼 같은 게 구울 때 는\".split(\" \"))\n",
    "word_tokens = okt.morphs(example)\n",
    "\n",
    "result = [word for word in word_tokens if not word in stop_words]\n",
    "\n",
    "print('불용어 제거 전 :',word_tokens) \n",
    "print('불용어 제거 후 :',result)"
   ]
  },
  {
   "cell_type": "markdown",
   "metadata": {},
   "source": [
    "## 5.정규표현식 (생략)\n",
    "\n",
    "[링크](\"https://wikidocs.net/21703\")를 통해 필요할 때 확인"
   ]
  },
  {
   "cell_type": "markdown",
   "metadata": {},
   "source": [
    "## 6.정수 인코딩(Integer Encoding)\n",
    "---\n",
    "- 컴퓨터는 텍스트보다 숫자를 더 잘 처리할 수 있음\n",
    "- 따라서 텍스트를 숫자로 바꾸는 기법을 적용\n",
    "- 그 첫 단계로 각 단어를 고유한 정수에 매핑시키는 전처리 작업이 필요할 때가 있음\n",
    "- 텍스트에 인덱스를 부여하는 방법은 여러가지가 있지만, 보통 단어 등장 빈도수를 기준으로 정렬한 뒤에 부여\n",
    "\n",
    "### 1.정수 인코딩\n",
    "---\n",
    "- 단어를 빈도수 순으로 정렬한 단어 집합(vocabulary)을 만듦\n",
    "- 빈도수가 높은 순서대로 차례대로 낮은 숫자부터 정수를 부여하는 방법"
   ]
  },
  {
   "cell_type": "code",
   "execution_count": 17,
   "metadata": {},
   "outputs": [
    {
     "name": "stdout",
     "output_type": "stream",
     "text": [
      "['A barber is a person.', 'a barber is good person.', 'a barber is huge person.', 'he Knew A Secret!', 'The Secret He Kept is huge secret.', 'Huge secret.', 'His barber kept his word.', 'a barber kept his word.', 'His barber kept his secret.', 'But keeping and keeping such a huge secret to himself was driving the barber crazy.', 'the barber went up a huge mountain.']\n",
      "\n",
      "[['barber', 'person'], ['barber', 'good', 'person'], ['barber', 'huge', 'person'], ['knew', 'secret'], ['secret', 'kept', 'huge', 'secret'], ['huge', 'secret'], ['barber', 'kept', 'word'], ['barber', 'kept', 'word'], ['barber', 'kept', 'secret'], ['keeping', 'keeping', 'huge', 'secret', 'driving', 'barber', 'crazy'], ['barber', 'went', 'huge', 'mountain']]\n"
     ]
    }
   ],
   "source": [
    "# dictionary 사용\n",
    "\n",
    "from nltk.tokenize import sent_tokenize, word_tokenize\n",
    "from nltk.corpus import stopwords\n",
    "\n",
    "raw_text = \"A barber is a person. a barber is good person. a barber is huge person. he Knew A Secret! The Secret He Kept is huge secret. Huge secret. His barber kept his word. a barber kept his word. His barber kept his secret. But keeping and keeping such a huge secret to himself was driving the barber crazy. the barber went up a huge mountain.\"\n",
    "\n",
    "# 문장 토큰화\n",
    "sentences = sent_tokenize(raw_text)\n",
    "print(sentences)\n",
    "print()\n",
    "\n",
    "# voacb\n",
    "\n",
    "vocab = {}\n",
    "preprocessed_sentences = []\n",
    "stop_words = set(stopwords.words('english'))\n",
    "\n",
    "for sentence in sentences:\n",
    "    # 단어 토큰화\n",
    "    tokenized_sentence = word_tokenize(sentence)\n",
    "    result = []\n",
    "    \n",
    "    for word in tokenized_sentence:\n",
    "        word = word.lower()         # 소문자\n",
    "        if word not in stop_words:\n",
    "            if len(word) > 2:\n",
    "                result.append(word)\n",
    "                if word not in vocab:\n",
    "                    vocab[word] = 0\n",
    "                vocab[word]+=1\n",
    "    preprocessed_sentences.append(result)\n",
    "print(preprocessed_sentences)"
   ]
  },
  {
   "cell_type": "code",
   "execution_count": 18,
   "metadata": {},
   "outputs": [
    {
     "name": "stdout",
     "output_type": "stream",
     "text": [
      "{'barber': 8, 'person': 3, 'good': 1, 'huge': 5, 'knew': 1, 'secret': 6, 'kept': 4, 'word': 2, 'keeping': 2, 'driving': 1, 'crazy': 1, 'went': 1, 'mountain': 1}\n"
     ]
    }
   ],
   "source": [
    "print(vocab)"
   ]
  },
  {
   "cell_type": "code",
   "execution_count": 19,
   "metadata": {},
   "outputs": [
    {
     "name": "stdout",
     "output_type": "stream",
     "text": [
      "[('barber', 8), ('secret', 6), ('huge', 5), ('kept', 4), ('person', 3), ('word', 2), ('keeping', 2), ('good', 1), ('knew', 1), ('driving', 1), ('crazy', 1), ('went', 1), ('mountain', 1)]\n"
     ]
    }
   ],
   "source": [
    "vocab_sorted = sorted(vocab.items(), key=lambda x:x[1], reverse=True)\n",
    "print(vocab_sorted)"
   ]
  },
  {
   "cell_type": "code",
   "execution_count": 20,
   "metadata": {},
   "outputs": [
    {
     "name": "stdout",
     "output_type": "stream",
     "text": [
      "{'barber': 1, 'secret': 2, 'huge': 3, 'kept': 4, 'person': 5, 'word': 6, 'keeping': 7}\n"
     ]
    }
   ],
   "source": [
    "word_to_index={}\n",
    "i = 0\n",
    "for word, freq in vocab_sorted:\n",
    "    if freq > 1:\n",
    "        i = i+1\n",
    "        word_to_index[word] = i\n",
    "\n",
    "print(word_to_index)"
   ]
  },
  {
   "cell_type": "code",
   "execution_count": 21,
   "metadata": {},
   "outputs": [
    {
     "name": "stdout",
     "output_type": "stream",
     "text": [
      "{'barber': 1, 'secret': 2, 'huge': 3, 'kept': 4, 'person': 5, 'word': 6, 'keeping': 7, 'OOV': 8}\n"
     ]
    }
   ],
   "source": [
    "\"\"\"\n",
    "    Out-of-Vocabulary\n",
    "    : 단어 집합에 없는 단어\n",
    "\"\"\"\n",
    "\n",
    "word_to_index['OOV'] = len(word_to_index)+1\n",
    "print(word_to_index)"
   ]
  },
  {
   "cell_type": "code",
   "execution_count": 22,
   "metadata": {},
   "outputs": [
    {
     "data": {
      "text/plain": [
       "[['barber', 'person'],\n",
       " ['barber', 'good', 'person'],\n",
       " ['barber', 'huge', 'person'],\n",
       " ['knew', 'secret'],\n",
       " ['secret', 'kept', 'huge', 'secret'],\n",
       " ['huge', 'secret'],\n",
       " ['barber', 'kept', 'word'],\n",
       " ['barber', 'kept', 'word'],\n",
       " ['barber', 'kept', 'secret'],\n",
       " ['keeping', 'keeping', 'huge', 'secret', 'driving', 'barber', 'crazy'],\n",
       " ['barber', 'went', 'huge', 'mountain']]"
      ]
     },
     "execution_count": 22,
     "metadata": {},
     "output_type": "execute_result"
    }
   ],
   "source": [
    "preprocessed_sentences"
   ]
  },
  {
   "cell_type": "code",
   "execution_count": 23,
   "metadata": {},
   "outputs": [
    {
     "name": "stdout",
     "output_type": "stream",
     "text": [
      "[[1, 5], [1, 8, 5], [1, 3, 5], [8, 2], [2, 4, 3, 2], [3, 2], [1, 4, 6], [1, 4, 6], [1, 4, 2], [7, 7, 3, 2, 8, 1, 8], [1, 8, 3, 8]]\n"
     ]
    }
   ],
   "source": [
    "encoded_senteces = []\n",
    "for sentence in preprocessed_sentences:\n",
    "    encoded_sentece = []\n",
    "    for word in sentence:\n",
    "        try:\n",
    "            encoded_sentece.append(word_to_index[word])\n",
    "        except KeyError:\n",
    "            encoded_sentece.append(word_to_index['OOV'])    # why?\n",
    "    encoded_senteces.append(encoded_sentece)\n",
    "print(encoded_senteces)"
   ]
  },
  {
   "cell_type": "markdown",
   "metadata": {},
   "source": [
    "- 통상적으로 사용하는 정수 인코딩 라이브러리\n",
    "    - `Counter`\n",
    "    - `FreqDist`\n",
    "    - `enumerate`\n",
    "    - `keras tokenizer`"
   ]
  },
  {
   "cell_type": "code",
   "execution_count": 24,
   "metadata": {},
   "outputs": [
    {
     "name": "stdout",
     "output_type": "stream",
     "text": [
      "['barber', 'person', 'barber', 'good', 'person', 'barber', 'huge', 'person', 'knew', 'secret', 'secret', 'kept', 'huge', 'secret', 'huge', 'secret', 'barber', 'kept', 'word', 'barber', 'kept', 'word', 'barber', 'kept', 'secret', 'keeping', 'keeping', 'huge', 'secret', 'driving', 'barber', 'crazy', 'barber', 'went', 'huge', 'mountain']\n"
     ]
    }
   ],
   "source": [
    "## Counter 활용\n",
    "\n",
    "from collections import Counter\n",
    "\n",
    "all_words_list = sum(preprocessed_sentences, [])\n",
    "print(all_words_list)"
   ]
  },
  {
   "cell_type": "code",
   "execution_count": 25,
   "metadata": {},
   "outputs": [
    {
     "name": "stdout",
     "output_type": "stream",
     "text": [
      "Counter({'barber': 8, 'secret': 6, 'huge': 5, 'kept': 4, 'person': 3, 'word': 2, 'keeping': 2, 'good': 1, 'knew': 1, 'driving': 1, 'crazy': 1, 'went': 1, 'mountain': 1})\n"
     ]
    }
   ],
   "source": [
    "vocab = Counter(all_words_list)\n",
    "print(vocab)"
   ]
  },
  {
   "cell_type": "code",
   "execution_count": 26,
   "metadata": {},
   "outputs": [
    {
     "data": {
      "text/plain": [
       "FreqDist({'barber': 8, 'secret': 6, 'huge': 5, 'kept': 4, 'person': 3, 'word': 2, 'keeping': 2, 'good': 1, 'knew': 1, 'driving': 1, ...})"
      ]
     },
     "execution_count": 26,
     "metadata": {},
     "output_type": "execute_result"
    }
   ],
   "source": [
    "## NLTK FreqDist\n",
    "\n",
    "from nltk import FreqDist\n",
    "import numpy as np\n",
    "\n",
    "vocab = FreqDist(np.hstack(preprocessed_sentences))\n",
    "vocab"
   ]
  },
  {
   "cell_type": "code",
   "execution_count": 27,
   "metadata": {},
   "outputs": [
    {
     "data": {
      "text/plain": [
       "[('barber', 8), ('secret', 6), ('huge', 5), ('kept', 4), ('person', 3)]"
      ]
     },
     "execution_count": 27,
     "metadata": {},
     "output_type": "execute_result"
    }
   ],
   "source": [
    "vocab = vocab.most_common(5)\n",
    "vocab"
   ]
  },
  {
   "cell_type": "code",
   "execution_count": 28,
   "metadata": {},
   "outputs": [
    {
     "data": {
      "text/plain": [
       "{'barber': 1, 'secret': 2, 'huge': 3, 'kept': 4, 'person': 5}"
      ]
     },
     "execution_count": 28,
     "metadata": {},
     "output_type": "execute_result"
    }
   ],
   "source": [
    "word_to_index = {word[0] : index+1 for index, word in enumerate(vocab)}\n",
    "word_to_index"
   ]
  },
  {
   "cell_type": "code",
   "execution_count": 29,
   "metadata": {},
   "outputs": [
    {
     "name": "stdout",
     "output_type": "stream",
     "text": [
      "{'barber': 1, 'secret': 2, 'huge': 3, 'kept': 4, 'person': 5, 'word': 6, 'keeping': 7, 'good': 8, 'knew': 9, 'driving': 10, 'crazy': 11, 'went': 12, 'mountain': 13}\n",
      "OrderedDict([('barber', 8), ('person', 3), ('good', 1), ('huge', 5), ('knew', 1), ('secret', 6), ('kept', 4), ('word', 2), ('keeping', 2), ('driving', 1), ('crazy', 1), ('went', 1), ('mountain', 1)])\n",
      "[[1, 5], [1, 8, 5], [1, 3, 5], [9, 2], [2, 4, 3, 2], [3, 2], [1, 4, 6], [1, 4, 6], [1, 4, 2], [7, 7, 3, 2, 10, 1, 11], [1, 12, 3, 13]]\n"
     ]
    }
   ],
   "source": [
    "## Keras\n",
    "\n",
    "from tensorflow.keras.preprocessing.text import Tokenizer\n",
    "\n",
    "tokenizer = Tokenizer()\n",
    "tokenizer.fit_on_texts(preprocessed_sentences)\n",
    "print(tokenizer.word_index)     # 인덱스 부여\n",
    "print(tokenizer.word_counts)    # 각 단어의 카운트\n",
    "print(tokenizer.texts_to_sequences(preprocessed_sentences))     # 입력으로 들어온 코퍼스에 대해 정해진 인덱스로 반환"
   ]
  },
  {
   "cell_type": "code",
   "execution_count": 30,
   "metadata": {},
   "outputs": [
    {
     "name": "stdout",
     "output_type": "stream",
     "text": [
      "{'barber': 1, 'secret': 2, 'huge': 3, 'kept': 4, 'person': 5, 'word': 6, 'keeping': 7, 'good': 8, 'knew': 9, 'driving': 10, 'crazy': 11, 'went': 12, 'mountain': 13}\n",
      "OrderedDict([('barber', 8), ('person', 3), ('good', 1), ('huge', 5), ('knew', 1), ('secret', 6), ('kept', 4), ('word', 2), ('keeping', 2), ('driving', 1), ('crazy', 1), ('went', 1), ('mountain', 1)])\n",
      "[[1, 5], [1, 5], [1, 3, 5], [2], [2, 4, 3, 2], [3, 2], [1, 4], [1, 4], [1, 4, 2], [3, 2, 1], [1, 3]]\n"
     ]
    }
   ],
   "source": [
    "vocab_size = 5\n",
    "tokenizer = Tokenizer(num_words=vocab_size+1)\n",
    "tokenizer.fit_on_texts(preprocessed_sentences)\n",
    "\n",
    "print(tokenizer.word_index)\n",
    "print(tokenizer.word_counts)\n",
    "print(tokenizer.texts_to_sequences(preprocessed_sentences))     # 실제 적용은 인덱싱에서 이루어짐"
   ]
  },
  {
   "cell_type": "markdown",
   "metadata": {},
   "source": [
    "## 7.패딩 (Padding)\n",
    "---\n",
    "\n",
    "- 자연어 처리 시 각 문장(또는 문서)은 서로 길이가 다를 수 있음\n",
    "- 컴퓨터는 길이가 전부 동일한 문서들에 대해서는 하나의 행렬로 보고, 한꺼번에 묶어서 처리할 수 잇음\n",
    "- 병렬 연산을 위해 문장 길이를 임의로 동일하게 맞춰 주는 작업이 필요"
   ]
  },
  {
   "cell_type": "code",
   "execution_count": 31,
   "metadata": {},
   "outputs": [
    {
     "name": "stdout",
     "output_type": "stream",
     "text": [
      "[[1, 5], [1, 8, 5], [1, 3, 5], [9, 2], [2, 4, 3, 2], [3, 2], [1, 4, 6], [1, 4, 6], [1, 4, 2], [7, 7, 3, 2, 10, 1, 11], [1, 12, 3, 13]]\n"
     ]
    }
   ],
   "source": [
    "import numpy as np\n",
    "from tensorflow.keras.preprocessing.text import Tokenizer\n",
    "\n",
    "tokenizer = Tokenizer()\n",
    "tokenizer.fit_on_texts(preprocessed_sentences)\n",
    "encoded = tokenizer.texts_to_sequences(preprocessed_sentences)\n",
    "print(encoded)"
   ]
  },
  {
   "cell_type": "code",
   "execution_count": 32,
   "metadata": {},
   "outputs": [
    {
     "data": {
      "text/plain": [
       "7"
      ]
     },
     "execution_count": 32,
     "metadata": {},
     "output_type": "execute_result"
    }
   ],
   "source": [
    "max_len = max(len(item) for item in encoded)\n",
    "max_len"
   ]
  },
  {
   "cell_type": "code",
   "execution_count": 33,
   "metadata": {},
   "outputs": [
    {
     "data": {
      "text/plain": [
       "array([[ 1,  5,  0,  0,  0,  0,  0],\n",
       "       [ 1,  8,  5,  0,  0,  0,  0],\n",
       "       [ 1,  3,  5,  0,  0,  0,  0],\n",
       "       [ 9,  2,  0,  0,  0,  0,  0],\n",
       "       [ 2,  4,  3,  2,  0,  0,  0],\n",
       "       [ 3,  2,  0,  0,  0,  0,  0],\n",
       "       [ 1,  4,  6,  0,  0,  0,  0],\n",
       "       [ 1,  4,  6,  0,  0,  0,  0],\n",
       "       [ 1,  4,  2,  0,  0,  0,  0],\n",
       "       [ 7,  7,  3,  2, 10,  1, 11],\n",
       "       [ 1, 12,  3, 13,  0,  0,  0]])"
      ]
     },
     "execution_count": 33,
     "metadata": {},
     "output_type": "execute_result"
    }
   ],
   "source": [
    "from tensorflow.keras.preprocessing.sequence import pad_sequences\n",
    "\n",
    "for sentence in encoded:\n",
    "    while len(sentence) < max_len:\n",
    "        sentence.append(0)\n",
    "        \n",
    "padded_np = np.array(encoded)\n",
    "padded_np"
   ]
  },
  {
   "cell_type": "code",
   "execution_count": 34,
   "metadata": {},
   "outputs": [
    {
     "data": {
      "text/plain": [
       "array([[ 0,  0,  0,  0,  0,  1,  5],\n",
       "       [ 0,  0,  0,  0,  1,  8,  5],\n",
       "       [ 0,  0,  0,  0,  1,  3,  5],\n",
       "       [ 0,  0,  0,  0,  0,  9,  2],\n",
       "       [ 0,  0,  0,  2,  4,  3,  2],\n",
       "       [ 0,  0,  0,  0,  0,  3,  2],\n",
       "       [ 0,  0,  0,  0,  1,  4,  6],\n",
       "       [ 0,  0,  0,  0,  1,  4,  6],\n",
       "       [ 0,  0,  0,  0,  1,  4,  2],\n",
       "       [ 7,  7,  3,  2, 10,  1, 11],\n",
       "       [ 0,  0,  0,  1, 12,  3, 13]])"
      ]
     },
     "execution_count": 34,
     "metadata": {},
     "output_type": "execute_result"
    }
   ],
   "source": [
    "encoded = tokenizer.texts_to_sequences(preprocessed_sentences)\n",
    "padded = pad_sequences(encoded)\n",
    "padded"
   ]
  },
  {
   "cell_type": "code",
   "execution_count": 35,
   "metadata": {},
   "outputs": [
    {
     "data": {
      "text/plain": [
       "array([[ 1,  5,  0,  0,  0,  0,  0],\n",
       "       [ 1,  8,  5,  0,  0,  0,  0],\n",
       "       [ 1,  3,  5,  0,  0,  0,  0],\n",
       "       [ 9,  2,  0,  0,  0,  0,  0],\n",
       "       [ 2,  4,  3,  2,  0,  0,  0],\n",
       "       [ 3,  2,  0,  0,  0,  0,  0],\n",
       "       [ 1,  4,  6,  0,  0,  0,  0],\n",
       "       [ 1,  4,  6,  0,  0,  0,  0],\n",
       "       [ 1,  4,  2,  0,  0,  0,  0],\n",
       "       [ 7,  7,  3,  2, 10,  1, 11],\n",
       "       [ 1, 12,  3, 13,  0,  0,  0]])"
      ]
     },
     "execution_count": 35,
     "metadata": {},
     "output_type": "execute_result"
    }
   ],
   "source": [
    "encoded = tokenizer.texts_to_sequences(preprocessed_sentences)\n",
    "padded = pad_sequences(encoded, padding='post')\n",
    "padded"
   ]
  },
  {
   "cell_type": "code",
   "execution_count": 36,
   "metadata": {},
   "outputs": [
    {
     "data": {
      "text/plain": [
       "array([[ 1,  5,  0,  0,  0],\n",
       "       [ 1,  8,  5,  0,  0],\n",
       "       [ 1,  3,  5,  0,  0],\n",
       "       [ 9,  2,  0,  0,  0],\n",
       "       [ 2,  4,  3,  2,  0],\n",
       "       [ 3,  2,  0,  0,  0],\n",
       "       [ 1,  4,  6,  0,  0],\n",
       "       [ 1,  4,  6,  0,  0],\n",
       "       [ 1,  4,  2,  0,  0],\n",
       "       [ 3,  2, 10,  1, 11],\n",
       "       [ 1, 12,  3, 13,  0]])"
      ]
     },
     "execution_count": 36,
     "metadata": {},
     "output_type": "execute_result"
    }
   ],
   "source": [
    "encoded = tokenizer.texts_to_sequences(preprocessed_sentences)\n",
    "padded = pad_sequences(encoded, padding='post', maxlen=5)\n",
    "padded"
   ]
  },
  {
   "cell_type": "markdown",
   "metadata": {},
   "source": [
    "## 8.One-Hot Encoding\n",
    "---\n",
    "- 문자를 숫자로 바꾸는 여러 기법으로 가장 기본적인 변환 방식\n",
    "- 인코딩을 위해 가정 먼저 단어 집합을 만들어야 함\n",
    "- 텍스트의 모든 단어를 중복을 허용하지 않고 모아놓는 것 ⬅️ 단어집합\n",
    "- 단어 집합에 고유한 정수를 부여하는 것\n",
    "\n",
    "### 8-1. 원핫 인코딩이란?\n",
    "- 표현하고 싶은 단어의 인덱스는 1, 다른 인덱스는 0을 부여하는 벡터 표현 방식"
   ]
  },
  {
   "cell_type": "code",
   "execution_count": 37,
   "metadata": {},
   "outputs": [
    {
     "name": "stdout",
     "output_type": "stream",
     "text": [
      "['나', '는', '자연어', '처리', '를', '배운다']\n"
     ]
    }
   ],
   "source": [
    "from konlpy.tag import Okt\n",
    "\n",
    "okt = Okt()\n",
    "tokens = okt.morphs(\"나는 자연어 처리를 배운다\")\n",
    "print(tokens)"
   ]
  },
  {
   "cell_type": "code",
   "execution_count": 38,
   "metadata": {},
   "outputs": [
    {
     "name": "stdout",
     "output_type": "stream",
     "text": [
      "{'나': 0, '는': 1, '자연어': 2, '처리': 3, '를': 4, '배운다': 5}\n"
     ]
    }
   ],
   "source": [
    "word_to_index = {word : index for index, word in enumerate(tokens)}\n",
    "print(word_to_index)"
   ]
  },
  {
   "cell_type": "code",
   "execution_count": 39,
   "metadata": {},
   "outputs": [
    {
     "data": {
      "text/plain": [
       "[0, 0, 1, 0, 0, 0]"
      ]
     },
     "execution_count": 39,
     "metadata": {},
     "output_type": "execute_result"
    }
   ],
   "source": [
    "def one_hot_encoding(word, word_to_index):\n",
    "    one_hot_vector = [0]*len(word_to_index)\n",
    "    one_hot_vector[word_to_index[word]] = 1\n",
    "    return one_hot_vector\n",
    "\n",
    "one_hot_encoding(\"자연어\", word_to_index)"
   ]
  },
  {
   "cell_type": "code",
   "execution_count": 40,
   "metadata": {},
   "outputs": [
    {
     "name": "stdout",
     "output_type": "stream",
     "text": [
      "{'갈래': 1, '점심': 2, '햄버거': 3, '나랑': 4, '먹으러': 5, '메뉴는': 6, '최고야': 7}\n",
      "[2, 5, 1, 6, 3, 7]\n",
      "[[0. 0. 1. 0. 0. 0. 0. 0.]\n",
      " [0. 0. 0. 0. 0. 1. 0. 0.]\n",
      " [0. 1. 0. 0. 0. 0. 0. 0.]\n",
      " [0. 0. 0. 0. 0. 0. 1. 0.]\n",
      " [0. 0. 0. 1. 0. 0. 0. 0.]\n",
      " [0. 0. 0. 0. 0. 0. 0. 1.]]\n"
     ]
    }
   ],
   "source": [
    "text = \"나랑 점심 먹으러 갈래 점심 메뉴는 햄버거 갈래 갈래 햄버거 최고야\"\n",
    "\n",
    "from tensorflow.keras.preprocessing.text import Tokenizer\n",
    "from tensorflow.keras.utils import to_categorical\n",
    "\n",
    "tokenizer = Tokenizer()\n",
    "tokenizer.fit_on_texts([text])\n",
    "print(tokenizer.word_index)\n",
    "\n",
    "sub_text = \"점심 먹으러 갈래 메뉴는 햄버거 최고야\"\n",
    "encoded = tokenizer.texts_to_sequences([sub_text])[0]\n",
    "print(encoded)\n",
    "\n",
    "one_hot = to_categorical(encoded)\n",
    "print(one_hot)"
   ]
  }
 ],
 "metadata": {
  "kernelspec": {
   "display_name": "practiceNLP",
   "language": "python",
   "name": "python3"
  },
  "language_info": {
   "codemirror_mode": {
    "name": "ipython",
    "version": 3
   },
   "file_extension": ".py",
   "mimetype": "text/x-python",
   "name": "python",
   "nbconvert_exporter": "python",
   "pygments_lexer": "ipython3",
   "version": "3.8.13"
  }
 },
 "nbformat": 4,
 "nbformat_minor": 2
}
