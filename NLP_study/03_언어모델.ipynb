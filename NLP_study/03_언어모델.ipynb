{
 "cells": [
  {
   "cell_type": "markdown",
   "metadata": {},
   "source": [
    "- 언어 모델(Language)이란 단어 시퀀스에 확률을 할당하는 모델\n",
    "- 통계 기반 전통적인 언어 모델 (Statistical Languagel Model, SLM)\n",
    "- 최근에는 인공신경망을 활용한 모델들이 사용"
   ]
  },
  {
   "cell_type": "markdown",
   "metadata": {},
   "source": [
    "## 1.언어모델\n",
    "---\n",
    "### 1-1.\n",
    "- 언어모델 : **단어 시퀀스에 확률을 할당**하는 일을 하는 모델\n",
    "- 즉, 가장 자연스러운 단어 시퀀스를 찾아내는 모델\n",
    "- 보편적으로 이전 단어들이 주어졌을 때 다음 단어를 예측\n",
    "\n",
    "### 1-2.단어 시퀀스 확률 할당\n",
    "### 1-3.주어진 이전 단어들로부터 다음 단어 예측\n",
    "\n",
    "## 2.통계적 언어모델\n",
    "---\n",
    "SKIP"
   ]
  },
  {
   "cell_type": "markdown",
   "metadata": {},
   "source": [
    "## 3.N-gram 언어 모델\n",
    "---\n",
    "\n",
    "이하 생략\n"
   ]
  }
 ],
 "metadata": {
  "language_info": {
   "name": "python"
  }
 },
 "nbformat": 4,
 "nbformat_minor": 2
}
