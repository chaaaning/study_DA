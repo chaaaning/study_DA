{
 "cells": [
  {
   "attachments": {},
   "cell_type": "markdown",
   "metadata": {},
   "source": [
    "# 1.객체지향 퍼셉트론 API"
   ]
  },
  {
   "cell_type": "code",
   "execution_count": 1,
   "metadata": {},
   "outputs": [],
   "source": [
    "import numpy as np\n",
    "\n",
    "class Perceptron(object):\n",
    "    '''\n",
    "    매개변수\n",
    "    ----------\n",
    "    eta : float\n",
    "        학습률 (0.0~1.0)\n",
    "    n_iter : int\n",
    "        훈련 데이터 셋 반복 횟수\n",
    "    random_state : int\n",
    "        가중치 무작위 초기화를 위한 난수 생성기 시드\n",
    "\n",
    "    속성\n",
    "    ----------\n",
    "    w_ : 1-d array\n",
    "        학습된 가중치\n",
    "    errors_ : list\n",
    "        에포크마다 누적된 분류 오류\n",
    "        \n",
    "    '''\n",
    "    \n",
    "    def __init__(self, eta=.01, n_iter=50, random_state=1):\n",
    "        self.eta = eta\n",
    "        self.n_iter = n_iter\n",
    "        self.random_state = random_state\n",
    "        \n",
    "    def fit(self, X, y):\n",
    "        '''\n",
    "        매개변수\n",
    "        ----------\n",
    "        X : {array_like}, shape = [n_samples, n_features]\n",
    "            n_samples 개의 샘플과 n_features개의 특성으로 이루어진 훈련 데이터\n",
    "        y : array_like, shape = [n_samples]\n",
    "            타겟값\n",
    "            \n",
    "        반환값\n",
    "        self : object\n",
    "        \n",
    "        '''\n",
    "        rgen = np.random.RandomState(self.random_state)\n",
    "        self.w_ = rgen.normal(loc=0.0, scale=0.01, size=1+X.shape[1])\n",
    "        self.errors_ = []\n",
    "        \n",
    "        for _ in range(self.n_iter):\n",
    "            errors = 0\n",
    "            for xi, target in zip(X, y):\n",
    "                update = self.eta*(target-self.predict(xi))\n",
    "                self.w_[1:] += update*xi\n",
    "                self.w_[0] += update\n",
    "                errors += int(update!=0.0)\n",
    "            self.errors_.append(errors)\n",
    "        return self\n",
    "    \n",
    "    def net_input(self, X):\n",
    "        return np.dot(X, self.w_[1:])+self.w_[0]\n",
    "\n",
    "    def predict(self, X):\n",
    "        return np.where(self.net_input(X) >= 0.0, 1, -1)"
   ]
  },
  {
   "attachments": {},
   "cell_type": "markdown",
   "metadata": {},
   "source": [
    "1. `fit()` 메서드\n",
    "    - `fit()` 메서드에서 `self.w_` 가중치를 벡터 $\\mathbb{R}^{m+1}$로 초기화\n",
    "    - $m$은 데이터셋에 있는 차원(특성)의 갯수\n",
    "    - 벡터의 첫 번째 원소인 절편을 위해 1을 더함 (벡터의 첫번째 원소 self.w_[0])\n",
    "    - `rgen.normal(loc=0.0, scale=0.01, size=1+X.shape[1])`을 사용하여 표준 편차가 0.01인 정규 분포에서 뽑은 랜덤한 작은 수를 담고 있음\n",
    "    - `rgen`은 넘파이 난수 생성기로 사용자가 지정한 랜덤 시드로 이전과 동일한 결과 재현 가능\n",
    "    - 가중치를 0으로 초기화하지 않는 이유는 가중치가 0이 아니어야 학습률 $\\eta$가 분류 결과에 영향을 주기 때문\n",
    "    - 가중치가 0으로 초기화 되어 있다면 학습률 파라미터 $\\eta$는 가중치 벡터의 방향이 아니라 크기에만 영향을 미침\n",
    "        ```python\n",
    "            v1 = np.array([1,2,3])\n",
    "            v2 = 0.5 * v1\n",
    "            np.arccos(v1.dot(v2)/(np.linalg.norm(v1)*np.linalg.norm(v2)))\n",
    "\n",
    "            >> 0.0\n",
    "        ```\n",
    "    - `np.arccos()` 함수는 역코사인 삼각함수\n",
    "    - `np.linalg.norm()`은 벡터의 길이를 계산하는 함수\n",
    "    - 에포크 마다 `self.errors_` 리스트에 잘못 분류된 횟수를 기록함\n",
    "    - 나중에 훈련하는 동안 얼마나 퍼셉트론을 잘 수행했는지 분석 가능\n",
    "\n",
    "2. `predict()` 메서드\n",
    "    - 훈련 동안 가중치를 업데이트하기 위해 `predict()` 메서드를 호출하여 클래스 레이블에 대한 예측을 얻음\n",
    "    - 모델 학습 후 새로운 데이터의 클래스 레이블을 예측하는데에도 사용\n",
    "    \n",
    "3. `net_input()` 메서드\n",
    "    - `np.dot()`를 통해 벡터 점곱을 계산"
   ]
  },
  {
   "attachments": {},
   "cell_type": "markdown",
   "metadata": {},
   "source": [
    "# 2.붓꽃 데이터셋에서 퍼셉트론 훈련"
   ]
  },
  {
   "attachments": {},
   "cell_type": "markdown",
   "metadata": {},
   "source": [
    "## 2.1.데이터 불러오기"
   ]
  },
  {
   "cell_type": "code",
   "execution_count": 2,
   "metadata": {},
   "outputs": [
    {
     "data": {
      "text/html": [
       "<div>\n",
       "<style scoped>\n",
       "    .dataframe tbody tr th:only-of-type {\n",
       "        vertical-align: middle;\n",
       "    }\n",
       "\n",
       "    .dataframe tbody tr th {\n",
       "        vertical-align: top;\n",
       "    }\n",
       "\n",
       "    .dataframe thead th {\n",
       "        text-align: right;\n",
       "    }\n",
       "</style>\n",
       "<table border=\"1\" class=\"dataframe\">\n",
       "  <thead>\n",
       "    <tr style=\"text-align: right;\">\n",
       "      <th></th>\n",
       "      <th>0</th>\n",
       "      <th>1</th>\n",
       "      <th>2</th>\n",
       "      <th>3</th>\n",
       "      <th>4</th>\n",
       "    </tr>\n",
       "  </thead>\n",
       "  <tbody>\n",
       "    <tr>\n",
       "      <th>145</th>\n",
       "      <td>6.7</td>\n",
       "      <td>3.0</td>\n",
       "      <td>5.2</td>\n",
       "      <td>2.3</td>\n",
       "      <td>Iris-virginica</td>\n",
       "    </tr>\n",
       "    <tr>\n",
       "      <th>146</th>\n",
       "      <td>6.3</td>\n",
       "      <td>2.5</td>\n",
       "      <td>5.0</td>\n",
       "      <td>1.9</td>\n",
       "      <td>Iris-virginica</td>\n",
       "    </tr>\n",
       "    <tr>\n",
       "      <th>147</th>\n",
       "      <td>6.5</td>\n",
       "      <td>3.0</td>\n",
       "      <td>5.2</td>\n",
       "      <td>2.0</td>\n",
       "      <td>Iris-virginica</td>\n",
       "    </tr>\n",
       "    <tr>\n",
       "      <th>148</th>\n",
       "      <td>6.2</td>\n",
       "      <td>3.4</td>\n",
       "      <td>5.4</td>\n",
       "      <td>2.3</td>\n",
       "      <td>Iris-virginica</td>\n",
       "    </tr>\n",
       "    <tr>\n",
       "      <th>149</th>\n",
       "      <td>5.9</td>\n",
       "      <td>3.0</td>\n",
       "      <td>5.1</td>\n",
       "      <td>1.8</td>\n",
       "      <td>Iris-virginica</td>\n",
       "    </tr>\n",
       "  </tbody>\n",
       "</table>\n",
       "</div>"
      ],
      "text/plain": [
       "       0    1    2    3               4\n",
       "145  6.7  3.0  5.2  2.3  Iris-virginica\n",
       "146  6.3  2.5  5.0  1.9  Iris-virginica\n",
       "147  6.5  3.0  5.2  2.0  Iris-virginica\n",
       "148  6.2  3.4  5.4  2.3  Iris-virginica\n",
       "149  5.9  3.0  5.1  1.8  Iris-virginica"
      ]
     },
     "execution_count": 2,
     "metadata": {},
     "output_type": "execute_result"
    }
   ],
   "source": [
    "import pandas as pd\n",
    "\n",
    "s = 'https://archive.ics.uci.edu/ml/machine-learning-databases/iris/iris.data'\n",
    "df = pd.read_csv(s, header=None, encoding='utf-8')\n",
    "df.tail()"
   ]
  },
  {
   "attachments": {},
   "cell_type": "markdown",
   "metadata": {},
   "source": [
    "## 2.2.필요한 데이터 추출"
   ]
  },
  {
   "cell_type": "code",
   "execution_count": 3,
   "metadata": {},
   "outputs": [
    {
     "data": {
      "image/png": "[encoded data removed]",
      "text/plain": [
       "<Figure size 432x288 with 1 Axes>"
      ]
     },
     "metadata": {
      "needs_background": "light"
     },
     "output_type": "display_data"
    }
   ],
   "source": [
    "from matplotlib import pyplot as plt\n",
    "\n",
    "y = df.iloc[:100, 4].values\n",
    "y = np.where(y=='Iris-setosa', -1, 1)\n",
    "X = df.iloc[:100, [0,2]].values\n",
    "\n",
    "plt.scatter(X[:50, 0], X[:50, 1], color = 'red', marker='o', label='setosa')\n",
    "plt.scatter(X[50:, 0], X[50:, 1], color = 'blue', marker='x', label='versicolor')\n",
    "plt.xlabel('sepal length [cm]')\n",
    "plt.ylabel('petal length [cm]')\n",
    "plt.legend(loc = 'upper left')\n",
    "plt.show()"
   ]
  },
  {
   "attachments": {},
   "cell_type": "markdown",
   "metadata": {},
   "source": [
    "## 2.3.오차 그래프"
   ]
  },
  {
   "cell_type": "code",
   "execution_count": 4,
   "metadata": {},
   "outputs": [
    {
     "data": {
      "image/png": "[encoded data removed]",
      "text/plain": [
       "<Figure size 432x288 with 1 Axes>"
      ]
     },
     "metadata": {
      "needs_background": "light"
     },
     "output_type": "display_data"
    }
   ],
   "source": [
    "ppn = Perceptron(eta=.1, n_iter=10)\n",
    "ppn.fit(X, y)\n",
    "plt.plot(range(1, len(ppn.errors_)+1), ppn.errors_, marker='o')\n",
    "plt.xlabel('Epochs')\n",
    "plt.xticks(range(1, len(ppn.errors_)+1))\n",
    "plt.ylabel('Number of updates')\n",
    "plt.show()"
   ]
  },
  {
   "attachments": {},
   "cell_type": "markdown",
   "metadata": {},
   "source": [
    "## 2.4.결정경계 시각화"
   ]
  },
  {
   "cell_type": "code",
   "execution_count": 5,
   "metadata": {},
   "outputs": [
    {
     "name": "stderr",
     "output_type": "stream",
     "text": [
      "C:\\Users\\yunjc\\AppData\\Local\\Temp\\ipykernel_27568\\1031608892.py:20: UserWarning: You passed a edgecolor/edgecolors ('black') for an unfilled marker ('x').  Matplotlib is ignoring the edgecolor in favor of the facecolor.  This behavior may change in the future.\n",
      "  plt.scatter(x=X[y==cl, 0], y=X[y==cl, 1],\n"
     ]
    },
    {
     "data": {
      "image/png": "[encoded data removed]",
      "text/plain": [
       "<Figure size 432x288 with 1 Axes>"
      ]
     },
     "metadata": {
      "needs_background": "light"
     },
     "output_type": "display_data"
    }
   ],
   "source": [
    "from matplotlib.colors import ListedColormap\n",
    "\n",
    "def plot_decision_regions(X, y, classifier, resolution=.02):\n",
    "    markers = ('s', 'x', 'o', '^', 'v')\n",
    "    colors = ('red', 'blue', 'lightgreen', 'gray', 'cyan')\n",
    "    cmap = ListedColormap(colors[:len(np.unique(y))])\n",
    "    \n",
    "    x1_min, x1_max = X[:, 0].min() - 1, X[:, 0].max() + 1\n",
    "    x2_min, x2_max = X[:, 1].min() - 1, X[:, 1].max() + 1\n",
    "    xx1, xx2 = np.meshgrid(np.arange(x1_min, x1_max, resolution),\n",
    "                           np.arange(x2_min, x2_max, resolution),)\n",
    "    z = classifier.predict(np.array([xx1.ravel(), xx2.ravel()]).T)\n",
    "    z = z.reshape(xx1.shape)\n",
    "    \n",
    "    plt.contourf(xx1, xx2, z, alpha=.3, cmap=cmap)\n",
    "    plt.xlim(xx1.min(), xx1.max())\n",
    "    plt.ylim(xx2.min(), xx2.max())\n",
    "    \n",
    "    for idx, cl in enumerate(np.unique(y)):\n",
    "        plt.scatter(x=X[y==cl, 0], y=X[y==cl, 1],\n",
    "                    alpha = .8,\n",
    "                    c=colors[idx],\n",
    "                    marker=markers[idx],\n",
    "                    label=cl,\n",
    "                    edgecolor='black')\n",
    "        \n",
    "plot_decision_regions(X, y, classifier=ppn)\n",
    "plt.xlabel('sepal length [cm]')\n",
    "plt.ylabel('petal length [cm]')\n",
    "plt.legend(loc='upper left')\n",
    "plt.show()"
   ]
  },
  {
   "attachments": {},
   "cell_type": "markdown",
   "metadata": {},
   "source": [
    "1. `colors`와 `markers` 정의하고 `ListedColormap`을 사용하여 `colors`리스트에서 컬러 맵을 만듦\n",
    "2. 두 특성의 초솟값과 최댓ㄱ값을 찾고 이 벡터로 넘파이 `meshgrid`함수로 그리드 배열 `xx1`과 `xx2` 쌍을 만듦\n",
    "3. 두 특성 차원에서 퍼셉트론 분류기를 훈련했기 때문에 그리드 배열을 펼치고 훈련 데이터와 같은 개수의 열이 되도록 행렬을 만듦\n",
    "4. `predict` 메서드로 그리드 각 포인트에 대응하는 클래스 레이블 `z`를 예측함\n",
    "5. 클래스 레이블 `z`를 `xx1`, `xx2` 같은 차원의 그리드로 크기를 변경한 후 `contourf` 함수로 등고선 그래프를 그림\n",
    "6. 그리드 배열에 대해 예측한 클래스를 각기 다른 새깔로 매핑하여 결정 영역을 나타냄\n",
    "\n",
    "* `meshgrid` 함수는 축에 해당하는 1차원 배열을 전달 받아 벡터 공간의 모든 좌표를 담은 행렬을 반환함\n",
    "    ```python\n",
    "        x1, x2 = np.meshgrid([0,1], [2,3])\n",
    "        >> x1: [[0,1], [0,1]] / x2 = [[2,2], [3,3]]\n",
    "    ```\n",
    "    [0,1], [2,3] 로 생성되는 좌표는 (0,2), (1,2), (0,3), (1,3)\n",
    "    \n",
    "* `ravel` 메서드는 입력된 배열을 1차원으로 펼침.<br>그 다음 펼쳐진 두 개의 배열을 행으로 붙여서 하나의 행렬을 만듦.<br>\n",
    "    마지막으로 행렬을 전치(.T속성)하여 두 개의 열이 되도록 바꿈 (이 두열이 xy 평면의 좌표 값이 됨)"
   ]
  },
  {
   "attachments": {},
   "cell_type": "markdown",
   "metadata": {},
   "source": [
    "# 3.아달린 구현\n",
    "\n",
    "## 3.1.아달린 클래스"
   ]
  },
  {
   "cell_type": "code",
   "execution_count": 6,
   "metadata": {},
   "outputs": [],
   "source": [
    "class AdalineGD(object):\n",
    "    ''' 적응형 선형 뉴런 분류기\n",
    "    \n",
    "    매개변수\n",
    "    ----------------------\n",
    "    eta : float\n",
    "        학습률\n",
    "    n_iter : int\n",
    "        훈련 데이터셋 반복 횟수\n",
    "    random_state : int\n",
    "        가중치 무작위 초기화를 위한 난수 생성기 시드\n",
    "        \n",
    "    속성\n",
    "    ----------------------\n",
    "    w_ : 1d-array\n",
    "        학습된 가중치\n",
    "    cost_ : list\n",
    "        에포크마다 누적된 비용 함수의 제곱합\n",
    "        \n",
    "    '''\n",
    "    def __init__(self, eta=.01, n_iter=50, random_state = 1):\n",
    "        self.eta = eta\n",
    "        self.n_iter = n_iter\n",
    "        self.random_state = random_state\n",
    "        \n",
    "    def fit(self, X, y):\n",
    "        '''훈련 데이터 학습\n",
    "        \n",
    "        매개변수\n",
    "        ---------------------\n",
    "        X : {array-like}, shape = [n_samples, n_features]\n",
    "            n_samples개의 샘플과 n_features개의 특성으로 이루어진 훈련 데이터\n",
    "        y : array-like, shape = [n_samples]\n",
    "            타겟값\n",
    "            \n",
    "        반환값\n",
    "        ---------------------\n",
    "        self : object\n",
    "        \n",
    "        '''\n",
    "        rgen = np.random.RandomState(self.random_state)\n",
    "        self.w_ = rgen.normal(loc=0.0, scale=0.01, size=1+X.shape[1])\n",
    "        self.cost_ = []\n",
    "        \n",
    "        for i in range(self.n_iter):\n",
    "            net_input = self.net_input(X)\n",
    "            output = self.activation(net_input)\n",
    "            errors = y-output\n",
    "\n",
    "            self.w_[1:] += self.eta*X.T.dot(errors)\n",
    "            self.w_[0] += self.eta*errors.sum()\n",
    "            cost = (errors**2).sum()/2.0\n",
    "            \n",
    "            self.cost_.append(cost)\n",
    "        return self\n",
    "            \n",
    "    def net_input(self, X):\n",
    "        '''최종 입력 계산'''\n",
    "        return np.dot(X, self.w_[1:])+self.w_[0]\n",
    "    \n",
    "    def activation(self, X):\n",
    "        '''활성함수 (선형 y=x)'''\n",
    "        return X\n",
    "    \n",
    "    def predict(self, X):\n",
    "        '''단위 계단 함수를 사용하여 클래스 레이블을 반환'''\n",
    "        return np.where(self.activation(self.net_input(X))>=0.0, 1, -1)"
   ]
  },
  {
   "attachments": {},
   "cell_type": "markdown",
   "metadata": {},
   "source": [
    "1. 개요\n",
    "    - 퍼셉트론처럼 개별 훈련 샘플마다 평가한 후 가중치를 업데이트하지 않고 전체 훈련 데이터셋을 기반으로 grad를 계산\n",
    "2. `fit()`\n",
    "    - 절편(0번째 가중치)은 `self.eta * errors.sum()`임 ($w_0$에 대한 그라디언트는 $x_0$가 1이므로 $SSE$ 비용함수의 편도 함수에서 오차의 합만 남음)\n",
    "    - 가중치 1에서 m까지는 `self.eta * X.T.dot(errors)` (여기서 `X.T.dot(errors)`는 특성 행렬과 오차 벡터 간의 행렬-벡터 곱)\n",
    "3. `activation()`\n",
    "    - 단순한 항등함수 (일반적인 개념 표시를 위해 따로 작성)"
   ]
  },
  {
   "attachments": {},
   "cell_type": "markdown",
   "metadata": {},
   "source": [
    "## 3.2.에포크 횟수 대비 비용 그래프"
   ]
  },
  {
   "cell_type": "code",
   "execution_count": 7,
   "metadata": {},
   "outputs": [
    {
     "data": {
      "image/png": "[encoded data removed]",
      "text/plain": [
       "<Figure size 720x288 with 2 Axes>"
      ]
     },
     "metadata": {
      "needs_background": "light"
     },
     "output_type": "display_data"
    }
   ],
   "source": [
    "fig, ax = plt.subplots(nrows=1, ncols=2, figsize=(10,4))\n",
    "\n",
    "ada1 = AdalineGD(n_iter=10, eta=.01).fit(X, y)\n",
    "ax[0].plot(range(1, len(ada1.cost_)+1), np.log10(ada1.cost_), marker='o')\n",
    "ax[0].set_xlabel('Epochs')\n",
    "ax[0].set_ylabel('log(SSE)')\n",
    "ax[0].set_title('Adaline - Learning ate 0.01')\n",
    "\n",
    "ada2 = AdalineGD(n_iter=10, eta=.0001).fit(X, y)\n",
    "ax[1].plot(range(1, len(ada2.cost_)+1), ada2.cost_, marker='o')\n",
    "ax[1].set_xlabel('Epochs')\n",
    "ax[1].set_ylabel('SSE')\n",
    "ax[1].set_title('Adaline - Learning ate 0.0001')\n",
    "\n",
    "plt.show()"
   ]
  },
  {
   "attachments": {},
   "cell_type": "markdown",
   "metadata": {},
   "source": [
    "* 위의 결과가 시사하는 바\n",
    "    1. (왼) 학습률이 너무 크기 때문에 비용함수를 최소화하지 못하고 오차는 에포크마다 점점 더 커짐 (전역 최소값을 지나침)\n",
    "    2. (오) 비용이 감소하지만 학습률이 너무 작기 때문에 전역 최솟값에 수렴하려면 아주 많은 에포크가 필요"
   ]
  },
  {
   "attachments": {},
   "cell_type": "markdown",
   "metadata": {},
   "source": [
    "## 3.3.특성 스케일을 조정하여 경사 하강법 결과 향상\n",
    "\n",
    "- 최적 성능을 위해 특성 스케일을 조정하는 것이 필요\n",
    "- `표준화`라는 방식으로 특성 스케일 사용(표준 정규 분포 스케일링)<br>\n",
    "        $\n",
    "        x^{'}_{j} = \\frac{x_j-\\mu_j}{\\sigma_j}\n",
    "        $\n",
    "- $x^{'}_{j}$는 $n$개의 모든 훈련 샘플에서 j번째 특성 값을포함한 벡터"
   ]
  },
  {
   "cell_type": "code",
   "execution_count": 8,
   "metadata": {},
   "outputs": [],
   "source": [
    "X_std = np.copy(X)\n",
    "X_std[:,0] = (X[:,0]-X[:,0].mean())/X[:,0].std()\n",
    "X_std[:,1] = (X[:,1]-X[:,1].mean())/X[:,1].std()"
   ]
  },
  {
   "cell_type": "code",
   "execution_count": 9,
   "metadata": {},
   "outputs": [
    {
     "name": "stderr",
     "output_type": "stream",
     "text": [
      "C:\\Users\\yunjc\\AppData\\Local\\Temp\\ipykernel_27568\\1031608892.py:20: UserWarning: You passed a edgecolor/edgecolors ('black') for an unfilled marker ('x').  Matplotlib is ignoring the edgecolor in favor of the facecolor.  This behavior may change in the future.\n",
      "  plt.scatter(x=X[y==cl, 0], y=X[y==cl, 1],\n"
     ]
    },
    {
     "data": {
      "image/png": "[encoded data removed]",
      "text/plain": [
       "<Figure size 432x288 with 1 Axes>"
      ]
     },
     "metadata": {
      "needs_background": "light"
     },
     "output_type": "display_data"
    },
    {
     "data": {
      "image/png": "[encoded data removed]",
      "text/plain": [
       "<Figure size 432x288 with 1 Axes>"
      ]
     },
     "metadata": {
      "needs_background": "light"
     },
     "output_type": "display_data"
    }
   ],
   "source": [
    "ada = AdalineGD(n_iter=15, eta=.01)\n",
    "ada.fit(X_std, y)\n",
    "\n",
    "plot_decision_regions(X_std, y, classifier=ada)\n",
    "plt.title('Adaline - Gradient Descent')\n",
    "plt.xlabel('sepal length [standardized]')\n",
    "plt.ylabel('petal length [standardized]')\n",
    "plt.legend(loc='upper left')\n",
    "plt.show()\n",
    "\n",
    "plt.plot(range(1, len(ada.cost_)+1), ada.cost_, marker='o')\n",
    "plt.xlabel('Epochs')\n",
    "plt.ylabel('SSE')\n",
    "plt.tight_layout()\n",
    "plt.show()"
   ]
  },
  {
   "attachments": {},
   "cell_type": "markdown",
   "metadata": {},
   "source": [
    "## 3.4.대규모 머신러닝과 확률적 경사 하강법\n",
    "\n",
    "- 배치 경사 하강법 : 전체 훈련 데이터셋에서 계산한 그라디언트의 반대 방향으로 한 걸음씩 진행하여 비용함수를 최소화\n",
    "- 큰 데이터 셋의 경우, 계산 비용이 커짐\n",
    "- 전역 최솟값으로 나아가는 단계마다 매번 전체 훈련 데이터셋을 다시 평가해야 함\n",
    "\n",
    "1. **확률적 경사 하강법**\n",
    "    - 확률적 경사 하강법 (stochastic gradient descent) : 각 훈련 샘플 별로 조금씩 가중치 업데이트<br>\n",
    "        $$\n",
    "        \\begin{align}\n",
    "        \\Delta w &= \\eta\\sum_i(y^{(i)}-\\phi(z^{(i)}))x^{(i)} \\\\\n",
    "        \\Delta w &= \\eta(y^{(i)}-\\phi(z^{(i)}))x^{(i)} \n",
    "        \\end{align}\n",
    "        $$\n",
    "    - (1)은 모든 샘플에 대하여 누적된오차의 합을 기반으로 가중치를 업데이트\n",
    "    - (2)는 후련 샘플에 대해 조금씩 가중치를 업데이트\n",
    "    - SGD는 GD의 근사로 생각할 수 있지만 가중치가 더 자주 업데이트 되기 때문에 수렴 속도가 빠름\n",
    "    - 그라디언트가 하나의 훈련 샘플을 기반으로 계산되므로 오차의 궤적은 배치 경사 하강법보다 어지러움\n",
    "    - 비선형 비용 함수를 다룰 때 얕은 지역 최솟값을 더 쉽게 탈출할 수 있는 것도 장점\n",
    "    - SGD의 성능을 올리려면 훈련 샘플 순서를 무작위하게 주입하는 것이 중요\n",
    "    - 순환되지 않도록 에포크마다 훈련 데이터셋을 섞는 것이 좋음\n",
    "<br><br>\n",
    "\n",
    "2. **학습률 조정**\n",
    "    - SGD 구현에서 종종 고정된 학습률을 시간이 지남에 따라 적응적 학습률로 대치<br>\n",
    "        $$\n",
    "        \\frac{c_1}{[numberr of iterations]+c_2}\n",
    "        $$\n",
    "    - $c_1$과 $c_2$는 상수\n",
    "    - SGD는 전역 최솟값에는 도달하지 못하지만 매우 가까운 지역에 근접하기에, 적응적 학습률을 사용하여 최솟값에 더욱 가깝게 다가갈 수 있음\n",
    "<br><br>\n",
    "\n",
    "3. **온라인 학습**\n",
    "    - SGD의 장점 중 하나는 온라인 학습으로 상용 가능\n",
    "    - 온라인 학습에서 모델은 새로운 훈련 데이터가 도착하는 대로 훈련됨\n",
    "    - 많은 양의 훈련 데이터가 있을 때도 유용함\n",
    "<br><br>\n",
    "\n",
    "4. **미니 배치 경사 하강법**\n",
    "    - GD와 SGD의 절충점이 **미니 배치 학습**\n",
    "    - 훈련 데이터의 작은 일부분으로 배치 경사 하강법을 적용\n",
    "    - 예를 들어 한 번에 32개의 샘플을 사용\n",
    "    - 배치 경사 하강버에 비해 가중치 업데이트가 더 자주 일어나므로 수렴 속도가 빠름\n",
    "    - SGD에서 훈련 샘플을 순회하는 for 반복을 선형대수 개념을 사용한 벡터화 연산으로 바꾸어 주므로 계산 효율성 향상"
   ]
  },
  {
   "cell_type": "code",
   "execution_count": 10,
   "metadata": {},
   "outputs": [],
   "source": [
    "class AdalineSGD(object):\n",
    "    '''Adaptive Linear Neuron 분류기\n",
    "    \n",
    "    매개변수\n",
    "    ----------------\n",
    "    eta : float\n",
    "        학습률\n",
    "    n_iter : int\n",
    "        훈련 데이터 셋 반복 횟수\n",
    "    shuffle : bool(default:True)\n",
    "        Ture 설정 시 같은 반복이 되지 않도록 에포크마다 훈련 데이터를 섞음\n",
    "    random_state : int\n",
    "        가중치 무작위 초기화를 위한 난수 생성기 시드\n",
    "    \n",
    "    속성\n",
    "    ----------------\n",
    "    w_ : 1d-array\n",
    "        학습된 가중치\n",
    "    cost_ : list\n",
    "        모든 훈련 샘플에 대해 에포크마다 누적된 평균 비용 함수의 제곱합\n",
    "    \n",
    "    '''\n",
    "    def __init__(self, eta=.01, n_iter=10, shuffle=True, random_state=None):\n",
    "        self.eta = eta\n",
    "        self.n_iter = n_iter\n",
    "        self.w_initialized = False\n",
    "        self.shuffle = shuffle\n",
    "        self.random_state = random_state\n",
    "        \n",
    "    def fit(self, X,y):\n",
    "        '''훈련 데이터 학습\n",
    "        \n",
    "        X : {array-like}, shape = [n_samples, n_features]\n",
    "            n_samples개의 샘플과 n_features개의 특성으로 이루어진 훈련 데이터\n",
    "        y : array-like, shape = [n_samples]\n",
    "            타겟값\n",
    "            \n",
    "        반환값\n",
    "        ---------------------\n",
    "        self : object\n",
    "        \n",
    "        '''\n",
    "        self._initialize_weights(X.shape[1])\n",
    "        self.cost_ = []\n",
    "        for i in range(self.n_iter):\n",
    "            if self.shuffle:\n",
    "                X, y = self._shuffle(X, y)\n",
    "            cost = []\n",
    "            for xi, target in zip(X,y):\n",
    "                cost.append(self._update_weights(xi, target))\n",
    "            avg_cost = sum(cost)/len(y)\n",
    "            self.cost_.append(avg_cost)\n",
    "        return self\n",
    "    \n",
    "    def partial_fit(self, X, y):\n",
    "        '''가중치를 다시 초기화하지 않고 훈련 데이터 학습'''\n",
    "        if not self.w_initialized:\n",
    "            self._initialize_weights(X.shape[1])\n",
    "        if y.ravel().shape[0] > 1:\n",
    "            for xi, target in zip(X, y):\n",
    "                self._update_weights(xi, target)\n",
    "        else:\n",
    "            self._update_weights(X, y)\n",
    "        return self\n",
    "    \n",
    "    def _shuffle(self, X, y):\n",
    "        '''훈련 데이터 섞기'''\n",
    "        r = self.rgen.permutation(len(y))\n",
    "        return X[r], y[r]\n",
    "    \n",
    "    def _initialize_weights(self, m):\n",
    "        '''랜덤한 작은 수로 가중치 초기화'''\n",
    "        self.rgen = np.random.RandomState(self.random_state)\n",
    "        self.w_ = self.rgen.normal(loc=0.0, scale=0.01, size=1+m)\n",
    "        self.w_initialized = True\n",
    "\n",
    "    def _update_weights(self, xi, target):\n",
    "        '''아달린 학습 규칙을 적용하여 가중치 업데이트'''\n",
    "        output = self.activation(self.net_input(xi))\n",
    "        error = target-output\n",
    "        self.w_[1:] += self.eta*xi.dot(error)\n",
    "        self.w_[0] += self.eta*error\n",
    "        cost = .5*error**2\n",
    "        return cost\n",
    "    \n",
    "    def net_input(self, X):\n",
    "        '''최종 입력 계산'''\n",
    "        return np.dot(X, self.w_[1:]) + self.w_[0]\n",
    "    \n",
    "    def activation(self, X):\n",
    "        '''선형 활성화 계산'''\n",
    "        return X\n",
    "    \n",
    "    def predict(self, X):\n",
    "        '''단위 계단 함수를 사용하여 클래스 레이블 반환'''\n",
    "        return np.where(self.activation(self.net_input(X))>=0.0, 1, -1)"
   ]
  },
  {
   "cell_type": "code",
   "execution_count": 11,
   "metadata": {},
   "outputs": [
    {
     "name": "stderr",
     "output_type": "stream",
     "text": [
      "C:\\Users\\yunjc\\AppData\\Local\\Temp\\ipykernel_27568\\1031608892.py:20: UserWarning: You passed a edgecolor/edgecolors ('black') for an unfilled marker ('x').  Matplotlib is ignoring the edgecolor in favor of the facecolor.  This behavior may change in the future.\n",
      "  plt.scatter(x=X[y==cl, 0], y=X[y==cl, 1],\n"
     ]
    },
    {
     "data": {
      "image/png": "[encoded data removed]",
      "text/plain": [
       "<Figure size 432x288 with 1 Axes>"
      ]
     },
     "metadata": {
      "needs_background": "light"
     },
     "output_type": "display_data"
    },
    {
     "data": {
      "image/png": "[encoded data removed]",
      "text/plain": [
       "<Figure size 432x288 with 1 Axes>"
      ]
     },
     "metadata": {
      "needs_background": "light"
     },
     "output_type": "display_data"
    }
   ],
   "source": [
    "ada = AdalineSGD(n_iter=15, eta=.01, random_state=1)\n",
    "ada.fit(X_std, y)\n",
    "\n",
    "plot_decision_regions(X_std, y, classifier=ada)\n",
    "plt.title('Adaline = Stochastic Gradient Descent')\n",
    "plt.xlabel('sepal length [std]')\n",
    "plt.ylabel('petal length [std]')\n",
    "plt.legend(loc='upper left')\n",
    "plt.show()\n",
    "\n",
    "plt.plot(range(1, len(ada.cost_)+1), ada.cost_, marker='o')\n",
    "plt.xlabel(\"Epochs\")\n",
    "plt.ylabel(\"Average cost\")\n",
    "plt.tight_layout()\n",
    "plt.show()"
   ]
  }
 ],
 "metadata": {
  "kernelspec": {
   "display_name": "main",
   "language": "python",
   "name": "python3"
  },
  "language_info": {
   "codemirror_mode": {
    "name": "ipython",
    "version": 3
   },
   "file_extension": ".py",
   "mimetype": "text/x-python",
   "name": "python",
   "nbconvert_exporter": "python",
   "pygments_lexer": "ipython3",
   "version": "3.8.8"
  },
  "orig_nbformat": 4
 },
 "nbformat": 4,
 "nbformat_minor": 2
}
