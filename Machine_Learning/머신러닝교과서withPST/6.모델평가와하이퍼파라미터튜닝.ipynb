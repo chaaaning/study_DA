{
 "cells": [
  {
   "attachments": {},
   "cell_type": "markdown",
   "id": "aee8ae4e-b0d1-48c3-87cc-509f43776114",
   "metadata": {},
   "source": [
    "- 머신 러닝 모델 성능 평가\n",
    "- 머신 러닝 알고리즘에서 일반적으로 발생하는 문제 분석\n",
    "- 머신 러닝 모델 세부 튜닝\n",
    "- 여러 가지 성능 지표를 사용하여 모델의 예측 성능 평가"
   ]
  },
  {
   "attachments": {},
   "cell_type": "markdown",
   "id": "dbf67d4a-f6ad-4778-b7ab-f943c6d53058",
   "metadata": {},
   "source": [
    "# 1.파이프라인을 사용한 효율적인 워크 플로\n",
    "\n",
    "- 테스트 데이터셋에 있는 별도의 샘플처럼 새로운 데이터의 스케일을 조정하고 압축하기 위해 훈련 데이터셋에서 학습한 파라미터를 재사용해야 함\n",
    "- 이를 위해 아주 유용하게 사용할 수 있는 사이킷런의 `Pipeline`클래스를 사용"
   ]
  },
  {
   "attachments": {},
   "cell_type": "markdown",
   "id": "d00458f8-8b88-40b9-bf0e-6197b7671e39",
   "metadata": {},
   "source": [
    "## 1.1.위스콘신 유방암 데이터 셋"
   ]
  },
  {
   "cell_type": "code",
   "execution_count": 1,
   "id": "b21e0495-b139-41d8-9da2-77258fa6a495",
   "metadata": {},
   "outputs": [
    {
     "data": {
      "text/html": [
       "<div>\n",
       "<style scoped>\n",
       "    .dataframe tbody tr th:only-of-type {\n",
       "        vertical-align: middle;\n",
       "    }\n",
       "\n",
       "    .dataframe tbody tr th {\n",
       "        vertical-align: top;\n",
       "    }\n",
       "\n",
       "    .dataframe thead th {\n",
       "        text-align: right;\n",
       "    }\n",
       "</style>\n",
       "<table border=\"1\" class=\"dataframe\">\n",
       "  <thead>\n",
       "    <tr style=\"text-align: right;\">\n",
       "      <th></th>\n",
       "      <th>0</th>\n",
       "      <th>1</th>\n",
       "      <th>2</th>\n",
       "      <th>3</th>\n",
       "      <th>4</th>\n",
       "      <th>5</th>\n",
       "      <th>6</th>\n",
       "      <th>7</th>\n",
       "      <th>8</th>\n",
       "      <th>9</th>\n",
       "      <th>...</th>\n",
       "      <th>22</th>\n",
       "      <th>23</th>\n",
       "      <th>24</th>\n",
       "      <th>25</th>\n",
       "      <th>26</th>\n",
       "      <th>27</th>\n",
       "      <th>28</th>\n",
       "      <th>29</th>\n",
       "      <th>30</th>\n",
       "      <th>31</th>\n",
       "    </tr>\n",
       "  </thead>\n",
       "  <tbody>\n",
       "    <tr>\n",
       "      <th>0</th>\n",
       "      <td>842302</td>\n",
       "      <td>M</td>\n",
       "      <td>17.99</td>\n",
       "      <td>10.38</td>\n",
       "      <td>122.80</td>\n",
       "      <td>1001.0</td>\n",
       "      <td>0.11840</td>\n",
       "      <td>0.27760</td>\n",
       "      <td>0.30010</td>\n",
       "      <td>0.14710</td>\n",
       "      <td>...</td>\n",
       "      <td>25.380</td>\n",
       "      <td>17.33</td>\n",
       "      <td>184.60</td>\n",
       "      <td>2019.0</td>\n",
       "      <td>0.16220</td>\n",
       "      <td>0.66560</td>\n",
       "      <td>0.7119</td>\n",
       "      <td>0.2654</td>\n",
       "      <td>0.4601</td>\n",
       "      <td>0.11890</td>\n",
       "    </tr>\n",
       "    <tr>\n",
       "      <th>1</th>\n",
       "      <td>842517</td>\n",
       "      <td>M</td>\n",
       "      <td>20.57</td>\n",
       "      <td>17.77</td>\n",
       "      <td>132.90</td>\n",
       "      <td>1326.0</td>\n",
       "      <td>0.08474</td>\n",
       "      <td>0.07864</td>\n",
       "      <td>0.08690</td>\n",
       "      <td>0.07017</td>\n",
       "      <td>...</td>\n",
       "      <td>24.990</td>\n",
       "      <td>23.41</td>\n",
       "      <td>158.80</td>\n",
       "      <td>1956.0</td>\n",
       "      <td>0.12380</td>\n",
       "      <td>0.18660</td>\n",
       "      <td>0.2416</td>\n",
       "      <td>0.1860</td>\n",
       "      <td>0.2750</td>\n",
       "      <td>0.08902</td>\n",
       "    </tr>\n",
       "    <tr>\n",
       "      <th>2</th>\n",
       "      <td>84300903</td>\n",
       "      <td>M</td>\n",
       "      <td>19.69</td>\n",
       "      <td>21.25</td>\n",
       "      <td>130.00</td>\n",
       "      <td>1203.0</td>\n",
       "      <td>0.10960</td>\n",
       "      <td>0.15990</td>\n",
       "      <td>0.19740</td>\n",
       "      <td>0.12790</td>\n",
       "      <td>...</td>\n",
       "      <td>23.570</td>\n",
       "      <td>25.53</td>\n",
       "      <td>152.50</td>\n",
       "      <td>1709.0</td>\n",
       "      <td>0.14440</td>\n",
       "      <td>0.42450</td>\n",
       "      <td>0.4504</td>\n",
       "      <td>0.2430</td>\n",
       "      <td>0.3613</td>\n",
       "      <td>0.08758</td>\n",
       "    </tr>\n",
       "    <tr>\n",
       "      <th>3</th>\n",
       "      <td>84348301</td>\n",
       "      <td>M</td>\n",
       "      <td>11.42</td>\n",
       "      <td>20.38</td>\n",
       "      <td>77.58</td>\n",
       "      <td>386.1</td>\n",
       "      <td>0.14250</td>\n",
       "      <td>0.28390</td>\n",
       "      <td>0.24140</td>\n",
       "      <td>0.10520</td>\n",
       "      <td>...</td>\n",
       "      <td>14.910</td>\n",
       "      <td>26.50</td>\n",
       "      <td>98.87</td>\n",
       "      <td>567.7</td>\n",
       "      <td>0.20980</td>\n",
       "      <td>0.86630</td>\n",
       "      <td>0.6869</td>\n",
       "      <td>0.2575</td>\n",
       "      <td>0.6638</td>\n",
       "      <td>0.17300</td>\n",
       "    </tr>\n",
       "    <tr>\n",
       "      <th>4</th>\n",
       "      <td>84358402</td>\n",
       "      <td>M</td>\n",
       "      <td>20.29</td>\n",
       "      <td>14.34</td>\n",
       "      <td>135.10</td>\n",
       "      <td>1297.0</td>\n",
       "      <td>0.10030</td>\n",
       "      <td>0.13280</td>\n",
       "      <td>0.19800</td>\n",
       "      <td>0.10430</td>\n",
       "      <td>...</td>\n",
       "      <td>22.540</td>\n",
       "      <td>16.67</td>\n",
       "      <td>152.20</td>\n",
       "      <td>1575.0</td>\n",
       "      <td>0.13740</td>\n",
       "      <td>0.20500</td>\n",
       "      <td>0.4000</td>\n",
       "      <td>0.1625</td>\n",
       "      <td>0.2364</td>\n",
       "      <td>0.07678</td>\n",
       "    </tr>\n",
       "    <tr>\n",
       "      <th>...</th>\n",
       "      <td>...</td>\n",
       "      <td>...</td>\n",
       "      <td>...</td>\n",
       "      <td>...</td>\n",
       "      <td>...</td>\n",
       "      <td>...</td>\n",
       "      <td>...</td>\n",
       "      <td>...</td>\n",
       "      <td>...</td>\n",
       "      <td>...</td>\n",
       "      <td>...</td>\n",
       "      <td>...</td>\n",
       "      <td>...</td>\n",
       "      <td>...</td>\n",
       "      <td>...</td>\n",
       "      <td>...</td>\n",
       "      <td>...</td>\n",
       "      <td>...</td>\n",
       "      <td>...</td>\n",
       "      <td>...</td>\n",
       "      <td>...</td>\n",
       "    </tr>\n",
       "    <tr>\n",
       "      <th>564</th>\n",
       "      <td>926424</td>\n",
       "      <td>M</td>\n",
       "      <td>21.56</td>\n",
       "      <td>22.39</td>\n",
       "      <td>142.00</td>\n",
       "      <td>1479.0</td>\n",
       "      <td>0.11100</td>\n",
       "      <td>0.11590</td>\n",
       "      <td>0.24390</td>\n",
       "      <td>0.13890</td>\n",
       "      <td>...</td>\n",
       "      <td>25.450</td>\n",
       "      <td>26.40</td>\n",
       "      <td>166.10</td>\n",
       "      <td>2027.0</td>\n",
       "      <td>0.14100</td>\n",
       "      <td>0.21130</td>\n",
       "      <td>0.4107</td>\n",
       "      <td>0.2216</td>\n",
       "      <td>0.2060</td>\n",
       "      <td>0.07115</td>\n",
       "    </tr>\n",
       "    <tr>\n",
       "      <th>565</th>\n",
       "      <td>926682</td>\n",
       "      <td>M</td>\n",
       "      <td>20.13</td>\n",
       "      <td>28.25</td>\n",
       "      <td>131.20</td>\n",
       "      <td>1261.0</td>\n",
       "      <td>0.09780</td>\n",
       "      <td>0.10340</td>\n",
       "      <td>0.14400</td>\n",
       "      <td>0.09791</td>\n",
       "      <td>...</td>\n",
       "      <td>23.690</td>\n",
       "      <td>38.25</td>\n",
       "      <td>155.00</td>\n",
       "      <td>1731.0</td>\n",
       "      <td>0.11660</td>\n",
       "      <td>0.19220</td>\n",
       "      <td>0.3215</td>\n",
       "      <td>0.1628</td>\n",
       "      <td>0.2572</td>\n",
       "      <td>0.06637</td>\n",
       "    </tr>\n",
       "    <tr>\n",
       "      <th>566</th>\n",
       "      <td>926954</td>\n",
       "      <td>M</td>\n",
       "      <td>16.60</td>\n",
       "      <td>28.08</td>\n",
       "      <td>108.30</td>\n",
       "      <td>858.1</td>\n",
       "      <td>0.08455</td>\n",
       "      <td>0.10230</td>\n",
       "      <td>0.09251</td>\n",
       "      <td>0.05302</td>\n",
       "      <td>...</td>\n",
       "      <td>18.980</td>\n",
       "      <td>34.12</td>\n",
       "      <td>126.70</td>\n",
       "      <td>1124.0</td>\n",
       "      <td>0.11390</td>\n",
       "      <td>0.30940</td>\n",
       "      <td>0.3403</td>\n",
       "      <td>0.1418</td>\n",
       "      <td>0.2218</td>\n",
       "      <td>0.07820</td>\n",
       "    </tr>\n",
       "    <tr>\n",
       "      <th>567</th>\n",
       "      <td>927241</td>\n",
       "      <td>M</td>\n",
       "      <td>20.60</td>\n",
       "      <td>29.33</td>\n",
       "      <td>140.10</td>\n",
       "      <td>1265.0</td>\n",
       "      <td>0.11780</td>\n",
       "      <td>0.27700</td>\n",
       "      <td>0.35140</td>\n",
       "      <td>0.15200</td>\n",
       "      <td>...</td>\n",
       "      <td>25.740</td>\n",
       "      <td>39.42</td>\n",
       "      <td>184.60</td>\n",
       "      <td>1821.0</td>\n",
       "      <td>0.16500</td>\n",
       "      <td>0.86810</td>\n",
       "      <td>0.9387</td>\n",
       "      <td>0.2650</td>\n",
       "      <td>0.4087</td>\n",
       "      <td>0.12400</td>\n",
       "    </tr>\n",
       "    <tr>\n",
       "      <th>568</th>\n",
       "      <td>92751</td>\n",
       "      <td>B</td>\n",
       "      <td>7.76</td>\n",
       "      <td>24.54</td>\n",
       "      <td>47.92</td>\n",
       "      <td>181.0</td>\n",
       "      <td>0.05263</td>\n",
       "      <td>0.04362</td>\n",
       "      <td>0.00000</td>\n",
       "      <td>0.00000</td>\n",
       "      <td>...</td>\n",
       "      <td>9.456</td>\n",
       "      <td>30.37</td>\n",
       "      <td>59.16</td>\n",
       "      <td>268.6</td>\n",
       "      <td>0.08996</td>\n",
       "      <td>0.06444</td>\n",
       "      <td>0.0000</td>\n",
       "      <td>0.0000</td>\n",
       "      <td>0.2871</td>\n",
       "      <td>0.07039</td>\n",
       "    </tr>\n",
       "  </tbody>\n",
       "</table>\n",
       "<p>569 rows × 32 columns</p>\n",
       "</div>"
      ],
      "text/plain": [
       "           0  1      2      3       4       5        6        7        8   \\\n",
       "0      842302  M  17.99  10.38  122.80  1001.0  0.11840  0.27760  0.30010   \n",
       "1      842517  M  20.57  17.77  132.90  1326.0  0.08474  0.07864  0.08690   \n",
       "2    84300903  M  19.69  21.25  130.00  1203.0  0.10960  0.15990  0.19740   \n",
       "3    84348301  M  11.42  20.38   77.58   386.1  0.14250  0.28390  0.24140   \n",
       "4    84358402  M  20.29  14.34  135.10  1297.0  0.10030  0.13280  0.19800   \n",
       "..        ... ..    ...    ...     ...     ...      ...      ...      ...   \n",
       "564    926424  M  21.56  22.39  142.00  1479.0  0.11100  0.11590  0.24390   \n",
       "565    926682  M  20.13  28.25  131.20  1261.0  0.09780  0.10340  0.14400   \n",
       "566    926954  M  16.60  28.08  108.30   858.1  0.08455  0.10230  0.09251   \n",
       "567    927241  M  20.60  29.33  140.10  1265.0  0.11780  0.27700  0.35140   \n",
       "568     92751  B   7.76  24.54   47.92   181.0  0.05263  0.04362  0.00000   \n",
       "\n",
       "          9   ...      22     23      24      25       26       27      28  \\\n",
       "0    0.14710  ...  25.380  17.33  184.60  2019.0  0.16220  0.66560  0.7119   \n",
       "1    0.07017  ...  24.990  23.41  158.80  1956.0  0.12380  0.18660  0.2416   \n",
       "2    0.12790  ...  23.570  25.53  152.50  1709.0  0.14440  0.42450  0.4504   \n",
       "3    0.10520  ...  14.910  26.50   98.87   567.7  0.20980  0.86630  0.6869   \n",
       "4    0.10430  ...  22.540  16.67  152.20  1575.0  0.13740  0.20500  0.4000   \n",
       "..       ...  ...     ...    ...     ...     ...      ...      ...     ...   \n",
       "564  0.13890  ...  25.450  26.40  166.10  2027.0  0.14100  0.21130  0.4107   \n",
       "565  0.09791  ...  23.690  38.25  155.00  1731.0  0.11660  0.19220  0.3215   \n",
       "566  0.05302  ...  18.980  34.12  126.70  1124.0  0.11390  0.30940  0.3403   \n",
       "567  0.15200  ...  25.740  39.42  184.60  1821.0  0.16500  0.86810  0.9387   \n",
       "568  0.00000  ...   9.456  30.37   59.16   268.6  0.08996  0.06444  0.0000   \n",
       "\n",
       "         29      30       31  \n",
       "0    0.2654  0.4601  0.11890  \n",
       "1    0.1860  0.2750  0.08902  \n",
       "2    0.2430  0.3613  0.08758  \n",
       "3    0.2575  0.6638  0.17300  \n",
       "4    0.1625  0.2364  0.07678  \n",
       "..      ...     ...      ...  \n",
       "564  0.2216  0.2060  0.07115  \n",
       "565  0.1628  0.2572  0.06637  \n",
       "566  0.1418  0.2218  0.07820  \n",
       "567  0.2650  0.4087  0.12400  \n",
       "568  0.0000  0.2871  0.07039  \n",
       "\n",
       "[569 rows x 32 columns]"
      ]
     },
     "execution_count": 1,
     "metadata": {},
     "output_type": "execute_result"
    }
   ],
   "source": [
    "import pandas as pd\n",
    "\n",
    "df = pd.read_csv('https://archive.ics.uci.edu/ml/machine-learning-databases/breast-cancer-wisconsin/wdbc.data', header=None)\n",
    "df"
   ]
  },
  {
   "cell_type": "code",
   "execution_count": 2,
   "id": "0eb0bc48-4cc0-4e5e-9924-00196df8f58c",
   "metadata": {},
   "outputs": [
    {
     "data": {
      "text/plain": [
       "array(['B', 'M'], dtype=object)"
      ]
     },
     "execution_count": 2,
     "metadata": {},
     "output_type": "execute_result"
    }
   ],
   "source": [
    "from sklearn.preprocessing import LabelEncoder as LE\n",
    "\n",
    "X = df.iloc[:, 2:].values\n",
    "y = df.iloc[:, 1].values\n",
    "le = LE()\n",
    "y = le.fit_transform(y)\n",
    "le.classes_"
   ]
  },
  {
   "cell_type": "code",
   "execution_count": 3,
   "id": "234b3642-d6a7-423a-aaed-34c48aaf0429",
   "metadata": {},
   "outputs": [
    {
     "data": {
      "text/plain": [
       "array([0, 1])"
      ]
     },
     "execution_count": 3,
     "metadata": {},
     "output_type": "execute_result"
    }
   ],
   "source": [
    "le.transform(le.classes_)"
   ]
  },
  {
   "cell_type": "code",
   "execution_count": 4,
   "id": "80cba491-bc50-42e5-b935-f7887289e557",
   "metadata": {},
   "outputs": [],
   "source": [
    "from sklearn.model_selection import train_test_split\n",
    "\n",
    "X_train, X_test, y_train, y_test = train_test_split(X, y, test_size=.2, stratify=y, random_state=1)"
   ]
  },
  {
   "attachments": {},
   "cell_type": "markdown",
   "id": "b555654b-b8b1-4800-8957-ba89fce40782",
   "metadata": {},
   "source": [
    "## 1.2.파이프라인으로 변환기와 추정기 연결\n",
    "\n",
    "- 위스콘신 유방암 데이터셋의 특성은 다양한 스케일로 측정되었기 때문에 LGR같은 선형 분류기에 주입하기 전에 특성을 표준화\n",
    "- 차원 축소를 위한 특성 추출 기법으로 주성분 분석 (2차원으로)\n",
    "- 훈련 데이터 셋과 테스트 데이터 셋을 각각 학습하고 변환하는 단계를 구성하는대신 `StandardScaler`, `PCA`, `LogisticRegression` 객체를 하나의 파이프 라인으로 연결할 수 있음"
   ]
  },
  {
   "cell_type": "code",
   "execution_count": 5,
   "id": "1c0622cd-dd6c-4158-a62d-9aaad7b4f760",
   "metadata": {},
   "outputs": [
    {
     "name": "stdout",
     "output_type": "stream",
     "text": [
      "accuracy:  0.956140350877193\n"
     ]
    }
   ],
   "source": [
    "from sklearn.preprocessing import StandardScaler as SDS\n",
    "from sklearn.decomposition import PCA\n",
    "from sklearn.linear_model import LogisticRegression as LGR\n",
    "from sklearn.pipeline import make_pipeline\n",
    "\n",
    "pipe_lr = make_pipeline(SDS(), PCA(n_components=2), LGR(random_state=1))\n",
    "pipe_lr.fit(X_train, y_train)\n",
    "y_pred = pipe_lr.predict(X_test)\n",
    "print('accuracy: ', pipe_lr.score(X_test, y_test))"
   ]
  },
  {
   "attachments": {},
   "cell_type": "markdown",
   "id": "fc586578-bb3c-40e2-9d1a-e2347f9df6f2",
   "metadata": {},
   "source": [
    "- `make_pipeline` 함수는 여러 개의 사이킷런 변환기와 그 뒤에 `fit` 메서드와 `predict` 메서드를 구현한 사이킷런 추정기를 연결할 수 있음\n",
    "- 위의 예제에서 `StandardScaler, PCA` 두 개의 변환기와 `LogisticRegression` 추정기를 `make_pipeline` 함수의 입력으로 넣음\n",
    "- 이 함수는 이 객체들을 사용하여 사이킷런의 `Pipeline` 클래스 객체를 생성하여 반환\n",
    "- 사이킷런의 `Pipeline` 클래스를 메타 추정기나 개별 변환기와 추정기를 감산 래퍼로 생각할 수 있음\n",
    "- `Pipeline` 객체의 `fit` 메서드를 호출하면 데이터가 중간 단계에 있는 모든 변환기의 `fit` 메서드와 `transform` 메서드를 차례로 거쳐 추정기 객체(파이프라인의 마지막 단계)에 도달\n",
    "- 추정기는 변환된 훈련 데이터셋을 사용하여 학습\n",
    "- 파이프라인의 중간 단계의 횟수는 제한이 없지만, 마지막 요소는 추정기가 되어야 함"
   ]
  },
  {
   "cell_type": "code",
   "execution_count": 6,
   "id": "0bba16f8-d141-4432-9c0a-dd54021bd3cb",
   "metadata": {},
   "outputs": [
    {
     "data": {
      "text/html": [
       "<style>#sk-8c0f8f5a-a627-470a-8034-864dad1e0830 {color: black;background-color: white;}#sk-8c0f8f5a-a627-470a-8034-864dad1e0830 pre{padding: 0;}#sk-8c0f8f5a-a627-470a-8034-864dad1e0830 div.sk-toggleable {background-color: white;}#sk-8c0f8f5a-a627-470a-8034-864dad1e0830 label.sk-toggleable__label {cursor: pointer;display: block;width: 100%;margin-bottom: 0;padding: 0.3em;box-sizing: border-box;text-align: center;}#sk-8c0f8f5a-a627-470a-8034-864dad1e0830 label.sk-toggleable__label-arrow:before {content: \"▸\";float: left;margin-right: 0.25em;color: #696969;}#sk-8c0f8f5a-a627-470a-8034-864dad1e0830 label.sk-toggleable__label-arrow:hover:before {color: black;}#sk-8c0f8f5a-a627-470a-8034-864dad1e0830 div.sk-estimator:hover label.sk-toggleable__label-arrow:before {color: black;}#sk-8c0f8f5a-a627-470a-8034-864dad1e0830 div.sk-toggleable__content {max-height: 0;max-width: 0;overflow: hidden;text-align: left;background-color: #f0f8ff;}#sk-8c0f8f5a-a627-470a-8034-864dad1e0830 div.sk-toggleable__content pre {margin: 0.2em;color: black;border-radius: 0.25em;background-color: #f0f8ff;}#sk-8c0f8f5a-a627-470a-8034-864dad1e0830 input.sk-toggleable__control:checked~div.sk-toggleable__content {max-height: 200px;max-width: 100%;overflow: auto;}#sk-8c0f8f5a-a627-470a-8034-864dad1e0830 input.sk-toggleable__control:checked~label.sk-toggleable__label-arrow:before {content: \"▾\";}#sk-8c0f8f5a-a627-470a-8034-864dad1e0830 div.sk-estimator input.sk-toggleable__control:checked~label.sk-toggleable__label {background-color: #d4ebff;}#sk-8c0f8f5a-a627-470a-8034-864dad1e0830 div.sk-label input.sk-toggleable__control:checked~label.sk-toggleable__label {background-color: #d4ebff;}#sk-8c0f8f5a-a627-470a-8034-864dad1e0830 input.sk-hidden--visually {border: 0;clip: rect(1px 1px 1px 1px);clip: rect(1px, 1px, 1px, 1px);height: 1px;margin: -1px;overflow: hidden;padding: 0;position: absolute;width: 1px;}#sk-8c0f8f5a-a627-470a-8034-864dad1e0830 div.sk-estimator {font-family: monospace;background-color: #f0f8ff;border: 1px dotted black;border-radius: 0.25em;box-sizing: border-box;margin-bottom: 0.5em;}#sk-8c0f8f5a-a627-470a-8034-864dad1e0830 div.sk-estimator:hover {background-color: #d4ebff;}#sk-8c0f8f5a-a627-470a-8034-864dad1e0830 div.sk-parallel-item::after {content: \"\";width: 100%;border-bottom: 1px solid gray;flex-grow: 1;}#sk-8c0f8f5a-a627-470a-8034-864dad1e0830 div.sk-label:hover label.sk-toggleable__label {background-color: #d4ebff;}#sk-8c0f8f5a-a627-470a-8034-864dad1e0830 div.sk-serial::before {content: \"\";position: absolute;border-left: 1px solid gray;box-sizing: border-box;top: 2em;bottom: 0;left: 50%;}#sk-8c0f8f5a-a627-470a-8034-864dad1e0830 div.sk-serial {display: flex;flex-direction: column;align-items: center;background-color: white;padding-right: 0.2em;padding-left: 0.2em;}#sk-8c0f8f5a-a627-470a-8034-864dad1e0830 div.sk-item {z-index: 1;}#sk-8c0f8f5a-a627-470a-8034-864dad1e0830 div.sk-parallel {display: flex;align-items: stretch;justify-content: center;background-color: white;}#sk-8c0f8f5a-a627-470a-8034-864dad1e0830 div.sk-parallel::before {content: \"\";position: absolute;border-left: 1px solid gray;box-sizing: border-box;top: 2em;bottom: 0;left: 50%;}#sk-8c0f8f5a-a627-470a-8034-864dad1e0830 div.sk-parallel-item {display: flex;flex-direction: column;position: relative;background-color: white;}#sk-8c0f8f5a-a627-470a-8034-864dad1e0830 div.sk-parallel-item:first-child::after {align-self: flex-end;width: 50%;}#sk-8c0f8f5a-a627-470a-8034-864dad1e0830 div.sk-parallel-item:last-child::after {align-self: flex-start;width: 50%;}#sk-8c0f8f5a-a627-470a-8034-864dad1e0830 div.sk-parallel-item:only-child::after {width: 0;}#sk-8c0f8f5a-a627-470a-8034-864dad1e0830 div.sk-dashed-wrapped {border: 1px dashed gray;margin: 0 0.4em 0.5em 0.4em;box-sizing: border-box;padding-bottom: 0.4em;background-color: white;position: relative;}#sk-8c0f8f5a-a627-470a-8034-864dad1e0830 div.sk-label label {font-family: monospace;font-weight: bold;background-color: white;display: inline-block;line-height: 1.2em;}#sk-8c0f8f5a-a627-470a-8034-864dad1e0830 div.sk-label-container {position: relative;z-index: 2;text-align: center;}#sk-8c0f8f5a-a627-470a-8034-864dad1e0830 div.sk-container {/* jupyter's `normalize.less` sets `[hidden] { display: none; }` but bootstrap.min.css set `[hidden] { display: none !important; }` so we also need the `!important` here to be able to override the default hidden behavior on the sphinx rendered scikit-learn.org. See: https://github.com/scikit-learn/scikit-learn/issues/21755 */display: inline-block !important;position: relative;}#sk-8c0f8f5a-a627-470a-8034-864dad1e0830 div.sk-text-repr-fallback {display: none;}</style><div id=\"sk-8c0f8f5a-a627-470a-8034-864dad1e0830\" class=\"sk-top-container\"><div class=\"sk-text-repr-fallback\"><pre>Pipeline(steps=[(&#x27;standardscaler&#x27;, StandardScaler()),\n",
       "                (&#x27;pca&#x27;, PCA(n_components=2)),\n",
       "                (&#x27;logisticregression&#x27;, LogisticRegression(random_state=1))])</pre><b>Please rerun this cell to show the HTML repr or trust the notebook.</b></div><div class=\"sk-container\" hidden><div class=\"sk-item sk-dashed-wrapped\"><div class=\"sk-label-container\"><div class=\"sk-label sk-toggleable\"><input class=\"sk-toggleable__control sk-hidden--visually\" id=\"9a0f5545-c56a-4684-9fb9-4fc838eec619\" type=\"checkbox\" ><label for=\"9a0f5545-c56a-4684-9fb9-4fc838eec619\" class=\"sk-toggleable__label sk-toggleable__label-arrow\">Pipeline</label><div class=\"sk-toggleable__content\"><pre>Pipeline(steps=[(&#x27;standardscaler&#x27;, StandardScaler()),\n",
       "                (&#x27;pca&#x27;, PCA(n_components=2)),\n",
       "                (&#x27;logisticregression&#x27;, LogisticRegression(random_state=1))])</pre></div></div></div><div class=\"sk-serial\"><div class=\"sk-item\"><div class=\"sk-estimator sk-toggleable\"><input class=\"sk-toggleable__control sk-hidden--visually\" id=\"d179e42c-8bc9-4b6f-b497-35b2c79fc3d5\" type=\"checkbox\" ><label for=\"d179e42c-8bc9-4b6f-b497-35b2c79fc3d5\" class=\"sk-toggleable__label sk-toggleable__label-arrow\">StandardScaler</label><div class=\"sk-toggleable__content\"><pre>StandardScaler()</pre></div></div></div><div class=\"sk-item\"><div class=\"sk-estimator sk-toggleable\"><input class=\"sk-toggleable__control sk-hidden--visually\" id=\"28d10067-3257-4bac-963d-86f554685946\" type=\"checkbox\" ><label for=\"28d10067-3257-4bac-963d-86f554685946\" class=\"sk-toggleable__label sk-toggleable__label-arrow\">PCA</label><div class=\"sk-toggleable__content\"><pre>PCA(n_components=2)</pre></div></div></div><div class=\"sk-item\"><div class=\"sk-estimator sk-toggleable\"><input class=\"sk-toggleable__control sk-hidden--visually\" id=\"902e5799-6fad-4788-b87e-b242d0f39607\" type=\"checkbox\" ><label for=\"902e5799-6fad-4788-b87e-b242d0f39607\" class=\"sk-toggleable__label sk-toggleable__label-arrow\">LogisticRegression</label><div class=\"sk-toggleable__content\"><pre>LogisticRegression(random_state=1)</pre></div></div></div></div></div></div></div>"
      ],
      "text/plain": [
       "Pipeline(steps=[('standardscaler', StandardScaler()),\n",
       "                ('pca', PCA(n_components=2)),\n",
       "                ('logisticregression', LogisticRegression(random_state=1))])"
      ]
     },
     "execution_count": 6,
     "metadata": {},
     "output_type": "execute_result"
    }
   ],
   "source": [
    "from sklearn import set_config\n",
    "\n",
    "set_config(display='diagram')\n",
    "pipe_lr"
   ]
  },
  {
   "attachments": {},
   "cell_type": "markdown",
   "id": "a87fe137-51e8-4564-97c0-cfa9040c8bea",
   "metadata": {},
   "source": [
    "# 2.k-fold cross validation\n",
    "\n",
    "- 적절한 편향-분산 트레이드오프를 찾으려면 모델을 주의 깊게 평가해야 함\n",
    "- 보편적인 교차 검증 기법인 <span style=\"color:gold\">**홀드아웃 교차 검증**</span>과 <span style=\"color:gold\">**k-겹 교차검증**</span>을 알아 볼 것\n",
    "- 이런 방법들은 모델의 일반화 성능 (처음 본 데이터에 모델이 얼마나 잘 동작하는지 신뢰할 만한) 추정을 하도록 도와줌"
   ]
  },
  {
   "attachments": {},
   "cell_type": "markdown",
   "id": "2012d57a-693a-4e28-a52d-d91b4d30d7db",
   "metadata": {},
   "source": [
    "## 2.1.홀드아웃 방법\n",
    "\n",
    "- 별도의 훈련 데이터셋과 테스트 데이터셋으로 나눔\n",
    "- 전자는 모델 훈련에 사용, 후자는 일반화 성능 추정에 사용\n",
    "- 일반적인 머신 러닝 애플리케이션에서는 처음 본 데이터에서 예측 성능을 높이기 위해 하이퍼파라미터를 튜닝하고 비교\n",
    "- 이 과정을 모델 선택 이라고 함\n",
    "- 모델 선택이란 이름은 주어진 분류 문제에서 튜닝할 파림터(또는 하이퍼파라미터)의 최적 값을 선택해야 하는 것을 의미\n",
    "- 모델 선택에 같은 테스트 데이터셋을 반복해서 재사용하면 훈련 데이터셋의 일부가 되는 셈이고 결국 모델은 과대적합이 됨\n",
    "- 모델 선택에 홀드아웃 방법을 사용하는 가장 좋은 방법은 데이터를 훈련 데이터셋, 검증 데이터셋, 테스트 데이터셋 세 개의 부분으로 나누는 것\n",
    "- 검증 데이터셋에 대한 성능은 모델 선택에 사용\n",
    "- 훈련과 모델 선택 단계에서 모델이 만나지 못한 테스트 데이터셋을 분리했기 때문에 새로운 데이터에 대한 일반화 능력을 덜 편향되게 추정할 수 있음\n",
    "- 검증 데이터셋을 사용하여 반복적으로 다른 파라미터 값에서 모델을 훈련한 후 성능을 평가\n",
    "- 만족할 만한 하이퍼파라미터 값을 얻었다면 테스트 데이터셋에서 모델의 일반화 성능을 추정\n",
    "- 그러나 훈련 데이터를 훈련 데이터셋과 검증 데이터셋으로 나누는 방법에 따라 성능 추정이 민감할 수 있다는 것이 단점이 됨"
   ]
  },
  {
   "attachments": {},
   "cell_type": "markdown",
   "id": "b3240bb2-d6e9-4639-adca-8669dc33cc4d",
   "metadata": {},
   "source": [
    "## 2.2.k-겹 교차 검증\n",
    "\n",
    "- 중복을 허용하지 않고 훈련 데이터셋을 k개의 폴드로 랜덤하게 나눔. k-1개의 폴드로 모델을 훈련하고 나머지 하나의 폴드로 성능을 평가함\n",
    "- 이 과정을 k번 반복하여 k개의 모델과 성능 추정을 얻음\n",
    "- 서로 다른 독립적인 폴드에서 얻은 성능 추정을 기반으로 모델의 평균 성능 계산\n",
    "- 홀드아웃에 비해 훈련 데이터셋의 분할에 덜 민감한 성능 추정을 얻을 수 있음\n",
    "- 최적 하이퍼파라미터 값을 찾기 위해 사용\n",
    "- 중복을 허용하지 않는 리샘플링 기법이기 때문에 모든 샘플 포인트가 훈련하는 동안 검증에 딱 한 번 사용되는 장점이 있음\n",
    "- 홀드아웃 방법보다 모델 성능의 추정에 분산이 낮음\n",
    "- 경험적으로 10겹 교차 검증이 가장 뛰어난 편향-분산 트레이드오프를 가진다고 제안함\n",
    "- 비교적 작은 훈련 데이터셋으로 작업할 때는 폴드 개수를 늘리는 것이 좋음\n",
    "- k값이 증가하면 더 많은 훈련 데이터가 각 반복에 사용되고 모델 성능을 평균하여 일반화 성능을 추정할 때 더 낮은 편향을 만듦\n",
    "- k값이 아주 크면 실행 시간이 늘고, 분산이 높은 추정을 만듦 (훈련 폴드가 서로 많이 비슷해지기 때문)\n",
    "- 대규모 데이터셋에서는 k=5와 같은 작은 값을 선택해도 모델 평균 성능을 정확히 추정할 수 있음\n",
    "\n",
    "```text\n",
    "* LOOCV 방법\n",
    "\n",
    "- LOOCV(Leave-One-Out Cross-Validation)에서는 폴드 개수가 훈련 샘플 개수와 같음 (k=n)\n",
    "- 즉, 하나의 훈련 샘플이 각 반복에서 테스트로 사용됨\n",
    "- 아주 작은 데이터 셋에서 권장\n",
    "- 사이킷런의 sklearn.model_selection.LeaveOneOut 으로 사용\n",
    "```\n",
    "\n",
    "- 기본 k-겹 교차 검증보다 좀 더 향상된 방법은 계층적 k-겹 교차검증\n",
    "- 좀 더 나은 편향과 분산 추정을 만듦\n",
    "- 특히 클래스 비율이 동등하지 않을 때 좋음\n",
    "- 계층적 교차 검증은 각 폴드에서 클래스 비율이 전체 훈련 데이터셋에 있는 클래스 비율을 대표하도록 유지\n",
    "- 사이킷런의 `StartifiedKFold` 반복자를 사용\n",
    "- `shuffle=True`로 지정하면 폴드를 나누기 전에 샘플을 섞음 (기본값은 False)"
   ]
  },
  {
   "cell_type": "code",
   "execution_count": 7,
   "id": "00033534-4e83-4c3a-97da-27178cab061b",
   "metadata": {},
   "outputs": [
    {
     "name": "stdout",
     "output_type": "stream",
     "text": [
      "폴드: 1, 클래스 분포: [256 153], 정확도: 0.9347826086956522\n",
      "폴드: 2, 클래스 분포: [256 153], 정확도: 0.9347826086956522\n",
      "폴드: 3, 클래스 분포: [256 153], 정확도: 0.9565217391304348\n",
      "폴드: 4, 클래스 분포: [256 153], 정확도: 0.9565217391304348\n",
      "폴드: 5, 클래스 분포: [256 153], 정확도: 0.9347826086956522\n",
      "폴드: 6, 클래스 분포: [257 153], 정확도: 0.9555555555555556\n",
      "폴드: 7, 클래스 분포: [257 153], 정확도: 0.9777777777777777\n",
      "폴드: 8, 클래스 분포: [257 153], 정확도: 0.9333333333333333\n",
      "폴드: 9, 클래스 분포: [257 153], 정확도: 0.9555555555555556\n",
      "폴드: 10, 클래스 분포: [257 153], 정확도: 0.9555555555555556\n",
      "\n",
      "CV정확도: 0.9495169082125603 +/- 0.013854294239660376\n"
     ]
    }
   ],
   "source": [
    "import numpy as np\n",
    "from sklearn.model_selection import StratifiedKFold as SKFold\n",
    "\n",
    "kfold = SKFold(n_splits=10).split(X_train, y_train)\n",
    "scores = []\n",
    "\n",
    "for k, (train, test) in enumerate(kfold):\n",
    "    pipe_lr.fit(X_train[train], y_train[train])\n",
    "    score = pipe_lr.score(X_train[test], y_train[test])\n",
    "    scores.append(score)\n",
    "    print(f\"폴드: {k+1}, 클래스 분포: {np.bincount(y_train[train])}, 정확도: {score}\")\n",
    "    \n",
    "print(f\"\\nCV정확도: {np.mean(scores)} +/- {np.std(scores)}\")"
   ]
  },
  {
   "attachments": {},
   "cell_type": "markdown",
   "id": "fbc8737a-1eb5-4098-beeb-74c86ea5f6a8",
   "metadata": {},
   "source": [
    "- 사이킷런의 k-겹 교차 검증 함수 (`cross_val_score`)\n",
    "- `estimator` 매개변수에 전달된 모델이 회귀일 때는 단순 분할 클래스인 `KFold`를 사용\n",
    "- 분류일 때는 `StratifiedKFold`를 사용\n",
    "- `cv` 매개변수에 `KFold`등의 클래스 객체를 직접 전달할 수도 있음"
   ]
  },
  {
   "cell_type": "code",
   "execution_count": 8,
   "id": "f437f2fd-91a8-49a4-9b32-d6adf6d24265",
   "metadata": {},
   "outputs": [
    {
     "name": "stdout",
     "output_type": "stream",
     "text": [
      "CV 정확도 점수: [0.93, 0.93, 0.96, 0.96, 0.93, 0.96, 0.98, 0.93, 0.96, 0.96]\n",
      "CV 정확도: 0.950 +/- 0.014\n"
     ]
    }
   ],
   "source": [
    "from sklearn.model_selection import cross_val_score\n",
    "\n",
    "scores = cross_val_score(estimator=pipe_lr,\n",
    "                         X=X_train,\n",
    "                         y=y_train,\n",
    "                         cv=10,\n",
    "                         n_jobs=1)\n",
    "print(f\"CV 정확도 점수: {list(map(lambda x: round(x, 2), scores))}\")\n",
    "print('CV 정확도: %.3f +/- %.3f' % (np.mean(scores), np.std(scores)))"
   ]
  },
  {
   "attachments": {},
   "cell_type": "markdown",
   "id": "a3e35053-ad89-4b12-8f74-ad4bc1d982e2",
   "metadata": {},
   "source": [
    "- `cross_val_score` 함수가 검증에 사용하는 기본 측정 지표는 회귀 일때는 $R^2$, 분류일 때는 정확도\n",
    "- `scoring` 매개변수를 사용하여 다른 지표로 바꿀 수 있음\n",
    "- 사이킷런 0.19 버전에서는 교차 검증에 여러 측정 지표를 사용할 수 있는 `cross_validate` 함수가 추가됨\n",
    "- 이 함수는 각 폴드에서 훈련과 테스트에 걸린 시간을 반환하고 `scoring` 매개변수에 지정한 평가 지표마다 훈련 점수와 테스트 점수를 반환함\n",
    "- 반환된 딕셔너리에서 훈련 점수와 테스트 점수를 추출하려면 'train_XXXX`, 'test_XXXX' 형식의 키를 사용하면 됨"
   ]
  },
  {
   "cell_type": "code",
   "execution_count": 9,
   "id": "695ae0a0-e60c-4050-882e-66b6c015eea2",
   "metadata": {},
   "outputs": [
    {
     "name": "stdout",
     "output_type": "stream",
     "text": [
      "CV 정확도 점수: [0.93, 0.93, 0.96, 0.96, 0.93, 0.96, 0.98, 0.93, 0.96, 0.96]\n",
      "CV 정확도: 0.950 +/- 0.014\n"
     ]
    }
   ],
   "source": [
    "from sklearn.model_selection import cross_validate\n",
    "scores = cross_validate(estimator=pipe_lr,\n",
    "                        X=X_train,\n",
    "                        y=y_train,\n",
    "                        scoring=['accuracy'],\n",
    "                        cv=10,\n",
    "                        n_jobs=-1)\n",
    "print(f\"CV 정확도 점수: {list(map(lambda x: round(x, 2), scores['test_accuracy']))}\")\n",
    "print('CV 정확도: %.3f +/- %.3f' % (np.mean(scores['test_accuracy']), np.std(scores['test_accuracy'])))"
   ]
  },
  {
   "attachments": {},
   "cell_type": "markdown",
   "id": "0e97f141-aab1-498d-a527-7ccf0a336a8d",
   "metadata": {},
   "source": [
    "- `cross_val_predict` 함수는 `cross_val_score`와 비슷한 인터페이스를 제공하지만 훈련 데이터셋의 각 샘플이 테스트 폴드가 되었을 때 만들어진 예측을 반환\n",
    "- 따라서 `cross_val_predict` 함수의 결과를 사용하여 모델의 성능을 계산하면 `cross_val_score` 함수의 결과와 다름\n",
    "- 또한 바람직한 일반화 성능 추정이 아님\n",
    "- `cross_val_predict` 함수는 훈련 데이터셋에 대한 예측 결과를 시각화하거나 스태킹 앙상블 방법처럼 다른 모델에 주입할 훈련 데이터를 만들기 위해 사용"
   ]
  },
  {
   "cell_type": "code",
   "execution_count": 10,
   "id": "bfdca825-4dd5-4b22-857a-7ee2bb06a306",
   "metadata": {},
   "outputs": [
    {
     "data": {
      "text/plain": [
       "array([0, 0, 0, 0, 0, 0, 0, 1, 1, 1])"
      ]
     },
     "execution_count": 10,
     "metadata": {},
     "output_type": "execute_result"
    }
   ],
   "source": [
    "from sklearn.model_selection import cross_val_predict\n",
    "preds = cross_val_predict(estimator=pipe_lr,\n",
    "                        X=X_train,\n",
    "                        y=y_train,\n",
    "                        cv=10,\n",
    "                        n_jobs=-1)\n",
    "preds[:10]"
   ]
  },
  {
   "attachments": {},
   "cell_type": "markdown",
   "id": "3473fb12-984b-495f-bb7c-1a99ea981c84",
   "metadata": {},
   "source": [
    "- `method` 매개변수에 반환될 값을 계산하기 위한 모델의 메서드를 지정할 수 있음\n",
    "- 예를 들어 `method='predict_proba'`로 지정하면 예측 확률을 반환 (predict, predict_proba, predict_log_proba, decision_function 등 default='predict')"
   ]
  },
  {
   "cell_type": "code",
   "execution_count": 11,
   "id": "e645579e-b97c-4469-b90b-ad36d8b0b3af",
   "metadata": {},
   "outputs": [
    {
     "data": {
      "text/plain": [
       "array([[9.93982352e-01, 6.01764759e-03],\n",
       "       [7.64328337e-01, 2.35671663e-01],\n",
       "       [9.72683946e-01, 2.73160539e-02],\n",
       "       [8.41658121e-01, 1.58341879e-01],\n",
       "       [9.97144940e-01, 2.85506043e-03],\n",
       "       [9.99803660e-01, 1.96339882e-04],\n",
       "       [9.99324159e-01, 6.75840609e-04],\n",
       "       [2.12145074e-06, 9.99997879e-01],\n",
       "       [1.28668437e-01, 8.71331563e-01],\n",
       "       [7.76260670e-04, 9.99223739e-01]])"
      ]
     },
     "execution_count": 11,
     "metadata": {},
     "output_type": "execute_result"
    }
   ],
   "source": [
    "from sklearn.model_selection import cross_val_predict\n",
    "preds = cross_val_predict(estimator=pipe_lr,\n",
    "                        X=X_train,\n",
    "                        y=y_train,\n",
    "                        cv=10,\n",
    "                        method='predict_proba',\n",
    "                        n_jobs=-1)\n",
    "preds[:10]"
   ]
  },
  {
   "attachments": {},
   "cell_type": "markdown",
   "id": "7d01470e-4f0a-4ee4-a326-544ec8c433cb",
   "metadata": {},
   "source": [
    "- `cross_val_score` 함수의 아주 유용한 기능은 각 폴드의 평가를 컴퓨터에 있는 복수 개의 CPU 코어에 분산할 수 있다는 점\n",
    "- `n_jobs=1`이면 하나의 CPU 코어만 성능 평가에 사용\n",
    "- `n_jobs=2`이면 두 개의 CPU 코어를 성능 평가에 사용\n",
    "- `n_jobs=-1`이면 모든 CPU 코어를 사용"
   ]
  },
  {
   "attachments": {},
   "cell_type": "markdown",
   "id": "a636ffa9-247b-4c26-90ee-bceafffc453f",
   "metadata": {},
   "source": [
    "# 3.학습 곡선과 검증 곡선을 사용한 알고리즘 디버깅"
   ]
  },
  {
   "attachments": {},
   "cell_type": "markdown",
   "id": "79bffc5d-3182-415f-a3ab-9aa44ca974cb",
   "metadata": {},
   "source": [
    "## 3.1.학습 곡선으로 편향과 분산 문제 분석\n",
    "\n",
    "- 주어진 훈련 데이터셋에 비해 모델이 너무 복잡하면 (모델의 자유도, 모델 파라미터가 너무 많으면) 모델이 훈련 데이터에 과대적합되고 처음 본 데이터에 잘 일반화되지 못함\n",
    "- 훈련 샘플을 더 모으면 과대적합을 줄이는 데 도움이 됨\n",
    "- 모델의 훈련 정확도와 검증 정확도를 훈련 데이터셋의 크기 함수로 그래프를 그려 보면 모델에 높은 분산의 문제가 있는지 높은 편향의 문제가 있는지 쉽게 감지할 수 있음\n",
    "- 이를 통해 더 많은 데이터를 모으는 것이 문제를 해결할 수 있을지 판단이 가능해짐\n",
    "\n",
    "<center><img src=\"./etc_files/편향_분산_트레이드오프.JPG\" width=\"650\" height=\"500\"></center>\n",
    "\n",
    "- 왼쪽 위 그래프는 편향이 높은 모델을 보여줌\n",
    "    - 훈련 정확도와 교차 검증 정확도가 모두 낮음\n",
    "    - 훈련 데이터에 과소적합되었음을 나타냄\n",
    "    - 문제 해결 방법은 모델 파라미터 개수를 늘리는 것\n",
    "    - 추가적인 특성을 수집하거나 만듦\n",
    "    - SVM이나 LGR 분류기에서 규제 강도를 줄임\n",
    "- 오른쪽 위 그래프는 분산이 높은 모델을 보여줌\n",
    "    - 훈련 정확도와 교차 검증 정확도 사이에 큰 차이가 있다는 것을 나타냄\n",
    "    - 과대적합 문제를 해결하려면 더 많은 훈련 데이터를 모아야 함\n",
    "    - 또는 모델 복잡도를 낮추거나 규제를 증가\n",
    "    - 규제가 없는 모델은 특성 선택/ 특성 추출을 통해 특성 개수를 줄여 과대적합을 감소시킴"
   ]
  },
  {
   "cell_type": "code",
   "execution_count": 12,
   "id": "656e2d58-545b-440b-8fa9-6111d24f5695",
   "metadata": {},
   "outputs": [
    {
     "data": {
      "image/png": "[encoded data removed]",
      "text/plain": [
       "<Figure size 432x288 with 1 Axes>"
      ]
     },
     "metadata": {
      "needs_background": "light"
     },
     "output_type": "display_data"
    }
   ],
   "source": [
    "from matplotlib import pyplot as plt\n",
    "from sklearn.model_selection import learning_curve\n",
    "\n",
    "pipe_lr = make_pipeline(SDS(), LGR(penalty='l2', random_state=1))\n",
    "train_sizes, train_scores, test_scores = learning_curve(estimator=pipe_lr,\n",
    "                                                        X=X_train,\n",
    "                                                        y=y_train,\n",
    "                                                        train_sizes=np.linspace(0.1, 1.0, 10),\n",
    "                                                        cv=10,\n",
    "                                                        n_jobs=1)\n",
    "train_mean = np.mean(train_scores, axis=1)\n",
    "train_std = np.std(train_scores, axis=1)\n",
    "test_mean = np.mean(test_scores, axis=1)\n",
    "test_std = np.std(test_scores, axis=1)\n",
    "\n",
    "plt.plot(train_sizes, train_mean, color='blue', marker='o', markersize=5, label='Training accuracy')\n",
    "plt.fill_between(train_sizes, train_mean+train_std, train_mean-train_std, alpha=.15, color='blue')\n",
    "plt.plot(train_sizes, test_mean, color='green', linestyle='--', marker='s', markersize=5, label='validation accuracy')\n",
    "plt.fill_between(train_sizes, test_mean+test_std, test_mean-test_std, alpha=.15, color='green')\n",
    "\n",
    "plt.grid()\n",
    "plt.xlabel('Number of training examples')\n",
    "plt.ylabel('Accuracy')\n",
    "plt.legend(loc='best')\n",
    "plt.ylim([0.8, 1.03])\n",
    "plt.tight_layout()\n",
    "plt.show()"
   ]
  },
  {
   "attachments": {},
   "cell_type": "markdown",
   "id": "95657d09-695b-445d-a3fb-66cef0761dc8",
   "metadata": {},
   "source": [
    "- `learning_curve` 함수의 `train_sizes` 매개변수의 기본값은 `np.linspace(0.1, 1.0 ,5)\n",
    "- `cv` 매개변수의 기본값은 5\n",
    "- 회귀 문제일 때는 `KFold`를, 분류 문제일 경우 `StratifiedKFold`를 사용\n",
    "- `shffle` 매개변수를 `True`로 지정하면 훈련 데이터셋을 사용하기 전에 섞음\n",
    "- `return_times` 매개변수를 `True`로 지정하면 훈련과 평가에 걸린 시간을 반환\n",
    "- `fit` 메서드에 필요한 매개변수와 값을 딕셔너리 형태로 지정할 수 있는 `fit_params` 매개변수 추가됨 (0.24버전)"
   ]
  },
  {
   "attachments": {},
   "cell_type": "markdown",
   "id": "788f2826-a1cc-4a8a-bc9d-04e4738ff42c",
   "metadata": {},
   "source": [
    "## 3.2.검증 곡선으로 과대적합 과소적합 조사"
   ]
  },
  {
   "cell_type": "code",
   "execution_count": 13,
   "id": "bb6ae699-d8ff-4b15-aac9-dd2380682624",
   "metadata": {},
   "outputs": [
    {
     "data": {
      "image/png": "[encoded data removed]",
      "text/plain": [
       "<Figure size 432x288 with 1 Axes>"
      ]
     },
     "metadata": {
      "needs_background": "light"
     },
     "output_type": "display_data"
    }
   ],
   "source": [
    "from sklearn.model_selection import validation_curve\n",
    "param_range = [10**i for i in range(-3,3)]\n",
    "train_scores, test_scores = validation_curve(\n",
    "    estimator=pipe_lr,\n",
    "    X=X_train,\n",
    "    y=y_train,\n",
    "    param_name='logisticregression__C',\n",
    "    param_range=param_range,\n",
    "    cv=10,\n",
    "    n_jobs=-1\n",
    ")\n",
    "\n",
    "train_mean = np.mean(train_scores, axis=1)\n",
    "train_std = np.std(train_scores, axis=1)\n",
    "test_mean = np.mean(test_scores, axis=1)\n",
    "test_std = np.std(test_scores, axis=1)\n",
    "plt.plot(param_range, train_mean, color='blue', marker='o', markersize=5, label='Training accuracy')\n",
    "plt.fill_between(param_range, train_mean+train_std, train_mean-train_std, alpha=.15, color='blue')\n",
    "plt.plot(param_range, test_mean, color='green', linestyle='--', marker='x', markersize=5, label='Validation accuracy')\n",
    "plt.fill_between(param_range, test_mean+test_std, test_mean-test_std, alpha=.15, color='green')\n",
    "plt.grid()\n",
    "plt.xscale('log')\n",
    "plt.xlabel('Parameter C')\n",
    "plt.ylabel('Accuracy')\n",
    "plt.ylim([.8, 1.03])\n",
    "plt.tight_layout()\n",
    "plt.show()"
   ]
  },
  {
   "attachments": {},
   "cell_type": "markdown",
   "id": "714344b2-5d3d-4be2-8434-c56d589f8719",
   "metadata": {},
   "source": [
    "- `validation_curve`는 함수 안에서 평가하기 원하는 매개변수를 지정함\n",
    "- 규제 강도가 커질수록 과소적합, 0.001에서는 과대적합 되는 모습을 보임"
   ]
  },
  {
   "attachments": {},
   "cell_type": "markdown",
   "id": "49787def-1a35-4917-9a7b-6ed5d4d51b50",
   "metadata": {},
   "source": [
    "# 4.그리드 서치를 사용한 머신 러닝 모델 세부 튜닝\n",
    "\n",
    "- 하이퍼파라미터 최적화\n",
    "- 최적 하이퍼파라미터 조합을 찾음으로 모델 성능 향상"
   ]
  },
  {
   "attachments": {},
   "cell_type": "markdown",
   "id": "4bb04472-6abf-43aa-92ca-16bcf91c5852",
   "metadata": {},
   "source": [
    "## 4.1.그리드 서치를 사용한 하이퍼파라미터 튜닝"
   ]
  },
  {
   "cell_type": "code",
   "execution_count": 14,
   "id": "43158e9f-f64c-432c-a899-baaa7980131a",
   "metadata": {},
   "outputs": [
    {
     "name": "stdout",
     "output_type": "stream",
     "text": [
      "0.9868599033816425\n",
      "{'svc__C': 10, 'svc__kernel': 'rbf'}\n"
     ]
    }
   ],
   "source": [
    "from sklearn.model_selection import GridSearchCV\n",
    "from sklearn.svm import SVC\n",
    "\n",
    "pipe_svc = make_pipeline(SDS(), SVC(random_state=1))\n",
    "param_range = [10**i for i in range(-4, 4)]\n",
    "param_grid = [\n",
    "    {'svc__C': param_range, 'svc__kernel': ['linear']},\n",
    "    {'svc__C': param_range, 'svc__kernel': ['rbf']}\n",
    "]\n",
    "gs = GridSearchCV(estimator=pipe_svc, param_grid=param_grid, scoring='accuracy', cv=10, refit=True, n_jobs=-1)\n",
    "gs = gs.fit(X_train, y_train)\n",
    "print(gs.best_score_)\n",
    "print(gs.best_params_)"
   ]
  },
  {
   "attachments": {},
   "cell_type": "markdown",
   "id": "e7900732-d47a-45b9-a477-4fec0f6713f1",
   "metadata": {},
   "source": [
    "- 마지막으로 독립적인 테스트 데이터셋을 사용하고 최고 모델의 성능을 추정함\n",
    "- `GridSearchCV`객체의 `best_estimator_` 속성에서 얻을 수 있음"
   ]
  },
  {
   "cell_type": "code",
   "execution_count": 15,
   "id": "5ef7d95f-7af1-4a54-8f60-595bf906a855",
   "metadata": {},
   "outputs": [
    {
     "name": "stdout",
     "output_type": "stream",
     "text": [
      "Test Accuracy: 0.956\n"
     ]
    }
   ],
   "source": [
    "clf = gs.best_estimator_\n",
    "clf.fit(X_train, y_train)\n",
    "print('Test Accuracy: %.3f' % (clf.score(X_test, y_test)))"
   ]
  },
  {
   "attachments": {},
   "cell_type": "markdown",
   "id": "f7a87fd5-a047-4726-9704-2f82dcee3219",
   "metadata": {},
   "source": [
    "- **GridSearchCV에 대한 추가 사항**\n",
    "    - `GridSearchCV` 클래스와 `cross_validate` 함수에서 `return_train_score` 매개변수를 True로 지정하면 훈련 폴드에 대한 점수를 계산하여 반환함\n",
    "    - 훈련 데이터셋에 대한 점수를 보고 과대적합과 과소적합에 대한 정보를 얻을 수 있지만 실행 시간이 오래 걸릴 수 있음\n",
    "    - `param_range`에 여덟 개의 값이 지정되어 있기 때문에 SVC 모델은 `linear`커널에서 8번, `rbf`커널에 대해 64번의 교차 검증이 수행 됨\n",
    "    - 따라서 훈련 폴드마다 반환되는 점수는 72개\n",
    "    - 이 값은 `GridSearchCV` 클래스의 `cv_results_` 딕셔너리 속성에 `split{폴드번호}_train_score`와 같은 키에 저장되어 있음\n",
    "\n",
    "\n",
    "```python\n",
    "gs = GridSearchCV(estimator=pipe_svc, param_grid=param_grid, scoring='accuracy', cv=10, return_train_score=True, n_jobs=-1)\n",
    "gs = gs.fit(X_train, y_train)\n",
    "gs.cv_results_['split0_train_score']\n",
    "gs.cv_results_['mean_train_score']\n",
    "gs.cv_results_['split0_test_score']\n",
    "gs.score(X_test, y_test)\n",
    "```\n",
    "\n",
    "---\n",
    "- **RandomizedSearchCV**\n",
    "    - 그리드 서치는 최적 매개변수 조합을 찾는 강력한 도구이지만 가능한 모든 매개변수 조합을 평가하기 위해 계산 비용이 매우 많이 듦\n",
    "    - 여러 매개변수 조합을 샘플링하는 다른 방법으로 랜덤 서치가 있음\n",
    "    - 그리드 서치와 비슷한 성능을 내지만 훨씬 비용과 시간이 적게 듦\n",
    "    - 특히 랜덤 서치에서 60개의 파라미터 조합이 있다면 최적의 성능에서 5% 이내에 있는 솔루션을 얻을 확률이 95%임\n",
    "    - `RandomizedSearchCV` 클래스를 사용하여 제한된 횟수 안에서 샘플링 분포로부터 랜덤한 매개변수 조합을 뽑음\n",
    "    - 매개변수 탐색 범위가 넓거나 규제 매개변수 `C`처럼 연속적인 값을 탐색해야 하는 경우 `RandomizedSearchCV`가 더 효율적\n",
    "    - 해당 클래스는 `n_iter` 매개변수로 탐색 횟수를 조정할 수 있어 컴퓨팅 자원에 맞게 탐색을 실행할 수 있음\n",
    "    -`GridSearchCV` 클래스에는 탐색할 매개변수 값을 리스트로 전달했지만, `RandomizedSearchCV`에는 샘플링 가능한 분포를 지정해야 함\n",
    "    - 예시로 `scipy.stats.uniform, scipy.stats.randint` 객체 등이 있음\n",
    "    - 0.22 버전에서는 `scipy.stats.reciprocal`을 사용한 로그 균등 분포 클래스 `loguniform`을 제공함\n",
    "\n",
    "```python\n",
    "from sklearn.model_selection import RandomizedSearchCV\n",
    "from sklearn.utils.fixes import loguniform\n",
    "distribution = loguniform(.0001, 1000.0)\n",
    "param_dist = [{'svc__C': distribution, 'svc__kernel': ['linear']}, {'svc__C': distribution, 'svc__kernel': ['rbf']}]\n",
    "rs = RandomizedSearchCV(estimator=pipe_svc, param_distributions=param_dist, n_iter=30, cv=10, random_state=1, n_jobs=-1)\n",
    "rs = rs.fit(X_train, y_train)\n",
    "print(rs.best_scores_)\n",
    "print(rs.best_params_)\n",
    "```\n",
    "---\n",
    "\n",
    "- **HalvingGridSearchCV**\n",
    "    - 모든 파라미터 조합에 대해 제한된 자원으로 실행한 후 가장 좋은 후보를 골라서 더 많은 자원을 투여하는 식으로 반복적으로 탐색을 수행\n",
    "    - 이런 방식을 SH(Successive Halving)이라고 부름\n",
    "    - `HalvingGridSearchCV`의 `resource` 매개변수는 반복마다 늘려 갈 자원을 정의\n",
    "    - 기본값은 `n_samples`로 샘플 개수\n",
    "    - 이외에도 탐색 대상 모델에서 양의 정수 값을 가진 매개변수를 지정할 수 있음(ex - 랜덤 포레스트의 `n_estimators`)\n",
    "    - `factor` 매개변수는 반복마다 선택할 후보의 비율을 지정\n",
    "    - 기본값은 3으로 후보 중에서 성능이 높은 1/3만 다음 반복으로 전달\n",
    "    - `max_resources` 매개변수는 각 후보가 사용할 최대 자원을 지정 (기본값은 'auto'로 `resources='n_samples'`일 때 샘플 개수가 됨)\n",
    "    - `min_resources`는 첫 번째 반복에서 각 후보가 사용할 최소 자원을 지정함 (`resources='n_samples'`이고 `min_resources='smallest'`이면 회귀일 때 $cv \\times 2$가 되고, 분류일 때는 $cv \\times 클래스\\,개수 \\times 2$가 됨, 그 외에는 1)\n",
    "    - `min_resources='exhaust'`이면 앞에서 계산한 값과 `max_resources`를 `factor**n_required_iterations`로 나눈 몫 중 큰 값 (default: 'smallest', `n_required_iterations`는 $\\log_{factor}(전체\\,후보\\,개수)+1$)\n",
    "    - `aggressive_elimination` 매개변수를 `True`로 지정하면 마지막 반복에서 `factor`만큼 후보가 남을 수 있도록 자원을 늘리지 않고 초기에 반복을 여러번 진행 (default: False)\n",
    "\n",
    "\n",
    "```python\n",
    "from sklearn.experimental import enable_halving_search_cv\n",
    "from sklearn.model_selection import HalvingGridSearchCV\n",
    "hgs = HalvingGridSearchCV(estimator=pipe_svc, param_grid=param_grid, cv=10, n_jobs=-1, verbose=1)\n",
    "hgs = hgs.fit(X_train, y_train)\n",
    "print(hgs.bset_score_)\n",
    "print(hgs.best_params_)\n",
    "print(np.lsum(hgs.cv_results_['mean_fit_time']))    # 교차검증에 걸린 시간\n",
    "print('자원 리스트: ', hgs.n_resources_)\n",
    "print('후보 리스트: ', hgs.n_candisates_)\n",
    "```"
   ]
  },
  {
   "attachments": {},
   "cell_type": "markdown",
   "id": "df9cf7c7-581d-4182-97fd-822d1f7a8e56",
   "metadata": {},
   "source": [
    "## 4.2.중첩 교차 검증을 사용한 알고리즘 선택\n",
    "\n",
    "- 그리스 서치와 k-겹 교차 검증을 함께 사용하면 머신 러닝 모델의 성능을 세부 튜닝하기에 좋음\n",
    "- 여러 종류의 머신 러닝 알고리즘을 비교하려면 중첩 교차 검증 방법이 권장됨\n",
    "- 오차 예측 편향 연구 중 바르마와 사이몬은 중첩된 교차 검증을 사용했을 때 테스트 데이터셋에 대한 추정 오차는 거의 편향되지 않는다는 결론을 얻음\n",
    "- 중첩 교차 검증은 바깥쪽 k-겹 교차 검증 루프가 데이터를 훈련 폴드와 테스트 폴드로 나누고 안쪽 루프가 훈련 폴드에서 k-겹 교차 검증을 수행하여 모델을 선택\n",
    "- 모델이 선택되면 테스트 폴드를 사용하여 모델 성능을 평가"
   ]
  },
  {
   "cell_type": "code",
   "execution_count": 16,
   "id": "7a19b295-51f9-4a83-93a1-3f81e16da8de",
   "metadata": {},
   "outputs": [
    {
     "name": "stdout",
     "output_type": "stream",
     "text": [
      "CV 정확도: 0.976 +/- 0.021\n"
     ]
    }
   ],
   "source": [
    "gs = GridSearchCV(estimator=pipe_svc, param_grid=param_grid, scoring='accuracy', cv=2)\n",
    "scores = cross_val_score(gs, X_train, y_train, scoring='accuracy', cv=5)\n",
    "print('CV 정확도: %.3f +/- %.3f' % (np.mean(scores), np.std(scores)))"
   ]
  },
  {
   "attachments": {},
   "cell_type": "markdown",
   "id": "5d196828-cfa2-48a9-a94e-99384847ed5f",
   "metadata": {},
   "source": [
    "- 반환된 평균 교차 검증 점수는 모델의 하이퍼파라미터를 튜닝했을 때 처음 본 데이터에서 기대할 수 잇는 추정 값이 됨\n",
    "- 예를 들어 중첩 교차 검증을 사용하여 SVM 모델과 단일 결정 트리 분류기를 비교할 수 있음"
   ]
  },
  {
   "cell_type": "code",
   "execution_count": 17,
   "id": "7822c29d-5d78-48bb-9c9a-8e37641b9445",
   "metadata": {},
   "outputs": [
    {
     "name": "stdout",
     "output_type": "stream",
     "text": [
      "CV 정확도: 0.934 +/- 0.016\n"
     ]
    }
   ],
   "source": [
    "from sklearn.tree import DecisionTreeClassifier as DTC\n",
    "\n",
    "gs = GridSearchCV(estimator=DTC(random_state=0), param_grid=[{'max_depth': [1, 2, 3, 4, 5, 6, 7, None]}], scoring='accuracy', cv=2)\n",
    "scores = cross_val_score(gs, X_train, y_train, scoring='accuracy', cv=5)\n",
    "print('CV 정확도: %.3f +/- %.3f' % (np.mean(scores), np.std(scores)))"
   ]
  },
  {
   "attachments": {},
   "cell_type": "markdown",
   "id": "97e6c9cd-45e8-4b0a-9df9-a73897568245",
   "metadata": {},
   "source": [
    "# 5.여러 가지 성능 지표\n",
    "\n",
    "- 일반적으로 분류 모델의 성능을 정량화하는 데 유용함\n",
    "- 주어진 문제에 모델이 적합한지 측정할 수 있는 다른 성능 지표도 여러 존재함\n",
    "- 정밀도, 재현율, F1-점수가 있음"
   ]
  },
  {
   "attachments": {},
   "cell_type": "markdown",
   "id": "03125b60-0d02-4e86-868c-7aa219ef2422",
   "metadata": {},
   "source": [
    "## 5.1.오차 행렬\n",
    "\n",
    "- 오차 행렬\n",
    "\n",
    "|||예|측|\n",
    "|--|--|--|--|\n",
    "|||**N**|**P**|\n",
    "|**실**|**N**|TN|FP|\n",
    "|**제**|**P**|FN|TP|\n",
    "\n",
    "- TP(진짜 양성), TN(진짜 음성), FP(거짓 양성), FN(거짓 음성)"
   ]
  },
  {
   "cell_type": "code",
   "execution_count": 18,
   "id": "30659ad1-79c5-40bc-a751-8cb28416e4d9",
   "metadata": {},
   "outputs": [
    {
     "data": {
      "text/plain": [
       "array([[71,  1],\n",
       "       [ 2, 40]], dtype=int64)"
      ]
     },
     "execution_count": 18,
     "metadata": {},
     "output_type": "execute_result"
    }
   ],
   "source": [
    "from sklearn.metrics import confusion_matrix\n",
    "\n",
    "pipe_svc.fit(X_train, y_train)\n",
    "y_pred = pipe_svc.predict(X_test)\n",
    "confmat = confusion_matrix(y_true=y_test, y_pred=y_pred)\n",
    "confmat"
   ]
  },
  {
   "cell_type": "code",
   "execution_count": 19,
   "id": "1b61aee4-6512-4906-85be-8b25a9312ee1",
   "metadata": {},
   "outputs": [
    {
     "data": {
      "image/png": "[encoded data removed]",
      "text/plain": [
       "<Figure size 180x180 with 1 Axes>"
      ]
     },
     "metadata": {
      "needs_background": "light"
     },
     "output_type": "display_data"
    }
   ],
   "source": [
    "fig, ax = plt.subplots(figsize=(2.5,2.5))\n",
    "ax.matshow(confmat, cmap=plt.cm.Blues, alpha=.3)\n",
    "for i in range(confmat.shape[0]):\n",
    "    for j in range(confmat.shape[1]):\n",
    "        ax.text(x=j, y=i, s=confmat[i, j], va='center', ha='center')\n",
    "plt.xlabel('Predicted label')\n",
    "plt.ylabel('True label')\n",
    "plt.tight_layout()\n",
    "plt.show()"
   ]
  },
  {
   "cell_type": "code",
   "execution_count": 20,
   "id": "5ee9122d-d6ac-49cb-ac6f-b15e012898e3",
   "metadata": {},
   "outputs": [
    {
     "data": {
      "image/png": "[encoded data removed]",
      "text/plain": [
       "<Figure size 432x288 with 2 Axes>"
      ]
     },
     "metadata": {
      "needs_background": "light"
     },
     "output_type": "display_data"
    }
   ],
   "source": [
    "from sklearn.metrics import ConfusionMatrixDisplay\n",
    "pipe_svc.fit(X_train, y_train)\n",
    "ConfusionMatrixDisplay.from_estimator(pipe_svc, X_test, y_test)\n",
    "plt.show()"
   ]
  },
  {
   "cell_type": "code",
   "execution_count": 21,
   "id": "1d1848cc-0c11-459c-ac18-cf6ba0b97f42",
   "metadata": {},
   "outputs": [
    {
     "data": {
      "image/png": "[encoded data removed]",
      "text/plain": [
       "<Figure size 432x288 with 2 Axes>"
      ]
     },
     "metadata": {
      "needs_background": "light"
     },
     "output_type": "display_data"
    }
   ],
   "source": [
    "ConfusionMatrixDisplay.from_estimator(pipe_svc, X_test, y_test, normalize='all')\n",
    "plt.show()"
   ]
  },
  {
   "attachments": {},
   "cell_type": "markdown",
   "id": "2376e2e5-9b22-4ebb-b51c-25256c39c5b0",
   "metadata": {},
   "source": [
    "## 5.2.분류 모델의 정밀도와 재현율 최적화\n",
    "\n",
    "- 예측 오차(ERR)과 정확도(ACC) 모두 얼마나 많은 샘플을 잘못 분류했는지 일반적인 정보를 알려줌\n",
    "- 정확도는 옳은 예측의 합을 전체 예측 샘플 개수로 나누어 계산\n",
    "\n",
    "$$\\begin{align*}\n",
    "ERR &= \\frac{FP+FN}{FP+FN+TP+TN} \\\\\n",
    "ACC &= \\frac{TP+TN}{FP+FN+TP+TN}=1-ERR\n",
    "\\end{align*}$$\n",
    "\n",
    "- 진짜 양성 비율(TPR)과 거짓 양성 비율(FPR)은 클래스 비율이 다른 경우 유용한 성능 지표\n",
    "\n",
    "$$\\begin{align*}\n",
    "FPR &= \\frac{FP}{N} = \\frac{FP}{FP+TN} \\\\\n",
    "TPR &= \\frac{TP}{P} = \\frac{TP}{TP+FN}\n",
    "\\end{align*}$$\n",
    "\n",
    "- 예를 들어 종양 진단 문제에서는 환자가 적절한 치료를 받을 수 있도록 악성 종양을 감지하는 데 관심이 있음\n",
    "- 또 불필요하게 환자에게 걱정을 끼치지 않도록 음성 종양이 악성으로 분류되는 경우(FN)를 줄이는 것이 중요\n",
    "- FPR에 비해서 TPR은 전체 양성 샘플(P) 중에서 올바르게 분류된 양성 샘플의 비율을 알려줌\n",
    "- 정밀도(PRE)와 재현율(REC) 성능 지표는 진짜 양성과 진짜 음성 샘플의 비율과 관련이 있음\n",
    "\n",
    "$$\\begin{align*}\n",
    "PRE &= \\frac{TP}{TP+FP} \\\\\n",
    "REC = TPR &= \\frac{TP}{P} = \\frac{TP}{TP+FN}\n",
    "\\end{align*}$$\n",
    "\n",
    "- 악성 종양 감지 문제에서 재현율을 최적화하면 악성 종양을 감지하지 못할 확률을 최소화하는 데 도움이 됨\n",
    "- 그러나 건강한 환자임에도 악성 종양으로 예측하는 비용이 발생(높은 FP 때문에)\n",
    "- 반대로 정밀도를 최적화하면 환자가 악성 종양을 가졌는지 정확히 예측하게 됨\n",
    "- 그러나 악성 종양 환자를 자주 놓치는 결과를 초래함 (높은 FN 때문에)\n",
    "- PRE와 REC 최적화로 인한 장단점의 균형을 맞추기 위해 PRE와 REC를 조합한 F1-Score를 자주 사용\n",
    "\n",
    "$$\n",
    "F1 = 2\\frac{PRE \\times REC}{PRE + REC}\n",
    "$$"
   ]
  },
  {
   "cell_type": "code",
   "execution_count": 22,
   "id": "e6393e86",
   "metadata": {},
   "outputs": [
    {
     "name": "stdout",
     "output_type": "stream",
     "text": [
      "Precision: 0.976\n",
      "recall_score: 0.952\n",
      "F1 Score: 0.964\n"
     ]
    }
   ],
   "source": [
    "from sklearn.metrics import precision_score, recall_score, f1_score\n",
    "\n",
    "print('Precision: %.3f' % precision_score(y_true=y_test, y_pred=y_pred))\n",
    "print('recall_score: %.3f' % recall_score(y_true=y_test, y_pred=y_pred))\n",
    "print('F1 Score: %.3f' % f1_score(y_true=y_test, y_pred=y_pred))"
   ]
  },
  {
   "attachments": {},
   "cell_type": "markdown",
   "id": "059f17d0",
   "metadata": {},
   "source": [
    "- 또한 `GridSearchCV`의 `scoring` 매개변수를 사용하여 정확도 대신 다른 성능 지표를 사용할 수 있음\n",
    "- 사이킷런에서 양성 클래스는 레이블이 1인 클래스임\n",
    "- 양성 레이블을 바꾸고 싶다면 `make_scorer`함수를 사용하여 자신만의 함수를 만들 수 있음\n",
    "- 그 다음 `GridSearchCV`의 `scoring` 매개변수에 전달할 수 있음"
   ]
  },
  {
   "cell_type": "code",
   "execution_count": 23,
   "id": "d1c60b90",
   "metadata": {},
   "outputs": [
    {
     "name": "stdout",
     "output_type": "stream",
     "text": [
      "0.9861994953378878\n",
      "{'svc__C': 10, 'svc__gamma': 0.01, 'svc__kernel': 'rbf'}\n"
     ]
    }
   ],
   "source": [
    "from sklearn.metrics import make_scorer, f1_score\n",
    "scorer = make_scorer(f1_score, pos_label=0)\n",
    "c_gamma_range = [10**i for i in range(-2, 3)]\n",
    "param_grid = [\n",
    "    {'svc__C': c_gamma_range, 'svc__kernel': ['linear']},\n",
    "    {'svc__C': c_gamma_range, 'svc__gamma': c_gamma_range, 'svc__kernel': ['rbf']}\n",
    "]\n",
    "gs = GridSearchCV(estimator=pipe_svc, param_grid=param_grid, scoring=scorer, cv=10)\n",
    "gs = gs.fit(X_train, y_train)\n",
    "print(gs.best_score_)\n",
    "print(gs.best_params_)"
   ]
  },
  {
   "attachments": {},
   "cell_type": "markdown",
   "id": "380c1a4a",
   "metadata": {},
   "source": [
    "## 5.3.ROC 곡선 그리기\n",
    "\n",
    "- ROC 그래프는 분류기의 임계 값을 바꾸어 가며 계산된 FPR과 TPR 점수를 기반으로 분류 모델을 선택하는 유용한 도구임\n",
    "- ROC 그래프의 대각선은 랜덤 추측으로 해석할 수 있고 대각선 아래에 위치한 분류 모델은 랜덤 추측보다 나쁜 셈\n",
    "- 완벽한 분류기의 그래프는 TPR이 1이고 FPR이 0인 왼쪽 위 구석에 위치함\n",
    "- ROC 곡선의 아래면적인 ROC AUC를 계산하여 분류 모델의 성능을 종합할 수 있음\n",
    "- ROC 곡선과 비슷하게 분류 모델의 확률 임계 값을 바꾸어 가며 정밀도-재현율 곡선을 그릴 수 있음\n",
    "- 정밀도-재현율 곡선을 그리는 함수도 사이킷런에 구현되어 있음"
   ]
  },
  {
   "cell_type": "code",
   "execution_count": 24,
   "id": "69d21d22",
   "metadata": {},
   "outputs": [
    {
     "data": {
      "image/png": "[encoded data removed]",
      "text/plain": [
       "<Figure size 504x360 with 1 Axes>"
      ]
     },
     "metadata": {
      "needs_background": "light"
     },
     "output_type": "display_data"
    }
   ],
   "source": [
    "from sklearn.metrics import roc_curve, auc\n",
    "from sklearn.model_selection import StratifiedKFold\n",
    "from numpy import interp\n",
    "\n",
    "pipe_lr = make_pipeline(SDS(), PCA(n_components=2), LGR(penalty='l2', random_state=1, C=100.0))\n",
    "X_train2 = X_train[:, [4, 14]]\n",
    "\n",
    "cv = list(StratifiedKFold(n_splits=3, shuffle=True, random_state=1).split(X_train, y_train))\n",
    "\n",
    "fig = plt.figure(figsize=(7,5))\n",
    "\n",
    "mean_tpr = 0.0\n",
    "mean_fpr = np.linspace(0, 1, 100)\n",
    "\n",
    "for i, (train, test) in enumerate(cv):\n",
    "    probas = pipe_lr.fit(X_train2[train], y_train[train]).predict_proba(X_train2[test])\n",
    "    fpr, tpr, threshold = roc_curve(y_train[test], probas[:, 1], pos_label=1)\n",
    "    mean_tpr += interp(mean_fpr, fpr, tpr)\n",
    "    mean_tpr[0] = 0.0\n",
    "    roc_auc = auc(fpr, tpr)\n",
    "    plt.plot(fpr, tpr, label='ROC fold %d (area = %0.2f)' %(i+1, roc_auc))\n",
    "plt.plot([0, 1], [0, 1], linestyle='--', color=(.6, .6, .6), label='Random guessing')\n",
    "mean_tpr /= len(cv)\n",
    "mean_tpr[-1] = 1.0\n",
    "mean_auc = auc(mean_fpr, mean_tpr)\n",
    "plt.plot(mean_fpr, mean_tpr, 'k--', label='Mean Roc (area = %0.2f)' % mean_auc, lw=2)\n",
    "plt.plot([0, 0, 1], [0, 1, 1], linestyle=':', color='black', label='Perfect Performance')\n",
    "plt.xlim([-0.05, 1.05])\n",
    "plt.ylim([-0.05, 1.05])\n",
    "plt.xlabel('False positive rate')\n",
    "plt.ylabel('True positive rate')\n",
    "plt.legend(loc='best')\n",
    "plt.tight_layout()\n",
    "plt.show()"
   ]
  },
  {
   "attachments": {},
   "cell_type": "markdown",
   "id": "3b30994f-2928-4f69-96c9-28442e2ca481",
   "metadata": {},
   "source": [
    "## 5.4.다중 분류의 성능 지표\n",
    "\n",
    "- 사이킷런은 이런 평균 지표에 마크로와 카이크로 평균 방식을 구현하여 **OvA** 방식을 사용하는 다중 분류로 확장\n",
    "- 마이크로 평균은 클래스 별로 TP, TN, FP, FN을 계산\n",
    "- 예를 들어 k개의 클래스가 있는 경우 정밀도의 마이크로 평균은 다음과 같이 계산함\n",
    "$$\n",
    "PRE_{micro} = \\frac{TP_1+\\cdots+TP_k}{TP_1+\\cdots+TP_k+FP_1+\\cdots+FP_k}\n",
    "$$\n",
    "- 마크로 평균은 단순하게 클래스별 정밀도의 평균\n",
    "$$\n",
    "PRE_{macro} = \\frac{PRE_1+\\cdots+PRE_k}{k}\n",
    "$$\n",
    "- 마이크로 평균 : 각 샘플이나 예측에 동일한 가중치를 부여하고자 할 때 사용\n",
    "- 마크로 평균 : 모든 클래스에 동일한 가중치를 부여하여 분류기의 전반적인 성능을 평가\n",
    "- 가장 빈도 높은 클래스 레이블의 성능이 중요\n",
    "- 사이킷런에서 이진 성능 지표로 다중 분류 모델을 평가하면 정규화 또는 가중치가 적용된 마크로 평균이 기본으로 적용됨\n",
    "- 가중치가 적용된 마크로 평균은 평균을 계산할 때 각 클래스 레이블의 샘플 개수를 가중하여 계산\n",
    "- 가중치가 적용된 마크로 평균은 레이블마다 샘플 개수가 다른 불균형한 클래스를 다룰 때 유용함\n",
    "- 사이킷런에서 가중치가 적용된 마크로 평균이 다중 분류 문제에서 기본값이지만 `sklearn.metrics` 모듈 아래에 있는 측정 함수들은 `average` 매개변수로 평균 계산 방식을 지정할 수 있음\n",
    "\n",
    "```python\n",
    "pre_scorer = make_socrer(score_func=precision_score, pos_label=1, greater_is_better=True, average='micro')\n",
    "```"
   ]
  },
  {
   "attachments": {},
   "cell_type": "markdown",
   "id": "871e4353-e143-496e-9ae5-81cf76789ebc",
   "metadata": {},
   "source": [
    "# 6.불균형한 클래스 다루기\n",
    "\n",
    "- 스팸 필터링, 부정 감지, 질병 차단 등에서 발생할 수 있는 문제\n",
    "- 우선 유방암 데이터 셋을 불균한 데이터 셋으로 바꾸어서 실습 진행"
   ]
  },
  {
   "cell_type": "code",
   "execution_count": 27,
   "id": "7b25cfef-835c-4a55-95de-d0011f119aff",
   "metadata": {},
   "outputs": [],
   "source": [
    "X_imb = np.vstack((X[y==0], X[y==1][:40]))\n",
    "y_imb = np.hstack((y[y==0], y[y==1][:40]))"
   ]
  },
  {
   "cell_type": "code",
   "execution_count": 29,
   "id": "85e9d547",
   "metadata": {},
   "outputs": [
    {
     "data": {
      "text/plain": [
       "89.92443324937027"
      ]
     },
     "execution_count": 29,
     "metadata": {},
     "output_type": "execute_result"
    }
   ],
   "source": [
    "y_pred = np.zeros(y_imb.shape[0])\n",
    "np.mean(y_pred==y_imb)*100"
   ]
  },
  {
   "attachments": {},
   "cell_type": "markdown",
   "id": "fe4b525c",
   "metadata": {},
   "source": [
    "- 이 경우에 있어서 정확도 보다 다른 지표 활용이 나음\n",
    "- 주요 관심 대상이 무엇인지에 따라 정밀도, 재현율, ROC 곡선 등을 사용할 수 있음\n",
    "- 예를 들어 추가적인 검사가 필요한 악성 종양 환자의 대부분을 구별하는 것이 가장 중요할 수 있음\n",
    "- 여기서는 재현율 지표를 선택할 것\n",
    "- 스팸 필터의 경우 햄 이메일이 너무 자주 스팸으로 처리되는 것을 원치 않기 때문에 정밀도가 더 적절한 지표\n",
    "- 클래스 불균형은 모델이 훈련되는 동안 학습 알고리즘 자체에 영향을 미침\n",
    "- 머신러닝 알고리즘이 일반적으로 훈련하는 동안 처리한 샘플에서 계산한 보상 또는 비용 함수의 합을 최적화함\n",
    "- 결정 규칙은 다수 클래스 쪽으로 편향되기 쉬움\n",
    "- 즉, 알고리즘이 훈련 과정에서 비용을 최소화하거나 보상을 최대화하기 위해 데이터셋에서 가장 빈도가 높은 클래스의 예측을 최적화하는 모델을 찾음\n",
    "- 불균형한 클래스를 다루는 방법\n",
    "    1. 소수 클래스에서 발생한 예측 오류에 큰 벌칙을 부여\n",
    "        - 사이킷런에서 대부분의 분류기에 구현된 `class_weight` 매개변수를 `class_weight='balanced'`로 설정해서 이런 벌칙을 편리하게 조정할 수 있음\n",
    "    2. 소수 클래스 샘플을 늘리거나 다수 클래스의 샘플을 줄임\n",
    "        - 여러 도메인에 거친 보편적 솔루션은 존재하지 않음\n",
    "        - 실전에서 주어진 문제에 여러 전략을 시도하고 결과를 평가하면서 가장 적절한 기법을 찾아 내는 것이 중요"
   ]
  },
  {
   "cell_type": "code",
   "execution_count": 31,
   "id": "b225863d",
   "metadata": {},
   "outputs": [
    {
     "name": "stdout",
     "output_type": "stream",
     "text": [
      "샘플링 전 클래스 1의 샘플 개수:  40\n",
      "샘플링 후 클래스 1의 샘플 개수:  357\n"
     ]
    }
   ],
   "source": [
    "from sklearn.utils import resample\n",
    "\n",
    "print('샘플링 전 클래스 1의 샘플 개수: ', X_imb[y_imb==1].shape[0])\n",
    "\n",
    "X_upsampled, y_upsampled = resample(X_imb[y_imb==1], y_imb[y_imb==1], replace=True, n_samples=X_imb[y_imb==0].shape[0], random_state=123)\n",
    "\n",
    "print('샘플링 후 클래스 1의 샘플 개수: ', X_upsampled.shape[0])"
   ]
  },
  {
   "cell_type": "code",
   "execution_count": 32,
   "id": "133f2d81",
   "metadata": {},
   "outputs": [
    {
     "data": {
      "text/plain": [
       "50.0"
      ]
     },
     "execution_count": 32,
     "metadata": {},
     "output_type": "execute_result"
    }
   ],
   "source": [
    "X_bal = np.vstack((X[y==0], X_upsampled))\n",
    "y_bal = np.hstack((y[y==0], y_upsampled))\n",
    "y_pred = np.zeros(y_bal.shape[0])\n",
    "np.mean(y_pred==y_bal)*100"
   ]
  }
 ],
 "metadata": {
  "kernelspec": {
   "display_name": "Python 3 (ipykernel)",
   "language": "python",
   "name": "python3"
  },
  "language_info": {
   "codemirror_mode": {
    "name": "ipython",
    "version": 3
   },
   "file_extension": ".py",
   "mimetype": "text/x-python",
   "name": "python",
   "nbconvert_exporter": "python",
   "pygments_lexer": "ipython3",
   "version": "3.8.8"
  }
 },
 "nbformat": 4,
 "nbformat_minor": 5
}
