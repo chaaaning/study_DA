{
 "cells": [
  {
   "attachments": {},
   "cell_type": "markdown",
   "id": "4647eda9-06b6-4e4d-b035-086f6fe1f601",
   "metadata": {},
   "source": [
    "- 다수결 투표를 기반으로 예측 만들기\n",
    "- 중복을 허용하여 랜덤하게 훈련 데이터셋을 뽑는 배깅을 사용해서 과대적합 감소하기\n",
    "- 앞선 모델의 오차를 학습하는 약한 학습기로 구성된 부스팅으로 강력한 모델 구축하기"
   ]
  },
  {
   "attachments": {},
   "cell_type": "markdown",
   "id": "1d20a500-0bf1-44cd-8b89-46efc04176dd",
   "metadata": {},
   "source": [
    "# 1.앙상블 학습\n",
    "\n",
    "- 앙상블 학습의 목표는 여러 분류기를 하나의 메타 분류기로 연결하여 개별 분류기보다 더 좋은 일반화 성능을 달성하는 것\n",
    "- 과반수 투표(major voting)는 분류기의 과반수가 예측한 클래스 레이블을 선택하는 단순한 방법\n",
    "- 50% 이상 투표를 받은 클래스 레이블을 선택\n",
    "- 다중 클래스의 문제에 있어서는 일반화함 (다수결 투표 - plurality voting)\n",
    "- 가장 많은 투표(최빈값)를 받은 클래스 레이블을 선택함\n",
    "- 훈련 데이터셋을 사용하여 $m$개의 다른 분류기($C_1,\\cdots,C_m$)를 훈련 시킴\n",
    "- 앙상블 방법에 따라 결정 트리, 서포트 벡터 머신, 로지스틱 회귀 분류기와 같은 여러 가지 알고리즘을 사용하여 구축\n",
    "- 같은 분류 알고리즘을 사용하고 훈련데이터셋의 부분 집합을 달리하여 학습할 수도 있음\n",
    "- 유명한 앙상블 기법은 RandomForest\n",
    "- 과반수 투표나 다수결 투표로 클래스 레이블을 예측하려면 개별 분류기 $C_j$의 예측 레이블을 모아 가장 많은 표를 받은 레이블 $\\hat{y}$를 선택\n",
    "$$\n",
    "\\hat{y} = mode \\left\\{ C_1(\\mathbf{x}), C_2(\\mathbf{x}), \\cdots, C_m(\\mathbf{x}) \\right\\}\n",
    "$$\n",
    "- class1=-1 이고 class2=+1인 이진 분류 작업에서 과반수 투표 예측은 다음과 같이 쓸 수 있음\n",
    "$$\n",
    "C(\\mathbf{x})=sign \\left [ \\sum_j^m C_j(\\mathbf{x})\\right ] = \\begin{cases} 1 & \\sum_j C_j(\\mathbf{x}) > 0 \\,일\\,때 \\\\ \n",
    "                                                                            -1 & 그\\,외\n",
    "                                                            \\end{cases}\n",
    "$$\n",
    "\n",
    "**앙상블 방법이 개별 분류기보다 성능이 뛰어난 이유**\n",
    "\n",
    "- 이진 분류 작업에 대해 동일한 에러율 $\\varepsilon$을 가진 $n$개의 분류기를 가정\n",
    "- 또한 모든 분류기는 독립적이고 발생하는 오차는 서로 상관관계가 없다고 가정\n",
    "- 이러한 가정하에 분류기의 앙상블이 만드는 오차 확률을 이항 분포의 확률 질량 함수로 표현할 수 있음\n",
    "$$\n",
    "P(y \\geq k) = \\sum_k^n {n \\choose k}\\varepsilon^k(1-\\varepsilon)^{n-k}=\\varepsilon_{ensemble}\n",
    "$$\n",
    "- 여기서 ${n \\choose k}$는 이항계수로 $n$개의 원소에서 $k$개를 뽑는 조합의 가짓수\n",
    "- 이는 앙상블의 예측이 틀릴 확률을 계산 함\n",
    "- 구체적인 계산 결과는 다음과 같이 나타남 ($n=11,\\,k=6$ 가정)\n",
    "$$\n",
    "P(y \\geq 6) = \\sum_{k=6}^{11} {11 \\choose k}0.25^k(1-0.25)^{11-k}=0.034\n",
    "$$"
   ]
  },
  {
   "cell_type": "code",
   "execution_count": 1,
   "id": "62c37046-947d-41ef-aa48-79139ed4688a",
   "metadata": {},
   "outputs": [
    {
     "data": {
      "text/plain": [
       "0.03432750701904297"
      ]
     },
     "execution_count": 1,
     "metadata": {},
     "output_type": "execute_result"
    }
   ],
   "source": [
    "# 확률 질량 함수 구현\n",
    "from scipy.special import comb\n",
    "import math\n",
    "\n",
    "def ensemble_error(n_classifier, error):\n",
    "    k_start = int(math.ceil(n_classifier / 2.))\n",
    "    probs = [comb(n_classifier, k)*error**k*(1-error)**(n_classifier-k) for k in range(k_start, n_classifier+1)]\n",
    "    return sum(probs)\n",
    "\n",
    "ensemble_error(11, .25)"
   ]
  },
  {
   "cell_type": "code",
   "execution_count": 2,
   "id": "ff876e89-7a86-433d-9dd0-46d0de8680d5",
   "metadata": {},
   "outputs": [
    {
     "data": {
      "image/png": "[encoded data removed]",
      "text/plain": [
       "<Figure size 432x288 with 1 Axes>"
      ]
     },
     "metadata": {
      "needs_background": "light"
     },
     "output_type": "display_data"
    }
   ],
   "source": [
    "# 분류기 에러가 0~1 까지 걸쳐 있을 때 앙상블의 에러율을 계산\n",
    "import numpy as np\n",
    "import matplotlib.pyplot as plt\n",
    "\n",
    "error_range=np.arange(0.0, 1.01, 0.01)\n",
    "ens_errors = [ensemble_error(n_classifier=11, error=error) for error in error_range]\n",
    "plt.plot(error_range, ens_errors, label='Ensemble Error', linewidth=2)\n",
    "plt.plot(error_range, error_range, linestyle='--', label='Base Error', linewidth=2)\n",
    "plt.xlabel('Base Error')\n",
    "plt.ylabel('Base/Ensemble Error')\n",
    "plt.legend(loc='best')\n",
    "plt.grid(alpha=.5)\n",
    "plt.show()"
   ]
  },
  {
   "attachments": {},
   "cell_type": "markdown",
   "id": "93726295",
   "metadata": {},
   "source": [
    "- 앙상블의 에러 확률은 개별 분류기보다 좋음\n",
    "- 다만 개별 분류기가 무작위 추측보다 성능이 좋아야 함($\\varepsilon < 0.5$)"
   ]
  },
  {
   "attachments": {},
   "cell_type": "markdown",
   "id": "74d11d86",
   "metadata": {},
   "source": [
    "# 2.다수결 투표를 사용한 분류 앙상블"
   ]
  },
  {
   "attachments": {},
   "cell_type": "markdown",
   "id": "263226dd",
   "metadata": {},
   "source": [
    "## 2.1.간단한 다수결 투표 분류기 구현\n",
    "\n",
    "- 여러 가지 분류 모델의 신뢰도에 가중치를 부여하여 연결할 수 있음\n",
    "- 특정 데이터셋에서 개별 분류기의 약점을 보완하는 강력한 메타 분류기를 구축하는 것을 목표로 함\n",
    "- 수학적으로 표현하면 가중치가 적용된 다수결 투표는 다음과 같이 쓸 수 있음\n",
    "$$\n",
    "\\hat{y}=\\arg \\max_i \\sum_{j=1}^m w_j\\chi_A (C_j(\\mathbf{x})=i)\n",
    "$$\n",
    "- 여기서 $w_j$는 개별 분류기 $C_j$에 연관된 가중치\n",
    "- $\\hat{y}$는 앙상블이 예측한 클래스 레이블\n",
    "- $A$는 고유한 클래스 레이블의 집합\n",
    "- $\\chi_{A}$는 특성 함수 또는 지시 함수\n",
    "- 이 함수는 $j$번째 분류기의 예측 클래스가 $i$일 때 $(C_j(\\mathbf{x})=i)$ 1을 반환\n",
    "- 가중치가 동일하면 식은 다음과 같이 쓸 수 있음\n",
    "$$\n",
    "\\hat{y}=mode \\left\\{ C_1(\\mathbf{x}), C_2(\\mathbf{x}), \\cdots, C_m(\\mathbf{x}) \\right\\}\n",
    "$$"
   ]
  },
  {
   "cell_type": "code",
   "execution_count": 3,
   "id": "42f58cea",
   "metadata": {},
   "outputs": [
    {
     "data": {
      "text/plain": [
       "1"
      ]
     },
     "execution_count": 3,
     "metadata": {},
     "output_type": "execute_result"
    }
   ],
   "source": [
    "import numpy as np\n",
    "\n",
    "np.argmax(np.bincount([0, 0, 1], weights=[0.2, 0.2, 0.6]))"
   ]
  },
  {
   "attachments": {},
   "cell_type": "markdown",
   "id": "b28bf095",
   "metadata": {},
   "source": [
    "- `predict_proba` 메서드에서 예측 클래스 레이블의 확률을 반환할 수 있음\n",
    "- 앙상블 분류기가 잘 보정되어 있다면 다수결 투표에서 클래스 레이블 대신 예측 클래스 확률을 사용하는 것이 좋음\n",
    "$$\n",
    "\\hat{y}=\\arg \\max \\sum_{j=1}^m w_j p_{ij}\n",
    "$$\n",
    "- 여기서 $P_{ij}$는 클래스 레이블 $i$에 대한 $j$번째 분류기의 예측 확률"
   ]
  },
  {
   "cell_type": "code",
   "execution_count": 4,
   "id": "f3ca38ef",
   "metadata": {},
   "outputs": [
    {
     "name": "stdout",
     "output_type": "stream",
     "text": [
      "[0.58 0.42]\n"
     ]
    },
    {
     "data": {
      "text/plain": [
       "0"
      ]
     },
     "execution_count": 4,
     "metadata": {},
     "output_type": "execute_result"
    }
   ],
   "source": [
    "ex = np.array([[0.9, 0.1], [0.8, 0.2], [0.4, 0.6]])\n",
    "p = np.average(ex, axis=0, weights=[.2, .2, .6])\n",
    "print(p)\n",
    "np.argmax(p)"
   ]
  },
  {
   "cell_type": "code",
   "execution_count": 5,
   "id": "2a01b70f",
   "metadata": {},
   "outputs": [],
   "source": [
    "from sklearn.base import BaseEstimator\n",
    "from sklearn.base import ClassifierMixin\n",
    "from sklearn.preprocessing import LabelEncoder\n",
    "from sklearn.base import clone\n",
    "from sklearn.pipeline import _name_estimators\n",
    "import numpy as np\n",
    "import operator\n",
    "\n",
    "class MajorityVoteClassifier(BaseEstimator, ClassifierMixin):\n",
    "    \"\"\" 다수결 투표 앙상블 분류기\n",
    "    \n",
    "    매개변수\n",
    "    ---------\n",
    "    classifiers : 배열 타입, 크기 = [n_classifiers]\n",
    "        앙상블에 사용할 분류기\n",
    "        \n",
    "    vote : str, {'classlabel', 'probability'}\n",
    "        기본값: 'classlabel'\n",
    "        'classlabel'이면 예측은 다수인 클래스 레이블의 인덱스가 됨\n",
    "        'probability'면 확률 합이 가장 큰 인덱스로 클래스 레이블을 예측 (보정된 분류기에)\n",
    "        \n",
    "    weights : 배열 타입, 크기 = [n_classifiers]\n",
    "        선택 사항, 기본값 None\n",
    "        'int' 또는 'float' 값의 리스트가 주어지면 분류기가 이 중요도로 가중됨\n",
    "        'weights=None'이면 동일한 가중치로 취급됨\n",
    "    \"\"\"\n",
    "    def __init__(self, classifiers, vote='classlabel', weights=None):\n",
    "        self.classifiers = classifiers\n",
    "        self.named_classifiers = {key: value for key, value in _name_estimators(classifiers)}\n",
    "        self.vote = vote\n",
    "        self.weights = weights\n",
    "\n",
    "    def fit(self, X, y):\n",
    "        \"\"\"분류기 학습\n",
    "        \n",
    "        매개변수\n",
    "        ------------\n",
    "        X : {배열 타입, 희소 행렬}, 크기 = [n_samples, n_features]\n",
    "            훈련 샘플 행렬\n",
    "            \n",
    "        y : 배열 타입, 크기 = [n_samples]\n",
    "            타겟 클래스 레이블 벡터\n",
    "            \n",
    "        반환값\n",
    "        -----------\n",
    "        self : 객체\n",
    "        \"\"\"\n",
    "        \n",
    "        # 인자 전달이 유효하지 않은 것들에 대한 오류 메시지 출력\n",
    "        if self.vote not in ('probability', 'classlabel'):\n",
    "            raise ValueError('vote는 \"probability\" 또는 \"classlabel\"이어야 할 수 있습니다.', \"; (vote=%r)이 입력되었습니다.\" % self.vote)\n",
    "        \n",
    "        if self.weights and len(self.weights) != len(self.classifiers):\n",
    "            raise ValueError('분류기와 가중치 개수는 같아야 합니다.', f'; 가중치 {len(self.weight)} 개, 분류기 {len(self.classifiers)} 개')\n",
    "        \n",
    "        # self.predict 메서드에서 np.argmax를 호출 할 때\n",
    "        # 클래스 레이블이 0부터 시작 되어야 하므로 LabelEncoder 사용\n",
    "        self.lablenc_ = LabelEncoder()\n",
    "        self.lablenc_.fit(y)\n",
    "        self.classes_ = self.lablenc_.classes_\n",
    "        self.classifiers_ = []\n",
    "        for clf in self.classifiers:\n",
    "            fitted_clf = clone(clf).fit(X, self.lablenc_.transform(y))\n",
    "            self.classifiers_.append(fitted_clf)\n",
    "        return self\n",
    "    \n",
    "    def predict(self, X):\n",
    "        \"\"\"X에 대한 클래스 레이블 예측\n",
    "        \n",
    "        매개변수\n",
    "        -----------\n",
    "        X : {배열 타입, 희소 행렬}, 크기 = [n_samples, n_features]\n",
    "            샘플 데이터 행렬\n",
    "            \n",
    "        반환값\n",
    "        -----------\n",
    "        maj_vote : 배열 타입, 크기 = [n_samples]\n",
    "            예측된 클래스 레이블        \n",
    "        \"\"\"\n",
    "        \n",
    "        if self.vote=='probability':\n",
    "            maj_vote = np.argmax(self.predict_proba(X), axis=1)\n",
    "        else:\n",
    "            predictions = np.asarray([clf.predict(X) for clf in self.classifiers_]).T\n",
    "            maj_vote = np.apply_along_axis(lambda x: np.argmax(np.bincount(x, weights=self.weights)), axis=1, arr=predictions)\n",
    "            maj_vote = self.lablenc_.inverse_transform(maj_vote)\n",
    "            return maj_vote\n",
    "        \n",
    "    def predict_proba(self, X):\n",
    "        \"\"\"X에 대한 클래스 확률을 예측\n",
    "        \n",
    "        매개변수\n",
    "        -----------\n",
    "        X : {배열 타입, 희소 행렬}, 크기 = [n_samples, n_features]\n",
    "            샘플 데이터 행렬\n",
    "        \n",
    "        반환값\n",
    "        -----------\n",
    "        avg_proba : 배열 타입, 크기 = [n_samples, n_classes]\n",
    "            샘플마다 가중치가 적용된 클래스의 평균 확률\n",
    "        \"\"\"\n",
    "        probas = np.asarray([clf.predict_proba(X) for clf in self.classifiers_])\n",
    "        avg_proba = np.average(probas, axis=0, weights=self.weights)\n",
    "        return avg_proba\n",
    "    \n",
    "    def get_params(self, deep=True):\n",
    "        \"\"\"GridSearch를 위해 분류기의 매개변수 이름을 반환\"\"\"\n",
    "        if not deep:\n",
    "            return super(MajorityVoteClassifier, self).get_params(deep=False)\n",
    "        else:\n",
    "            out = self.named_classifiers.copy()\n",
    "            for name, step in self.named_classifiers.items():\n",
    "                for key, value in step.get_params(deep=True).items():\n",
    "                    out['%s__%s' % (name, key)] = value\n",
    "            return out"
   ]
  },
  {
   "attachments": {},
   "cell_type": "markdown",
   "id": "a7566a72",
   "metadata": {},
   "source": [
    "- `BaseEstimator`와 `ClassifierMixin` 클래스를 상속하여 기본적인 기능을 넣음\n",
    "- 여기에는 분류기의 매개변수를 설정하고 반환하는 `get_params`와 `set_params` 메서드가 있음\n",
    "- 또한 예측 정확도를 계산하는 `score` 메서드가 포함되어 있음\n",
    "    - `BaseEstimator`로 부터 상속받는 `get_params`와 `set_params` 메서드는 사이킷런의 파이프라인과 그리드 탐색에 곡 필요한 메서드\n",
    "    - 이는 생성자에 명시된 매개변수만 참조하므로 `__init__` 함수에 `*args`나 `**kargs`를 사용해서는 안됨\n",
    "    - `ClassifierMixin` 클래스에서 상속되는 `score` 메서드는 정확도를 계산\n",
    "    - 이와 비슷하게 회귀 모델의 경우 `RegressorMixin`을 상속하며 $R^2$ 점수를 계산하는 `score` 메서드가 추가\n",
    "- 앙상블에 있는 각 분류기의 매개변수에 접근하기 위해 `_name_estimators` 함수를 사용\n",
    "- `get_params` 메서드를 정의"
   ]
  },
  {
   "attachments": {},
   "cell_type": "markdown",
   "id": "b5dceebc",
   "metadata": {},
   "source": [
    "## 2.2.다수결 투표 방식을 사용하여 예측 만들기"
   ]
  },
  {
   "cell_type": "code",
   "execution_count": 6,
   "id": "d2a71a94",
   "metadata": {},
   "outputs": [],
   "source": [
    "from sklearn import datasets\n",
    "from sklearn.model_selection import train_test_split\n",
    "from sklearn.preprocessing import StandardScaler as SDS\n",
    "from sklearn.preprocessing import LabelEncoder as LE\n",
    "iris = datasets.load_iris()\n",
    "X, y = iris.data[50:, [1, 2]], iris.target[50:]\n",
    "le = LE()\n",
    "y = le.fit_transform(y)\n",
    "\n",
    "X_train, X_test, y_train, y_test = train_test_split(X, y, test_size=.5, random_state=1, stratify=y)"
   ]
  },
  {
   "cell_type": "code",
   "execution_count": 7,
   "id": "03bc2c76",
   "metadata": {},
   "outputs": [
    {
     "name": "stdout",
     "output_type": "stream",
     "text": [
      "10겹 교차 검증\n",
      "ROU AUC: 0.92 (+/- 0.15) [Logistic Regression]\n",
      "ROU AUC: 0.87 (+/- 0.18) [Decision Tree]\n",
      "ROU AUC: 0.85 (+/- 0.13) [KNN]\n",
      "ROU AUC: 0.98 (+/- 0.05) [Majority Voting]\n"
     ]
    }
   ],
   "source": [
    "from sklearn.model_selection import cross_val_score\n",
    "from sklearn.linear_model import LogisticRegression as LGR\n",
    "from sklearn.tree import DecisionTreeClassifier as DTC\n",
    "from sklearn.neighbors import KNeighborsClassifier as KNN\n",
    "from sklearn.pipeline import Pipeline\n",
    "clf1 = LGR(penalty='l2', C=.001, random_state=1)\n",
    "clf2 = DTC(max_depth=1, criterion='entropy', random_state=0)\n",
    "clf3 = KNN(n_neighbors=1, p=2, metric='minkowski')\n",
    "pipe1 = Pipeline([['sc', SDS()], ['clf', clf1]])\n",
    "pipe3 = Pipeline([['sc', SDS()], ['clf', clf3]])\n",
    "\n",
    "\n",
    "clf_labels = ['Logistic Regression', 'Decision Tree', 'KNN']\n",
    "\n",
    "mv_clf = MajorityVoteClassifier(classifiers=[pipe1, clf2, pipe3])\n",
    "clf_labels += ['Majority Voting']\n",
    "\n",
    "all_clfs = [pipe1, clf2, pipe3, mv_clf]\n",
    "\n",
    "print('10겹 교차 검증')\n",
    "for clf, label in zip(all_clfs, clf_labels):\n",
    "    scores = cross_val_score(estimator=clf, X=X_train, y=y_train, cv=10, scoring='roc_auc', n_jobs=-1)\n",
    "    print(\"ROU AUC: %0.2f (+/- %0.2f) [%s]\" % (scores.mean(), scores.std(), label))"
   ]
  },
  {
   "attachments": {},
   "cell_type": "markdown",
   "id": "89a637b8",
   "metadata": {},
   "source": [
    "**사이킷런의 VotingClassifier**\n",
    "\n",
    "- `sklearn.ensemble.VotingClassifier` 로 0.17버전 이상에서 사용할 수 있음\n",
    "- `estimators` 매개변수에는 분류기 이름과 객체로 구성된 튜플 리스트를 입력\n",
    "- `VotingClassifier`는 `voting='hard'`일 경우 `predict_proba` 메서드를 지원하지 않음\n",
    "- ROC AUC를 계산하기 위해서는 예측 확률이 필요하므로 `voting='soft'`로 지정"
   ]
  },
  {
   "cell_type": "code",
   "execution_count": 8,
   "id": "f60a1434",
   "metadata": {},
   "outputs": [
    {
     "name": "stdout",
     "output_type": "stream",
     "text": [
      "ROU AUC: 0.98 (+/- 0.05) [VotingClassifier]\n",
      "[Voting] ....................... (1 of 3) Processing lr, total=   0.0s\n",
      "[Voting] ....................... (2 of 3) Processing dt, total=   0.0s\n",
      "[Voting] ...................... (3 of 3) Processing knn, total=   0.0s\n"
     ]
    },
    {
     "data": {
      "text/plain": [
       "array([[0.80858947, 0.19141053],\n",
       "       [0.80798659, 0.19201341],\n",
       "       [0.80742142, 0.19257858],\n",
       "       [0.81176637, 0.18823363],\n",
       "       [0.81195778, 0.18804222],\n",
       "       [0.17701319, 0.82298681],\n",
       "       [0.17670572, 0.82329428],\n",
       "       [0.17845724, 0.82154276],\n",
       "       [0.1796252 , 0.8203748 ],\n",
       "       [0.81076201, 0.18923799]])"
      ]
     },
     "execution_count": 8,
     "metadata": {},
     "output_type": "execute_result"
    }
   ],
   "source": [
    "from sklearn.model_selection import cross_validate\n",
    "from sklearn.ensemble import VotingClassifier\n",
    "\n",
    "vc = VotingClassifier(estimators=[('lr', pipe1), ('dt', clf2), ('knn', pipe3)], voting='soft')\n",
    "scores = cross_validate(estimator=vc, X=X_train, y=y_train, cv=10, scoring='roc_auc')\n",
    "print(\"ROU AUC: %0.2f (+/- %0.2f) [%s]\" % (scores['test_score'].mean(), scores['test_score'].std(), 'VotingClassifier'))\n",
    "\n",
    "# VotingClassifier의 fit 메서드를 호출할 때, verbose 매개변수를 True로 지정\n",
    "vc.set_params(verbose=True)\n",
    "vc = vc.fit(X_train, y_train)\n",
    "\n",
    "# voting='soft'일 대 predict 메서드는 predict_proba 메서드에서 얻은 가장 큰 확률 클래스를 예측으로 삼음\n",
    "# predict_proba 메서드는 각 분류기의 클래스 확률을 평균하여 반환\n",
    "vc.predict_proba(X_test[:10])"
   ]
  },
  {
   "attachments": {},
   "cell_type": "markdown",
   "id": "fa9da0a7",
   "metadata": {},
   "source": [
    "## 2.3.앙상블 분류기의 평가와 튜닝"
   ]
  },
  {
   "cell_type": "code",
   "execution_count": 9,
   "id": "78dc2c35",
   "metadata": {},
   "outputs": [
    {
     "data": {
      "image/png": "[encoded data removed]",
      "text/plain": [
       "<Figure size 432x288 with 1 Axes>"
      ]
     },
     "metadata": {
      "needs_background": "light"
     },
     "output_type": "display_data"
    }
   ],
   "source": [
    "from sklearn.metrics import roc_curve\n",
    "from sklearn.metrics import auc\n",
    "colors = ['black', 'orange', 'blue', 'green']\n",
    "linestyles = [':', '--', '-.', '-']\n",
    "\n",
    "for clf, label, clr, ls in zip(all_clfs, clf_labels, colors, linestyles):\n",
    "    y_pred = clf.fit(X_train, y_train).predict_proba(X_test)[:, 1]\n",
    "    fpr, tpr, thresholds = roc_curve(y_true=y_test, y_score=y_pred)\n",
    "    roc_auc = auc(x=fpr, y=tpr)\n",
    "    plt.plot(fpr, tpr, color=clr, linestyle=ls, label='%s (auc = %0.2f)' % (label, roc_auc))\n",
    "plt.legend(loc='best')\n",
    "plt.plot([0,1], [0,1], linestyle='--', color='gray', linewidth=2)\n",
    "plt.xlim([-.1, 1.1])\n",
    "plt.ylim([-.1, 1.1])\n",
    "plt.grid(alpha=.5)\n",
    "plt.xlabel('False positive rate (FPR)')\n",
    "plt.ylabel('True positive rate (TPR)')\n",
    "plt.show()"
   ]
  },
  {
   "cell_type": "code",
   "execution_count": 10,
   "id": "35f2ffb3",
   "metadata": {},
   "outputs": [
    {
     "data": {
      "image/png": "[encoded data removed]",
      "text/plain": [
       "<Figure size 504x360 with 4 Axes>"
      ]
     },
     "metadata": {
      "needs_background": "light"
     },
     "output_type": "display_data"
    }
   ],
   "source": [
    "sc = SDS()\n",
    "X_train_std = sc.fit_transform(X_train)\n",
    "\n",
    "from itertools import product\n",
    "x_min = X_train_std[:, 0].min()-1\n",
    "x_max = X_train_std[:, 0].max()+1\n",
    "y_min = X_train_std[:, 1].min()-1\n",
    "y_max = X_train_std[:, 1].max()+1\n",
    "\n",
    "xx, yy = np.meshgrid(np.arange(x_min, x_max, 0.1), np.arange(y_min, y_max, 0.1))\n",
    "\n",
    "f, axrr = plt.subplots(nrows=2, ncols=2, sharex='col', sharey='row', figsize=(7,5))\n",
    "\n",
    "for idx, clf, tt in zip(product([0, 1], [0, 1]), all_clfs, clf_labels):\n",
    "    clf.fit(X_train_std, y_train)\n",
    "    Z = clf.predict(np.c_[xx.ravel(), yy.ravel()])\n",
    "    Z = Z.reshape(xx.shape)\n",
    "    axrr[idx[0], idx[1]].contourf(xx, yy, Z, alpha=.3)\n",
    "    axrr[idx[0], idx[1]].scatter(X_train_std[y_train==0, 0], X_train_std[y_train==0, 1], c='blue', marker='^', s=50)\n",
    "    axrr[idx[0], idx[1]].scatter(X_train_std[y_train==1, 0], X_train_std[y_train==1, 1], c='green', marker='o', s=50)\n",
    "    axrr[idx[0], idx[1]].set_title(tt)\n",
    "    plt.text(-4.5, -4.5, s='Sepal width [std]', ha='center', va='center', fontsize=12)\n",
    "    plt.text(-12.5, 4.5, s='Sepal length [std]', ha='center', va='center', fontsize=12, rotation=90)\n",
    "    \n",
    "plt.show()"
   ]
  },
  {
   "cell_type": "code",
   "execution_count": 11,
   "id": "93748894",
   "metadata": {},
   "outputs": [
    {
     "data": {
      "text/plain": [
       "{'pipeline-1': Pipeline(steps=[('sc', StandardScaler()),\n",
       "                 ['clf', LogisticRegression(C=0.001, random_state=1)]]),\n",
       " 'decisiontreeclassifier': DecisionTreeClassifier(criterion='entropy', max_depth=1, random_state=0),\n",
       " 'pipeline-2': Pipeline(steps=[('sc', StandardScaler()),\n",
       "                 ['clf', KNeighborsClassifier(n_neighbors=1)]]),\n",
       " 'pipeline-1__memory': None,\n",
       " 'pipeline-1__steps': [('sc', StandardScaler()),\n",
       "  ['clf', LogisticRegression(C=0.001, random_state=1)]],\n",
       " 'pipeline-1__verbose': False,\n",
       " 'pipeline-1__sc': StandardScaler(),\n",
       " 'pipeline-1__clf': LogisticRegression(C=0.001, random_state=1),\n",
       " 'pipeline-1__sc__copy': True,\n",
       " 'pipeline-1__sc__with_mean': True,\n",
       " 'pipeline-1__sc__with_std': True,\n",
       " 'pipeline-1__clf__C': 0.001,\n",
       " 'pipeline-1__clf__class_weight': None,\n",
       " 'pipeline-1__clf__dual': False,\n",
       " 'pipeline-1__clf__fit_intercept': True,\n",
       " 'pipeline-1__clf__intercept_scaling': 1,\n",
       " 'pipeline-1__clf__l1_ratio': None,\n",
       " 'pipeline-1__clf__max_iter': 100,\n",
       " 'pipeline-1__clf__multi_class': 'auto',\n",
       " 'pipeline-1__clf__n_jobs': None,\n",
       " 'pipeline-1__clf__penalty': 'l2',\n",
       " 'pipeline-1__clf__random_state': 1,\n",
       " 'pipeline-1__clf__solver': 'lbfgs',\n",
       " 'pipeline-1__clf__tol': 0.0001,\n",
       " 'pipeline-1__clf__verbose': 0,\n",
       " 'pipeline-1__clf__warm_start': False,\n",
       " 'decisiontreeclassifier__ccp_alpha': 0.0,\n",
       " 'decisiontreeclassifier__class_weight': None,\n",
       " 'decisiontreeclassifier__criterion': 'entropy',\n",
       " 'decisiontreeclassifier__max_depth': 1,\n",
       " 'decisiontreeclassifier__max_features': None,\n",
       " 'decisiontreeclassifier__max_leaf_nodes': None,\n",
       " 'decisiontreeclassifier__min_impurity_decrease': 0.0,\n",
       " 'decisiontreeclassifier__min_samples_leaf': 1,\n",
       " 'decisiontreeclassifier__min_samples_split': 2,\n",
       " 'decisiontreeclassifier__min_weight_fraction_leaf': 0.0,\n",
       " 'decisiontreeclassifier__random_state': 0,\n",
       " 'decisiontreeclassifier__splitter': 'best',\n",
       " 'pipeline-2__memory': None,\n",
       " 'pipeline-2__steps': [('sc', StandardScaler()),\n",
       "  ['clf', KNeighborsClassifier(n_neighbors=1)]],\n",
       " 'pipeline-2__verbose': False,\n",
       " 'pipeline-2__sc': StandardScaler(),\n",
       " 'pipeline-2__clf': KNeighborsClassifier(n_neighbors=1),\n",
       " 'pipeline-2__sc__copy': True,\n",
       " 'pipeline-2__sc__with_mean': True,\n",
       " 'pipeline-2__sc__with_std': True,\n",
       " 'pipeline-2__clf__algorithm': 'auto',\n",
       " 'pipeline-2__clf__leaf_size': 30,\n",
       " 'pipeline-2__clf__metric': 'minkowski',\n",
       " 'pipeline-2__clf__metric_params': None,\n",
       " 'pipeline-2__clf__n_jobs': None,\n",
       " 'pipeline-2__clf__n_neighbors': 1,\n",
       " 'pipeline-2__clf__p': 2,\n",
       " 'pipeline-2__clf__weights': 'uniform'}"
      ]
     },
     "execution_count": 11,
     "metadata": {},
     "output_type": "execute_result"
    }
   ],
   "source": [
    "mv_clf.get_params()"
   ]
  },
  {
   "cell_type": "code",
   "execution_count": 12,
   "id": "cdf7c0a2",
   "metadata": {},
   "outputs": [
    {
     "data": {
      "text/plain": [
       "GridSearchCV(cv=10,\n",
       "             estimator=MajorityVoteClassifier(classifiers=[Pipeline(steps=[('sc',\n",
       "                                                                            StandardScaler()),\n",
       "                                                                           ['clf',\n",
       "                                                                            LogisticRegression(C=0.001,\n",
       "                                                                                               random_state=1)]]),\n",
       "                                                           DecisionTreeClassifier(criterion='entropy',\n",
       "                                                                                  max_depth=1,\n",
       "                                                                                  random_state=0),\n",
       "                                                           Pipeline(steps=[('sc',\n",
       "                                                                            StandardScaler()),\n",
       "                                                                           ['clf',\n",
       "                                                                            KNeighborsClassifier(n_neighbors=1)]])]),\n",
       "             param_grid={'decisiontreeclassifier__max_depth': [1, 2],\n",
       "                         'pipeline-1__clf__C': [0.001, 0.1, 100]},\n",
       "             scoring='roc_auc')"
      ]
     },
     "execution_count": 12,
     "metadata": {},
     "output_type": "execute_result"
    }
   ],
   "source": [
    "from sklearn.model_selection import GridSearchCV\n",
    "params = {'decisiontreeclassifier__max_depth':[1, 2], 'pipeline-1__clf__C':[.001, .1, 100]}\n",
    "grid = GridSearchCV(estimator=mv_clf, param_grid=params, cv=10, scoring='roc_auc')\n",
    "grid.fit(X_train, y_train)"
   ]
  },
  {
   "cell_type": "code",
   "execution_count": 13,
   "id": "a69cabde",
   "metadata": {},
   "outputs": [
    {
     "data": {
      "text/plain": [
       "{'mean_fit_time': array([0.00400059, 0.00300014, 0.00471466, 0.0039001 , 0.00340483,\n",
       "        0.00370004]),\n",
       " 'std_fit_time': array([0.00077411, 0.00044692, 0.00077015, 0.00053846, 0.0004958 ,\n",
       "        0.00045848]),\n",
       " 'mean_score_time': array([0.00129967, 0.00135078, 0.00170026, 0.00109999, 0.00100026,\n",
       "        0.00140023]),\n",
       " 'std_score_time': array([4.58121034e-04, 5.52459375e-04, 6.40445037e-04, 3.00113747e-04,\n",
       "        6.92645981e-07, 6.63255685e-04]),\n",
       " 'param_decisiontreeclassifier__max_depth': masked_array(data=[1, 1, 1, 2, 2, 2],\n",
       "              mask=[False, False, False, False, False, False],\n",
       "        fill_value='?',\n",
       "             dtype=object),\n",
       " 'param_pipeline-1__clf__C': masked_array(data=[0.001, 0.1, 100, 0.001, 0.1, 100],\n",
       "              mask=[False, False, False, False, False, False],\n",
       "        fill_value='?',\n",
       "             dtype=object),\n",
       " 'params': [{'decisiontreeclassifier__max_depth': 1,\n",
       "   'pipeline-1__clf__C': 0.001},\n",
       "  {'decisiontreeclassifier__max_depth': 1, 'pipeline-1__clf__C': 0.1},\n",
       "  {'decisiontreeclassifier__max_depth': 1, 'pipeline-1__clf__C': 100},\n",
       "  {'decisiontreeclassifier__max_depth': 2, 'pipeline-1__clf__C': 0.001},\n",
       "  {'decisiontreeclassifier__max_depth': 2, 'pipeline-1__clf__C': 0.1},\n",
       "  {'decisiontreeclassifier__max_depth': 2, 'pipeline-1__clf__C': 100}],\n",
       " 'split0_test_score': array([1., 1., 1., 1., 1., 1.]),\n",
       " 'split1_test_score': array([1., 1., 1., 1., 1., 1.]),\n",
       " 'split2_test_score': array([1., 1., 1., 1., 1., 1.]),\n",
       " 'split3_test_score': array([1., 1., 1., 1., 1., 1.]),\n",
       " 'split4_test_score': array([0.83333333, 0.83333333, 0.66666667, 0.83333333, 0.83333333,\n",
       "        0.66666667]),\n",
       " 'split5_test_score': array([1., 1., 1., 1., 1., 1.]),\n",
       " 'split6_test_score': array([1., 1., 1., 1., 1., 1.]),\n",
       " 'split7_test_score': array([1., 1., 1., 1., 1., 1.]),\n",
       " 'split8_test_score': array([1., 1., 1., 1., 1., 1.]),\n",
       " 'split9_test_score': array([1., 1., 1., 1., 1., 1.]),\n",
       " 'mean_test_score': array([0.98333333, 0.98333333, 0.96666667, 0.98333333, 0.98333333,\n",
       "        0.96666667]),\n",
       " 'std_test_score': array([0.05, 0.05, 0.1 , 0.05, 0.05, 0.1 ]),\n",
       " 'rank_test_score': array([1, 1, 5, 1, 1, 5])}"
      ]
     },
     "execution_count": 13,
     "metadata": {},
     "output_type": "execute_result"
    }
   ],
   "source": [
    "grid.cv_results_"
   ]
  },
  {
   "cell_type": "code",
   "execution_count": 14,
   "id": "f4a509b2",
   "metadata": {},
   "outputs": [
    {
     "name": "stdout",
     "output_type": "stream",
     "text": [
      "0.983 +/- 0.02 {'decisiontreeclassifier__max_depth': 1, 'pipeline-1__clf__C': 0.001}\n",
      "0.983 +/- 0.02 {'decisiontreeclassifier__max_depth': 1, 'pipeline-1__clf__C': 0.1}\n",
      "0.967 +/- 0.05 {'decisiontreeclassifier__max_depth': 1, 'pipeline-1__clf__C': 100}\n",
      "0.983 +/- 0.02 {'decisiontreeclassifier__max_depth': 2, 'pipeline-1__clf__C': 0.001}\n",
      "0.983 +/- 0.02 {'decisiontreeclassifier__max_depth': 2, 'pipeline-1__clf__C': 0.1}\n",
      "0.967 +/- 0.05 {'decisiontreeclassifier__max_depth': 2, 'pipeline-1__clf__C': 100}\n"
     ]
    }
   ],
   "source": [
    "for params, mean_score, std in zip(grid.cv_results_['params'], grid.cv_results_[\"mean_test_score\"], grid.cv_results_[\"std_test_score\"]):\n",
    "    print(\"%.3f +/- %0.2f %r\" % (mean_score, std/2, params))"
   ]
  },
  {
   "cell_type": "code",
   "execution_count": 15,
   "id": "cb3cab9b",
   "metadata": {},
   "outputs": [
    {
     "data": {
      "text/plain": [
       "{'decisiontreeclassifier__max_depth': 1, 'pipeline-1__clf__C': 0.001}"
      ]
     },
     "execution_count": 15,
     "metadata": {},
     "output_type": "execute_result"
    }
   ],
   "source": [
    "grid.best_params_"
   ]
  },
  {
   "cell_type": "code",
   "execution_count": 16,
   "id": "ca8f2b01",
   "metadata": {},
   "outputs": [
    {
     "data": {
      "text/plain": [
       "0.9833333333333334"
      ]
     },
     "execution_count": 16,
     "metadata": {},
     "output_type": "execute_result"
    }
   ],
   "source": [
    "grid.best_score_"
   ]
  },
  {
   "attachments": {},
   "cell_type": "markdown",
   "id": "605da5a8",
   "metadata": {},
   "source": [
    "**Stacking**\n",
    "\n",
    "- 스태킹 알고리즘은 두 개의 층을 가진 앙상블\n",
    "- 첫 번째 층의 개별 분류기 예측이 두 번째 층으로 주입됨\n",
    "- 두 번째 층에서 또 다른 분류기(전형적으로 로지스틱 회귀)가 최종 예측을 만들기 위해 첫 번째 층의 예측을 사용하여 학습\n",
    "- 사이킷런 0.22 버전에서 `StackingClassifier`와 `StackingRegression`이 추가됨\n",
    "- `estimators` 매개변수로 분류기 이름과 객체로 구성된 튜플 리스트를 입력 받음\n",
    "- `fianl_estimator` 매개변수로는 최종 결정을 위한 분류기를 지정\n",
    "- 매개변수 그리드를 지정할 때는 튜플에 사용한 분류기 이름을 접두사로 사용"
   ]
  },
  {
   "cell_type": "code",
   "execution_count": 17,
   "id": "02d8d7f0",
   "metadata": {},
   "outputs": [
    {
     "name": "stdout",
     "output_type": "stream",
     "text": [
      "0.950 +/- 0.07 {'dt__max_depth': 1, 'lr__clf__C': 0.001}\n",
      "0.983 +/- 0.02 {'dt__max_depth': 1, 'lr__clf__C': 0.1}\n",
      "0.967 +/- 0.05 {'dt__max_depth': 1, 'lr__clf__C': 100.0}\n",
      "0.950 +/- 0.07 {'dt__max_depth': 2, 'lr__clf__C': 0.001}\n",
      "0.983 +/- 0.02 {'dt__max_depth': 2, 'lr__clf__C': 0.1}\n",
      "0.967 +/- 0.05 {'dt__max_depth': 2, 'lr__clf__C': 100.0}\n"
     ]
    }
   ],
   "source": [
    "from sklearn.ensemble import StackingClassifier as STKC\n",
    "stack = STKC(estimators=[('lr', pipe1), ('dt', clf2), ('knn', pipe3)], final_estimator=LGR())\n",
    "params = {'dt__max_depth': [1, 2], 'lr__clf__C': [0.001, 0.1, 100.0]}\n",
    "grid = GridSearchCV(estimator=stack, param_grid=params, cv=10, scoring='roc_auc', n_jobs=-1)\n",
    "grid.fit(X_train, y_train)\n",
    "\n",
    "for params, mean_score, std in zip(grid.cv_results_['params'], grid.cv_results_[\"mean_test_score\"], grid.cv_results_[\"std_test_score\"]):\n",
    "    print(\"%.3f +/- %0.2f %r\" % (mean_score, std/2, params))"
   ]
  },
  {
   "cell_type": "code",
   "execution_count": 18,
   "id": "582f04c0-f8fb-45f9-b446-14f2c13232c2",
   "metadata": {},
   "outputs": [],
   "source": [
    "# grid.get_params().keys()"
   ]
  },
  {
   "cell_type": "code",
   "execution_count": 19,
   "id": "0eaf2e9b",
   "metadata": {},
   "outputs": [
    {
     "name": "stdout",
     "output_type": "stream",
     "text": [
      "best_score : 0.9833333333333334\n",
      "best_params : \n",
      " {'dt__max_depth': 1, 'lr__clf__C': 0.1}\n"
     ]
    }
   ],
   "source": [
    "print(f\"best_score : {grid.best_score_}\")\n",
    "print(f\"best_params : \\n {grid.best_params_}\")"
   ]
  },
  {
   "attachments": {},
   "cell_type": "markdown",
   "id": "99786c48",
   "metadata": {},
   "source": [
    "# 3.배깅 : 부트스트랩 샘플링을 통한 분류 앙상블\n",
    "\n",
    "- 앙상블에 있는 개별 분류기를 도웅일한 훈련 데이터셋으로 학습하는 것이 아니라 원본 훈련 데이터셋에서 부트스트랩(중복 허용 랜덤 샘플) 샘플을 뽑아서 사용\n",
    "- 배깅은 다른 말로 bootstrap aggregating이라고도 함\n",
    "- 배깅 단계마다 중복을 허용하여 랜덤하게 샘플링\n",
    "\n",
    "## 3.1.배깅 알고리즘의 작동 방식\n",
    "- 각각의 부트스트랩 샘플을 사용하여 분류기를 학습\n",
    "- 일반적으로 가지치기하지 않는 결정 트리를 분류기로 사용"
   ]
  },
  {
   "attachments": {},
   "cell_type": "markdown",
   "id": "d172900c",
   "metadata": {},
   "source": [
    "## 3.2.배깅으로 Wine 데이터셋의 샘플 분류"
   ]
  },
  {
   "cell_type": "code",
   "execution_count": 20,
   "id": "9f63832b",
   "metadata": {},
   "outputs": [],
   "source": [
    "import pandas as pd\n",
    "\n",
    "header_names = ['Class label', 'Alcohol', 'Malic acid', 'Ash',\n",
    "                'Alcalinity of ash', 'Magnesium', 'Total phenols',\n",
    "                'Flavanoids', 'Nonflavanoid phenols', 'Proanthocyanins',\n",
    "                'Color intensity', 'Hue', 'OD280/OD315 of diluted wines', 'Proline']\n",
    "df_wine = pd.read_csv('./datasets/wine/wine.data', header=None)\n",
    "df_wine.columns = header_names\n",
    "\n",
    "df_wine = df_wine.loc[df_wine['Class label'] != 1]\n",
    "y = df_wine['Class label'].values\n",
    "X = df_wine.loc[:, ['Alcohol', 'OD280/OD315 of diluted wines']].values"
   ]
  },
  {
   "cell_type": "code",
   "execution_count": 21,
   "id": "7aef3b30",
   "metadata": {},
   "outputs": [],
   "source": [
    "from sklearn.preprocessing import LabelEncoder as LE\n",
    "from sklearn.model_selection import train_test_split\n",
    "le = LE()\n",
    "y = le.fit_transform(y)\n",
    "X_train, X_test, y_train, y_test = train_test_split(X, y, test_size=.2, random_state=1, stratify=y)"
   ]
  },
  {
   "cell_type": "code",
   "execution_count": 22,
   "id": "50421710",
   "metadata": {},
   "outputs": [],
   "source": [
    "from sklearn.ensemble import BaggingClassifier as BGC\n",
    "from sklearn.tree import DecisionTreeClassifier as DTC\n",
    "tree = DTC(criterion='entropy', random_state=1, max_depth=None)\n",
    "bag = BGC(base_estimator=tree, n_estimators=500, max_samples=1.0, max_features=1.0, bootstrap=True, bootstrap_features=False, n_jobs=-1, random_state=1)"
   ]
  },
  {
   "cell_type": "code",
   "execution_count": 23,
   "id": "d192ea42",
   "metadata": {},
   "outputs": [
    {
     "name": "stdout",
     "output_type": "stream",
     "text": [
      "결정 트리 훈련 정확도/테스트 정확도 1.000/0.833\n"
     ]
    }
   ],
   "source": [
    "from sklearn.metrics import accuracy_score\n",
    "\n",
    "tree = tree.fit(X_train, y_train)\n",
    "y_train_pred = tree.predict(X_train)\n",
    "y_test_pred = tree.predict(X_test)\n",
    "tree_train = accuracy_score(y_train, y_train_pred)\n",
    "tree_test = accuracy_score(y_test, y_test_pred)\n",
    "print('결정 트리 훈련 정확도/테스트 정확도 %.3f/%.3f'%(tree_train, tree_test))"
   ]
  },
  {
   "cell_type": "code",
   "execution_count": 24,
   "id": "12b1d841",
   "metadata": {},
   "outputs": [
    {
     "name": "stdout",
     "output_type": "stream",
     "text": [
      "배깅 훈련 정확도/테스트 정확도 1.000/0.917\n"
     ]
    }
   ],
   "source": [
    "bag = bag.fit(X_train, y_train)\n",
    "y_train_pred = bag.predict(X_train)\n",
    "y_test_pred = bag.predict(X_test)\n",
    "bag_train = accuracy_score(y_train, y_train_pred)\n",
    "bag_test = accuracy_score(y_test, y_test_pred)\n",
    "print('배깅 훈련 정확도/테스트 정확도 %.3f/%.3f'%(bag_train, bag_test))"
   ]
  },
  {
   "cell_type": "code",
   "execution_count": 25,
   "id": "730d358f",
   "metadata": {},
   "outputs": [
    {
     "data": {
      "image/png": "[encoded data removed]",
      "text/plain": [
       "<Figure size 576x216 with 2 Axes>"
      ]
     },
     "metadata": {
      "needs_background": "light"
     },
     "output_type": "display_data"
    }
   ],
   "source": [
    "x_min = X_train[:, 0].min()-1\n",
    "x_max = X_train[:, 0].max()+1\n",
    "y_min = X_train[:, 1].min()-1\n",
    "y_max = X_train[:, 1].max()+1\n",
    "\n",
    "xx, yy = np.meshgrid(np.arange(x_min, x_max, .1), np.arange(y_min, y_max, 0.1))\n",
    "f, axrr = plt.subplots(nrows=1, ncols=2, sharex='col', sharey='row', figsize=(8,3))\n",
    "\n",
    "for idx, clf, tt in zip([0, 1], [tree, bag], ['Decision tree', 'Bagging']):\n",
    "    clf.fit(X_train, y_train)\n",
    "    Z = clf.predict(np.c_[xx.ravel(), yy.ravel()])\n",
    "    Z = Z.reshape(xx.shape)\n",
    "    axrr[idx].contourf(xx, yy, Z, alpha=.3)\n",
    "    axrr[idx].scatter(X_train[y_train==0, 0], X_train[y_train==0, 1], c='blue', marker='^', s=50)\n",
    "    axrr[idx].scatter(X_train[y_train==1, 0], X_train[y_train==1, 1], c='green', marker='o', s=50)\n",
    "    axrr[idx].set_title(tt)\n",
    "axrr[0].set_ylabel('Alcohol', fontsize=12)\n",
    "plt.tight_layout()\n",
    "plt.text(0, -0.2, s='OD280/OD315 of diluted wines', ha='center', va='center', fontsize=12, transform=axrr[1].transAxes)\n",
    "plt.show()"
   ]
  },
  {
   "attachments": {},
   "cell_type": "markdown",
   "id": "2c2545a4",
   "metadata": {},
   "source": [
    "**Out of Bag**\n",
    "\n",
    "- 랜덤 포레스트와 배깅은 모두 기본적으로 부트스트랩 샘플링을 사용하기 때문에 분류기마다 훈련에 사용하지 않는 여분 샘플이 남음\n",
    "- 이를 Out of Bag (OOB)라고 함\n",
    "- 이를 사용하면 검증 데이터셋을 만들지 않고 앙상블 모델을 평가할 수 있음\n",
    "- 사이킷런에서는 `oob_score=True`로 설정하면 됨\n",
    "- 사이킷런 랜덤 포레스트 분류의 경우 OOB 샘플에 대한 각 트리의 예측 확률을 누적하여 가장 큰 확률을 가진 클래스를 타깃과 비교하여 정확도를 계산\n",
    "- 회귀의 경우에는 각 트리의 예측 평균에 대한 $R^2$ 점수를 계산"
   ]
  },
  {
   "cell_type": "code",
   "execution_count": 26,
   "id": "b6a3d37e",
   "metadata": {},
   "outputs": [
    {
     "name": "stdout",
     "output_type": "stream",
     "text": [
      "랜덤 포레스트의 훈련 정확도/테스트 정확도: 1.000 / 0.917\n",
      "랜덤 포레스트의 OOB 정확도 : 0.884\n"
     ]
    }
   ],
   "source": [
    "from sklearn.ensemble import RandomForestClassifier as RFC\n",
    "rf = RFC(oob_score=True, random_state=1)\n",
    "rf.fit(X_train, y_train)\n",
    "print('랜덤 포레스트의 훈련 정확도/테스트 정확도: %.3f / %.3f' % (rf.score(X_train, y_train), rf.score(X_test, y_test)))\n",
    "print('랜덤 포레스트의 OOB 정확도 : %.3f' % rf.oob_score_)"
   ]
  },
  {
   "cell_type": "code",
   "execution_count": 27,
   "id": "52fa785d",
   "metadata": {},
   "outputs": [
    {
     "name": "stdout",
     "output_type": "stream",
     "text": [
      "배깅의 훈련 정확도/테스트 정확도: 1.000 / 0.917\n",
      "배깅의 OOB 정확도 : 0.895\n"
     ]
    }
   ],
   "source": [
    "bag = BGC(base_estimator=tree, n_estimators=500, oob_score=True, random_state=1)\n",
    "bag.fit(X_train, y_train)\n",
    "print('배깅의 훈련 정확도/테스트 정확도: %.3f / %.3f' % (bag.score(X_train, y_train), bag.score(X_test, y_test)))\n",
    "print('배깅의 OOB 정확도 : %.3f' % bag.oob_score_)"
   ]
  },
  {
   "attachments": {},
   "cell_type": "markdown",
   "id": "507b1e52",
   "metadata": {},
   "source": [
    "- 고차원 데이터셋을 사용하는 더 복잡한 분류 문제에서 단일 결정 트리가 쉽게 과대적합될 수 있음\n",
    "- 이 경우 배깅 알고리즘을 이용하면 좋음\n",
    "- 배깅 알고리즘은 모델의 분산을 감소하는 효과적인 방법이지만 모델의 편향을 낮추는 데는 효과적이지 않음\n",
    "- 즉, 모델이 너무 단순해서 데이터에 있는 경향을 잘 잡아내지 못함\n",
    "- 이것이 배깅을 수행할 때 편향이 낮은 모델, 예를 들면 가지치기하지 않은 결정 트리를 분류기로 사용하여 앙상블을 만드는 이유"
   ]
  },
  {
   "attachments": {},
   "cell_type": "markdown",
   "id": "706b0d0e",
   "metadata": {},
   "source": [
    "# 4.약한 학습기를 이용한 에이다 부스트\n",
    "\n",
    "- 부스팅에서 앙상블은 약한 학습기라고도 하는 매우 간단한 분류기로 구성됨\n",
    "- 이 분류기는 랜덤 추측보다 조금 성능이 좋은 정도\n",
    "- 약한 학습기의 전형적인 예는 깊이가 1인 결정 트리\n",
    "- 부스팅의 핵십 아이디어는 분류하기 어려운 훈련 샘플에 초점을 맞추는 것\n",
    "- 잘못 분류된 훈련 샘플을 그 다음 약한 학습기가 학습하여 앙상블 성능을 향상시킴"
   ]
  },
  {
   "attachments": {},
   "cell_type": "markdown",
   "id": "640c07b7",
   "metadata": {},
   "source": [
    "## 4.1.부스팅 작동 원리\n",
    "\n",
    "- 배깅과 달리 부스팅의 초창기 방법은 중복을 허용하지 않고 훈련 데이터셋에서 랜덤 샘플을 추출하여 부분집합을 구성함\n",
    "- 원본 부스팅 과정은 다음 네 개의 주요 단계를 거침\n",
    "    1. 훈련 데이터셋 $D$에서 중복을 허용하지 않고 랜덤한 부분 집합 $d_1$을 뽑아 약한 학습기 $C_1$을 훈련\n",
    "    2. 훈련 데이터셋에서 중복을 허용하지 않고 두 번째 랜덤한 훈련 부분 집합 $d_2$를 뽑고 이전에 잘못 분류된 샘플의 50%를 더해서 약한 학습기 $C_2$를 훈련\n",
    "    3. 훈련 데이터셋 $D$에서 $C_1$과 $C_2$에서 잘못 분류한 훈련 샘플 $d_3$를 찾아 세 번째 약한 학습기인 $C_3$를 훈련\n",
    "    4. 약한 학습기 $C_1$, $C_2$, $C_3$를 다수결 투표로 연결\n",
    "- 부스팅은 배깅 모델에 비해 분산은 물론 편향도 감소시킬 수 있음\n",
    "- 실제로는 에이다부스트 같은 부스팅 알고리즘이 분산이 높다고 알려져 있음 (훈련 데이터에 과대적합되는 경향이 있음)\n",
    "- 원본 부스팅 방법과는 다르게 에이다부스트는 약한 학습기를 훈련할 때 훈련 데이터셋 전체를 사용\n",
    "- 훈련 샘플은 반복마다 가중치가 다시 부여되며 이 앙상블은 이전 학습기의 실수를 학습하는 강력한 분류기를 만듦\n",
    "- 에이다부스트의 알고리즘\n",
    "    1. 가중치 벡터 $\\mathbf{w}$를 동일한 가중치로 설정 $\\sum_i w_i = 1$\n",
    "    2. $m$번 부스팅 반복의 $j$번째에서 다음을 수행함.\n",
    "        > a. 가중치가 부여된 약한 학습기를 훈련 $C_j=train(\\mathbf{X}, \\mathbf{y}, \\mathbf{w})$ <br>\n",
    "        > b. 클래스 레이블 예측 $\\hat{\\mathbf{y}} = predict(C_j, \\mathbf{X})$ <br>\n",
    "        > c. 가중치가 적용된 에러율을 계산 $\\varepsilon=\\mathbf{w}\\cdot(\\hat{\\mathbf{y}}\\neq\\mathbf{y})$ ($\\hat{\\mathbf{y}}\\neq\\mathbf{y}$ 예측이 잘되면 1, 아니면 0)<br>\n",
    "        > d. 학습기 가중치 계산 $\\alpha_j = 0.5\\log\\frac{1-\\varepsilon}{\\varepsilon}$ <br>\n",
    "        > e. 가중치 업데이트 $\\mathbf{w} := \\mathbf{w}\\times\\exp(-\\alpha_j\\times\\hat{\\mathbf{y}}\\times\\mathbf{y})$<br>\n",
    "        > f. 합이 1이 되도록 가중치를 정규화 $\\mathbf{w} := \\mathbf{w}/\\sum_i w_i$\n",
    "    3. 최종 예측을 계산 $\\hat{\\mathbf{w}}=\\left( \\sum_{j=1}^m(\\boldsymbol{\\alpha_j\\times predict(C_j, \\mathbf{X})}) > 0 \\right)$"
   ]
  },
  {
   "attachments": {},
   "cell_type": "markdown",
   "id": "df9a9d8c",
   "metadata": {},
   "source": [
    "##  4.2.사이킷런에서 에이다부스트 사용"
   ]
  },
  {
   "cell_type": "code",
   "execution_count": 28,
   "id": "1608e48c",
   "metadata": {},
   "outputs": [
    {
     "name": "stdout",
     "output_type": "stream",
     "text": [
      "결정 트리 훈련 정확도/테스트 정확도: 0.916 / 0.875\n",
      "에이다부스트 훈련 정확도/테스트 정확도: 1.000 / 0.917\n"
     ]
    }
   ],
   "source": [
    "from sklearn.ensemble import  AdaBoostClassifier as ADC\n",
    "tree = DTC(criterion='entropy', random_state=1, max_depth=1)\n",
    "ada = ADC(base_estimator=tree, n_estimators=500, learning_rate=.1, random_state=1)\n",
    "tree = tree.fit(X_train, y_train)\n",
    "y_train_pred = tree.predict(X_train)\n",
    "y_test_pred = tree.predict(X_test)\n",
    "tree_train = accuracy_score(y_train, y_train_pred)\n",
    "tree_test = accuracy_score(y_test, y_test_pred)\n",
    "print(\"결정 트리 훈련 정확도/테스트 정확도: %.3f / %.3f\" % (tree_train, tree_test))\n",
    "\n",
    "ada = ada.fit(X_train, y_train)\n",
    "y_train_pred = ada.predict(X_train)\n",
    "y_test_pred = ada.predict(X_test)\n",
    "ada_train = accuracy_score(y_train, y_train_pred)\n",
    "ada_test = accuracy_score(y_test, y_test_pred)\n",
    "print(\"에이다부스트 훈련 정확도/테스트 정확도: %.3f / %.3f\" % (ada_train, ada_test))"
   ]
  },
  {
   "attachments": {},
   "cell_type": "markdown",
   "id": "4dbea008",
   "metadata": {},
   "source": [
    "- 에이다부스트 모델은 훈련 데이터셋의 모든 클래스 레이블을 정확하게 예측하고 깊이가 1인 결정 트리에 비해 테스트 데이터셋 성능도 좀 더 높음\n",
    "- 훈련 성능과 테스트 성능 사이에 간격이 크므로 모델의 편향을 줄임으로써 추가적인 분산이 발생함"
   ]
  },
  {
   "cell_type": "code",
   "execution_count": 29,
   "id": "020e5980",
   "metadata": {},
   "outputs": [
    {
     "data": {
      "image/png": "[encoded data removed]",
      "text/plain": [
       "<Figure size 576x216 with 2 Axes>"
      ]
     },
     "metadata": {
      "needs_background": "light"
     },
     "output_type": "display_data"
    }
   ],
   "source": [
    "x_min = X_train[:,0].min()-1\n",
    "x_max = X_train[:,0].max()+1\n",
    "y_min = X_train[:,1].min()-1\n",
    "y_max = X_train[:,1].max()+1\n",
    "xx, yy = np.meshgrid(np.arange(x_min, x_max, 0.1), np.arange(y_min, y_max, 0.1))\n",
    "\n",
    "f, axarr = plt.subplots(nrows=1, ncols=2, sharex='col', sharey='row', figsize=(8,3))\n",
    "\n",
    "for idx, clf, tt in zip([0, 1], [tree, ada], ['Decision Tree', 'Adaboost']):\n",
    "    clf.fit(X_train, y_train)\n",
    "    Z = clf.predict(np.c_[xx.ravel(), yy.ravel()])\n",
    "    Z = Z.reshape(xx.shape)\n",
    "    axarr[idx].contourf(xx, yy, Z, alpha=0.3)\n",
    "    axarr[idx].scatter(X_train[y_train==0, 0], X_train[y_train==0, 1], c='blue', marker='^')\n",
    "    axarr[idx].scatter(X_train[y_train==1, 0], X_train[y_train==1, 1], c='green', marker='o')\n",
    "    axarr[idx].set_title(tt)\n",
    "    axarr[0].set_ylabel('Alcohol', fontsize=12)\n",
    "plt.tight_layout()\n",
    "plt.text(0, -0.2, s='OD280/OD315 of diluted wines', ha='center', va='center', fontsize=12, transform=axarr[1].transAxes)\n",
    "plt.show()"
   ]
  },
  {
   "attachments": {},
   "cell_type": "markdown",
   "id": "74263b42",
   "metadata": {},
   "source": [
    "- 앙상블 학습은 개별 분류기에 비해 계산 복잡도가 높다는 점"
   ]
  },
  {
   "attachments": {},
   "cell_type": "markdown",
   "id": "83a0bb73",
   "metadata": {},
   "source": [
    "**그라디언트 부스팅**\n",
    "\n",
    "- 에이다부스트와 그레디언트 부스팅의 전반적인 개념은 같음 (깊이가 1인 결정 트리 등)\n",
    "- 다른 점은 가중치를 업데이트 하는 방법과 학습기를 연결하는 방법\n",
    "- 사이킷런의 `GradientBoostingClassifier` 클래스가 존재\n",
    "- `XGBoost`보다 바른 그레디언트 부스팅 구현인 `HistGradientBoostingClassifier`가 추가됨\n",
    "- 그라디언트 부스팅은 약한 학습기가 만든 잔차 오차에 대해 학습하는 새로운 학습기를 추가함"
   ]
  },
  {
   "cell_type": "code",
   "execution_count": 30,
   "id": "a75600b4",
   "metadata": {},
   "outputs": [
    {
     "name": "stdout",
     "output_type": "stream",
     "text": [
      "그라디언트 부스팅의 훈련 정확도/테스트 정확도: 1.000 / 0.917\n"
     ]
    }
   ],
   "source": [
    "from sklearn.ensemble import GradientBoostingClassifier as GBC\n",
    "gbrt = GBC(n_estimators=20, random_state=42)\n",
    "gbrt.fit(X_train, y_train)\n",
    "gbrt_train_score = gbrt.score(X_train, y_train)\n",
    "gbrt_test_score = gbrt.score(X_test, y_test)\n",
    "print('그라디언트 부스팅의 훈련 정확도/테스트 정확도: %.3f / %.3f' % (gbrt_train_score, gbrt_test_score))"
   ]
  },
  {
   "attachments": {},
   "cell_type": "markdown",
   "id": "bef1e865",
   "metadata": {},
   "source": [
    "- `learning_rate`: 각 트리가 오차에 기여하는 정도를 조절, 작으면 성능은 높아지지만 많은 트리 필요 (default: 0.1)\n",
    "- `loss`: 그라디언트 부스팅이 사용하는 손실함수(`log_loss`- 로지스틱 회귀, `ls`- 최소 제곱)\n",
    "- 그라디언트 부스팅이 오차를 학습하기 위해 사용하는 학습기는 `DecisionTreeRegressor`\n",
    "- `DecisionTreeRegressor`의 불순도 조건은 `'squared_error'`, `'absolute_error'` 등이 있음\n",
    "- 이에 따라 그라디언트 부스팅의 `criterion` 매개변수도 `DecisionTreeRegressor`의 불순도 조건을 따라서 `'squared_error'`, `'mae'`, '`friedman_mse(default)` 사용\n",
    "- `mae` 사용시 그라디언트 부스팅 결과가 좋지 않기에 삭제\n",
    "- `subsample`: 1.0보다 작은 값으로 지정하면 훈련 데이터셋에서 `subsample` 매개변수에 지정된 비율만큼 랜덤하게 샘플링하여 트리를 훈련\n",
    "- 이를 확률적 그라디언트 부스팅이라고 함\n",
    "- 랜덤 포레스트나 에이다부스트의 부트스트랩 샘플링과 비슷하게 과대적합을 줄이는 효과를 냄\n",
    "- 남은 샘플을 사용하여 OOB 점수도 계산 가능\n",
    "- `subsample < 1.0`일 때, 그라디언트 부스팅 객체의 `oob_improvement_` 속성에 이전 트리의 OOB 손실 값에서 현재 트리의 OOB 손실을 뺀 값이 기록되어 있음\n",
    "- 이 값에 음수를 취해 누적하면 트리가 추가되면서 과대적합되는 지점을 찾을 수 있음"
   ]
  },
  {
   "cell_type": "code",
   "execution_count": 31,
   "id": "b471051a",
   "metadata": {},
   "outputs": [
    {
     "data": {
      "image/png": "[encoded data removed]",
      "text/plain": [
       "<Figure size 432x288 with 1 Axes>"
      ]
     },
     "metadata": {
      "needs_background": "light"
     },
     "output_type": "display_data"
    }
   ],
   "source": [
    "gbrt = GBC(n_estimators=100, subsample=0.5, random_state=1)\n",
    "gbrt.fit(X_train, y_train)\n",
    "oob_loss = np.cumsum(-gbrt.oob_improvement_)\n",
    "plt.plot(range(100), oob_loss)\n",
    "plt.xlabel('number of trees')\n",
    "plt.ylabel('loss')\n",
    "plt.show()"
   ]
  },
  {
   "attachments": {},
   "cell_type": "markdown",
   "id": "785c68cb",
   "metadata": {},
   "source": [
    "- 사이킷런 0.20 버전부터는 그라디언트 부스팅에 조기종료 기능을 지원하기 위한 매개변수 `n_iter_no_change, validation_fraction, tol`이 추가되었음\n",
    "- 훈련 데이터에서 `validation_fraction` 비율 (기본값 0.1)만큼 떼어 내어 측정한 손실이 `n_tier_no_change` 반복 동안에 `tol` 값(기본값 1e-4) 이상 향상되지 않으면 훈련을 멈춤"
   ]
  },
  {
   "attachments": {},
   "cell_type": "markdown",
   "id": "19cb4c2a",
   "metadata": {},
   "source": [
    "**히스토그램 기반 부스팅**\n",
    "\n",
    "- 입력 특성을 256개의 구간으로 나누어 노드를 분할에 사용\n",
    "- 일반적으로 샘플 개수가 1만 개보다 많은 경우 그라디언트 부스팅보다 히스토그램 기반 부스팅이 훨씬 빠름"
   ]
  },
  {
   "cell_type": "code",
   "execution_count": 32,
   "id": "072cd55a",
   "metadata": {},
   "outputs": [
    {
     "name": "stdout",
     "output_type": "stream",
     "text": [
      "히스토그램 기반 부스팅의 훈련 정확도/테스트 정확도: 0.979 / 0.917\n"
     ]
    }
   ],
   "source": [
    "from sklearn.ensemble import HistGradientBoostingClassifier as HBC\n",
    "hgbc = HBC(random_state=1)\n",
    "hgbc.fit(X_train, y_train)\n",
    "hgbc_train_score = hgbc.score(X_train, y_train)\n",
    "hgbc_test_score = hgbc.score(X_test, y_test)\n",
    "print('히스토그램 기반 부스팅의 훈련 정확도/테스트 정확도: %.3f / %.3f' % (hgbc_train_score, hgbc_test_score))"
   ]
  },
  {
   "attachments": {},
   "cell_type": "markdown",
   "id": "55d83d83",
   "metadata": {},
   "source": [
    "- `categorical_features` 매개변수에 boolean 배열이나 정수 인덱스 배열을 전달하여 범주형 특성을 알려주면 범주형 특성에 그대로 적용 가능"
   ]
  },
  {
   "attachments": {},
   "cell_type": "markdown",
   "id": "7825f38b",
   "metadata": {},
   "source": [
    "**XGBoost**\n",
    "\n",
    "- `tree_method` 매개변수를 `'hist'`로 지정하여 히스토그램 기반 부스팅을 사용할 수 있음"
   ]
  },
  {
   "cell_type": "code",
   "execution_count": 34,
   "id": "5f3f3070",
   "metadata": {},
   "outputs": [
    {
     "name": "stdout",
     "output_type": "stream",
     "text": [
      "[21:22:21] WARNING: C:/Users/Administrator/workspace/xgboost-win64_release_1.5.1/src/learner.cc:576: \n",
      "Parameters: { \"use_label_encoding\" } might not be used.\n",
      "\n",
      "  This could be a false alarm, with some parameters getting used by language bindings but\n",
      "  then being mistakenly passed down to XGBoost core, or some parameter actually being used\n",
      "  but getting flagged wrongly here. Please open an issue if you find any such cases.\n",
      "\n",
      "\n",
      "XGBoost의 훈련 정확도/테스트 정확도: 0.979 / 0.917\n"
     ]
    },
    {
     "name": "stderr",
     "output_type": "stream",
     "text": [
      "c:\\Users\\yunjc\\anaconda3\\envs\\main\\lib\\site-packages\\xgboost\\sklearn.py:1224: UserWarning: The use of label encoder in XGBClassifier is deprecated and will be removed in a future release. To remove this warning, do the following: 1) Pass option use_label_encoder=False when constructing XGBClassifier object; and 2) Encode your labels (y) as integers starting with 0, i.e. 0, 1, 2, ..., [num_class - 1].\n",
      "  warnings.warn(label_encoder_deprecation_msg, UserWarning)\n"
     ]
    }
   ],
   "source": [
    "from xgboost import XGBClassifier\n",
    "\n",
    "xgb = XGBClassifier(tree_method='hist', eval_metric='logloss', use_label_encoding=False, random_state=1)\n",
    "xgb.fit(X_train, y_train)\n",
    "xgb_train_score = xgb.score(X_train, y_train)\n",
    "xgb_test_score = xgb.score(X_test, y_test)\n",
    "print('XGBoost의 훈련 정확도/테스트 정확도: %.3f / %.3f' % (xgb_train_score, xgb_test_score))"
   ]
  },
  {
   "attachments": {},
   "cell_type": "markdown",
   "id": "d9e128c1",
   "metadata": {},
   "source": [
    "**LightGBM**\n",
    "\n",
    "- 마이크로소프트에서 만듦\n",
    "- 사이킷런의 히스토그램 기반 부스팅은 LightGBM에서 영향을 받음"
   ]
  },
  {
   "cell_type": "code",
   "execution_count": 36,
   "id": "b3b26867",
   "metadata": {},
   "outputs": [
    {
     "name": "stdout",
     "output_type": "stream",
     "text": [
      "LightGBM의 훈련 정확도/테스트 정확도: 0.979 / 0.917\n"
     ]
    }
   ],
   "source": [
    "from lightgbm import LGBMClassifier\n",
    "\n",
    "lgb = LGBMClassifier(random_state=1)\n",
    "lgb.fit(X_train, y_train)\n",
    "lgb_train_score = lgb.score(X_train, y_train)\n",
    "lgb_test_score = lgb.score(X_test, y_test)\n",
    "print('LightGBM의 훈련 정확도/테스트 정확도: %.3f / %.3f' % (lgb_train_score, lgb_test_score))"
   ]
  }
 ],
 "metadata": {
  "kernelspec": {
   "display_name": "Python 3 (ipykernel)",
   "language": "python",
   "name": "python3"
  },
  "language_info": {
   "codemirror_mode": {
    "name": "ipython",
    "version": 3
   },
   "file_extension": ".py",
   "mimetype": "text/x-python",
   "name": "python",
   "nbconvert_exporter": "python",
   "pygments_lexer": "ipython3",
   "version": "3.8.8"
  }
 },
 "nbformat": 4,
 "nbformat_minor": 5
}
