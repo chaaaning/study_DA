{
 "cells": [
  {
   "attachments": {},
   "cell_type": "markdown",
   "metadata": {},
   "source": [
    "이 장에서 다루는 주제\n",
    "\n",
    "1. 데이터 셋에서 누락된 값을 제거하거나 대체하기    (결측치 처리)\n",
    "2. 머신 러닝 알고리즘을 위해 범주형 데이터 변환하기 (인코딩)\n",
    "3. 모델과 관련이 높은 특성 선택하기                (feature selection)"
   ]
  },
  {
   "attachments": {},
   "cell_type": "markdown",
   "metadata": {},
   "source": [
    "# 1.누락된 데이터 다루기"
   ]
  },
  {
   "attachments": {},
   "cell_type": "markdown",
   "metadata": {},
   "source": [
    "## 1.1.테이블 데이터에서 누락된 값 식별하기"
   ]
  },
  {
   "cell_type": "code",
   "execution_count": 1,
   "metadata": {},
   "outputs": [
    {
     "data": {
      "text/html": [
       "<div>\n",
       "<style scoped>\n",
       "    .dataframe tbody tr th:only-of-type {\n",
       "        vertical-align: middle;\n",
       "    }\n",
       "\n",
       "    .dataframe tbody tr th {\n",
       "        vertical-align: top;\n",
       "    }\n",
       "\n",
       "    .dataframe thead th {\n",
       "        text-align: right;\n",
       "    }\n",
       "</style>\n",
       "<table border=\"1\" class=\"dataframe\">\n",
       "  <thead>\n",
       "    <tr style=\"text-align: right;\">\n",
       "      <th></th>\n",
       "      <th>A</th>\n",
       "      <th>B</th>\n",
       "      <th>C</th>\n",
       "      <th>D</th>\n",
       "    </tr>\n",
       "  </thead>\n",
       "  <tbody>\n",
       "    <tr>\n",
       "      <th>0</th>\n",
       "      <td>1.0</td>\n",
       "      <td>2.0</td>\n",
       "      <td>3.0</td>\n",
       "      <td>4.0</td>\n",
       "    </tr>\n",
       "    <tr>\n",
       "      <th>1</th>\n",
       "      <td>5.0</td>\n",
       "      <td>6.0</td>\n",
       "      <td>NaN</td>\n",
       "      <td>8.0</td>\n",
       "    </tr>\n",
       "    <tr>\n",
       "      <th>2</th>\n",
       "      <td>10.0</td>\n",
       "      <td>11.0</td>\n",
       "      <td>12.0</td>\n",
       "      <td>NaN</td>\n",
       "    </tr>\n",
       "  </tbody>\n",
       "</table>\n",
       "</div>"
      ],
      "text/plain": [
       "      A     B     C    D\n",
       "0   1.0   2.0   3.0  4.0\n",
       "1   5.0   6.0   NaN  8.0\n",
       "2  10.0  11.0  12.0  NaN"
      ]
     },
     "execution_count": 1,
     "metadata": {},
     "output_type": "execute_result"
    }
   ],
   "source": [
    "import pandas as pd\n",
    "from io import StringIO\n",
    "\n",
    "csv_data = \"A,B,C,D\\n1.0,2.0,3.0,4.0\\n5.0,6.0,,8.0\\n10.0,11.0,12.0,\"\n",
    "df = pd.read_csv(StringIO(csv_data))\n",
    "df"
   ]
  },
  {
   "cell_type": "code",
   "execution_count": 2,
   "metadata": {},
   "outputs": [
    {
     "data": {
      "text/plain": [
       "A    0\n",
       "B    0\n",
       "C    1\n",
       "D    1\n",
       "dtype: int64"
      ]
     },
     "execution_count": 2,
     "metadata": {},
     "output_type": "execute_result"
    }
   ],
   "source": [
    "df.isnull().sum()"
   ]
  },
  {
   "attachments": {},
   "cell_type": "markdown",
   "metadata": {},
   "source": [
    "```text\n",
    "TIP. 판단스와 넘파이\n",
    "\n",
    " 사이킷런이 넘파이 배열을 다룰 수 있도록 개발되었지만 이따금 판다스의 DataFrame을 사용하여 데이터를 전처리하는 것이 편함\n",
    " 사이킷런은 DataFrame보다 넘파이에 훨씬 익숙한 라이브러리이기 때문에, 사이킷런의 추정기에 주입하기 전에 df.values 속성으로 넘파이를 넣는 것이 바람직 함\n",
    "```"
   ]
  },
  {
   "attachments": {},
   "cell_type": "markdown",
   "metadata": {},
   "source": [
    "## 1.2.누락된 값이 있는 훈련 샘플이나 특성을 제외"
   ]
  },
  {
   "cell_type": "code",
   "execution_count": 3,
   "metadata": {},
   "outputs": [
    {
     "data": {
      "text/html": [
       "<div>\n",
       "<style scoped>\n",
       "    .dataframe tbody tr th:only-of-type {\n",
       "        vertical-align: middle;\n",
       "    }\n",
       "\n",
       "    .dataframe tbody tr th {\n",
       "        vertical-align: top;\n",
       "    }\n",
       "\n",
       "    .dataframe thead th {\n",
       "        text-align: right;\n",
       "    }\n",
       "</style>\n",
       "<table border=\"1\" class=\"dataframe\">\n",
       "  <thead>\n",
       "    <tr style=\"text-align: right;\">\n",
       "      <th></th>\n",
       "      <th>A</th>\n",
       "      <th>B</th>\n",
       "      <th>C</th>\n",
       "      <th>D</th>\n",
       "    </tr>\n",
       "  </thead>\n",
       "  <tbody>\n",
       "    <tr>\n",
       "      <th>0</th>\n",
       "      <td>1.0</td>\n",
       "      <td>2.0</td>\n",
       "      <td>3.0</td>\n",
       "      <td>4.0</td>\n",
       "    </tr>\n",
       "  </tbody>\n",
       "</table>\n",
       "</div>"
      ],
      "text/plain": [
       "     A    B    C    D\n",
       "0  1.0  2.0  3.0  4.0"
      ]
     },
     "execution_count": 3,
     "metadata": {},
     "output_type": "execute_result"
    }
   ],
   "source": [
    "df.dropna(axis=0)"
   ]
  },
  {
   "cell_type": "code",
   "execution_count": 4,
   "metadata": {},
   "outputs": [
    {
     "data": {
      "text/html": [
       "<div>\n",
       "<style scoped>\n",
       "    .dataframe tbody tr th:only-of-type {\n",
       "        vertical-align: middle;\n",
       "    }\n",
       "\n",
       "    .dataframe tbody tr th {\n",
       "        vertical-align: top;\n",
       "    }\n",
       "\n",
       "    .dataframe thead th {\n",
       "        text-align: right;\n",
       "    }\n",
       "</style>\n",
       "<table border=\"1\" class=\"dataframe\">\n",
       "  <thead>\n",
       "    <tr style=\"text-align: right;\">\n",
       "      <th></th>\n",
       "      <th>A</th>\n",
       "      <th>B</th>\n",
       "    </tr>\n",
       "  </thead>\n",
       "  <tbody>\n",
       "    <tr>\n",
       "      <th>0</th>\n",
       "      <td>1.0</td>\n",
       "      <td>2.0</td>\n",
       "    </tr>\n",
       "    <tr>\n",
       "      <th>1</th>\n",
       "      <td>5.0</td>\n",
       "      <td>6.0</td>\n",
       "    </tr>\n",
       "    <tr>\n",
       "      <th>2</th>\n",
       "      <td>10.0</td>\n",
       "      <td>11.0</td>\n",
       "    </tr>\n",
       "  </tbody>\n",
       "</table>\n",
       "</div>"
      ],
      "text/plain": [
       "      A     B\n",
       "0   1.0   2.0\n",
       "1   5.0   6.0\n",
       "2  10.0  11.0"
      ]
     },
     "execution_count": 4,
     "metadata": {},
     "output_type": "execute_result"
    }
   ],
   "source": [
    "df.dropna(axis=1)"
   ]
  },
  {
   "cell_type": "code",
   "execution_count": 5,
   "metadata": {},
   "outputs": [
    {
     "data": {
      "text/html": [
       "<div>\n",
       "<style scoped>\n",
       "    .dataframe tbody tr th:only-of-type {\n",
       "        vertical-align: middle;\n",
       "    }\n",
       "\n",
       "    .dataframe tbody tr th {\n",
       "        vertical-align: top;\n",
       "    }\n",
       "\n",
       "    .dataframe thead th {\n",
       "        text-align: right;\n",
       "    }\n",
       "</style>\n",
       "<table border=\"1\" class=\"dataframe\">\n",
       "  <thead>\n",
       "    <tr style=\"text-align: right;\">\n",
       "      <th></th>\n",
       "      <th>A</th>\n",
       "      <th>B</th>\n",
       "      <th>C</th>\n",
       "      <th>D</th>\n",
       "    </tr>\n",
       "  </thead>\n",
       "  <tbody>\n",
       "    <tr>\n",
       "      <th>0</th>\n",
       "      <td>1.0</td>\n",
       "      <td>2.0</td>\n",
       "      <td>3.0</td>\n",
       "      <td>4.0</td>\n",
       "    </tr>\n",
       "    <tr>\n",
       "      <th>1</th>\n",
       "      <td>5.0</td>\n",
       "      <td>6.0</td>\n",
       "      <td>NaN</td>\n",
       "      <td>8.0</td>\n",
       "    </tr>\n",
       "    <tr>\n",
       "      <th>2</th>\n",
       "      <td>10.0</td>\n",
       "      <td>11.0</td>\n",
       "      <td>12.0</td>\n",
       "      <td>NaN</td>\n",
       "    </tr>\n",
       "  </tbody>\n",
       "</table>\n",
       "</div>"
      ],
      "text/plain": [
       "      A     B     C    D\n",
       "0   1.0   2.0   3.0  4.0\n",
       "1   5.0   6.0   NaN  8.0\n",
       "2  10.0  11.0  12.0  NaN"
      ]
     },
     "execution_count": 5,
     "metadata": {},
     "output_type": "execute_result"
    }
   ],
   "source": [
    "# 모든 열이 NaN일 때만 행 삭제\n",
    "df.dropna(how='all')"
   ]
  },
  {
   "cell_type": "code",
   "execution_count": 6,
   "metadata": {},
   "outputs": [
    {
     "data": {
      "text/html": [
       "<div>\n",
       "<style scoped>\n",
       "    .dataframe tbody tr th:only-of-type {\n",
       "        vertical-align: middle;\n",
       "    }\n",
       "\n",
       "    .dataframe tbody tr th {\n",
       "        vertical-align: top;\n",
       "    }\n",
       "\n",
       "    .dataframe thead th {\n",
       "        text-align: right;\n",
       "    }\n",
       "</style>\n",
       "<table border=\"1\" class=\"dataframe\">\n",
       "  <thead>\n",
       "    <tr style=\"text-align: right;\">\n",
       "      <th></th>\n",
       "      <th>A</th>\n",
       "      <th>B</th>\n",
       "      <th>C</th>\n",
       "      <th>D</th>\n",
       "    </tr>\n",
       "  </thead>\n",
       "  <tbody>\n",
       "    <tr>\n",
       "      <th>0</th>\n",
       "      <td>1.0</td>\n",
       "      <td>2.0</td>\n",
       "      <td>3.0</td>\n",
       "      <td>4.0</td>\n",
       "    </tr>\n",
       "  </tbody>\n",
       "</table>\n",
       "</div>"
      ],
      "text/plain": [
       "     A    B    C    D\n",
       "0  1.0  2.0  3.0  4.0"
      ]
     },
     "execution_count": 6,
     "metadata": {},
     "output_type": "execute_result"
    }
   ],
   "source": [
    "# NaN이 아닌 값이 네 개보다 작은 행을 삭제\n",
    "df.dropna(thresh=4)"
   ]
  },
  {
   "cell_type": "code",
   "execution_count": 7,
   "metadata": {},
   "outputs": [
    {
     "data": {
      "text/html": [
       "<div>\n",
       "<style scoped>\n",
       "    .dataframe tbody tr th:only-of-type {\n",
       "        vertical-align: middle;\n",
       "    }\n",
       "\n",
       "    .dataframe tbody tr th {\n",
       "        vertical-align: top;\n",
       "    }\n",
       "\n",
       "    .dataframe thead th {\n",
       "        text-align: right;\n",
       "    }\n",
       "</style>\n",
       "<table border=\"1\" class=\"dataframe\">\n",
       "  <thead>\n",
       "    <tr style=\"text-align: right;\">\n",
       "      <th></th>\n",
       "      <th>A</th>\n",
       "      <th>B</th>\n",
       "      <th>C</th>\n",
       "      <th>D</th>\n",
       "    </tr>\n",
       "  </thead>\n",
       "  <tbody>\n",
       "    <tr>\n",
       "      <th>0</th>\n",
       "      <td>1.0</td>\n",
       "      <td>2.0</td>\n",
       "      <td>3.0</td>\n",
       "      <td>4.0</td>\n",
       "    </tr>\n",
       "    <tr>\n",
       "      <th>2</th>\n",
       "      <td>10.0</td>\n",
       "      <td>11.0</td>\n",
       "      <td>12.0</td>\n",
       "      <td>NaN</td>\n",
       "    </tr>\n",
       "  </tbody>\n",
       "</table>\n",
       "</div>"
      ],
      "text/plain": [
       "      A     B     C    D\n",
       "0   1.0   2.0   3.0  4.0\n",
       "2  10.0  11.0  12.0  NaN"
      ]
     },
     "execution_count": 7,
     "metadata": {},
     "output_type": "execute_result"
    }
   ],
   "source": [
    "# 특정 열에 NaN이 있는 행막 삭제\n",
    "df.dropna(subset=[\"C\"])"
   ]
  },
  {
   "attachments": {},
   "cell_type": "markdown",
   "metadata": {},
   "source": [
    "## 1.3.누락된 값 대체 (interpolation)"
   ]
  },
  {
   "cell_type": "code",
   "execution_count": 8,
   "metadata": {},
   "outputs": [
    {
     "data": {
      "text/plain": [
       "array([[ 1. ,  2. ,  3. ,  4. ],\n",
       "       [ 5. ,  6. ,  7.5,  8. ],\n",
       "       [10. , 11. , 12. ,  6. ]])"
      ]
     },
     "execution_count": 8,
     "metadata": {},
     "output_type": "execute_result"
    }
   ],
   "source": [
    "from sklearn.impute import SimpleImputer\n",
    "import numpy as np\n",
    "\n",
    "imr = SimpleImputer(missing_values=np.nan, strategy='mean')\n",
    "imr = imr.fit(df.values)\n",
    "imputed_date = imr.transform(df.values)\n",
    "imputed_date"
   ]
  },
  {
   "attachments": {},
   "cell_type": "markdown",
   "metadata": {},
   "source": [
    "1. `SimpleImputer`\n",
    "    - `missing_values`: 결측값의 형태를 지정하는 파라미터\n",
    "    - `strategy` : 채우고자 하는 값을 지정하는 파라미터 (mean, median, most_frequent, const)\n",
    "        - 만약 strategy='const'라면, `finll_Value` 매개변수를 통해 채우려는 값을 지정함\n",
    "    - 기본 동작 방식은 열에 대해 동작함\n",
    "    - 행에 대한 동작을 원할 때는 다음과 같이 작성\n",
    "        ```python\n",
    "        from sklearn.preprocessing import FunctionTransformer\n",
    "        ftr_imr = FunctionTransformer(lambda X: imr.fit_trainsform(X.T).T, validate=False)\n",
    "        imputed_data = ftr.imr.fit_transform(df.values)\n",
    "        ```\n",
    "        <br>\n",
    "\n",
    "2. `IterativeImputer`\n",
    "    - 다른 특성을 사용하여 누락된 값을 예측함\n",
    "    - 먼저 `initial_strategy` 매개변수에 지정된 방식으로 누락된 값을 초기화\n",
    "    - 누락된 값이 있는 한 특성을 타깃으로 삼고 다른 특성을 사용해서 모델을 훈련하여 예측\n",
    "    - 누락된 값이 있는 모든 특성을 순회\n",
    "    - `initial_strategy` : mean, median, most_frequent, const 사용 가능\n",
    "    ```text\n",
    "        * 예측할 특성을 선택하는 순서\n",
    "        ascending : 누락된 값이 가장 적은 특성 부터 선택\n",
    "        descending : 누락된 값이 가장 큰 특성부터 선택\n",
    "        roman : 왼쪽에서 오른쪽으로 선택\n",
    "        arabic : 오른쪽에서 왼쪽으로 선택\n",
    "        random : 랜덤하게 선택\n",
    "    ```\n",
    "    - 특성 예측은 종료 조건을 만족할 때까지 반복\n",
    "        1. 각 반복 단계에서 이전 단계와 절댓값 차이 중 가장 큰 값 < 누락된 값을 제외하고 가장 큰 절댓값에 tol 매개변수를 곱한 것 (tol default: 1e-3)\n",
    "        2. max_iter 매개변수에서 지정한 횟수에 도달할 때 종료 (default: 10)\n",
    "    - 예측에 사용하는 모델은 estimator 매개변수에서 지정 (기본적으로 BayesianRidge 클래스 사용)\n",
    "    - 예측에 사용할 특성 개수는 `n_nearest_fetures`에서 지정 가능\n",
    "    - 상관 계수가 높은 특성을 우선하여 랜덤하게 선택 (default: None으로 모든 특성 사용)\n",
    "    - IterativeImputer 클래스는 아직 실험적이기 때문에 사용하려면 먼저 `enable_iteraitve_imputer` 모듈을 임포트\n",
    "        ```python\n",
    "        from sklearn.experimental import enable_iterative_imputer\n",
    "        from sklearn.impute import IterativeImputer\n",
    "        iimr = IterativeImputer()\n",
    "        iimr.fit_transform(df.values)\n",
    "        ```\n",
    "    <br>\n",
    "\n",
    "3. `KNNImputer`\n",
    "    - k-최근접 이웃 방법을 사용하여 누락된 값을 채움\n",
    "    - 최근접 이웃의 개수는 `n_neighbors` 매개변수로 지정 (default: 5)\n",
    "    - 샘플 개수가 `n_neighbors`보다 작으면 SimpleImputer(startegy='mean') 과 같은 결과를 얻음\n",
    "        ```python\n",
    "        from sklearn.impute import KNNImputer\n",
    "        kimr = KNNImputer()\n",
    "        kimr.fit_transform(df.values)\n",
    "        ```"
   ]
  },
  {
   "attachments": {},
   "cell_type": "markdown",
   "metadata": {},
   "source": [
    "# 2.범주형 데이터 다루기"
   ]
  },
  {
   "attachments": {},
   "cell_type": "markdown",
   "metadata": {},
   "source": [
    "## 2.1.판다스를 사용한 범주형 데이터 인코딩"
   ]
  },
  {
   "cell_type": "code",
   "execution_count": 9,
   "metadata": {},
   "outputs": [
    {
     "data": {
      "text/html": [
       "<div>\n",
       "<style scoped>\n",
       "    .dataframe tbody tr th:only-of-type {\n",
       "        vertical-align: middle;\n",
       "    }\n",
       "\n",
       "    .dataframe tbody tr th {\n",
       "        vertical-align: top;\n",
       "    }\n",
       "\n",
       "    .dataframe thead th {\n",
       "        text-align: right;\n",
       "    }\n",
       "</style>\n",
       "<table border=\"1\" class=\"dataframe\">\n",
       "  <thead>\n",
       "    <tr style=\"text-align: right;\">\n",
       "      <th></th>\n",
       "      <th>color</th>\n",
       "      <th>size</th>\n",
       "      <th>price</th>\n",
       "      <th>classlabel</th>\n",
       "    </tr>\n",
       "  </thead>\n",
       "  <tbody>\n",
       "    <tr>\n",
       "      <th>0</th>\n",
       "      <td>green</td>\n",
       "      <td>M</td>\n",
       "      <td>10.1</td>\n",
       "      <td>class2</td>\n",
       "    </tr>\n",
       "    <tr>\n",
       "      <th>1</th>\n",
       "      <td>red</td>\n",
       "      <td>L</td>\n",
       "      <td>13.5</td>\n",
       "      <td>class1</td>\n",
       "    </tr>\n",
       "    <tr>\n",
       "      <th>2</th>\n",
       "      <td>blue</td>\n",
       "      <td>XL</td>\n",
       "      <td>15.3</td>\n",
       "      <td>class2</td>\n",
       "    </tr>\n",
       "  </tbody>\n",
       "</table>\n",
       "</div>"
      ],
      "text/plain": [
       "   color size  price classlabel\n",
       "0  green    M   10.1     class2\n",
       "1    red    L   13.5     class1\n",
       "2   blue   XL   15.3     class2"
      ]
     },
     "execution_count": 9,
     "metadata": {},
     "output_type": "execute_result"
    }
   ],
   "source": [
    "import pandas as pd\n",
    "df = pd.DataFrame([\n",
    "    ['green','M',10.1,'class2'],\n",
    "    ['red','L',13.5,'class1'],\n",
    "    ['blue','XL',15.3,'class2']\n",
    "])\n",
    "df.columns = ['color','size','price','classlabel']\n",
    "df"
   ]
  },
  {
   "attachments": {},
   "cell_type": "markdown",
   "metadata": {},
   "source": [
    "## 2.2.순서가 있는 특성 매핑\n",
    "- 산술적 차이가 있을 때!"
   ]
  },
  {
   "cell_type": "code",
   "execution_count": 10,
   "metadata": {},
   "outputs": [
    {
     "data": {
      "text/html": [
       "<div>\n",
       "<style scoped>\n",
       "    .dataframe tbody tr th:only-of-type {\n",
       "        vertical-align: middle;\n",
       "    }\n",
       "\n",
       "    .dataframe tbody tr th {\n",
       "        vertical-align: top;\n",
       "    }\n",
       "\n",
       "    .dataframe thead th {\n",
       "        text-align: right;\n",
       "    }\n",
       "</style>\n",
       "<table border=\"1\" class=\"dataframe\">\n",
       "  <thead>\n",
       "    <tr style=\"text-align: right;\">\n",
       "      <th></th>\n",
       "      <th>color</th>\n",
       "      <th>size</th>\n",
       "      <th>price</th>\n",
       "      <th>classlabel</th>\n",
       "    </tr>\n",
       "  </thead>\n",
       "  <tbody>\n",
       "    <tr>\n",
       "      <th>0</th>\n",
       "      <td>green</td>\n",
       "      <td>1</td>\n",
       "      <td>10.1</td>\n",
       "      <td>class2</td>\n",
       "    </tr>\n",
       "    <tr>\n",
       "      <th>1</th>\n",
       "      <td>red</td>\n",
       "      <td>2</td>\n",
       "      <td>13.5</td>\n",
       "      <td>class1</td>\n",
       "    </tr>\n",
       "    <tr>\n",
       "      <th>2</th>\n",
       "      <td>blue</td>\n",
       "      <td>3</td>\n",
       "      <td>15.3</td>\n",
       "      <td>class2</td>\n",
       "    </tr>\n",
       "  </tbody>\n",
       "</table>\n",
       "</div>"
      ],
      "text/plain": [
       "   color  size  price classlabel\n",
       "0  green     1   10.1     class2\n",
       "1    red     2   13.5     class1\n",
       "2   blue     3   15.3     class2"
      ]
     },
     "execution_count": 10,
     "metadata": {},
     "output_type": "execute_result"
    }
   ],
   "source": [
    "size_mapping = {'XL':3, 'L':2, 'M':1}\n",
    "df['size']=df['size'].map(size_mapping)\n",
    "df"
   ]
  },
  {
   "attachments": {},
   "cell_type": "markdown",
   "metadata": {},
   "source": [
    "## 2.3.클래스 레이블 인코딩\n",
    "\n",
    "- 사이킷런의 분류 추정기 대부분은 자체적으로 클래스 레이블을 정수로 변환해 줌\n",
    "- 사소한 실수를 방지하기 위해 클래스 레이블을 정수 배열로 전달하는 것이 좋은 습관\n",
    "- 클래스 레이블은 순서가 있지 않음"
   ]
  },
  {
   "cell_type": "code",
   "execution_count": 11,
   "metadata": {},
   "outputs": [
    {
     "data": {
      "text/plain": [
       "{'class1': 0, 'class2': 1}"
      ]
     },
     "execution_count": 11,
     "metadata": {},
     "output_type": "execute_result"
    }
   ],
   "source": [
    "import numpy as np\n",
    "class_mapping={label: idx for idx, label in enumerate(np.unique(df['classlabel']))}\n",
    "class_mapping"
   ]
  },
  {
   "cell_type": "code",
   "execution_count": 12,
   "metadata": {},
   "outputs": [
    {
     "data": {
      "text/plain": [
       "0    1\n",
       "1    0\n",
       "2    1\n",
       "Name: classlabel, dtype: int64"
      ]
     },
     "execution_count": 12,
     "metadata": {},
     "output_type": "execute_result"
    }
   ],
   "source": [
    "# df[\"classlabel\"] = df[\"classlabel\"].map(class_mapping)\n",
    "df[\"classlabel\"].map(class_mapping)\n"
   ]
  },
  {
   "cell_type": "code",
   "execution_count": 13,
   "metadata": {},
   "outputs": [
    {
     "data": {
      "text/plain": [
       "array([1, 0, 1])"
      ]
     },
     "execution_count": 13,
     "metadata": {},
     "output_type": "execute_result"
    }
   ],
   "source": [
    "from sklearn.preprocessing import LabelEncoder\n",
    "le = LabelEncoder()\n",
    "y = le.fit_transform(df[\"classlabel\"].values)\n",
    "y"
   ]
  },
  {
   "attachments": {},
   "cell_type": "markdown",
   "metadata": {},
   "source": [
    "## 2.4.순서가 없는 특성에 원-핫 인코딩 적용\n",
    "\n",
    "- 사이킷런의 분류용 추정기는 클래스 레이블을 순서가 없는 범주형 데이터로 다룸\n",
    "- 따라서 LabelEncoder를 사용하여 간편하게 문자열 레이블을 정수로 인코딩"
   ]
  },
  {
   "cell_type": "code",
   "execution_count": 14,
   "metadata": {},
   "outputs": [
    {
     "data": {
      "text/plain": [
       "array([[1, 1, 10.1],\n",
       "       [2, 2, 13.5],\n",
       "       [0, 3, 15.3]], dtype=object)"
      ]
     },
     "execution_count": 14,
     "metadata": {},
     "output_type": "execute_result"
    }
   ],
   "source": [
    "X = df[['color','size','price']].values\n",
    "color_le = LabelEncoder()\n",
    "X[:, 0] = color_le.fit_transform(X[:, 0])\n",
    "X"
   ]
  },
  {
   "attachments": {},
   "cell_type": "markdown",
   "metadata": {},
   "source": [
    "- LabelEncoder는 타깃 레이블을 인코딩하기 위한 클래스이므로 입력 데이터로 1차원 배열을 기대함\n",
    "- 그렇기 때문에 color만 추출해서 라벨 인코딩을 수행\n",
    "- 데이터 셋에 변경해야 할 열이 많다면 동일한 작업을 반복해야 함\n",
    "- 범주형 데이터를 정수로 인코딩하는 `OrdicnalEncoder`와 판다스 데이터 프레임의 열마다 다른 변환을 적용하도록 도와주는 `ColumnTransformer`를 이용하면 여러 개의 열을 한 번에 변환 가능\n",
    "```python\n",
    "    from sklearn.compose import ColumnTransformer\n",
    "    from sklearn.preprocessing import OrdinalEncoder\n",
    "    ord_enc = OrdinalEncoder(dtype=int)\n",
    "    col_trans = ColumnTransformer([('ord_enc', ord_enc, ['color'])])\n",
    "    X_trans = col_trans.fit_transform(df)\n",
    "    X_trans\n",
    "```\n",
    "- `ColumnTransformer`\n",
    "    - 첫 번째 매개변수로 트랜스포머의 리스트를 받음\n",
    "    - 트랜스포머는 이름, 변환기, 변환할 열의 리스트로 이루어진 튜플\n",
    "    - 이름은 'ord_enc', 변환기는 `OrdinalEncoder` 객체, 변환 열은 'color' 열\n",
    "    - 변환기는 `named_transformers_` 속성에서 앞서 지정한 `ord_enc` 이름으로 참조 가능\n",
    "    - 정수로 인코딩된 값을 다시 문자열로 변환하려면 아래를 참조\n",
    "        ```python\n",
    "            col_trans.named_transformers_['ord_enc'].inverse_transform(X_trans)\n",
    "        ```\n",
    "- `OrdinalEncdoer`\n",
    "    - `dtype` : 매개변수 기본값은 `np.float64`로 실수 인코딩\n",
    "    - `categories` : 훈련 데이터셋에서 자동으로 범주를 인식 (default: auto)\n",
    "    - `categories`의 경우 매개변수에 직접 범주 리스트를 전달할 수 있음 (인식된 범주는 `categories_` 속성에 저장)\n",
    "    - `handle_unknown` : 알 수 없는 범주 데이터가 `transform()`메서드로 전달될 때 에러가 발생 (default: error)\n",
    "    - `unknown_value` : `handle_unknown='use_encoded_value'`로 설정하면 알 수 없는 범주를 `unknown_value`에 지정한 정수값으로 설정"
   ]
  },
  {
   "cell_type": "code",
   "execution_count": 15,
   "metadata": {},
   "outputs": [
    {
     "data": {
      "text/plain": [
       "array([[0., 1., 0.],\n",
       "       [0., 0., 1.],\n",
       "       [1., 0., 0.]])"
      ]
     },
     "execution_count": 15,
     "metadata": {},
     "output_type": "execute_result"
    }
   ],
   "source": [
    "from sklearn.preprocessing import OneHotEncoder as OHE\n",
    "X = df[['color', 'size', 'price']].values\n",
    "color_ohe = OHE()\n",
    "color_ohe.fit_transform(X[:, 0].reshape(-1,1)).toarray()"
   ]
  },
  {
   "attachments": {},
   "cell_type": "markdown",
   "metadata": {},
   "source": [
    "- 배열의 다른 두 열을 수정하지 않기 위해 `OneHotEncoder`를 하나의 열(`X[:,0].reshape(-1,1)`)에만 적용\n",
    "- 여러 개의 특성이 있는 배열에서 특정 열만 변환 하려면 `ColumnTransformer`를 사용"
   ]
  },
  {
   "cell_type": "code",
   "execution_count": 16,
   "metadata": {},
   "outputs": [
    {
     "data": {
      "text/plain": [
       "array([[0.0, 1.0, 0.0, 1, 10.1],\n",
       "       [0.0, 0.0, 1.0, 2, 13.5],\n",
       "       [1.0, 0.0, 0.0, 3, 15.3]], dtype=object)"
      ]
     },
     "execution_count": 16,
     "metadata": {},
     "output_type": "execute_result"
    }
   ],
   "source": [
    "from sklearn.compose import ColumnTransformer as CT\n",
    "X = df[['color','size','price']].values\n",
    "c_transf = CT([\n",
    "    ('onehot', OHE(),[0]),\n",
    "    ('nothing', 'passthrough', [1,2])\n",
    "])\n",
    "c_transf.fit_transform(X)"
   ]
  },
  {
   "attachments": {},
   "cell_type": "markdown",
   "metadata": {},
   "source": [
    "- 원-핫 인코딩된 데이터셋을 사용할 때 다중 공선성(multicollinearity) 문제를 유념해야 함\n",
    "- 어떤 알고리즘에는 이슈가 될 수 있음 (역행렬을 구하는 연산이 포함된 알고리즘)\n",
    "- 특성 간의 상관관계가 높으면 역행렬을 계산하기 어려워 수치적으로 불안정해짐\n",
    "- 변수 간의 상관관계를 감소하려면 원-핫 인코딩된 배열에서 특성 열 하나를 삭제\n",
    "- 이렇게 특성을 삭제해도 잃는 정보는 없음\n",
    "- `pd.get_dummies()`함수에서 `drop_first=True`로 설정해주면 됨\n",
    "- `OneHotEncoder`에서는 `categories='auto', drop='first'`로 설정해주면 됨"
   ]
  },
  {
   "attachments": {},
   "cell_type": "markdown",
   "metadata": {},
   "source": [
    "# 3.데이터셋을 훈련 데이터 셋과 테스트 데이터셋으로 나누기\n",
    "\n",
    "- 모델 실전 투입 전, 테스트 데이터셋에 있는 레이블과 예측을 비교\n",
    "- 이는 편향되지 않은 성능을 측정하기 위해서임"
   ]
  },
  {
   "cell_type": "code",
   "execution_count": 17,
   "metadata": {},
   "outputs": [
    {
     "name": "stdout",
     "output_type": "stream",
     "text": [
      "클래스 레이블 [1 2 3]\n"
     ]
    }
   ],
   "source": [
    "# df_wine = pd.read_csv('https://archive.ics.uci.edu/ml/machine-learning-databases/wine/wine.data', header=None)\n",
    "df_wine = pd.read_csv('./datasets/wine/wine.data', header=None)\n",
    "df_wine.columns = ['Class label', 'Alcohol', 'Malic acid', 'Ash', 'Alcalinity of ash', 'Magnesium',\n",
    "                   'Total phenols', 'Flavanoids', 'Nonflavanoid phenols', 'Proanthocyanins', 'Color intensity',\n",
    "                   'Hue', 'OD280/OD315 of diluted wineds', 'Proline']\n",
    "print('클래스 레이블', np.unique(df_wine['Class label']))"
   ]
  },
  {
   "cell_type": "code",
   "execution_count": 18,
   "metadata": {},
   "outputs": [
    {
     "data": {
      "text/html": [
       "<div>\n",
       "<style scoped>\n",
       "    .dataframe tbody tr th:only-of-type {\n",
       "        vertical-align: middle;\n",
       "    }\n",
       "\n",
       "    .dataframe tbody tr th {\n",
       "        vertical-align: top;\n",
       "    }\n",
       "\n",
       "    .dataframe thead th {\n",
       "        text-align: right;\n",
       "    }\n",
       "</style>\n",
       "<table border=\"1\" class=\"dataframe\">\n",
       "  <thead>\n",
       "    <tr style=\"text-align: right;\">\n",
       "      <th></th>\n",
       "      <th>Class label</th>\n",
       "      <th>Alcohol</th>\n",
       "      <th>Malic acid</th>\n",
       "      <th>Ash</th>\n",
       "      <th>Alcalinity of ash</th>\n",
       "      <th>Magnesium</th>\n",
       "      <th>Total phenols</th>\n",
       "      <th>Flavanoids</th>\n",
       "      <th>Nonflavanoid phenols</th>\n",
       "      <th>Proanthocyanins</th>\n",
       "      <th>Color intensity</th>\n",
       "      <th>Hue</th>\n",
       "      <th>OD280/OD315 of diluted wineds</th>\n",
       "      <th>Proline</th>\n",
       "    </tr>\n",
       "  </thead>\n",
       "  <tbody>\n",
       "    <tr>\n",
       "      <th>0</th>\n",
       "      <td>1</td>\n",
       "      <td>14.23</td>\n",
       "      <td>1.71</td>\n",
       "      <td>2.43</td>\n",
       "      <td>15.6</td>\n",
       "      <td>127</td>\n",
       "      <td>2.80</td>\n",
       "      <td>3.06</td>\n",
       "      <td>0.28</td>\n",
       "      <td>2.29</td>\n",
       "      <td>5.64</td>\n",
       "      <td>1.04</td>\n",
       "      <td>3.92</td>\n",
       "      <td>1065</td>\n",
       "    </tr>\n",
       "    <tr>\n",
       "      <th>1</th>\n",
       "      <td>1</td>\n",
       "      <td>13.20</td>\n",
       "      <td>1.78</td>\n",
       "      <td>2.14</td>\n",
       "      <td>11.2</td>\n",
       "      <td>100</td>\n",
       "      <td>2.65</td>\n",
       "      <td>2.76</td>\n",
       "      <td>0.26</td>\n",
       "      <td>1.28</td>\n",
       "      <td>4.38</td>\n",
       "      <td>1.05</td>\n",
       "      <td>3.40</td>\n",
       "      <td>1050</td>\n",
       "    </tr>\n",
       "    <tr>\n",
       "      <th>2</th>\n",
       "      <td>1</td>\n",
       "      <td>13.16</td>\n",
       "      <td>2.36</td>\n",
       "      <td>2.67</td>\n",
       "      <td>18.6</td>\n",
       "      <td>101</td>\n",
       "      <td>2.80</td>\n",
       "      <td>3.24</td>\n",
       "      <td>0.30</td>\n",
       "      <td>2.81</td>\n",
       "      <td>5.68</td>\n",
       "      <td>1.03</td>\n",
       "      <td>3.17</td>\n",
       "      <td>1185</td>\n",
       "    </tr>\n",
       "    <tr>\n",
       "      <th>3</th>\n",
       "      <td>1</td>\n",
       "      <td>14.37</td>\n",
       "      <td>1.95</td>\n",
       "      <td>2.50</td>\n",
       "      <td>16.8</td>\n",
       "      <td>113</td>\n",
       "      <td>3.85</td>\n",
       "      <td>3.49</td>\n",
       "      <td>0.24</td>\n",
       "      <td>2.18</td>\n",
       "      <td>7.80</td>\n",
       "      <td>0.86</td>\n",
       "      <td>3.45</td>\n",
       "      <td>1480</td>\n",
       "    </tr>\n",
       "    <tr>\n",
       "      <th>4</th>\n",
       "      <td>1</td>\n",
       "      <td>13.24</td>\n",
       "      <td>2.59</td>\n",
       "      <td>2.87</td>\n",
       "      <td>21.0</td>\n",
       "      <td>118</td>\n",
       "      <td>2.80</td>\n",
       "      <td>2.69</td>\n",
       "      <td>0.39</td>\n",
       "      <td>1.82</td>\n",
       "      <td>4.32</td>\n",
       "      <td>1.04</td>\n",
       "      <td>2.93</td>\n",
       "      <td>735</td>\n",
       "    </tr>\n",
       "  </tbody>\n",
       "</table>\n",
       "</div>"
      ],
      "text/plain": [
       "   Class label  Alcohol  Malic acid   Ash  Alcalinity of ash  Magnesium  \\\n",
       "0            1    14.23        1.71  2.43               15.6        127   \n",
       "1            1    13.20        1.78  2.14               11.2        100   \n",
       "2            1    13.16        2.36  2.67               18.6        101   \n",
       "3            1    14.37        1.95  2.50               16.8        113   \n",
       "4            1    13.24        2.59  2.87               21.0        118   \n",
       "\n",
       "   Total phenols  Flavanoids  Nonflavanoid phenols  Proanthocyanins  \\\n",
       "0           2.80        3.06                  0.28             2.29   \n",
       "1           2.65        2.76                  0.26             1.28   \n",
       "2           2.80        3.24                  0.30             2.81   \n",
       "3           3.85        3.49                  0.24             2.18   \n",
       "4           2.80        2.69                  0.39             1.82   \n",
       "\n",
       "   Color intensity   Hue  OD280/OD315 of diluted wineds  Proline  \n",
       "0             5.64  1.04                           3.92     1065  \n",
       "1             4.38  1.05                           3.40     1050  \n",
       "2             5.68  1.03                           3.17     1185  \n",
       "3             7.80  0.86                           3.45     1480  \n",
       "4             4.32  1.04                           2.93      735  "
      ]
     },
     "execution_count": 18,
     "metadata": {},
     "output_type": "execute_result"
    }
   ],
   "source": [
    "df_wine.head()"
   ]
  },
  {
   "cell_type": "code",
   "execution_count": 19,
   "metadata": {},
   "outputs": [],
   "source": [
    "from sklearn.model_selection import train_test_split\n",
    "\n",
    "X = df_wine.drop(axis=1, columns=['Class label']).values\n",
    "y = df_wine['Class label'].values\n",
    "\n",
    "X_train, X_test, y_train, y_test = train_test_split(X, y, test_size=.3, random_state=0, stratify=y)"
   ]
  },
  {
   "attachments": {},
   "cell_type": "markdown",
   "metadata": {},
   "source": [
    "- `test_size` : 테스트 셋의 비율\n",
    "- `stratify` : y를 전달하면 훈련 데이터셋과 테스트 데이터셋에 있는 클래스 비율이 원본 데이터셋과 동일하게 유지됨\n",
    "- [머신러닝의 모델 평가와 모델 선택, 알고리즘 선택](https://arxiv.org/pdf/1811.12808.pdf)를 참고하면, Train/Test의 비율을 적절히 조절할 수 있음\n",
    "- 또한 테스트 셋까지 통합하여 다시 한 번 학습시키는 과정을 통해 예측 성능을 향상 시킬 수 있음\n",
    "- 그러나 소규모 데이터 셋에서는 일반화를 어렵게 만들 수도 있게 됨"
   ]
  },
  {
   "attachments": {},
   "cell_type": "markdown",
   "metadata": {},
   "source": [
    "# 4.특성 스케일 맞추기\n",
    "\n",
    "- 결정트리, 랜덤 포레스트와 같은 모델은 특성 스케일 조정에 대해 걱정할 필요가 없는 알고리즘\n",
    "- KNN의 경우 유클리디안 거리 지표를 사용할 때, 스케일이 동일하지 않으면 오차가 발생할 수 있음\n",
    "- 대표적인 스케일 특성을 맞추는 방법은 <span style=\"color:gold\">정규화</span>와 <span style=\"color:gold\">표준화</span>가 있음\n",
    "- 대부분 정규화는 특성 스케일을 0~1범위로 맞추는 것(최소-최대 스케일 변환)\n",
    "\n",
    "1. `MinMaxScaler`\n",
    "    - 최소-최대 스케일 변환 정규화는 정해진 범위의 값이 필요할 때 유용하게 사용할 수 있는 기법\n",
    "        ```python\n",
    "            from sklearn.preprocessing import MinMaxScaler\n",
    "            mms = MinMaxScaler()\n",
    "            X_train_norm = mms.fit_transform(X_train)\n",
    "            X_test_norm = mms.transform(X_test)\n",
    "        ```\n",
    "        <br>\n",
    "2. `StandardScaler`\n",
    "    - 표준화는 특성 평균을 0에 맞추고 표준 편차를 1로 만드는 정규 분포로 표준화함 (이상치에 덜 민감)\n",
    "        ```python\n",
    "            from sklearn.preprocessing import StandardScaler\n",
    "            sds = StandardScaler()\n",
    "            X_train_std = sds.fit_transform(X_train)\n",
    "            X_test_std = sds.transform(X_test)\n",
    "        ```\n",
    "        <br>\n",
    "3. `RobustScaler`\n",
    "    - 이상치가 많이 포함된 작은 데이터셋을 다룰 때 도움이 됨\n",
    "    - 데이터셋에 적용된 머신 러닝 알고리즘이 과대적합되기 쉽다면 `RobustScaler`가 좋은 선택지\n",
    "    - 특성 열마다 독립적으로 작용하며 중간 값을 뺀 다음 데이터 셋의 Q1, Q3를 사용해서 데이터셋의 스케일을 조절\n",
    "        ```python\n",
    "            from sklearn.preprocessing import RobustScaler\n",
    "            rbs = RobustScaler()\n",
    "            X_train_robust = rbs.fit_transform(X_train)\n",
    "            X_test_robust = rbs.transform(X_test)\n",
    "        ```\n",
    "    - Robust Scaling의 수식은 아래와 같음\n",
    "        $$\n",
    "        x_{robust}^{(i)}=\\frac{x^{(i)}-q_2}{q_3-q_1}\n",
    "        $$\n",
    "        <br>\n",
    "4. `MaxAbsScaler`\n",
    "    - 각 특성 별로 데이터를 최대 절댓값으로 나눔\n",
    "    - 각 특성의 최대값은 1이되고, 전체 특성은 -1~1\n",
    "        ```python\n",
    "            from sklearn.preprocessing import MaxAbsScaler\n",
    "            mas = MaxAbsScaler()\n",
    "            X_train_maxabs = mas.fit_transform(X_train)\n",
    "            X_test_maxabs = mas.transform(X_test)\n",
    "        ```"
   ]
  },
  {
   "attachments": {},
   "cell_type": "markdown",
   "metadata": {},
   "source": [
    "# 5.유용한 특성 선택\n",
    "\n",
    "- 과대적합의 이유는 주어진 훈련 데이터에 비해 모델이 너무 복잡하기 때문\n",
    "- 일반화 오차를 감소시키기 위해 많이 사용하는 방법은 다음과 같음\n",
    "    1. 더 많은 훈련 데이터 수집\n",
    "    2. 규제를 통해 복잡도 제한\n",
    "    3. 파라미터 개수가 적은 간단한 모델을 선택\n",
    "    4. 데이터 차원 줄이기"
   ]
  },
  {
   "attachments": {},
   "cell_type": "markdown",
   "metadata": {},
   "source": [
    "## 5.1.모델 복잡도 제한을 위한 L1 규제와 L2 규제\n",
    "- L2 규제와 L1 규제는 다음과 같음\n",
    "    $$\\begin{align*}\n",
    "        L2: &\\begin{Vmatrix}\\mathbf{w}\\end{Vmatrix}_{2}^{2} = \\sum_{j=1}^{m}w_{j}^{2} \\\\\n",
    "        L1: &\\begin{Vmatrix}\\mathbf{w}\\end{Vmatrix}_{1} = \\sum_{j=1}^{m}\\begin{vmatrix}w_{j}\\end{vmatrix}\n",
    "    \\end{align*}$$\n",
    "- L1 규제는 L2 규제와 대조적으로 보통 희소한 특성 벡터를 만듦 (대부분의 특성 가중치가 0이 됨)\n",
    "- 실제로 관련 없는 특성이 많은 고차원 데이터셋일 경우 이런 희소성이 도움 될 수 있음\n",
    "- 특히 훈련 샘플보다 관련 없는 특성이 더 많은 경우"
   ]
  },
  {
   "attachments": {},
   "cell_type": "markdown",
   "metadata": {},
   "source": [
    "## 5.2.L2 규제의 기하학적 해석\n",
    "\n",
    "- L2 규제는 비용 함수에 페널티 항을 추가 함\n",
    "- 규제가 없는 비용 함수로 훈련한 모델에 비해 가중치 값을 아주 작게 만드는 효과를 냄\n",
    "- 규제를 더 작은 가중치를 얻기 위해 비용 함수에 추가하는 페널티 항으로 생각할 수 있음\n",
    "- 다른 말로, 큰 가중치를 제한함\n",
    "- 규제 파라미터 $\\lambda$로 규제 강도를 크게 하면 가중치가 0에 가까워지고, 훈련 데이터에 대한 모델 의존성을 줄일 수 있음\n",
    "- 목표는 규제가 없는 비용과 페널티 항의 합을 최소화 하는 것\n",
    "- 모델을 학습할 만한 충분한 훈련 데이터가 없을 때 편향을 추가하여 모델을 간단하게 만ㄷ름으로써 분산을 줄이는 것으로 해석 가능"
   ]
  },
  {
   "attachments": {},
   "cell_type": "markdown",
   "metadata": {},
   "source": [
    "## 5.3.L1 규제를 사용한 희소성\n",
    "\n",
    "- 비용 함수의 등고선이 L1 다이아몬드와 만남\n",
    "- L1 규제의 등고선은 날카롭기에 비용 함수의 포물선과 L1 다이아몬드의 경계가 만나는 최적 점은 축에 가깝게 위치할 가능성이 높음\n",
    "- 위와 같은 이유가 희소성이 나타나는 이유"
   ]
  },
  {
   "cell_type": "code",
   "execution_count": 20,
   "metadata": {},
   "outputs": [
    {
     "data": {
      "text/plain": [
       "LogisticRegression(penalty='l1', solver='liblinear')"
      ]
     },
     "execution_count": 20,
     "metadata": {},
     "output_type": "execute_result"
    }
   ],
   "source": [
    "from sklearn.linear_model import LogisticRegression as LGR\n",
    "LGR(solver='liblinear', penalty='l1')"
   ]
  },
  {
   "attachments": {},
   "cell_type": "markdown",
   "metadata": {},
   "source": [
    "- `penalty`: 규제 종류 파라미터\n",
    "- `solver` : lbfgs, newton-cg, sag, saga, liblinear 가 존재 (lbfgs, newton-cg, sag는 l2 규제만 지원)\n",
    "- lbfgs는 l1 규제를 지원하지 않기에 다른 알고리즘 선택 (liblinear)"
   ]
  },
  {
   "cell_type": "code",
   "execution_count": 21,
   "metadata": {},
   "outputs": [
    {
     "name": "stdout",
     "output_type": "stream",
     "text": [
      "훈련 정확도: 1.0\n",
      "테스트 정확도: 1.0\n"
     ]
    }
   ],
   "source": [
    "from sklearn.preprocessing import StandardScaler\n",
    "sds = StandardScaler()\n",
    "X_train_std = sds.fit_transform(X_train)\n",
    "X_test_std = sds.transform(X_test)\n",
    "\n",
    "lr = LGR(solver='liblinear', penalty='l1', C=1.0, random_state=1)\n",
    "lr.fit(X_train_std, y_train)\n",
    "print('훈련 정확도:', lr.score(X_train_std, y_train))\n",
    "print('테스트 정확도:', lr.score(X_test_std, y_test))"
   ]
  },
  {
   "cell_type": "code",
   "execution_count": 22,
   "metadata": {},
   "outputs": [
    {
     "data": {
      "text/plain": [
       "array([-1.26392152, -1.21596534, -2.37040177])"
      ]
     },
     "execution_count": 22,
     "metadata": {},
     "output_type": "execute_result"
    }
   ],
   "source": [
    "# w_0\n",
    "lr.intercept_"
   ]
  },
  {
   "attachments": {},
   "cell_type": "markdown",
   "metadata": {},
   "source": [
    "- `solver='liblinear'`로 초기화한 LGR 객체를 다중 클래스 데이터셋에 적용하면 OvR 방식 사용\n",
    "- 첫 번째 절편은 클래스 1을 클래스 2/3과 구분하는 모델에 속한 것\n",
    "- 두 번째 클래스 2를 클래스 1/3과 구분하는 모델의 절편\n",
    "- 세 번째는 클래스 3을 클래스 1/2와 구분하는 모델의 절편"
   ]
  },
  {
   "cell_type": "code",
   "execution_count": 23,
   "metadata": {},
   "outputs": [
    {
     "data": {
      "text/plain": [
       "array([[ 1.24567209,  0.18072301,  0.74682115, -1.16438451,  0.        ,\n",
       "         0.        ,  1.1595535 ,  0.        ,  0.        ,  0.        ,\n",
       "         0.        ,  0.55864751,  2.50891241],\n",
       "       [-1.53644846, -0.38769843, -0.99485417,  0.36489012, -0.05989298,\n",
       "         0.        ,  0.66853184,  0.        ,  0.        , -1.93460212,\n",
       "         1.23246414,  0.        , -2.23212696],\n",
       "       [ 0.1355558 ,  0.16880291,  0.35718019,  0.        ,  0.        ,\n",
       "         0.        , -2.43768478,  0.        ,  0.        ,  1.5635432 ,\n",
       "        -0.81834553, -0.4930494 ,  0.        ]])"
      ]
     },
     "execution_count": 23,
     "metadata": {},
     "output_type": "execute_result"
    }
   ],
   "source": [
    "# w_j (j>0)\n",
    "lr.coef_"
   ]
  },
  {
   "attachments": {},
   "cell_type": "markdown",
   "metadata": {},
   "source": [
    "- `lr.coef_` 속성에 있는 가중치는 클래스마다 벡터 하나씩 세 개의 행이 있는 가중치 배열\n",
    "- 각 행은 13개의 가중치를 가짐\n",
    "- 각 가중치와 13차원의 Wine 데이터셋의 특성을 곱해 최종 입력 계산"
   ]
  },
  {
   "attachments": {},
   "cell_type": "markdown",
   "metadata": {},
   "source": [
    "- L1 규제는 결과적으로 데이터셋에 관련이 적은 특성이 있더라도 견고한 모델을 만들어 줌\n",
    "- 엄밀히 말하면 가중치 벡터는 0이 아닌 원소가 더 많기 때문에 꼭 희소하지는 않음\n",
    "- 규제 강도를 높여 희소성을 강화할 수 있음 (매개변수 C값을 낮춤)"
   ]
  },
  {
   "cell_type": "code",
   "execution_count": 24,
   "metadata": {},
   "outputs": [
    {
     "data": {
      "image/png": "[encoded data removed]",
      "text/plain": [
       "<Figure size 432x288 with 1 Axes>"
      ]
     },
     "metadata": {
      "needs_background": "light"
     },
     "output_type": "display_data"
    }
   ],
   "source": [
    "from matplotlib import pyplot as plt\n",
    "\n",
    "fig = plt.figure()\n",
    "ax = plt.subplot(111)\n",
    "\n",
    "colors = ['blue', 'green', 'red', 'cyan', 'magenta', 'yellow', 'black',\n",
    "          'pink', 'lightgreen', 'lightblue', 'gray', 'indigo', 'orange']\n",
    "weights, params = [], []\n",
    "for c in np.arange(-4., 6):\n",
    "    lr = LGR(solver='liblinear', penalty='l1', C=10**c, random_state=0)\n",
    "    lr.fit(X_train_std, y_train)\n",
    "    weights.append(lr.coef_[1])\n",
    "    params.append(10**c)\n",
    "    \n",
    "weights = np.array(weights)\n",
    "\n",
    "for column, color in zip(range(weights.shape[1]), colors):\n",
    "    plt.plot(params, weights[:, column], label=df_wine.columns[column+1], color=color)\n",
    "    \n",
    "plt.axhline(0, color='black', linestyle='--', linewidth=3)\n",
    "plt.xlim([10**(-5), 10**5])\n",
    "plt.ylabel('weight coefficient')\n",
    "plt.xlabel('C')\n",
    "plt.xscale('log')\n",
    "plt.legend(loc='upper left')\n",
    "ax.legend(loc='upper center', bbox_to_anchor=(1.38, 1.03), ncol=1, fancybox=True)\n",
    "plt.show()"
   ]
  },
  {
   "attachments": {},
   "cell_type": "markdown",
   "metadata": {},
   "source": [
    "# 5.4.순차 특성 선택 알고리즘\n",
    "\n",
    "- 과대 적합을 피하는 다른 방법은 특성 선택을 통한 차원 축소\n",
    "- <span style=\"color:gold\">특성 선택</span>과 <span style=\"color:gold\">특성 추출</span> 두 가지 방법이 있음\n",
    "- 특성 선택 : 원본 특성에서 일부를 선택\n",
    "- 특성 추출 : 일련의 특성에서 얻은 정보로 새로운 특성을 만듦\n",
    "- 순차 특성 선택 알고리즘 : 탐욕적 탐색 알고리즘으로 초기 d차원의 특성공간을 k<d인 k 차원의 특성 부분 공간으로 축소\n",
    "- 특성 선택 알고리즘은 주어진 문제에 가장 관련이 높은 특성 부분 집합을 자동으로 선택하는 것이 목적\n",
    "- 관계없는 특성이나 잡음을 제거하여 계산 효율성을 높이고 모델의 일반화 오차를 줄임\n",
    "- 규제를 제공하지 않는 알고리즘 사용 시 유용\n",
    "- 전통적인 방법은 순차 후진 선택 (계산 효율을 향상하기 위해 모델 성능을 적게 희생하면서 초기 특성의 부분 공간으로 차원 축소)"
   ]
  },
  {
   "attachments": {},
   "cell_type": "markdown",
   "metadata": {},
   "source": [
    "**순차 후진 선택 알고리즘의 아이디어**\n",
    "\n",
    "- SBS는 새로운 특성의 부분 공간이 목표하는 특성 개수가 될 때까지 전체 특성에서 순차적으로 특성을 제거\n",
    "- 각 단계에서 어떤 특성을 제거할지 판단하기 위해 최대화할 기준 함수 정의\n",
    "- 기준 함수에서 계산한 값은 어떤 특성을 제거하기 전후의 모델 성능 차이\n",
    "- 각 단계에서 제거할 특성은 기준 값이 가장 큰 특성으로 정의\n",
    "- 각 단계에서 제거했을 때 성능 손실이 최소가 되는 특성 제거\n",
    "\n",
    "**SBS 알고리즘의 4단계**\n",
    "\n",
    "1. 알고리즘 $k=d$로 초기화. $d$는 전체 특성공간 $X_d$의 차원\n",
    "2. 조건 $\\mathbf{x}^- = \\mathsf{argmax}J(\\mathbf{X}_k-\\mathbf{x})$를 최대화하는 특성 $\\mathbf{x}^-$를 결정 ($\\mathbf{x}\\in\\mathbf{X}_k$)\n",
    "3. 특성 집합에서 특성 $\\mathbf{x}^-$를 제거. 즉, $\\mathbf{X}_{k-1}:=\\mathbf{X}_k-\\mathbf{x}^-;k:=k-1$\n",
    "4. $k$가 목표하는 특성 개수가 되면 종료. (아니면 단계 2로 돌아감)"
   ]
  },
  {
   "cell_type": "code",
   "execution_count": 25,
   "metadata": {},
   "outputs": [],
   "source": [
    "from sklearn.base import clone\n",
    "from itertools import combinations as comb\n",
    "from sklearn.metrics import accuracy_score\n",
    "from sklearn.model_selection import train_test_split\n",
    "import numpy as np\n",
    "\n",
    "class SBS():\n",
    "    def __init__(self, estimator, k_fetures, scoring=accuracy_score, test_size=.25, random_state=1):\n",
    "        self.scoring = scoring\n",
    "        self.estimator = estimator\n",
    "        self.k_features = k_fetures\n",
    "        self.test_size = test_size\n",
    "        self.random_state = random_state\n",
    "        \n",
    "    def fit(self, X, y):\n",
    "        X_train, X_test, y_train, y_test = train_test_split(X, y, test_size=self.test_size, random_state=self.random_state)\n",
    "        dim = X_train.shape[1]\n",
    "        self.indices_ = tuple(range(dim))\n",
    "        self.subsets_ = [self.indices_]\n",
    "        score = self._calc_score(X_train, y_train, X_test, y_test, self.indices_)\n",
    "        self.scores_ = [score]\n",
    "        while dim > self.k_features:\n",
    "            scores, subsets = [], []\n",
    "            \n",
    "            for p in comb(self.indices_, r=dim-1):\n",
    "                score = self._calc_score(X_train, y_train, X_test, y_test, p)\n",
    "                scores.append(score)\n",
    "                subsets.append(p)\n",
    "            \n",
    "            best = np.argmax(scores)\n",
    "            self.indices_ = subsets[best]\n",
    "            self.subsets_.append(self.indices_)\n",
    "            dim-=1\n",
    "            self.scores_.append(scores[best])\n",
    "        self.k_score_ = self.scores_[-1]\n",
    "        return self\n",
    "    \n",
    "    def transform(self, X):\n",
    "        return X[:, self.indices_]\n",
    "    \n",
    "    def _calc_score(self, X_train, y_train, X_test, y_test, indices):\n",
    "        self.estimator.fit(X_train[:, indices], y_train)\n",
    "        y_pred = self.estimator.predict(X_test[:, indices])\n",
    "        score = self.scoring(y_test, y_pred)\n",
    "        return score"
   ]
  },
  {
   "attachments": {},
   "cell_type": "markdown",
   "metadata": {},
   "source": [
    "- `k_features` : 목표 특성 개수 지정\n",
    "- `fit()`\n",
    "    - while 루프 안에서 `itertools.combinations` 함수에 의해 생성된 특성 조합을 평가하고 원하는 차원이 남을 때까지 특성을 줄임\n",
    "    - 각 반복에서 내부적으로 만든 `X_test` 테스트 데이터셋에 기초한 최적 조합의 정확도 점수를 `self.scores_`리스트에 모음\n",
    "    - 이 점수를 사용하여 나중에 결과를 평가\n",
    "    - 최종 선택된 특성의 열 인덱스는 `self.indices_`에 할당\n",
    "-`transform()` : 선택된 특성 열로 구성된 새로운 데이터 배열을 반환할 때 사용"
   ]
  },
  {
   "cell_type": "code",
   "execution_count": 26,
   "metadata": {},
   "outputs": [
    {
     "data": {
      "image/png": "[encoded data removed]",
      "text/plain": [
       "<Figure size 432x288 with 1 Axes>"
      ]
     },
     "metadata": {
      "needs_background": "light"
     },
     "output_type": "display_data"
    }
   ],
   "source": [
    "from matplotlib import pyplot as plt\n",
    "from sklearn.neighbors import KNeighborsClassifier as KNN\n",
    "\n",
    "knn = KNN(n_neighbors=5)\n",
    "\n",
    "sbs = SBS(knn, k_fetures=1)\n",
    "sbs.fit(X_train_std, y_train)\n",
    "\n",
    "k_feat = [len(k) for k in sbs.subsets_]\n",
    "\n",
    "plt.plot(k_feat, sbs.scores_, marker='o')\n",
    "plt.ylim([.7, 1.02])\n",
    "plt.ylabel('Accuracy')\n",
    "plt.xlabel('Number of Features')\n",
    "plt.grid()\n",
    "plt.tight_layout()\n",
    "plt.show()"
   ]
  },
  {
   "cell_type": "code",
   "execution_count": 27,
   "metadata": {},
   "outputs": [
    {
     "name": "stdout",
     "output_type": "stream",
     "text": [
      "Index(['Alcohol', 'Malic acid', 'OD280/OD315 of diluted wineds'], dtype='object')\n"
     ]
    }
   ],
   "source": [
    "k3 = list(sbs.subsets_[10])\n",
    "print(df_wine.columns[1:][k3])"
   ]
  },
  {
   "cell_type": "code",
   "execution_count": 28,
   "metadata": {},
   "outputs": [
    {
     "data": {
      "image/png": "[encoded data removed]",
      "text/plain": [
       "<Figure size 432x288 with 1 Axes>"
      ]
     },
     "metadata": {
      "needs_background": "light"
     },
     "output_type": "display_data"
    }
   ],
   "source": [
    "from sklearn.feature_selection import SequentialFeatureSelector as SFS\n",
    "\n",
    "scores = []\n",
    "for n_features in range(1,13):\n",
    "    sfs = SFS(knn, n_features_to_select=n_features, n_jobs=-1)\n",
    "    sfs.fit(X_train_std, y_train)\n",
    "    f_mask = sfs.support_\n",
    "    knn.fit(X_train_std[:, f_mask], y_train)\n",
    "    scores.append(knn.score(X_train_std[:, f_mask], y_train))\n",
    "    \n",
    "plt.plot(range(1,13), scores, marker='o')\n",
    "plt.ylim([.7, 1.02])\n",
    "plt.ylabel('Accuracy')\n",
    "plt.xlabel('Number of Features')\n",
    "plt.grid()\n",
    "plt.tight_layout()\n",
    "plt.show()    "
   ]
  },
  {
   "cell_type": "code",
   "execution_count": 29,
   "metadata": {},
   "outputs": [
    {
     "name": "stdout",
     "output_type": "stream",
     "text": [
      "7\n"
     ]
    },
    {
     "data": {
      "text/plain": [
       "Index(['Alcohol', 'Ash', 'Magnesium', 'Flavanoids', 'Color intensity', 'Hue',\n",
       "       'Proline'],\n",
       "      dtype='object')"
      ]
     },
     "execution_count": 29,
     "metadata": {},
     "output_type": "execute_result"
    }
   ],
   "source": [
    "sfs = SFS(knn, n_features_to_select=7, n_jobs=-1)\n",
    "sfs.fit(X_train_std, y_train)\n",
    "print(sfs.n_features_to_select_)\n",
    "f_mask = sfs.support_\n",
    "df_wine.columns[1:][f_mask]"
   ]
  },
  {
   "attachments": {},
   "cell_type": "markdown",
   "metadata": {},
   "source": [
    "# 6.랜덤 포레스트의 특성 중요도 사용\n",
    "\n",
    "- 로지스틱 회귀 : L1 규제를 사용하여 관련이 적은 특성의 가중치를 0으로 만듦\n",
    "- KNN : SBS 알고리즘을 사용하여 특성을 선택\n",
    "- 랜덤 포레스트 : 특성 중요도 활용\n",
    "    - `RandomForestClassifier` 모델 훈련 후 `feature_importances_`를 확인할 수 있음"
   ]
  },
  {
   "cell_type": "code",
   "execution_count": 30,
   "metadata": {},
   "outputs": [
    {
     "name": "stdout",
     "output_type": "stream",
     "text": [
      " 1) Proline                        0.185453\n",
      " 2) Flavanoids                     0.174751\n",
      " 3) Color intensity                0.143920\n",
      " 4) OD280/OD315 of diluted wineds  0.136162\n",
      " 5) Alcohol                        0.118529\n",
      " 6) Hue                            0.058739\n",
      " 7) Total phenols                  0.050872\n",
      " 8) Magnesium                      0.031357\n",
      " 9) Malic acid                     0.025648\n",
      "10) Proanthocyanins                0.025570\n",
      "11) Alcalinity of ash              0.022366\n",
      "12) Nonflavanoid phenols           0.013354\n",
      "13) Ash                            0.013279\n"
     ]
    },
    {
     "data": {
      "image/png": "[encoded data removed]",
      "text/plain": [
       "<Figure size 432x288 with 1 Axes>"
      ]
     },
     "metadata": {
      "needs_background": "light"
     },
     "output_type": "display_data"
    }
   ],
   "source": [
    "from sklearn.ensemble import RandomForestClassifier as RFC\n",
    "\n",
    "feat_labels = df_wine.columns[1:]\n",
    "forest = RFC(n_estimators=500, random_state=1)\n",
    "forest.fit(X_train, y_train)\n",
    "importances = forest.feature_importances_\n",
    "\n",
    "indices = np.argsort(importances)[::-1]     #[::-1] reverse\n",
    "\n",
    "for f in range(X_train.shape[1]):\n",
    "    print(\"%2d) %-*s %f\" % (f+1, 30, feat_labels[indices[f]], importances[indices[f]]))\n",
    "\n",
    "plt.title('Feature Importance')\n",
    "plt.bar(range(X_train.shape[1]), importances[indices], align='center')\n",
    "plt.xticks(range(X_train.shape[1]), feat_labels[indices], rotation=90)\n",
    "plt.xlim([-1, X_train.shape[1]])\n",
    "plt.tight_layout()\n",
    "plt.show()"
   ]
  },
  {
   "cell_type": "code",
   "execution_count": 31,
   "metadata": {},
   "outputs": [
    {
     "name": "stdout",
     "output_type": "stream",
     "text": [
      "임계 조건을 만족하는 샘플 수:  5\n",
      " 1) Proline                        0.185453\n",
      " 2) Flavanoids                     0.174751\n",
      " 3) Color intensity                0.143920\n",
      " 4) OD280/OD315 of diluted wineds  0.136162\n",
      " 5) Alcohol                        0.118529\n"
     ]
    }
   ],
   "source": [
    "from sklearn.feature_selection import SelectFromModel as SFM\n",
    "\n",
    "sfm = SFM(forest, threshold=.1, prefit=True)\n",
    "X_selected = sfm.transform(X_train)\n",
    "print('임계 조건을 만족하는 샘플 수: ', X_selected.shape[1])\n",
    "\n",
    "for f in range(X_selected.shape[1]):\n",
    "    print(\"%2d) %-*s %f\" % (f+1, 30, feat_labels[indices[f]], importances[indices[f]]))"
   ]
  }
 ],
 "metadata": {
  "kernelspec": {
   "display_name": "main",
   "language": "python",
   "name": "python3"
  },
  "language_info": {
   "codemirror_mode": {
    "name": "ipython",
    "version": 3
   },
   "file_extension": ".py",
   "mimetype": "text/x-python",
   "name": "python",
   "nbconvert_exporter": "python",
   "pygments_lexer": "ipython3",
   "version": "3.8.8"
  },
  "orig_nbformat": 4
 },
 "nbformat": 4,
 "nbformat_minor": 2
}
